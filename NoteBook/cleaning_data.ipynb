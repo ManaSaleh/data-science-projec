{
 "cells": [
  {
   "cell_type": "markdown",
   "metadata": {},
   "source": [
    "# Data Loading"
   ]
  },
  {
   "cell_type": "code",
   "execution_count": 2,
   "metadata": {},
   "outputs": [],
   "source": [
    "import pandas as pd\n",
    "import numpy as np\n",
    "\n",
    "df_tarin = pd.read_csv('../Data/train.csv')\n",
    "df_reg = pd.read_csv('../Data/registration.csv')"
   ]
  },
  {
   "cell_type": "code",
   "execution_count": 3,
   "metadata": {},
   "outputs": [
    {
     "data": {
      "text/plain": [
       "(6548, 24)"
      ]
     },
     "execution_count": 3,
     "metadata": {},
     "output_type": "execute_result"
    }
   ],
   "source": [
    "df_tarin.shape"
   ]
  },
  {
   "cell_type": "code",
   "execution_count": 4,
   "metadata": {},
   "outputs": [
    {
     "data": {
      "text/plain": [
       "1352"
      ]
     },
     "execution_count": 4,
     "metadata": {},
     "output_type": "execute_result"
    }
   ],
   "source": [
    "df_tarin.duplicated('Student ID').sum()"
   ]
  },
  {
   "cell_type": "code",
   "execution_count": 5,
   "metadata": {},
   "outputs": [
    {
     "data": {
      "text/plain": [
       "48"
      ]
     },
     "execution_count": 5,
     "metadata": {},
     "output_type": "execute_result"
    }
   ],
   "source": [
    "df_tarin.duplicated().sum()"
   ]
  },
  {
   "cell_type": "code",
   "execution_count": 6,
   "metadata": {},
   "outputs": [],
   "source": [
    "df_tarin.drop_duplicates(inplace=True)"
   ]
  },
  {
   "cell_type": "code",
   "execution_count": 7,
   "metadata": {},
   "outputs": [
    {
     "data": {
      "text/plain": [
       "1304"
      ]
     },
     "execution_count": 7,
     "metadata": {},
     "output_type": "execute_result"
    }
   ],
   "source": [
    "df_tarin.duplicated('Student ID').sum()"
   ]
  },
  {
   "cell_type": "code",
   "execution_count": 8,
   "metadata": {},
   "outputs": [
    {
     "data": {
      "text/plain": [
       "(6171, 13)"
      ]
     },
     "execution_count": 8,
     "metadata": {},
     "output_type": "execute_result"
    }
   ],
   "source": [
    "df_reg.shape"
   ]
  },
  {
   "cell_type": "code",
   "execution_count": 9,
   "metadata": {},
   "outputs": [
    {
     "data": {
      "text/plain": [
       "0"
      ]
     },
     "execution_count": 9,
     "metadata": {},
     "output_type": "execute_result"
    }
   ],
   "source": [
    "df_reg.duplicated().sum()"
   ]
  },
  {
   "cell_type": "code",
   "execution_count": 10,
   "metadata": {},
   "outputs": [
    {
     "name": "stdout",
     "output_type": "stream",
     "text": [
      "1- 0 rows are the same.\n",
      "2- 0 rows are not present in df_reg.\n",
      "3- 6500 rows have mismatched IDs between df_tarin and df_reg.\n"
     ]
    }
   ],
   "source": [
    "same_count = 0\n",
    "not_exist_count = 0\n",
    "mismatched_count = 0\n",
    "\n",
    "not_exist_ids = []\n",
    "mismatched_ids = []\n",
    "\n",
    "for i, student_id in enumerate(df_tarin['Student ID']):\n",
    "    if student_id in df_reg['Student ID'].values:\n",
    "        if i < len(df_reg) and student_id == df_reg['Student ID'].iloc[i]:\n",
    "            same_count += 1\n",
    "        else:\n",
    "            mismatched_count += 1\n",
    "            mismatched_ids.append(student_id)\n",
    "    else:\n",
    "        not_exist_count += 1\n",
    "        not_exist_ids.append(student_id)\n",
    "\n",
    "print(f\"1- {same_count} rows are the same.\")\n",
    "print(f\"2- {not_exist_count} rows are not present in df_reg.\")\n",
    "print(f\"3- {mismatched_count} rows have mismatched IDs between df_tarin and df_reg.\")"
   ]
  },
  {
   "cell_type": "code",
   "execution_count": 11,
   "metadata": {},
   "outputs": [
    {
     "data": {
      "text/plain": [
       "6500"
      ]
     },
     "execution_count": 11,
     "metadata": {},
     "output_type": "execute_result"
    }
   ],
   "source": [
    "len(mismatched_ids)"
   ]
  },
  {
   "cell_type": "code",
   "execution_count": 12,
   "metadata": {},
   "outputs": [],
   "source": [
    "df = pd.merge(df_tarin, df_reg, on='Student ID', how='inner')"
   ]
  },
  {
   "cell_type": "code",
   "execution_count": 13,
   "metadata": {},
   "outputs": [
    {
     "data": {
      "text/plain": [
       "(6500, 36)"
      ]
     },
     "execution_count": 13,
     "metadata": {},
     "output_type": "execute_result"
    }
   ],
   "source": [
    "df.shape"
   ]
  },
  {
   "cell_type": "code",
   "execution_count": 14,
   "metadata": {},
   "outputs": [
    {
     "data": {
      "text/plain": [
       "Index(['Student ID', 'Age', 'Gender', 'Home Region', 'Home City', 'Program ID',\n",
       "       'Program Main Category Code', 'Program Sub Category Code',\n",
       "       'Technology Type', 'Program Skill Level', 'Program Presentation Method',\n",
       "       'Program Start Date', 'Program End Date', 'Program Days',\n",
       "       'Completed Degree', 'Level of Education', 'Education Speaciality',\n",
       "       'College', 'University Degree Score', 'University Degree Score System',\n",
       "       'Employment Status', 'Job Type', 'Still Working', 'Y', 'PCRF', 'GRST',\n",
       "       'CAUF', 'INFA', 'ABIR', 'SERU', 'TOSL', 'APMR', 'DTFH', 'QWLM', 'N/A',\n",
       "       'Total Regestration'],\n",
       "      dtype='object')"
      ]
     },
     "execution_count": 14,
     "metadata": {},
     "output_type": "execute_result"
    }
   ],
   "source": [
    "df.columns"
   ]
  },
  {
   "cell_type": "code",
   "execution_count": 15,
   "metadata": {},
   "outputs": [
    {
     "data": {
      "text/html": [
       "<div>\n",
       "<style scoped>\n",
       "    .dataframe tbody tr th:only-of-type {\n",
       "        vertical-align: middle;\n",
       "    }\n",
       "\n",
       "    .dataframe tbody tr th {\n",
       "        vertical-align: top;\n",
       "    }\n",
       "\n",
       "    .dataframe thead th {\n",
       "        text-align: right;\n",
       "    }\n",
       "</style>\n",
       "<table border=\"1\" class=\"dataframe\">\n",
       "  <thead>\n",
       "    <tr style=\"text-align: right;\">\n",
       "      <th></th>\n",
       "      <th>Student ID</th>\n",
       "      <th>Age</th>\n",
       "      <th>Gender</th>\n",
       "      <th>Home Region</th>\n",
       "      <th>Home City</th>\n",
       "      <th>Program ID</th>\n",
       "      <th>Program Main Category Code</th>\n",
       "      <th>Program Sub Category Code</th>\n",
       "      <th>Technology Type</th>\n",
       "      <th>Program Skill Level</th>\n",
       "      <th>...</th>\n",
       "      <th>CAUF</th>\n",
       "      <th>INFA</th>\n",
       "      <th>ABIR</th>\n",
       "      <th>SERU</th>\n",
       "      <th>TOSL</th>\n",
       "      <th>APMR</th>\n",
       "      <th>DTFH</th>\n",
       "      <th>QWLM</th>\n",
       "      <th>N/A</th>\n",
       "      <th>Total Regestration</th>\n",
       "    </tr>\n",
       "  </thead>\n",
       "  <tbody>\n",
       "    <tr>\n",
       "      <th>0</th>\n",
       "      <td>4f14c50d-162e-4a15-9cf0-ec129c33bcf0</td>\n",
       "      <td>37.0</td>\n",
       "      <td>ذكر</td>\n",
       "      <td>منطقة الرياض</td>\n",
       "      <td>الرياض</td>\n",
       "      <td>453686d8-4023-4506-b2df-fac8b059ac26</td>\n",
       "      <td>PCRF</td>\n",
       "      <td>PCRF</td>\n",
       "      <td>NaN</td>\n",
       "      <td>NaN</td>\n",
       "      <td>...</td>\n",
       "      <td>0</td>\n",
       "      <td>0</td>\n",
       "      <td>0</td>\n",
       "      <td>0</td>\n",
       "      <td>0</td>\n",
       "      <td>0</td>\n",
       "      <td>0</td>\n",
       "      <td>0</td>\n",
       "      <td>0</td>\n",
       "      <td>4</td>\n",
       "    </tr>\n",
       "    <tr>\n",
       "      <th>1</th>\n",
       "      <td>0599d409-876b-41a5-af05-749ef0e77d32</td>\n",
       "      <td>21.0</td>\n",
       "      <td>ذكر</td>\n",
       "      <td>منطقة عسير</td>\n",
       "      <td>خميس مشيط</td>\n",
       "      <td>cc8e4e42-65d5-4fa1-82f9-6c6c2d508b60</td>\n",
       "      <td>APMR</td>\n",
       "      <td>SWPS</td>\n",
       "      <td>NaN</td>\n",
       "      <td>متوسط</td>\n",
       "      <td>...</td>\n",
       "      <td>6</td>\n",
       "      <td>0</td>\n",
       "      <td>0</td>\n",
       "      <td>1</td>\n",
       "      <td>0</td>\n",
       "      <td>4</td>\n",
       "      <td>0</td>\n",
       "      <td>0</td>\n",
       "      <td>1</td>\n",
       "      <td>15</td>\n",
       "    </tr>\n",
       "    <tr>\n",
       "      <th>2</th>\n",
       "      <td>38a11c0e-4afc-4261-9c64-e94cc0a272fb</td>\n",
       "      <td>24.0</td>\n",
       "      <td>ذكر</td>\n",
       "      <td>منطقة الرياض</td>\n",
       "      <td>الرياض</td>\n",
       "      <td>e006900d-05a9-4c2b-a36f-0ffb9fce44cd</td>\n",
       "      <td>APMR</td>\n",
       "      <td>NaN</td>\n",
       "      <td>NaN</td>\n",
       "      <td>متوسط</td>\n",
       "      <td>...</td>\n",
       "      <td>7</td>\n",
       "      <td>1</td>\n",
       "      <td>0</td>\n",
       "      <td>0</td>\n",
       "      <td>0</td>\n",
       "      <td>0</td>\n",
       "      <td>0</td>\n",
       "      <td>0</td>\n",
       "      <td>0</td>\n",
       "      <td>13</td>\n",
       "    </tr>\n",
       "    <tr>\n",
       "      <th>3</th>\n",
       "      <td>38a11c0e-4afc-4261-9c64-e94cc0a272fb</td>\n",
       "      <td>24.0</td>\n",
       "      <td>ذكر</td>\n",
       "      <td>منطقة الرياض</td>\n",
       "      <td>الرياض</td>\n",
       "      <td>3218820e-5fc3-4dcb-8c23-17ac8de5e4b0</td>\n",
       "      <td>GRST</td>\n",
       "      <td>INFA</td>\n",
       "      <td>تقليدية</td>\n",
       "      <td>متوسط</td>\n",
       "      <td>...</td>\n",
       "      <td>7</td>\n",
       "      <td>1</td>\n",
       "      <td>0</td>\n",
       "      <td>0</td>\n",
       "      <td>0</td>\n",
       "      <td>0</td>\n",
       "      <td>0</td>\n",
       "      <td>0</td>\n",
       "      <td>0</td>\n",
       "      <td>13</td>\n",
       "    </tr>\n",
       "    <tr>\n",
       "      <th>4</th>\n",
       "      <td>1693e85b-f80e-40ce-846f-395ddcece6d3</td>\n",
       "      <td>23.0</td>\n",
       "      <td>ذكر</td>\n",
       "      <td>منطقة الرياض</td>\n",
       "      <td>الرياض</td>\n",
       "      <td>2ec15f6b-233b-428a-b9f5-e40bc8d14cf9</td>\n",
       "      <td>TOSL</td>\n",
       "      <td>TOSL</td>\n",
       "      <td>NaN</td>\n",
       "      <td>NaN</td>\n",
       "      <td>...</td>\n",
       "      <td>0</td>\n",
       "      <td>2</td>\n",
       "      <td>0</td>\n",
       "      <td>0</td>\n",
       "      <td>0</td>\n",
       "      <td>0</td>\n",
       "      <td>0</td>\n",
       "      <td>0</td>\n",
       "      <td>0</td>\n",
       "      <td>6</td>\n",
       "    </tr>\n",
       "  </tbody>\n",
       "</table>\n",
       "<p>5 rows × 36 columns</p>\n",
       "</div>"
      ],
      "text/plain": [
       "                             Student ID   Age Gender   Home Region  Home City  \\\n",
       "0  4f14c50d-162e-4a15-9cf0-ec129c33bcf0  37.0    ذكر  منطقة الرياض     الرياض   \n",
       "1  0599d409-876b-41a5-af05-749ef0e77d32  21.0    ذكر    منطقة عسير  خميس مشيط   \n",
       "2  38a11c0e-4afc-4261-9c64-e94cc0a272fb  24.0    ذكر  منطقة الرياض     الرياض   \n",
       "3  38a11c0e-4afc-4261-9c64-e94cc0a272fb  24.0    ذكر  منطقة الرياض     الرياض   \n",
       "4  1693e85b-f80e-40ce-846f-395ddcece6d3  23.0    ذكر  منطقة الرياض     الرياض   \n",
       "\n",
       "                             Program ID Program Main Category Code  \\\n",
       "0  453686d8-4023-4506-b2df-fac8b059ac26                       PCRF   \n",
       "1  cc8e4e42-65d5-4fa1-82f9-6c6c2d508b60                       APMR   \n",
       "2  e006900d-05a9-4c2b-a36f-0ffb9fce44cd                       APMR   \n",
       "3  3218820e-5fc3-4dcb-8c23-17ac8de5e4b0                       GRST   \n",
       "4  2ec15f6b-233b-428a-b9f5-e40bc8d14cf9                       TOSL   \n",
       "\n",
       "  Program Sub Category Code Technology Type Program Skill Level  ... CAUF  \\\n",
       "0                      PCRF             NaN                 NaN  ...    0   \n",
       "1                      SWPS             NaN               متوسط  ...    6   \n",
       "2                       NaN             NaN               متوسط  ...    7   \n",
       "3                      INFA         تقليدية               متوسط  ...    7   \n",
       "4                      TOSL             NaN                 NaN  ...    0   \n",
       "\n",
       "  INFA ABIR  SERU TOSL APMR DTFH QWLM  N/A  Total Regestration  \n",
       "0    0    0     0    0    0    0    0    0                   4  \n",
       "1    0    0     1    0    4    0    0    1                  15  \n",
       "2    1    0     0    0    0    0    0    0                  13  \n",
       "3    1    0     0    0    0    0    0    0                  13  \n",
       "4    2    0     0    0    0    0    0    0                   6  \n",
       "\n",
       "[5 rows x 36 columns]"
      ]
     },
     "execution_count": 15,
     "metadata": {},
     "output_type": "execute_result"
    }
   ],
   "source": [
    "df.head()"
   ]
  },
  {
   "cell_type": "code",
   "execution_count": 16,
   "metadata": {},
   "outputs": [
    {
     "name": "stdout",
     "output_type": "stream",
     "text": [
      "<class 'pandas.core.frame.DataFrame'>\n",
      "RangeIndex: 6500 entries, 0 to 6499\n",
      "Data columns (total 36 columns):\n",
      " #   Column                          Non-Null Count  Dtype  \n",
      "---  ------                          --------------  -----  \n",
      " 0   Student ID                      6500 non-null   object \n",
      " 1   Age                             6413 non-null   float64\n",
      " 2   Gender                          6500 non-null   object \n",
      " 3   Home Region                     6498 non-null   object \n",
      " 4   Home City                       6498 non-null   object \n",
      " 5   Program ID                      6500 non-null   object \n",
      " 6   Program Main Category Code      6500 non-null   object \n",
      " 7   Program Sub Category Code       5580 non-null   object \n",
      " 8   Technology Type                 3542 non-null   object \n",
      " 9   Program Skill Level             4855 non-null   object \n",
      " 10  Program Presentation Method     6500 non-null   object \n",
      " 11  Program Start Date              6500 non-null   object \n",
      " 12  Program End Date                6500 non-null   object \n",
      " 13  Program Days                    6500 non-null   int64  \n",
      " 14  Completed Degree                6500 non-null   object \n",
      " 15  Level of Education              6478 non-null   object \n",
      " 16  Education Speaciality           6228 non-null   object \n",
      " 17  College                         2638 non-null   object \n",
      " 18  University Degree Score         6424 non-null   float64\n",
      " 19  University Degree Score System  6424 non-null   float64\n",
      " 20  Employment Status               5943 non-null   object \n",
      " 21  Job Type                        1965 non-null   object \n",
      " 22  Still Working                   1965 non-null   object \n",
      " 23  Y                               6500 non-null   int64  \n",
      " 24  PCRF                            6500 non-null   int64  \n",
      " 25  GRST                            6500 non-null   int64  \n",
      " 26  CAUF                            6500 non-null   int64  \n",
      " 27  INFA                            6500 non-null   int64  \n",
      " 28  ABIR                            6500 non-null   int64  \n",
      " 29  SERU                            6500 non-null   int64  \n",
      " 30  TOSL                            6500 non-null   int64  \n",
      " 31  APMR                            6500 non-null   int64  \n",
      " 32  DTFH                            6500 non-null   int64  \n",
      " 33  QWLM                            6500 non-null   int64  \n",
      " 34  N/A                             6500 non-null   int64  \n",
      " 35  Total Regestration              6500 non-null   int64  \n",
      "dtypes: float64(3), int64(14), object(19)\n",
      "memory usage: 1.8+ MB\n"
     ]
    }
   ],
   "source": [
    "df.info()"
   ]
  },
  {
   "cell_type": "code",
   "execution_count": 17,
   "metadata": {},
   "outputs": [],
   "source": [
    "# Change data types from objects to integers\n",
    "df['Age'] = df['Age'].astype('Int64')\n",
    "df['University Degree Score System'] = df['University Degree Score System'].astype('Int64')\n",
    "df['Program End Date'] = pd.to_datetime(df['Program End Date'])\n",
    "df['Program Start Date'] = pd.to_datetime(df['Program Start Date'])"
   ]
  },
  {
   "cell_type": "code",
   "execution_count": 18,
   "metadata": {},
   "outputs": [
    {
     "name": "stdout",
     "output_type": "stream",
     "text": [
      "Program Start Date    datetime64[ns]\n",
      "Program End Date      datetime64[ns]\n",
      "dtype: object\n"
     ]
    }
   ],
   "source": [
    "df['Program Start Date'] = pd.to_datetime(df['Program Start Date'], errors='coerce')\n",
    "df['Program End Date'] = pd.to_datetime(df['Program End Date'], errors='coerce')\n",
    "\n",
    "print(df[['Program Start Date', 'Program End Date']].dtypes)\n"
   ]
  },
  {
   "cell_type": "code",
   "execution_count": 19,
   "metadata": {},
   "outputs": [
    {
     "data": {
      "text/html": [
       "<div>\n",
       "<style scoped>\n",
       "    .dataframe tbody tr th:only-of-type {\n",
       "        vertical-align: middle;\n",
       "    }\n",
       "\n",
       "    .dataframe tbody tr th {\n",
       "        vertical-align: top;\n",
       "    }\n",
       "\n",
       "    .dataframe thead th {\n",
       "        text-align: right;\n",
       "    }\n",
       "</style>\n",
       "<table border=\"1\" class=\"dataframe\">\n",
       "  <thead>\n",
       "    <tr style=\"text-align: right;\">\n",
       "      <th></th>\n",
       "      <th>Program Start Date</th>\n",
       "      <th>Program End Date</th>\n",
       "    </tr>\n",
       "  </thead>\n",
       "  <tbody>\n",
       "    <tr>\n",
       "      <th>0</th>\n",
       "      <td>2023-05-28</td>\n",
       "      <td>2023-06-08</td>\n",
       "    </tr>\n",
       "    <tr>\n",
       "      <th>1</th>\n",
       "      <td>2023-04-02</td>\n",
       "      <td>2023-04-06</td>\n",
       "    </tr>\n",
       "    <tr>\n",
       "      <th>2</th>\n",
       "      <td>2023-07-23</td>\n",
       "      <td>2023-09-14</td>\n",
       "    </tr>\n",
       "    <tr>\n",
       "      <th>3</th>\n",
       "      <td>2022-09-25</td>\n",
       "      <td>2022-09-27</td>\n",
       "    </tr>\n",
       "    <tr>\n",
       "      <th>4</th>\n",
       "      <td>2023-07-23</td>\n",
       "      <td>2023-08-24</td>\n",
       "    </tr>\n",
       "  </tbody>\n",
       "</table>\n",
       "</div>"
      ],
      "text/plain": [
       "  Program Start Date Program End Date\n",
       "0         2023-05-28       2023-06-08\n",
       "1         2023-04-02       2023-04-06\n",
       "2         2023-07-23       2023-09-14\n",
       "3         2022-09-25       2022-09-27\n",
       "4         2023-07-23       2023-08-24"
      ]
     },
     "execution_count": 19,
     "metadata": {},
     "output_type": "execute_result"
    }
   ],
   "source": [
    "df[['Program Start Date', 'Program End Date']].head()"
   ]
  },
  {
   "cell_type": "code",
   "execution_count": 20,
   "metadata": {},
   "outputs": [
    {
     "data": {
      "text/html": [
       "<div>\n",
       "<style scoped>\n",
       "    .dataframe tbody tr th:only-of-type {\n",
       "        vertical-align: middle;\n",
       "    }\n",
       "\n",
       "    .dataframe tbody tr th {\n",
       "        vertical-align: top;\n",
       "    }\n",
       "\n",
       "    .dataframe thead th {\n",
       "        text-align: right;\n",
       "    }\n",
       "</style>\n",
       "<table border=\"1\" class=\"dataframe\">\n",
       "  <thead>\n",
       "    <tr style=\"text-align: right;\">\n",
       "      <th></th>\n",
       "      <th>Age</th>\n",
       "      <th>Program Days</th>\n",
       "      <th>University Degree Score</th>\n",
       "      <th>University Degree Score System</th>\n",
       "      <th>Y</th>\n",
       "      <th>PCRF</th>\n",
       "      <th>GRST</th>\n",
       "      <th>CAUF</th>\n",
       "      <th>INFA</th>\n",
       "      <th>ABIR</th>\n",
       "      <th>SERU</th>\n",
       "      <th>TOSL</th>\n",
       "      <th>APMR</th>\n",
       "      <th>DTFH</th>\n",
       "      <th>QWLM</th>\n",
       "      <th>N/A</th>\n",
       "      <th>Total Regestration</th>\n",
       "    </tr>\n",
       "  </thead>\n",
       "  <tbody>\n",
       "    <tr>\n",
       "      <th>count</th>\n",
       "      <td>6413.0</td>\n",
       "      <td>6500.000000</td>\n",
       "      <td>6424.000000</td>\n",
       "      <td>6424.0</td>\n",
       "      <td>6500.000000</td>\n",
       "      <td>6500.000000</td>\n",
       "      <td>6500.000000</td>\n",
       "      <td>6500.000000</td>\n",
       "      <td>6500.000000</td>\n",
       "      <td>6500.000000</td>\n",
       "      <td>6500.000000</td>\n",
       "      <td>6500.0</td>\n",
       "      <td>6500.000000</td>\n",
       "      <td>6500.000000</td>\n",
       "      <td>6500.000000</td>\n",
       "      <td>6500.000000</td>\n",
       "      <td>6500.000000</td>\n",
       "    </tr>\n",
       "    <tr>\n",
       "      <th>mean</th>\n",
       "      <td>26.822236</td>\n",
       "      <td>19.661692</td>\n",
       "      <td>8.242163</td>\n",
       "      <td>9.792964</td>\n",
       "      <td>0.159846</td>\n",
       "      <td>1.851385</td>\n",
       "      <td>0.284769</td>\n",
       "      <td>2.971077</td>\n",
       "      <td>0.930308</td>\n",
       "      <td>0.111231</td>\n",
       "      <td>0.077077</td>\n",
       "      <td>0.0</td>\n",
       "      <td>1.670000</td>\n",
       "      <td>0.004154</td>\n",
       "      <td>0.012615</td>\n",
       "      <td>1.916462</td>\n",
       "      <td>9.890154</td>\n",
       "    </tr>\n",
       "    <tr>\n",
       "      <th>std</th>\n",
       "      <td>5.535534</td>\n",
       "      <td>32.189476</td>\n",
       "      <td>19.153997</td>\n",
       "      <td>21.297309</td>\n",
       "      <td>0.366492</td>\n",
       "      <td>3.358656</td>\n",
       "      <td>0.617473</td>\n",
       "      <td>4.505396</td>\n",
       "      <td>1.649902</td>\n",
       "      <td>0.397441</td>\n",
       "      <td>0.280786</td>\n",
       "      <td>0.0</td>\n",
       "      <td>2.644127</td>\n",
       "      <td>0.073268</td>\n",
       "      <td>0.111616</td>\n",
       "      <td>4.137572</td>\n",
       "      <td>11.977241</td>\n",
       "    </tr>\n",
       "    <tr>\n",
       "      <th>min</th>\n",
       "      <td>18.0</td>\n",
       "      <td>3.000000</td>\n",
       "      <td>0.000000</td>\n",
       "      <td>4.0</td>\n",
       "      <td>0.000000</td>\n",
       "      <td>0.000000</td>\n",
       "      <td>0.000000</td>\n",
       "      <td>0.000000</td>\n",
       "      <td>0.000000</td>\n",
       "      <td>0.000000</td>\n",
       "      <td>0.000000</td>\n",
       "      <td>0.0</td>\n",
       "      <td>0.000000</td>\n",
       "      <td>0.000000</td>\n",
       "      <td>0.000000</td>\n",
       "      <td>0.000000</td>\n",
       "      <td>1.000000</td>\n",
       "    </tr>\n",
       "    <tr>\n",
       "      <th>25%</th>\n",
       "      <td>23.0</td>\n",
       "      <td>5.000000</td>\n",
       "      <td>3.300000</td>\n",
       "      <td>5.0</td>\n",
       "      <td>0.000000</td>\n",
       "      <td>0.000000</td>\n",
       "      <td>0.000000</td>\n",
       "      <td>0.000000</td>\n",
       "      <td>0.000000</td>\n",
       "      <td>0.000000</td>\n",
       "      <td>0.000000</td>\n",
       "      <td>0.0</td>\n",
       "      <td>0.000000</td>\n",
       "      <td>0.000000</td>\n",
       "      <td>0.000000</td>\n",
       "      <td>0.000000</td>\n",
       "      <td>2.000000</td>\n",
       "    </tr>\n",
       "    <tr>\n",
       "      <th>50%</th>\n",
       "      <td>25.0</td>\n",
       "      <td>12.000000</td>\n",
       "      <td>4.000000</td>\n",
       "      <td>5.0</td>\n",
       "      <td>0.000000</td>\n",
       "      <td>0.000000</td>\n",
       "      <td>0.000000</td>\n",
       "      <td>1.000000</td>\n",
       "      <td>0.000000</td>\n",
       "      <td>0.000000</td>\n",
       "      <td>0.000000</td>\n",
       "      <td>0.0</td>\n",
       "      <td>1.000000</td>\n",
       "      <td>0.000000</td>\n",
       "      <td>0.000000</td>\n",
       "      <td>0.000000</td>\n",
       "      <td>6.000000</td>\n",
       "    </tr>\n",
       "    <tr>\n",
       "      <th>75%</th>\n",
       "      <td>29.0</td>\n",
       "      <td>19.000000</td>\n",
       "      <td>4.510000</td>\n",
       "      <td>5.0</td>\n",
       "      <td>0.000000</td>\n",
       "      <td>2.000000</td>\n",
       "      <td>0.000000</td>\n",
       "      <td>4.000000</td>\n",
       "      <td>1.000000</td>\n",
       "      <td>0.000000</td>\n",
       "      <td>0.000000</td>\n",
       "      <td>0.0</td>\n",
       "      <td>2.000000</td>\n",
       "      <td>0.000000</td>\n",
       "      <td>0.000000</td>\n",
       "      <td>2.000000</td>\n",
       "      <td>13.000000</td>\n",
       "    </tr>\n",
       "    <tr>\n",
       "      <th>max</th>\n",
       "      <td>57.0</td>\n",
       "      <td>292.000000</td>\n",
       "      <td>100.000000</td>\n",
       "      <td>100.0</td>\n",
       "      <td>1.000000</td>\n",
       "      <td>27.000000</td>\n",
       "      <td>4.000000</td>\n",
       "      <td>45.000000</td>\n",
       "      <td>13.000000</td>\n",
       "      <td>4.000000</td>\n",
       "      <td>2.000000</td>\n",
       "      <td>0.0</td>\n",
       "      <td>19.000000</td>\n",
       "      <td>2.000000</td>\n",
       "      <td>1.000000</td>\n",
       "      <td>47.000000</td>\n",
       "      <td>109.000000</td>\n",
       "    </tr>\n",
       "  </tbody>\n",
       "</table>\n",
       "</div>"
      ],
      "text/plain": [
       "             Age  Program Days  University Degree Score  \\\n",
       "count     6413.0   6500.000000              6424.000000   \n",
       "mean   26.822236     19.661692                 8.242163   \n",
       "std     5.535534     32.189476                19.153997   \n",
       "min         18.0      3.000000                 0.000000   \n",
       "25%         23.0      5.000000                 3.300000   \n",
       "50%         25.0     12.000000                 4.000000   \n",
       "75%         29.0     19.000000                 4.510000   \n",
       "max         57.0    292.000000               100.000000   \n",
       "\n",
       "       University Degree Score System            Y         PCRF         GRST  \\\n",
       "count                          6424.0  6500.000000  6500.000000  6500.000000   \n",
       "mean                         9.792964     0.159846     1.851385     0.284769   \n",
       "std                         21.297309     0.366492     3.358656     0.617473   \n",
       "min                               4.0     0.000000     0.000000     0.000000   \n",
       "25%                               5.0     0.000000     0.000000     0.000000   \n",
       "50%                               5.0     0.000000     0.000000     0.000000   \n",
       "75%                               5.0     0.000000     2.000000     0.000000   \n",
       "max                             100.0     1.000000    27.000000     4.000000   \n",
       "\n",
       "              CAUF         INFA         ABIR         SERU    TOSL  \\\n",
       "count  6500.000000  6500.000000  6500.000000  6500.000000  6500.0   \n",
       "mean      2.971077     0.930308     0.111231     0.077077     0.0   \n",
       "std       4.505396     1.649902     0.397441     0.280786     0.0   \n",
       "min       0.000000     0.000000     0.000000     0.000000     0.0   \n",
       "25%       0.000000     0.000000     0.000000     0.000000     0.0   \n",
       "50%       1.000000     0.000000     0.000000     0.000000     0.0   \n",
       "75%       4.000000     1.000000     0.000000     0.000000     0.0   \n",
       "max      45.000000    13.000000     4.000000     2.000000     0.0   \n",
       "\n",
       "              APMR         DTFH         QWLM          N/A  Total Regestration  \n",
       "count  6500.000000  6500.000000  6500.000000  6500.000000         6500.000000  \n",
       "mean      1.670000     0.004154     0.012615     1.916462            9.890154  \n",
       "std       2.644127     0.073268     0.111616     4.137572           11.977241  \n",
       "min       0.000000     0.000000     0.000000     0.000000            1.000000  \n",
       "25%       0.000000     0.000000     0.000000     0.000000            2.000000  \n",
       "50%       1.000000     0.000000     0.000000     0.000000            6.000000  \n",
       "75%       2.000000     0.000000     0.000000     2.000000           13.000000  \n",
       "max      19.000000     2.000000     1.000000    47.000000          109.000000  "
      ]
     },
     "execution_count": 20,
     "metadata": {},
     "output_type": "execute_result"
    }
   ],
   "source": [
    "df.describe(include='number')"
   ]
  },
  {
   "cell_type": "code",
   "execution_count": 21,
   "metadata": {},
   "outputs": [
    {
     "data": {
      "text/html": [
       "<div>\n",
       "<style scoped>\n",
       "    .dataframe tbody tr th:only-of-type {\n",
       "        vertical-align: middle;\n",
       "    }\n",
       "\n",
       "    .dataframe tbody tr th {\n",
       "        vertical-align: top;\n",
       "    }\n",
       "\n",
       "    .dataframe thead th {\n",
       "        text-align: right;\n",
       "    }\n",
       "</style>\n",
       "<table border=\"1\" class=\"dataframe\">\n",
       "  <thead>\n",
       "    <tr style=\"text-align: right;\">\n",
       "      <th></th>\n",
       "      <th>count</th>\n",
       "      <th>unique</th>\n",
       "      <th>top</th>\n",
       "      <th>freq</th>\n",
       "    </tr>\n",
       "  </thead>\n",
       "  <tbody>\n",
       "    <tr>\n",
       "      <th>Student ID</th>\n",
       "      <td>6500</td>\n",
       "      <td>5196</td>\n",
       "      <td>415cfcb1-8dfa-459d-b719-d942cc5e19e1</td>\n",
       "      <td>9</td>\n",
       "    </tr>\n",
       "    <tr>\n",
       "      <th>Gender</th>\n",
       "      <td>6500</td>\n",
       "      <td>2</td>\n",
       "      <td>أنثى</td>\n",
       "      <td>3651</td>\n",
       "    </tr>\n",
       "    <tr>\n",
       "      <th>Home Region</th>\n",
       "      <td>6498</td>\n",
       "      <td>13</td>\n",
       "      <td>منطقة الرياض</td>\n",
       "      <td>4741</td>\n",
       "    </tr>\n",
       "    <tr>\n",
       "      <th>Home City</th>\n",
       "      <td>6498</td>\n",
       "      <td>92</td>\n",
       "      <td>الرياض</td>\n",
       "      <td>4678</td>\n",
       "    </tr>\n",
       "    <tr>\n",
       "      <th>Program ID</th>\n",
       "      <td>6500</td>\n",
       "      <td>223</td>\n",
       "      <td>ab263106-20a8-42aa-9626-278e62ae3a49</td>\n",
       "      <td>133</td>\n",
       "    </tr>\n",
       "    <tr>\n",
       "      <th>Program Main Category Code</th>\n",
       "      <td>6500</td>\n",
       "      <td>10</td>\n",
       "      <td>CAUF</td>\n",
       "      <td>2355</td>\n",
       "    </tr>\n",
       "    <tr>\n",
       "      <th>Program Sub Category Code</th>\n",
       "      <td>5580</td>\n",
       "      <td>11</td>\n",
       "      <td>SWPS</td>\n",
       "      <td>1786</td>\n",
       "    </tr>\n",
       "    <tr>\n",
       "      <th>Technology Type</th>\n",
       "      <td>3542</td>\n",
       "      <td>3</td>\n",
       "      <td>تقليدية</td>\n",
       "      <td>2670</td>\n",
       "    </tr>\n",
       "    <tr>\n",
       "      <th>Program Skill Level</th>\n",
       "      <td>4855</td>\n",
       "      <td>3</td>\n",
       "      <td>متوسط</td>\n",
       "      <td>2105</td>\n",
       "    </tr>\n",
       "    <tr>\n",
       "      <th>Program Presentation Method</th>\n",
       "      <td>6500</td>\n",
       "      <td>2</td>\n",
       "      <td>حضوري</td>\n",
       "      <td>4918</td>\n",
       "    </tr>\n",
       "    <tr>\n",
       "      <th>Completed Degree</th>\n",
       "      <td>6500</td>\n",
       "      <td>2</td>\n",
       "      <td>نعم</td>\n",
       "      <td>5160</td>\n",
       "    </tr>\n",
       "    <tr>\n",
       "      <th>Level of Education</th>\n",
       "      <td>6478</td>\n",
       "      <td>5</td>\n",
       "      <td>البكالوريوس</td>\n",
       "      <td>5391</td>\n",
       "    </tr>\n",
       "    <tr>\n",
       "      <th>Education Speaciality</th>\n",
       "      <td>6228</td>\n",
       "      <td>871</td>\n",
       "      <td>علوم الحاسبات</td>\n",
       "      <td>1061</td>\n",
       "    </tr>\n",
       "    <tr>\n",
       "      <th>College</th>\n",
       "      <td>2638</td>\n",
       "      <td>9</td>\n",
       "      <td>تكنولوجيا الاتصالات والمعلومات</td>\n",
       "      <td>2293</td>\n",
       "    </tr>\n",
       "    <tr>\n",
       "      <th>Employment Status</th>\n",
       "      <td>5943</td>\n",
       "      <td>6</td>\n",
       "      <td>موظف</td>\n",
       "      <td>2777</td>\n",
       "    </tr>\n",
       "    <tr>\n",
       "      <th>Job Type</th>\n",
       "      <td>1965</td>\n",
       "      <td>4</td>\n",
       "      <td>دوام كامل</td>\n",
       "      <td>1386</td>\n",
       "    </tr>\n",
       "    <tr>\n",
       "      <th>Still Working</th>\n",
       "      <td>1965</td>\n",
       "      <td>2</td>\n",
       "      <td>Yes</td>\n",
       "      <td>1236</td>\n",
       "    </tr>\n",
       "  </tbody>\n",
       "</table>\n",
       "</div>"
      ],
      "text/plain": [
       "                            count unique  \\\n",
       "Student ID                   6500   5196   \n",
       "Gender                       6500      2   \n",
       "Home Region                  6498     13   \n",
       "Home City                    6498     92   \n",
       "Program ID                   6500    223   \n",
       "Program Main Category Code   6500     10   \n",
       "Program Sub Category Code    5580     11   \n",
       "Technology Type              3542      3   \n",
       "Program Skill Level          4855      3   \n",
       "Program Presentation Method  6500      2   \n",
       "Completed Degree             6500      2   \n",
       "Level of Education           6478      5   \n",
       "Education Speaciality        6228    871   \n",
       "College                      2638      9   \n",
       "Employment Status            5943      6   \n",
       "Job Type                     1965      4   \n",
       "Still Working                1965      2   \n",
       "\n",
       "                                                              top  freq  \n",
       "Student ID                   415cfcb1-8dfa-459d-b719-d942cc5e19e1     9  \n",
       "Gender                                                       أنثى  3651  \n",
       "Home Region                                          منطقة الرياض  4741  \n",
       "Home City                                                  الرياض  4678  \n",
       "Program ID                   ab263106-20a8-42aa-9626-278e62ae3a49   133  \n",
       "Program Main Category Code                                   CAUF  2355  \n",
       "Program Sub Category Code                                    SWPS  1786  \n",
       "Technology Type                                           تقليدية  2670  \n",
       "Program Skill Level                                         متوسط  2105  \n",
       "Program Presentation Method                                 حضوري  4918  \n",
       "Completed Degree                                              نعم  5160  \n",
       "Level of Education                                    البكالوريوس  5391  \n",
       "Education Speaciality                               علوم الحاسبات  1061  \n",
       "College                            تكنولوجيا الاتصالات والمعلومات  2293  \n",
       "Employment Status                                            موظف  2777  \n",
       "Job Type                                                دوام كامل  1386  \n",
       "Still Working                                                 Yes  1236  "
      ]
     },
     "execution_count": 21,
     "metadata": {},
     "output_type": "execute_result"
    }
   ],
   "source": [
    "df.describe(include='object').T"
   ]
  },
  {
   "cell_type": "markdown",
   "metadata": {},
   "source": [
    "### Dataset Summary:\n",
    "\n",
    "- **Number of Rows:** 6,500\n",
    "- **Number of Columns:** 32\n",
    "- **Memory Usage:** ~1.6 MB\n",
    "\n",
    "---\n",
    "\n",
    "### Features:\n",
    "\n",
    "#### **Student Information**\n",
    "1. **Student ID**: A unique identifier for each student (String).\n",
    "2. **Age**: Age of the student (Int, Nullable).\n",
    "3. **Gender**: Gender of the student (String).\n",
    "4. **Home Region**: Region where the student resides (String, Nullable).\n",
    "5. **Home City**: City where the student resides (String, Nullable).\n",
    "\n",
    "#### **Program Details**\n",
    "6. **Program ID**: Unique identifier for each program (String).\n",
    "7. **Program Main Category Code**: Main category of the program (Encoded as String).\n",
    "8. **Program Sub Category Code**: Sub-category of the program (Encoded as String, Nullable).\n",
    "9. **Program Skill Level**: Skill level for the program (String, Nullable).\n",
    "10. **Program Presentation Method**: Presentation format (e.g., in-person/online) (String).\n",
    "11. **Program Start Date**: Start date of the program (Date).\n",
    "12. **Program End Date**: End date of the program (Date).\n",
    "13. **Program Days**: Total number of days for the program (Int).\n",
    "\n",
    "#### **Educational Background**\n",
    "14. **Completed Degree**: Indicates if the student completed a university/college degree (String).\n",
    "15. **Level of Education**: The highest degree received by the student (String, Nullable).\n",
    "16. **Education Specialty**: Field of study or degree specialty (String, Nullable).\n",
    "17. **University Degree Score**: Student's score in university/college (Float, Nullable).\n",
    "18. **University Degree Score System**: Scoring system used for the university/college score (Float, Nullable).\n",
    "\n",
    "#### **Employment Information**\n",
    "19. **Employment Status**: Student's current employment status (String, Nullable).\n",
    "20. **Still Working**: Indicates if the student is currently employed (String).\n",
    "\n",
    "#### **Target Variable**\n",
    "21. **Y (Target)**: Indicates program completion (1: Did not complete, 0: Successfully completed) (Bool/Int).\n",
    "\n",
    "#### **Program Evaluation Metrics**\n",
    "22. **PCRF, GRST, CAUF, INFA, ABIR, SERU, TOSL, APMR, DTFH, QWLM**: Various program-related metrics (Int).\n",
    "\n",
    "#### **Other**\n",
    "23. **N/A**: Unclear from the description (Int).\n",
    "24. **Total Registration**: Total registrations for the program (Int).\n",
    "\n",
    "---"
   ]
  },
  {
   "cell_type": "markdown",
   "metadata": {},
   "source": [
    "# Fill `NULL` Values"
   ]
  },
  {
   "cell_type": "markdown",
   "metadata": {},
   "source": [
    "### Understanding"
   ]
  },
  {
   "cell_type": "code",
   "execution_count": 22,
   "metadata": {},
   "outputs": [
    {
     "data": {
      "text/plain": [
       "Age                                 87\n",
       "Home Region                          2\n",
       "Home City                            2\n",
       "Program Sub Category Code          920\n",
       "Technology Type                   2958\n",
       "Program Skill Level               1645\n",
       "Level of Education                  22\n",
       "Education Speaciality              272\n",
       "College                           3862\n",
       "University Degree Score             76\n",
       "University Degree Score System      76\n",
       "Employment Status                  557\n",
       "Job Type                          4535\n",
       "Still Working                     4535\n",
       "dtype: int64"
      ]
     },
     "execution_count": 22,
     "metadata": {},
     "output_type": "execute_result"
    }
   ],
   "source": [
    "df.isnull().sum()[df.isnull().sum() > 0]"
   ]
  },
  {
   "cell_type": "code",
   "execution_count": 23,
   "metadata": {},
   "outputs": [
    {
     "data": {
      "text/plain": [
       "Age                                1.3\n",
       "Program Sub Category Code         14.2\n",
       "Technology Type                   45.5\n",
       "Program Skill Level               25.3\n",
       "Level of Education                 0.3\n",
       "Education Speaciality              4.2\n",
       "College                           59.4\n",
       "University Degree Score            1.2\n",
       "University Degree Score System     1.2\n",
       "Employment Status                  8.6\n",
       "Job Type                          69.8\n",
       "Still Working                     69.8\n",
       "dtype: float64"
      ]
     },
     "execution_count": 23,
     "metadata": {},
     "output_type": "execute_result"
    }
   ],
   "source": [
    "null_percentage = (df.isna().sum()*100/len(df)).round(1)\n",
    "columns_with_null_percentage = null_percentage[null_percentage > 0]\n",
    "columns_with_null_percentage"
   ]
  },
  {
   "cell_type": "code",
   "execution_count": 24,
   "metadata": {},
   "outputs": [
    {
     "data": {
      "application/vnd.plotly.v1+json": {
       "config": {
        "plotlyServerURL": "https://plot.ly"
       },
       "data": [
        {
         "type": "bar",
         "x": [
          "Age",
          "Program Sub Category Code",
          "Technology Type",
          "Program Skill Level",
          "Level of Education",
          "Education Speaciality",
          "College",
          "University Degree Score",
          "University Degree Score System",
          "Employment Status",
          "Job Type",
          "Still Working"
         ],
         "y": [
          1.3,
          14.2,
          45.5,
          25.3,
          0.3,
          4.2,
          59.4,
          1.2,
          1.2,
          8.6,
          69.8,
          69.8
         ]
        }
       ],
       "layout": {
        "template": {
         "data": {
          "bar": [
           {
            "error_x": {
             "color": "#2a3f5f"
            },
            "error_y": {
             "color": "#2a3f5f"
            },
            "marker": {
             "line": {
              "color": "#E5ECF6",
              "width": 0.5
             },
             "pattern": {
              "fillmode": "overlay",
              "size": 10,
              "solidity": 0.2
             }
            },
            "type": "bar"
           }
          ],
          "barpolar": [
           {
            "marker": {
             "line": {
              "color": "#E5ECF6",
              "width": 0.5
             },
             "pattern": {
              "fillmode": "overlay",
              "size": 10,
              "solidity": 0.2
             }
            },
            "type": "barpolar"
           }
          ],
          "carpet": [
           {
            "aaxis": {
             "endlinecolor": "#2a3f5f",
             "gridcolor": "white",
             "linecolor": "white",
             "minorgridcolor": "white",
             "startlinecolor": "#2a3f5f"
            },
            "baxis": {
             "endlinecolor": "#2a3f5f",
             "gridcolor": "white",
             "linecolor": "white",
             "minorgridcolor": "white",
             "startlinecolor": "#2a3f5f"
            },
            "type": "carpet"
           }
          ],
          "choropleth": [
           {
            "colorbar": {
             "outlinewidth": 0,
             "ticks": ""
            },
            "type": "choropleth"
           }
          ],
          "contour": [
           {
            "colorbar": {
             "outlinewidth": 0,
             "ticks": ""
            },
            "colorscale": [
             [
              0,
              "#0d0887"
             ],
             [
              0.1111111111111111,
              "#46039f"
             ],
             [
              0.2222222222222222,
              "#7201a8"
             ],
             [
              0.3333333333333333,
              "#9c179e"
             ],
             [
              0.4444444444444444,
              "#bd3786"
             ],
             [
              0.5555555555555556,
              "#d8576b"
             ],
             [
              0.6666666666666666,
              "#ed7953"
             ],
             [
              0.7777777777777778,
              "#fb9f3a"
             ],
             [
              0.8888888888888888,
              "#fdca26"
             ],
             [
              1,
              "#f0f921"
             ]
            ],
            "type": "contour"
           }
          ],
          "contourcarpet": [
           {
            "colorbar": {
             "outlinewidth": 0,
             "ticks": ""
            },
            "type": "contourcarpet"
           }
          ],
          "heatmap": [
           {
            "colorbar": {
             "outlinewidth": 0,
             "ticks": ""
            },
            "colorscale": [
             [
              0,
              "#0d0887"
             ],
             [
              0.1111111111111111,
              "#46039f"
             ],
             [
              0.2222222222222222,
              "#7201a8"
             ],
             [
              0.3333333333333333,
              "#9c179e"
             ],
             [
              0.4444444444444444,
              "#bd3786"
             ],
             [
              0.5555555555555556,
              "#d8576b"
             ],
             [
              0.6666666666666666,
              "#ed7953"
             ],
             [
              0.7777777777777778,
              "#fb9f3a"
             ],
             [
              0.8888888888888888,
              "#fdca26"
             ],
             [
              1,
              "#f0f921"
             ]
            ],
            "type": "heatmap"
           }
          ],
          "heatmapgl": [
           {
            "colorbar": {
             "outlinewidth": 0,
             "ticks": ""
            },
            "colorscale": [
             [
              0,
              "#0d0887"
             ],
             [
              0.1111111111111111,
              "#46039f"
             ],
             [
              0.2222222222222222,
              "#7201a8"
             ],
             [
              0.3333333333333333,
              "#9c179e"
             ],
             [
              0.4444444444444444,
              "#bd3786"
             ],
             [
              0.5555555555555556,
              "#d8576b"
             ],
             [
              0.6666666666666666,
              "#ed7953"
             ],
             [
              0.7777777777777778,
              "#fb9f3a"
             ],
             [
              0.8888888888888888,
              "#fdca26"
             ],
             [
              1,
              "#f0f921"
             ]
            ],
            "type": "heatmapgl"
           }
          ],
          "histogram": [
           {
            "marker": {
             "pattern": {
              "fillmode": "overlay",
              "size": 10,
              "solidity": 0.2
             }
            },
            "type": "histogram"
           }
          ],
          "histogram2d": [
           {
            "colorbar": {
             "outlinewidth": 0,
             "ticks": ""
            },
            "colorscale": [
             [
              0,
              "#0d0887"
             ],
             [
              0.1111111111111111,
              "#46039f"
             ],
             [
              0.2222222222222222,
              "#7201a8"
             ],
             [
              0.3333333333333333,
              "#9c179e"
             ],
             [
              0.4444444444444444,
              "#bd3786"
             ],
             [
              0.5555555555555556,
              "#d8576b"
             ],
             [
              0.6666666666666666,
              "#ed7953"
             ],
             [
              0.7777777777777778,
              "#fb9f3a"
             ],
             [
              0.8888888888888888,
              "#fdca26"
             ],
             [
              1,
              "#f0f921"
             ]
            ],
            "type": "histogram2d"
           }
          ],
          "histogram2dcontour": [
           {
            "colorbar": {
             "outlinewidth": 0,
             "ticks": ""
            },
            "colorscale": [
             [
              0,
              "#0d0887"
             ],
             [
              0.1111111111111111,
              "#46039f"
             ],
             [
              0.2222222222222222,
              "#7201a8"
             ],
             [
              0.3333333333333333,
              "#9c179e"
             ],
             [
              0.4444444444444444,
              "#bd3786"
             ],
             [
              0.5555555555555556,
              "#d8576b"
             ],
             [
              0.6666666666666666,
              "#ed7953"
             ],
             [
              0.7777777777777778,
              "#fb9f3a"
             ],
             [
              0.8888888888888888,
              "#fdca26"
             ],
             [
              1,
              "#f0f921"
             ]
            ],
            "type": "histogram2dcontour"
           }
          ],
          "mesh3d": [
           {
            "colorbar": {
             "outlinewidth": 0,
             "ticks": ""
            },
            "type": "mesh3d"
           }
          ],
          "parcoords": [
           {
            "line": {
             "colorbar": {
              "outlinewidth": 0,
              "ticks": ""
             }
            },
            "type": "parcoords"
           }
          ],
          "pie": [
           {
            "automargin": true,
            "type": "pie"
           }
          ],
          "scatter": [
           {
            "fillpattern": {
             "fillmode": "overlay",
             "size": 10,
             "solidity": 0.2
            },
            "type": "scatter"
           }
          ],
          "scatter3d": [
           {
            "line": {
             "colorbar": {
              "outlinewidth": 0,
              "ticks": ""
             }
            },
            "marker": {
             "colorbar": {
              "outlinewidth": 0,
              "ticks": ""
             }
            },
            "type": "scatter3d"
           }
          ],
          "scattercarpet": [
           {
            "marker": {
             "colorbar": {
              "outlinewidth": 0,
              "ticks": ""
             }
            },
            "type": "scattercarpet"
           }
          ],
          "scattergeo": [
           {
            "marker": {
             "colorbar": {
              "outlinewidth": 0,
              "ticks": ""
             }
            },
            "type": "scattergeo"
           }
          ],
          "scattergl": [
           {
            "marker": {
             "colorbar": {
              "outlinewidth": 0,
              "ticks": ""
             }
            },
            "type": "scattergl"
           }
          ],
          "scattermapbox": [
           {
            "marker": {
             "colorbar": {
              "outlinewidth": 0,
              "ticks": ""
             }
            },
            "type": "scattermapbox"
           }
          ],
          "scatterpolar": [
           {
            "marker": {
             "colorbar": {
              "outlinewidth": 0,
              "ticks": ""
             }
            },
            "type": "scatterpolar"
           }
          ],
          "scatterpolargl": [
           {
            "marker": {
             "colorbar": {
              "outlinewidth": 0,
              "ticks": ""
             }
            },
            "type": "scatterpolargl"
           }
          ],
          "scatterternary": [
           {
            "marker": {
             "colorbar": {
              "outlinewidth": 0,
              "ticks": ""
             }
            },
            "type": "scatterternary"
           }
          ],
          "surface": [
           {
            "colorbar": {
             "outlinewidth": 0,
             "ticks": ""
            },
            "colorscale": [
             [
              0,
              "#0d0887"
             ],
             [
              0.1111111111111111,
              "#46039f"
             ],
             [
              0.2222222222222222,
              "#7201a8"
             ],
             [
              0.3333333333333333,
              "#9c179e"
             ],
             [
              0.4444444444444444,
              "#bd3786"
             ],
             [
              0.5555555555555556,
              "#d8576b"
             ],
             [
              0.6666666666666666,
              "#ed7953"
             ],
             [
              0.7777777777777778,
              "#fb9f3a"
             ],
             [
              0.8888888888888888,
              "#fdca26"
             ],
             [
              1,
              "#f0f921"
             ]
            ],
            "type": "surface"
           }
          ],
          "table": [
           {
            "cells": {
             "fill": {
              "color": "#EBF0F8"
             },
             "line": {
              "color": "white"
             }
            },
            "header": {
             "fill": {
              "color": "#C8D4E3"
             },
             "line": {
              "color": "white"
             }
            },
            "type": "table"
           }
          ]
         },
         "layout": {
          "annotationdefaults": {
           "arrowcolor": "#2a3f5f",
           "arrowhead": 0,
           "arrowwidth": 1
          },
          "autotypenumbers": "strict",
          "coloraxis": {
           "colorbar": {
            "outlinewidth": 0,
            "ticks": ""
           }
          },
          "colorscale": {
           "diverging": [
            [
             0,
             "#8e0152"
            ],
            [
             0.1,
             "#c51b7d"
            ],
            [
             0.2,
             "#de77ae"
            ],
            [
             0.3,
             "#f1b6da"
            ],
            [
             0.4,
             "#fde0ef"
            ],
            [
             0.5,
             "#f7f7f7"
            ],
            [
             0.6,
             "#e6f5d0"
            ],
            [
             0.7,
             "#b8e186"
            ],
            [
             0.8,
             "#7fbc41"
            ],
            [
             0.9,
             "#4d9221"
            ],
            [
             1,
             "#276419"
            ]
           ],
           "sequential": [
            [
             0,
             "#0d0887"
            ],
            [
             0.1111111111111111,
             "#46039f"
            ],
            [
             0.2222222222222222,
             "#7201a8"
            ],
            [
             0.3333333333333333,
             "#9c179e"
            ],
            [
             0.4444444444444444,
             "#bd3786"
            ],
            [
             0.5555555555555556,
             "#d8576b"
            ],
            [
             0.6666666666666666,
             "#ed7953"
            ],
            [
             0.7777777777777778,
             "#fb9f3a"
            ],
            [
             0.8888888888888888,
             "#fdca26"
            ],
            [
             1,
             "#f0f921"
            ]
           ],
           "sequentialminus": [
            [
             0,
             "#0d0887"
            ],
            [
             0.1111111111111111,
             "#46039f"
            ],
            [
             0.2222222222222222,
             "#7201a8"
            ],
            [
             0.3333333333333333,
             "#9c179e"
            ],
            [
             0.4444444444444444,
             "#bd3786"
            ],
            [
             0.5555555555555556,
             "#d8576b"
            ],
            [
             0.6666666666666666,
             "#ed7953"
            ],
            [
             0.7777777777777778,
             "#fb9f3a"
            ],
            [
             0.8888888888888888,
             "#fdca26"
            ],
            [
             1,
             "#f0f921"
            ]
           ]
          },
          "colorway": [
           "#636efa",
           "#EF553B",
           "#00cc96",
           "#ab63fa",
           "#FFA15A",
           "#19d3f3",
           "#FF6692",
           "#B6E880",
           "#FF97FF",
           "#FECB52"
          ],
          "font": {
           "color": "#2a3f5f"
          },
          "geo": {
           "bgcolor": "white",
           "lakecolor": "white",
           "landcolor": "#E5ECF6",
           "showlakes": true,
           "showland": true,
           "subunitcolor": "white"
          },
          "hoverlabel": {
           "align": "left"
          },
          "hovermode": "closest",
          "mapbox": {
           "style": "light"
          },
          "paper_bgcolor": "white",
          "plot_bgcolor": "#E5ECF6",
          "polar": {
           "angularaxis": {
            "gridcolor": "white",
            "linecolor": "white",
            "ticks": ""
           },
           "bgcolor": "#E5ECF6",
           "radialaxis": {
            "gridcolor": "white",
            "linecolor": "white",
            "ticks": ""
           }
          },
          "scene": {
           "xaxis": {
            "backgroundcolor": "#E5ECF6",
            "gridcolor": "white",
            "gridwidth": 2,
            "linecolor": "white",
            "showbackground": true,
            "ticks": "",
            "zerolinecolor": "white"
           },
           "yaxis": {
            "backgroundcolor": "#E5ECF6",
            "gridcolor": "white",
            "gridwidth": 2,
            "linecolor": "white",
            "showbackground": true,
            "ticks": "",
            "zerolinecolor": "white"
           },
           "zaxis": {
            "backgroundcolor": "#E5ECF6",
            "gridcolor": "white",
            "gridwidth": 2,
            "linecolor": "white",
            "showbackground": true,
            "ticks": "",
            "zerolinecolor": "white"
           }
          },
          "shapedefaults": {
           "line": {
            "color": "#2a3f5f"
           }
          },
          "ternary": {
           "aaxis": {
            "gridcolor": "white",
            "linecolor": "white",
            "ticks": ""
           },
           "baxis": {
            "gridcolor": "white",
            "linecolor": "white",
            "ticks": ""
           },
           "bgcolor": "#E5ECF6",
           "caxis": {
            "gridcolor": "white",
            "linecolor": "white",
            "ticks": ""
           }
          },
          "title": {
           "x": 0.05
          },
          "xaxis": {
           "automargin": true,
           "gridcolor": "white",
           "linecolor": "white",
           "ticks": "",
           "title": {
            "standoff": 15
           },
           "zerolinecolor": "white",
           "zerolinewidth": 2
          },
          "yaxis": {
           "automargin": true,
           "gridcolor": "white",
           "linecolor": "white",
           "ticks": "",
           "title": {
            "standoff": 15
           },
           "zerolinecolor": "white",
           "zerolinewidth": 2
          }
         }
        },
        "title": {
         "text": "Percentage of Missing Values by Column",
         "x": 0.5
        },
        "xaxis": {
         "title": {
          "text": "Columns"
         }
        },
        "yaxis": {
         "title": {
          "text": "Percentage (%)"
         }
        }
       }
      }
     },
     "metadata": {},
     "output_type": "display_data"
    }
   ],
   "source": [
    "import plotly.graph_objects as go\n",
    "\n",
    "columns = columns_with_null_percentage.index\n",
    "percentages = columns_with_null_percentage.values\n",
    "\n",
    "go.Figure(\n",
    "    data=[\n",
    "        go.Bar(\n",
    "            x=columns,  \n",
    "            y=percentages  \n",
    "        )\n",
    "    ]\n",
    ").update_layout(\n",
    "    title='Percentage of Missing Values by Column',\n",
    "    xaxis_title='Columns',\n",
    "    yaxis_title='Percentage (%)',\n",
    "    title_x=0.5\n",
    ").show()\n"
   ]
  },
  {
   "cell_type": "code",
   "execution_count": 25,
   "metadata": {},
   "outputs": [],
   "source": [
    "df.drop(columns=['Technology Type' , 'College' , 'Job Type' , 'Still Working'] , axis=1 , inplace= True)"
   ]
  },
  {
   "cell_type": "markdown",
   "metadata": {},
   "source": [
    "### Fill Level of Education"
   ]
  },
  {
   "cell_type": "code",
   "execution_count": 26,
   "metadata": {},
   "outputs": [
    {
     "data": {
      "text/plain": [
       "array(['البكالوريوس', 'الماجستير', 'ثانوي', 'الدكتوراه', 'الدبلوم', nan],\n",
       "      dtype=object)"
      ]
     },
     "execution_count": 26,
     "metadata": {},
     "output_type": "execute_result"
    }
   ],
   "source": [
    "df['Level of Education'].unique()"
   ]
  },
  {
   "cell_type": "code",
   "execution_count": 27,
   "metadata": {},
   "outputs": [
    {
     "data": {
      "text/plain": [
       "Completed Degree\n",
       "نعم    22\n",
       "Name: count, dtype: int64"
      ]
     },
     "execution_count": 27,
     "metadata": {},
     "output_type": "execute_result"
    }
   ],
   "source": [
    "# Filter rows where Level of Education is null\n",
    "null_level_education = df[df['Level of Education'].isnull()]\n",
    "\n",
    "# Count how many have Completed Degree as 'Yes' or 'No'\n",
    "null_level_education['Completed Degree'].value_counts()\n"
   ]
  },
  {
   "cell_type": "code",
   "execution_count": 28,
   "metadata": {},
   "outputs": [],
   "source": [
    "# Fill missing values in Level of Education with \"البكالوريوس\"\n",
    "df['Level of Education'] = df['Level of Education'].fillna(\"البكالوريوس\")"
   ]
  },
  {
   "cell_type": "code",
   "execution_count": 29,
   "metadata": {},
   "outputs": [
    {
     "data": {
      "application/vnd.plotly.v1+json": {
       "config": {
        "plotlyServerURL": "https://plot.ly"
       },
       "data": [
        {
         "type": "bar",
         "x": [
          "البكالوريوس",
          "الماجستير",
          "الدبلوم",
          "ثانوي",
          "الدكتوراه"
         ],
         "y": [
          5413,
          481,
          309,
          267,
          30
         ]
        }
       ],
       "layout": {
        "template": {
         "data": {
          "bar": [
           {
            "error_x": {
             "color": "#2a3f5f"
            },
            "error_y": {
             "color": "#2a3f5f"
            },
            "marker": {
             "line": {
              "color": "#E5ECF6",
              "width": 0.5
             },
             "pattern": {
              "fillmode": "overlay",
              "size": 10,
              "solidity": 0.2
             }
            },
            "type": "bar"
           }
          ],
          "barpolar": [
           {
            "marker": {
             "line": {
              "color": "#E5ECF6",
              "width": 0.5
             },
             "pattern": {
              "fillmode": "overlay",
              "size": 10,
              "solidity": 0.2
             }
            },
            "type": "barpolar"
           }
          ],
          "carpet": [
           {
            "aaxis": {
             "endlinecolor": "#2a3f5f",
             "gridcolor": "white",
             "linecolor": "white",
             "minorgridcolor": "white",
             "startlinecolor": "#2a3f5f"
            },
            "baxis": {
             "endlinecolor": "#2a3f5f",
             "gridcolor": "white",
             "linecolor": "white",
             "minorgridcolor": "white",
             "startlinecolor": "#2a3f5f"
            },
            "type": "carpet"
           }
          ],
          "choropleth": [
           {
            "colorbar": {
             "outlinewidth": 0,
             "ticks": ""
            },
            "type": "choropleth"
           }
          ],
          "contour": [
           {
            "colorbar": {
             "outlinewidth": 0,
             "ticks": ""
            },
            "colorscale": [
             [
              0,
              "#0d0887"
             ],
             [
              0.1111111111111111,
              "#46039f"
             ],
             [
              0.2222222222222222,
              "#7201a8"
             ],
             [
              0.3333333333333333,
              "#9c179e"
             ],
             [
              0.4444444444444444,
              "#bd3786"
             ],
             [
              0.5555555555555556,
              "#d8576b"
             ],
             [
              0.6666666666666666,
              "#ed7953"
             ],
             [
              0.7777777777777778,
              "#fb9f3a"
             ],
             [
              0.8888888888888888,
              "#fdca26"
             ],
             [
              1,
              "#f0f921"
             ]
            ],
            "type": "contour"
           }
          ],
          "contourcarpet": [
           {
            "colorbar": {
             "outlinewidth": 0,
             "ticks": ""
            },
            "type": "contourcarpet"
           }
          ],
          "heatmap": [
           {
            "colorbar": {
             "outlinewidth": 0,
             "ticks": ""
            },
            "colorscale": [
             [
              0,
              "#0d0887"
             ],
             [
              0.1111111111111111,
              "#46039f"
             ],
             [
              0.2222222222222222,
              "#7201a8"
             ],
             [
              0.3333333333333333,
              "#9c179e"
             ],
             [
              0.4444444444444444,
              "#bd3786"
             ],
             [
              0.5555555555555556,
              "#d8576b"
             ],
             [
              0.6666666666666666,
              "#ed7953"
             ],
             [
              0.7777777777777778,
              "#fb9f3a"
             ],
             [
              0.8888888888888888,
              "#fdca26"
             ],
             [
              1,
              "#f0f921"
             ]
            ],
            "type": "heatmap"
           }
          ],
          "heatmapgl": [
           {
            "colorbar": {
             "outlinewidth": 0,
             "ticks": ""
            },
            "colorscale": [
             [
              0,
              "#0d0887"
             ],
             [
              0.1111111111111111,
              "#46039f"
             ],
             [
              0.2222222222222222,
              "#7201a8"
             ],
             [
              0.3333333333333333,
              "#9c179e"
             ],
             [
              0.4444444444444444,
              "#bd3786"
             ],
             [
              0.5555555555555556,
              "#d8576b"
             ],
             [
              0.6666666666666666,
              "#ed7953"
             ],
             [
              0.7777777777777778,
              "#fb9f3a"
             ],
             [
              0.8888888888888888,
              "#fdca26"
             ],
             [
              1,
              "#f0f921"
             ]
            ],
            "type": "heatmapgl"
           }
          ],
          "histogram": [
           {
            "marker": {
             "pattern": {
              "fillmode": "overlay",
              "size": 10,
              "solidity": 0.2
             }
            },
            "type": "histogram"
           }
          ],
          "histogram2d": [
           {
            "colorbar": {
             "outlinewidth": 0,
             "ticks": ""
            },
            "colorscale": [
             [
              0,
              "#0d0887"
             ],
             [
              0.1111111111111111,
              "#46039f"
             ],
             [
              0.2222222222222222,
              "#7201a8"
             ],
             [
              0.3333333333333333,
              "#9c179e"
             ],
             [
              0.4444444444444444,
              "#bd3786"
             ],
             [
              0.5555555555555556,
              "#d8576b"
             ],
             [
              0.6666666666666666,
              "#ed7953"
             ],
             [
              0.7777777777777778,
              "#fb9f3a"
             ],
             [
              0.8888888888888888,
              "#fdca26"
             ],
             [
              1,
              "#f0f921"
             ]
            ],
            "type": "histogram2d"
           }
          ],
          "histogram2dcontour": [
           {
            "colorbar": {
             "outlinewidth": 0,
             "ticks": ""
            },
            "colorscale": [
             [
              0,
              "#0d0887"
             ],
             [
              0.1111111111111111,
              "#46039f"
             ],
             [
              0.2222222222222222,
              "#7201a8"
             ],
             [
              0.3333333333333333,
              "#9c179e"
             ],
             [
              0.4444444444444444,
              "#bd3786"
             ],
             [
              0.5555555555555556,
              "#d8576b"
             ],
             [
              0.6666666666666666,
              "#ed7953"
             ],
             [
              0.7777777777777778,
              "#fb9f3a"
             ],
             [
              0.8888888888888888,
              "#fdca26"
             ],
             [
              1,
              "#f0f921"
             ]
            ],
            "type": "histogram2dcontour"
           }
          ],
          "mesh3d": [
           {
            "colorbar": {
             "outlinewidth": 0,
             "ticks": ""
            },
            "type": "mesh3d"
           }
          ],
          "parcoords": [
           {
            "line": {
             "colorbar": {
              "outlinewidth": 0,
              "ticks": ""
             }
            },
            "type": "parcoords"
           }
          ],
          "pie": [
           {
            "automargin": true,
            "type": "pie"
           }
          ],
          "scatter": [
           {
            "fillpattern": {
             "fillmode": "overlay",
             "size": 10,
             "solidity": 0.2
            },
            "type": "scatter"
           }
          ],
          "scatter3d": [
           {
            "line": {
             "colorbar": {
              "outlinewidth": 0,
              "ticks": ""
             }
            },
            "marker": {
             "colorbar": {
              "outlinewidth": 0,
              "ticks": ""
             }
            },
            "type": "scatter3d"
           }
          ],
          "scattercarpet": [
           {
            "marker": {
             "colorbar": {
              "outlinewidth": 0,
              "ticks": ""
             }
            },
            "type": "scattercarpet"
           }
          ],
          "scattergeo": [
           {
            "marker": {
             "colorbar": {
              "outlinewidth": 0,
              "ticks": ""
             }
            },
            "type": "scattergeo"
           }
          ],
          "scattergl": [
           {
            "marker": {
             "colorbar": {
              "outlinewidth": 0,
              "ticks": ""
             }
            },
            "type": "scattergl"
           }
          ],
          "scattermapbox": [
           {
            "marker": {
             "colorbar": {
              "outlinewidth": 0,
              "ticks": ""
             }
            },
            "type": "scattermapbox"
           }
          ],
          "scatterpolar": [
           {
            "marker": {
             "colorbar": {
              "outlinewidth": 0,
              "ticks": ""
             }
            },
            "type": "scatterpolar"
           }
          ],
          "scatterpolargl": [
           {
            "marker": {
             "colorbar": {
              "outlinewidth": 0,
              "ticks": ""
             }
            },
            "type": "scatterpolargl"
           }
          ],
          "scatterternary": [
           {
            "marker": {
             "colorbar": {
              "outlinewidth": 0,
              "ticks": ""
             }
            },
            "type": "scatterternary"
           }
          ],
          "surface": [
           {
            "colorbar": {
             "outlinewidth": 0,
             "ticks": ""
            },
            "colorscale": [
             [
              0,
              "#0d0887"
             ],
             [
              0.1111111111111111,
              "#46039f"
             ],
             [
              0.2222222222222222,
              "#7201a8"
             ],
             [
              0.3333333333333333,
              "#9c179e"
             ],
             [
              0.4444444444444444,
              "#bd3786"
             ],
             [
              0.5555555555555556,
              "#d8576b"
             ],
             [
              0.6666666666666666,
              "#ed7953"
             ],
             [
              0.7777777777777778,
              "#fb9f3a"
             ],
             [
              0.8888888888888888,
              "#fdca26"
             ],
             [
              1,
              "#f0f921"
             ]
            ],
            "type": "surface"
           }
          ],
          "table": [
           {
            "cells": {
             "fill": {
              "color": "#EBF0F8"
             },
             "line": {
              "color": "white"
             }
            },
            "header": {
             "fill": {
              "color": "#C8D4E3"
             },
             "line": {
              "color": "white"
             }
            },
            "type": "table"
           }
          ]
         },
         "layout": {
          "annotationdefaults": {
           "arrowcolor": "#2a3f5f",
           "arrowhead": 0,
           "arrowwidth": 1
          },
          "autotypenumbers": "strict",
          "coloraxis": {
           "colorbar": {
            "outlinewidth": 0,
            "ticks": ""
           }
          },
          "colorscale": {
           "diverging": [
            [
             0,
             "#8e0152"
            ],
            [
             0.1,
             "#c51b7d"
            ],
            [
             0.2,
             "#de77ae"
            ],
            [
             0.3,
             "#f1b6da"
            ],
            [
             0.4,
             "#fde0ef"
            ],
            [
             0.5,
             "#f7f7f7"
            ],
            [
             0.6,
             "#e6f5d0"
            ],
            [
             0.7,
             "#b8e186"
            ],
            [
             0.8,
             "#7fbc41"
            ],
            [
             0.9,
             "#4d9221"
            ],
            [
             1,
             "#276419"
            ]
           ],
           "sequential": [
            [
             0,
             "#0d0887"
            ],
            [
             0.1111111111111111,
             "#46039f"
            ],
            [
             0.2222222222222222,
             "#7201a8"
            ],
            [
             0.3333333333333333,
             "#9c179e"
            ],
            [
             0.4444444444444444,
             "#bd3786"
            ],
            [
             0.5555555555555556,
             "#d8576b"
            ],
            [
             0.6666666666666666,
             "#ed7953"
            ],
            [
             0.7777777777777778,
             "#fb9f3a"
            ],
            [
             0.8888888888888888,
             "#fdca26"
            ],
            [
             1,
             "#f0f921"
            ]
           ],
           "sequentialminus": [
            [
             0,
             "#0d0887"
            ],
            [
             0.1111111111111111,
             "#46039f"
            ],
            [
             0.2222222222222222,
             "#7201a8"
            ],
            [
             0.3333333333333333,
             "#9c179e"
            ],
            [
             0.4444444444444444,
             "#bd3786"
            ],
            [
             0.5555555555555556,
             "#d8576b"
            ],
            [
             0.6666666666666666,
             "#ed7953"
            ],
            [
             0.7777777777777778,
             "#fb9f3a"
            ],
            [
             0.8888888888888888,
             "#fdca26"
            ],
            [
             1,
             "#f0f921"
            ]
           ]
          },
          "colorway": [
           "#636efa",
           "#EF553B",
           "#00cc96",
           "#ab63fa",
           "#FFA15A",
           "#19d3f3",
           "#FF6692",
           "#B6E880",
           "#FF97FF",
           "#FECB52"
          ],
          "font": {
           "color": "#2a3f5f"
          },
          "geo": {
           "bgcolor": "white",
           "lakecolor": "white",
           "landcolor": "#E5ECF6",
           "showlakes": true,
           "showland": true,
           "subunitcolor": "white"
          },
          "hoverlabel": {
           "align": "left"
          },
          "hovermode": "closest",
          "mapbox": {
           "style": "light"
          },
          "paper_bgcolor": "white",
          "plot_bgcolor": "#E5ECF6",
          "polar": {
           "angularaxis": {
            "gridcolor": "white",
            "linecolor": "white",
            "ticks": ""
           },
           "bgcolor": "#E5ECF6",
           "radialaxis": {
            "gridcolor": "white",
            "linecolor": "white",
            "ticks": ""
           }
          },
          "scene": {
           "xaxis": {
            "backgroundcolor": "#E5ECF6",
            "gridcolor": "white",
            "gridwidth": 2,
            "linecolor": "white",
            "showbackground": true,
            "ticks": "",
            "zerolinecolor": "white"
           },
           "yaxis": {
            "backgroundcolor": "#E5ECF6",
            "gridcolor": "white",
            "gridwidth": 2,
            "linecolor": "white",
            "showbackground": true,
            "ticks": "",
            "zerolinecolor": "white"
           },
           "zaxis": {
            "backgroundcolor": "#E5ECF6",
            "gridcolor": "white",
            "gridwidth": 2,
            "linecolor": "white",
            "showbackground": true,
            "ticks": "",
            "zerolinecolor": "white"
           }
          },
          "shapedefaults": {
           "line": {
            "color": "#2a3f5f"
           }
          },
          "ternary": {
           "aaxis": {
            "gridcolor": "white",
            "linecolor": "white",
            "ticks": ""
           },
           "baxis": {
            "gridcolor": "white",
            "linecolor": "white",
            "ticks": ""
           },
           "bgcolor": "#E5ECF6",
           "caxis": {
            "gridcolor": "white",
            "linecolor": "white",
            "ticks": ""
           }
          },
          "title": {
           "x": 0.05
          },
          "xaxis": {
           "automargin": true,
           "gridcolor": "white",
           "linecolor": "white",
           "ticks": "",
           "title": {
            "standoff": 15
           },
           "zerolinecolor": "white",
           "zerolinewidth": 2
          },
          "yaxis": {
           "automargin": true,
           "gridcolor": "white",
           "linecolor": "white",
           "ticks": "",
           "title": {
            "standoff": 15
           },
           "zerolinecolor": "white",
           "zerolinewidth": 2
          }
         }
        },
        "title": {
         "text": "Distribution of Level of Education",
         "x": 0.5
        },
        "xaxis": {
         "title": {
          "text": "Level of Education"
         }
        },
        "yaxis": {
         "title": {
          "text": "Count"
         }
        }
       }
      }
     },
     "metadata": {},
     "output_type": "display_data"
    }
   ],
   "source": [
    "go.Figure(\n",
    "    data=[\n",
    "        go.Bar(\n",
    "            x=df['Level of Education'].value_counts().index,  # Education levels\n",
    "            y=df['Level of Education'].value_counts().values  # Count of each level\n",
    "        )\n",
    "    ]\n",
    ").update_layout(\n",
    "    title='Distribution of Level of Education',\n",
    "    xaxis_title='Level of Education',\n",
    "    yaxis_title='Count',\n",
    "    title_x=0.5  # Center the title\n",
    ").show()"
   ]
  },
  {
   "cell_type": "markdown",
   "metadata": {},
   "source": [
    "### Fill Age"
   ]
  },
  {
   "cell_type": "code",
   "execution_count": 30,
   "metadata": {},
   "outputs": [
    {
     "data": {
      "text/plain": [
       "count       6413.0\n",
       "mean     26.822236\n",
       "std       5.535534\n",
       "min           18.0\n",
       "25%           23.0\n",
       "50%           25.0\n",
       "75%           29.0\n",
       "max           57.0\n",
       "Name: Age, dtype: Float64"
      ]
     },
     "execution_count": 30,
     "metadata": {},
     "output_type": "execute_result"
    }
   ],
   "source": [
    "df.Age.describe()"
   ]
  },
  {
   "cell_type": "code",
   "execution_count": 31,
   "metadata": {},
   "outputs": [
    {
     "data": {
      "text/plain": [
       "array(['ذكر', 'أنثى'], dtype=object)"
      ]
     },
     "execution_count": 31,
     "metadata": {},
     "output_type": "execute_result"
    }
   ],
   "source": [
    "df.Gender.unique()"
   ]
  },
  {
   "cell_type": "code",
   "execution_count": 32,
   "metadata": {},
   "outputs": [
    {
     "data": {
      "text/plain": [
       "array(['البكالوريوس', 'الماجستير', 'ثانوي', 'الدكتوراه', 'الدبلوم'],\n",
       "      dtype=object)"
      ]
     },
     "execution_count": 32,
     "metadata": {},
     "output_type": "execute_result"
    }
   ],
   "source": [
    "df['Level of Education'].unique()"
   ]
  },
  {
   "cell_type": "code",
   "execution_count": 33,
   "metadata": {},
   "outputs": [
    {
     "data": {
      "text/html": [
       "<div>\n",
       "<style scoped>\n",
       "    .dataframe tbody tr th:only-of-type {\n",
       "        vertical-align: middle;\n",
       "    }\n",
       "\n",
       "    .dataframe tbody tr th {\n",
       "        vertical-align: top;\n",
       "    }\n",
       "\n",
       "    .dataframe thead th {\n",
       "        text-align: right;\n",
       "    }\n",
       "</style>\n",
       "<table border=\"1\" class=\"dataframe\">\n",
       "  <thead>\n",
       "    <tr style=\"text-align: right;\">\n",
       "      <th></th>\n",
       "      <th>Gender</th>\n",
       "      <th>Level of Education</th>\n",
       "      <th>Age</th>\n",
       "    </tr>\n",
       "  </thead>\n",
       "  <tbody>\n",
       "    <tr>\n",
       "      <th>0</th>\n",
       "      <td>أنثى</td>\n",
       "      <td>البكالوريوس</td>\n",
       "      <td>24.0</td>\n",
       "    </tr>\n",
       "    <tr>\n",
       "      <th>1</th>\n",
       "      <td>أنثى</td>\n",
       "      <td>الدبلوم</td>\n",
       "      <td>23.0</td>\n",
       "    </tr>\n",
       "    <tr>\n",
       "      <th>2</th>\n",
       "      <td>أنثى</td>\n",
       "      <td>الدكتوراه</td>\n",
       "      <td>36.0</td>\n",
       "    </tr>\n",
       "    <tr>\n",
       "      <th>3</th>\n",
       "      <td>أنثى</td>\n",
       "      <td>الماجستير</td>\n",
       "      <td>32.0</td>\n",
       "    </tr>\n",
       "    <tr>\n",
       "      <th>4</th>\n",
       "      <td>أنثى</td>\n",
       "      <td>ثانوي</td>\n",
       "      <td>21.0</td>\n",
       "    </tr>\n",
       "    <tr>\n",
       "      <th>5</th>\n",
       "      <td>ذكر</td>\n",
       "      <td>البكالوريوس</td>\n",
       "      <td>26.0</td>\n",
       "    </tr>\n",
       "    <tr>\n",
       "      <th>6</th>\n",
       "      <td>ذكر</td>\n",
       "      <td>الدبلوم</td>\n",
       "      <td>25.0</td>\n",
       "    </tr>\n",
       "    <tr>\n",
       "      <th>7</th>\n",
       "      <td>ذكر</td>\n",
       "      <td>الدكتوراه</td>\n",
       "      <td>39.0</td>\n",
       "    </tr>\n",
       "    <tr>\n",
       "      <th>8</th>\n",
       "      <td>ذكر</td>\n",
       "      <td>الماجستير</td>\n",
       "      <td>36.0</td>\n",
       "    </tr>\n",
       "    <tr>\n",
       "      <th>9</th>\n",
       "      <td>ذكر</td>\n",
       "      <td>ثانوي</td>\n",
       "      <td>21.0</td>\n",
       "    </tr>\n",
       "  </tbody>\n",
       "</table>\n",
       "</div>"
      ],
      "text/plain": [
       "  Gender Level of Education   Age\n",
       "0   أنثى        البكالوريوس  24.0\n",
       "1   أنثى            الدبلوم  23.0\n",
       "2   أنثى          الدكتوراه  36.0\n",
       "3   أنثى          الماجستير  32.0\n",
       "4   أنثى              ثانوي  21.0\n",
       "5    ذكر        البكالوريوس  26.0\n",
       "6    ذكر            الدبلوم  25.0\n",
       "7    ذكر          الدكتوراه  39.0\n",
       "8    ذكر          الماجستير  36.0\n",
       "9    ذكر              ثانوي  21.0"
      ]
     },
     "execution_count": 33,
     "metadata": {},
     "output_type": "execute_result"
    }
   ],
   "source": [
    "# Calculate the median age grouped by Gender and Level of Education\n",
    "median_age = df.groupby(['Gender', 'Level of Education'])['Age'].median().reset_index()\n",
    "median_age"
   ]
  },
  {
   "cell_type": "code",
   "execution_count": 34,
   "metadata": {},
   "outputs": [
    {
     "data": {
      "application/vnd.plotly.v1+json": {
       "config": {
        "plotlyServerURL": "https://plot.ly"
       },
       "data": [
        {
         "name": "أنثى",
         "type": "bar",
         "x": [
          "البكالوريوس",
          "الدبلوم",
          "الدكتوراه",
          "الماجستير",
          "ثانوي"
         ],
         "y": [
          24,
          23,
          36,
          32,
          21
         ]
        },
        {
         "name": "ذكر",
         "type": "bar",
         "x": [
          "البكالوريوس",
          "الدبلوم",
          "الدكتوراه",
          "الماجستير",
          "ثانوي"
         ],
         "y": [
          26,
          25,
          39,
          36,
          21
         ]
        }
       ],
       "layout": {
        "barmode": "group",
        "template": {
         "data": {
          "bar": [
           {
            "error_x": {
             "color": "#2a3f5f"
            },
            "error_y": {
             "color": "#2a3f5f"
            },
            "marker": {
             "line": {
              "color": "#E5ECF6",
              "width": 0.5
             },
             "pattern": {
              "fillmode": "overlay",
              "size": 10,
              "solidity": 0.2
             }
            },
            "type": "bar"
           }
          ],
          "barpolar": [
           {
            "marker": {
             "line": {
              "color": "#E5ECF6",
              "width": 0.5
             },
             "pattern": {
              "fillmode": "overlay",
              "size": 10,
              "solidity": 0.2
             }
            },
            "type": "barpolar"
           }
          ],
          "carpet": [
           {
            "aaxis": {
             "endlinecolor": "#2a3f5f",
             "gridcolor": "white",
             "linecolor": "white",
             "minorgridcolor": "white",
             "startlinecolor": "#2a3f5f"
            },
            "baxis": {
             "endlinecolor": "#2a3f5f",
             "gridcolor": "white",
             "linecolor": "white",
             "minorgridcolor": "white",
             "startlinecolor": "#2a3f5f"
            },
            "type": "carpet"
           }
          ],
          "choropleth": [
           {
            "colorbar": {
             "outlinewidth": 0,
             "ticks": ""
            },
            "type": "choropleth"
           }
          ],
          "contour": [
           {
            "colorbar": {
             "outlinewidth": 0,
             "ticks": ""
            },
            "colorscale": [
             [
              0,
              "#0d0887"
             ],
             [
              0.1111111111111111,
              "#46039f"
             ],
             [
              0.2222222222222222,
              "#7201a8"
             ],
             [
              0.3333333333333333,
              "#9c179e"
             ],
             [
              0.4444444444444444,
              "#bd3786"
             ],
             [
              0.5555555555555556,
              "#d8576b"
             ],
             [
              0.6666666666666666,
              "#ed7953"
             ],
             [
              0.7777777777777778,
              "#fb9f3a"
             ],
             [
              0.8888888888888888,
              "#fdca26"
             ],
             [
              1,
              "#f0f921"
             ]
            ],
            "type": "contour"
           }
          ],
          "contourcarpet": [
           {
            "colorbar": {
             "outlinewidth": 0,
             "ticks": ""
            },
            "type": "contourcarpet"
           }
          ],
          "heatmap": [
           {
            "colorbar": {
             "outlinewidth": 0,
             "ticks": ""
            },
            "colorscale": [
             [
              0,
              "#0d0887"
             ],
             [
              0.1111111111111111,
              "#46039f"
             ],
             [
              0.2222222222222222,
              "#7201a8"
             ],
             [
              0.3333333333333333,
              "#9c179e"
             ],
             [
              0.4444444444444444,
              "#bd3786"
             ],
             [
              0.5555555555555556,
              "#d8576b"
             ],
             [
              0.6666666666666666,
              "#ed7953"
             ],
             [
              0.7777777777777778,
              "#fb9f3a"
             ],
             [
              0.8888888888888888,
              "#fdca26"
             ],
             [
              1,
              "#f0f921"
             ]
            ],
            "type": "heatmap"
           }
          ],
          "heatmapgl": [
           {
            "colorbar": {
             "outlinewidth": 0,
             "ticks": ""
            },
            "colorscale": [
             [
              0,
              "#0d0887"
             ],
             [
              0.1111111111111111,
              "#46039f"
             ],
             [
              0.2222222222222222,
              "#7201a8"
             ],
             [
              0.3333333333333333,
              "#9c179e"
             ],
             [
              0.4444444444444444,
              "#bd3786"
             ],
             [
              0.5555555555555556,
              "#d8576b"
             ],
             [
              0.6666666666666666,
              "#ed7953"
             ],
             [
              0.7777777777777778,
              "#fb9f3a"
             ],
             [
              0.8888888888888888,
              "#fdca26"
             ],
             [
              1,
              "#f0f921"
             ]
            ],
            "type": "heatmapgl"
           }
          ],
          "histogram": [
           {
            "marker": {
             "pattern": {
              "fillmode": "overlay",
              "size": 10,
              "solidity": 0.2
             }
            },
            "type": "histogram"
           }
          ],
          "histogram2d": [
           {
            "colorbar": {
             "outlinewidth": 0,
             "ticks": ""
            },
            "colorscale": [
             [
              0,
              "#0d0887"
             ],
             [
              0.1111111111111111,
              "#46039f"
             ],
             [
              0.2222222222222222,
              "#7201a8"
             ],
             [
              0.3333333333333333,
              "#9c179e"
             ],
             [
              0.4444444444444444,
              "#bd3786"
             ],
             [
              0.5555555555555556,
              "#d8576b"
             ],
             [
              0.6666666666666666,
              "#ed7953"
             ],
             [
              0.7777777777777778,
              "#fb9f3a"
             ],
             [
              0.8888888888888888,
              "#fdca26"
             ],
             [
              1,
              "#f0f921"
             ]
            ],
            "type": "histogram2d"
           }
          ],
          "histogram2dcontour": [
           {
            "colorbar": {
             "outlinewidth": 0,
             "ticks": ""
            },
            "colorscale": [
             [
              0,
              "#0d0887"
             ],
             [
              0.1111111111111111,
              "#46039f"
             ],
             [
              0.2222222222222222,
              "#7201a8"
             ],
             [
              0.3333333333333333,
              "#9c179e"
             ],
             [
              0.4444444444444444,
              "#bd3786"
             ],
             [
              0.5555555555555556,
              "#d8576b"
             ],
             [
              0.6666666666666666,
              "#ed7953"
             ],
             [
              0.7777777777777778,
              "#fb9f3a"
             ],
             [
              0.8888888888888888,
              "#fdca26"
             ],
             [
              1,
              "#f0f921"
             ]
            ],
            "type": "histogram2dcontour"
           }
          ],
          "mesh3d": [
           {
            "colorbar": {
             "outlinewidth": 0,
             "ticks": ""
            },
            "type": "mesh3d"
           }
          ],
          "parcoords": [
           {
            "line": {
             "colorbar": {
              "outlinewidth": 0,
              "ticks": ""
             }
            },
            "type": "parcoords"
           }
          ],
          "pie": [
           {
            "automargin": true,
            "type": "pie"
           }
          ],
          "scatter": [
           {
            "fillpattern": {
             "fillmode": "overlay",
             "size": 10,
             "solidity": 0.2
            },
            "type": "scatter"
           }
          ],
          "scatter3d": [
           {
            "line": {
             "colorbar": {
              "outlinewidth": 0,
              "ticks": ""
             }
            },
            "marker": {
             "colorbar": {
              "outlinewidth": 0,
              "ticks": ""
             }
            },
            "type": "scatter3d"
           }
          ],
          "scattercarpet": [
           {
            "marker": {
             "colorbar": {
              "outlinewidth": 0,
              "ticks": ""
             }
            },
            "type": "scattercarpet"
           }
          ],
          "scattergeo": [
           {
            "marker": {
             "colorbar": {
              "outlinewidth": 0,
              "ticks": ""
             }
            },
            "type": "scattergeo"
           }
          ],
          "scattergl": [
           {
            "marker": {
             "colorbar": {
              "outlinewidth": 0,
              "ticks": ""
             }
            },
            "type": "scattergl"
           }
          ],
          "scattermapbox": [
           {
            "marker": {
             "colorbar": {
              "outlinewidth": 0,
              "ticks": ""
             }
            },
            "type": "scattermapbox"
           }
          ],
          "scatterpolar": [
           {
            "marker": {
             "colorbar": {
              "outlinewidth": 0,
              "ticks": ""
             }
            },
            "type": "scatterpolar"
           }
          ],
          "scatterpolargl": [
           {
            "marker": {
             "colorbar": {
              "outlinewidth": 0,
              "ticks": ""
             }
            },
            "type": "scatterpolargl"
           }
          ],
          "scatterternary": [
           {
            "marker": {
             "colorbar": {
              "outlinewidth": 0,
              "ticks": ""
             }
            },
            "type": "scatterternary"
           }
          ],
          "surface": [
           {
            "colorbar": {
             "outlinewidth": 0,
             "ticks": ""
            },
            "colorscale": [
             [
              0,
              "#0d0887"
             ],
             [
              0.1111111111111111,
              "#46039f"
             ],
             [
              0.2222222222222222,
              "#7201a8"
             ],
             [
              0.3333333333333333,
              "#9c179e"
             ],
             [
              0.4444444444444444,
              "#bd3786"
             ],
             [
              0.5555555555555556,
              "#d8576b"
             ],
             [
              0.6666666666666666,
              "#ed7953"
             ],
             [
              0.7777777777777778,
              "#fb9f3a"
             ],
             [
              0.8888888888888888,
              "#fdca26"
             ],
             [
              1,
              "#f0f921"
             ]
            ],
            "type": "surface"
           }
          ],
          "table": [
           {
            "cells": {
             "fill": {
              "color": "#EBF0F8"
             },
             "line": {
              "color": "white"
             }
            },
            "header": {
             "fill": {
              "color": "#C8D4E3"
             },
             "line": {
              "color": "white"
             }
            },
            "type": "table"
           }
          ]
         },
         "layout": {
          "annotationdefaults": {
           "arrowcolor": "#2a3f5f",
           "arrowhead": 0,
           "arrowwidth": 1
          },
          "autotypenumbers": "strict",
          "coloraxis": {
           "colorbar": {
            "outlinewidth": 0,
            "ticks": ""
           }
          },
          "colorscale": {
           "diverging": [
            [
             0,
             "#8e0152"
            ],
            [
             0.1,
             "#c51b7d"
            ],
            [
             0.2,
             "#de77ae"
            ],
            [
             0.3,
             "#f1b6da"
            ],
            [
             0.4,
             "#fde0ef"
            ],
            [
             0.5,
             "#f7f7f7"
            ],
            [
             0.6,
             "#e6f5d0"
            ],
            [
             0.7,
             "#b8e186"
            ],
            [
             0.8,
             "#7fbc41"
            ],
            [
             0.9,
             "#4d9221"
            ],
            [
             1,
             "#276419"
            ]
           ],
           "sequential": [
            [
             0,
             "#0d0887"
            ],
            [
             0.1111111111111111,
             "#46039f"
            ],
            [
             0.2222222222222222,
             "#7201a8"
            ],
            [
             0.3333333333333333,
             "#9c179e"
            ],
            [
             0.4444444444444444,
             "#bd3786"
            ],
            [
             0.5555555555555556,
             "#d8576b"
            ],
            [
             0.6666666666666666,
             "#ed7953"
            ],
            [
             0.7777777777777778,
             "#fb9f3a"
            ],
            [
             0.8888888888888888,
             "#fdca26"
            ],
            [
             1,
             "#f0f921"
            ]
           ],
           "sequentialminus": [
            [
             0,
             "#0d0887"
            ],
            [
             0.1111111111111111,
             "#46039f"
            ],
            [
             0.2222222222222222,
             "#7201a8"
            ],
            [
             0.3333333333333333,
             "#9c179e"
            ],
            [
             0.4444444444444444,
             "#bd3786"
            ],
            [
             0.5555555555555556,
             "#d8576b"
            ],
            [
             0.6666666666666666,
             "#ed7953"
            ],
            [
             0.7777777777777778,
             "#fb9f3a"
            ],
            [
             0.8888888888888888,
             "#fdca26"
            ],
            [
             1,
             "#f0f921"
            ]
           ]
          },
          "colorway": [
           "#636efa",
           "#EF553B",
           "#00cc96",
           "#ab63fa",
           "#FFA15A",
           "#19d3f3",
           "#FF6692",
           "#B6E880",
           "#FF97FF",
           "#FECB52"
          ],
          "font": {
           "color": "#2a3f5f"
          },
          "geo": {
           "bgcolor": "white",
           "lakecolor": "white",
           "landcolor": "#E5ECF6",
           "showlakes": true,
           "showland": true,
           "subunitcolor": "white"
          },
          "hoverlabel": {
           "align": "left"
          },
          "hovermode": "closest",
          "mapbox": {
           "style": "light"
          },
          "paper_bgcolor": "white",
          "plot_bgcolor": "#E5ECF6",
          "polar": {
           "angularaxis": {
            "gridcolor": "white",
            "linecolor": "white",
            "ticks": ""
           },
           "bgcolor": "#E5ECF6",
           "radialaxis": {
            "gridcolor": "white",
            "linecolor": "white",
            "ticks": ""
           }
          },
          "scene": {
           "xaxis": {
            "backgroundcolor": "#E5ECF6",
            "gridcolor": "white",
            "gridwidth": 2,
            "linecolor": "white",
            "showbackground": true,
            "ticks": "",
            "zerolinecolor": "white"
           },
           "yaxis": {
            "backgroundcolor": "#E5ECF6",
            "gridcolor": "white",
            "gridwidth": 2,
            "linecolor": "white",
            "showbackground": true,
            "ticks": "",
            "zerolinecolor": "white"
           },
           "zaxis": {
            "backgroundcolor": "#E5ECF6",
            "gridcolor": "white",
            "gridwidth": 2,
            "linecolor": "white",
            "showbackground": true,
            "ticks": "",
            "zerolinecolor": "white"
           }
          },
          "shapedefaults": {
           "line": {
            "color": "#2a3f5f"
           }
          },
          "ternary": {
           "aaxis": {
            "gridcolor": "white",
            "linecolor": "white",
            "ticks": ""
           },
           "baxis": {
            "gridcolor": "white",
            "linecolor": "white",
            "ticks": ""
           },
           "bgcolor": "#E5ECF6",
           "caxis": {
            "gridcolor": "white",
            "linecolor": "white",
            "ticks": ""
           }
          },
          "title": {
           "x": 0.05
          },
          "xaxis": {
           "automargin": true,
           "gridcolor": "white",
           "linecolor": "white",
           "ticks": "",
           "title": {
            "standoff": 15
           },
           "zerolinecolor": "white",
           "zerolinewidth": 2
          },
          "yaxis": {
           "automargin": true,
           "gridcolor": "white",
           "linecolor": "white",
           "ticks": "",
           "title": {
            "standoff": 15
           },
           "zerolinecolor": "white",
           "zerolinewidth": 2
          }
         }
        },
        "title": {
         "text": "Median Age by Gender and Level of Education",
         "x": 0.5
        },
        "xaxis": {
         "title": {
          "text": "Level of Education"
         }
        },
        "yaxis": {
         "title": {
          "text": "Median Age"
         }
        }
       }
      }
     },
     "metadata": {},
     "output_type": "display_data"
    }
   ],
   "source": [
    "genders = median_age['Gender'].unique()\n",
    "fig = go.Figure()\n",
    "\n",
    "for gender in genders:\n",
    "    gender_data = median_age[median_age['Gender'] == gender]\n",
    "    fig.add_trace(\n",
    "        go.Bar(\n",
    "            x=gender_data['Level of Education'],  # Education Levels\n",
    "            y=gender_data['Age'],                # Median Age\n",
    "            name=gender                          # Gender as legend\n",
    "        )\n",
    "    )\n",
    "\n",
    "# Update layout\n",
    "fig.update_layout(\n",
    "    title='Median Age by Gender and Level of Education',\n",
    "    xaxis_title='Level of Education',\n",
    "    yaxis_title='Median Age',\n",
    "    barmode='group',  # Group bars by Gender\n",
    "    title_x=0.5       # Center the title\n",
    ")\n",
    "\n",
    "fig.show()"
   ]
  },
  {
   "cell_type": "markdown",
   "metadata": {},
   "source": [
    "1. **Why Use Median?**\n",
    "   - The **median** is robust against outliers, making it suitable for age data, which may have extreme values.\n",
    "\n",
    "2. **Group-Based Filling:**\n",
    "   - Use grouping to calculate the median age within relevant categories such as `Gender` and `Level of Education`. This ensures the imputed value is contextually appropriate."
   ]
  },
  {
   "cell_type": "code",
   "execution_count": 35,
   "metadata": {},
   "outputs": [],
   "source": [
    "median_age.rename(columns={'Age': 'Median_Age'}, inplace=True)"
   ]
  },
  {
   "cell_type": "code",
   "execution_count": 36,
   "metadata": {},
   "outputs": [],
   "source": [
    "# Merge the median age back into the original DataFrame\n",
    "df = df.merge(median_age, on=['Gender', 'Level of Education'], how='left')"
   ]
  },
  {
   "cell_type": "code",
   "execution_count": 37,
   "metadata": {},
   "outputs": [],
   "source": [
    "# Fill missing Age values with the grouped median\n",
    "df['Age'] = df['Age'].fillna(df['Median_Age'])"
   ]
  },
  {
   "cell_type": "code",
   "execution_count": 38,
   "metadata": {},
   "outputs": [
    {
     "data": {
      "application/vnd.plotly.v1+json": {
       "config": {
        "plotlyServerURL": "https://plot.ly"
       },
       "data": [
        {
         "nbinsx": 20,
         "type": "histogram",
         "x": [
          37,
          21,
          24,
          24,
          23,
          23,
          30,
          30,
          23,
          27,
          20,
          38,
          38,
          23,
          29,
          27,
          27,
          24,
          23,
          23,
          24,
          24,
          24,
          24,
          34,
          43,
          43,
          21,
          24,
          24,
          24,
          23,
          29,
          22,
          30,
          26,
          30,
          30,
          29,
          29,
          29,
          25,
          24,
          24,
          26,
          30,
          30,
          28,
          24,
          20,
          27,
          27,
          25,
          23,
          23,
          20,
          23,
          28,
          42,
          31,
          23,
          27,
          27,
          20,
          31,
          39,
          35,
          38,
          29,
          29,
          22,
          22,
          33,
          33,
          32,
          32,
          32,
          32,
          24,
          24,
          28,
          24,
          24,
          20,
          20,
          24,
          23,
          23,
          27,
          24,
          26,
          35,
          35,
          23,
          23,
          24,
          27,
          29,
          25,
          20,
          20,
          22,
          28,
          25,
          25,
          25,
          25,
          24,
          24,
          26,
          30,
          30,
          37,
          37,
          23,
          35,
          35,
          35,
          22,
          37,
          24,
          25,
          28,
          28,
          35,
          28,
          21,
          21,
          34,
          23,
          23,
          24,
          24,
          24,
          25,
          25,
          21,
          21,
          29,
          29,
          28,
          28,
          28,
          22,
          22,
          31,
          31,
          22,
          35,
          35,
          23,
          23,
          23,
          23,
          31,
          25,
          25,
          29,
          24,
          24,
          24,
          27,
          27,
          41,
          41,
          29,
          29,
          25,
          27,
          27,
          32,
          32,
          30,
          34,
          34,
          34,
          28,
          36,
          41,
          41,
          23,
          32,
          26,
          26,
          25,
          32,
          22,
          22,
          39,
          26,
          26,
          22,
          23,
          33,
          21,
          21,
          21,
          23,
          23,
          22,
          37,
          37,
          25,
          24,
          24,
          46,
          21,
          19,
          19,
          25,
          24,
          24,
          20,
          20,
          41,
          23,
          28,
          24,
          23,
          23,
          23,
          26,
          26,
          22,
          31,
          31,
          23,
          23,
          23,
          28,
          28,
          45,
          26,
          26,
          31,
          28,
          28,
          28,
          21,
          21,
          20,
          20,
          20,
          18,
          18,
          24,
          23,
          23,
          23,
          26,
          24,
          23,
          27,
          25,
          22,
          34,
          22,
          22,
          22,
          22,
          22,
          22,
          38,
          26,
          24,
          27,
          27,
          23,
          23,
          23,
          23,
          20,
          33,
          33,
          33,
          33,
          25,
          23,
          29,
          28,
          22,
          28,
          28,
          27,
          38,
          24,
          37,
          38,
          38,
          26,
          26,
          21,
          25,
          22,
          32,
          32,
          26,
          22,
          31,
          31,
          37,
          42,
          42,
          23,
          38,
          38,
          19,
          19,
          29,
          29,
          29,
          23,
          29,
          31,
          22,
          24,
          26,
          23,
          23,
          21,
          23,
          34,
          30,
          22,
          38,
          38,
          28,
          26,
          26,
          23,
          22,
          22,
          25,
          23,
          23,
          23,
          36,
          25,
          27,
          27,
          30,
          30,
          40,
          24,
          23,
          23,
          23,
          23,
          27,
          31,
          23,
          24,
          24,
          28,
          25,
          27,
          27,
          23,
          23,
          27,
          27,
          28,
          25,
          21,
          21,
          25,
          29,
          24,
          26,
          24,
          29,
          25,
          25,
          42,
          24,
          23,
          23,
          19,
          19,
          19,
          22,
          22,
          24,
          30,
          19,
          19,
          28,
          25,
          25,
          24,
          24,
          24,
          27,
          27,
          30,
          29,
          24,
          23,
          23,
          26,
          23,
          27,
          21,
          30,
          20,
          41,
          26,
          24,
          21,
          40,
          40,
          27,
          22,
          22,
          25,
          24,
          23,
          26,
          26,
          20,
          32,
          26,
          23,
          23,
          35,
          25,
          25,
          25,
          32,
          23,
          23,
          26,
          23,
          24,
          24,
          25,
          25,
          20,
          20,
          25,
          25,
          25,
          22,
          33,
          26,
          26,
          30,
          20,
          20,
          20,
          24,
          23,
          23,
          28,
          32,
          37,
          34,
          34,
          32,
          27,
          27,
          27,
          27,
          24,
          24,
          27,
          24,
          24,
          24,
          26,
          24,
          24,
          26,
          25,
          22,
          22,
          23,
          23,
          23,
          24,
          29,
          34,
          34,
          23,
          23,
          24,
          23,
          27,
          33,
          33,
          30,
          30,
          29,
          23,
          36,
          23,
          23,
          24,
          34,
          34,
          22,
          23,
          25,
          22,
          22,
          26,
          24,
          20,
          20,
          22,
          22,
          31,
          22,
          38,
          38,
          34,
          34,
          34,
          21,
          29,
          29,
          33,
          26,
          22,
          22,
          23,
          23,
          23,
          27,
          24,
          27,
          23,
          23,
          23,
          23,
          22,
          29,
          29,
          29,
          29,
          27,
          22,
          24,
          24,
          24,
          37,
          24,
          23,
          23,
          21,
          24,
          37,
          37,
          37,
          23,
          23,
          23,
          31,
          31,
          31,
          31,
          24,
          24,
          21,
          26,
          26,
          26,
          26,
          26,
          26,
          47,
          47,
          24,
          20,
          20,
          25,
          38,
          23,
          23,
          23,
          24,
          27,
          27,
          24,
          41,
          41,
          41,
          41,
          41,
          27,
          27,
          28,
          23,
          23,
          24,
          23,
          22,
          29,
          25,
          19,
          19,
          19,
          19,
          19,
          24,
          30,
          30,
          34,
          24,
          21,
          21,
          22,
          27,
          44,
          44,
          44,
          44,
          44,
          44,
          44,
          44,
          44,
          33,
          33,
          24,
          24,
          23,
          23,
          29,
          24,
          37,
          37,
          23,
          23,
          23,
          41,
          28,
          28,
          23,
          23,
          24,
          24,
          22,
          22,
          26,
          33,
          33,
          33,
          24,
          23,
          21,
          21,
          21,
          21,
          31,
          26,
          25,
          21,
          21,
          21,
          29,
          29,
          19,
          19,
          19,
          37,
          25,
          25,
          23,
          23,
          27,
          22,
          35,
          29,
          29,
          34,
          24,
          23,
          26,
          35,
          33,
          33,
          33,
          44,
          24,
          22,
          49,
          49,
          25,
          25,
          25,
          23,
          23,
          23,
          23,
          18,
          18,
          25,
          25,
          31,
          23,
          23,
          36,
          36,
          36,
          21,
          21,
          24,
          24,
          21,
          20,
          29,
          24,
          24,
          26,
          23,
          24,
          28,
          28,
          28,
          21,
          33,
          25,
          25,
          28,
          35,
          35,
          23,
          31,
          31,
          29,
          29,
          29,
          42,
          42,
          25,
          26,
          26,
          24,
          23,
          24,
          31,
          31,
          22,
          32,
          32,
          25,
          23,
          40,
          34,
          20,
          20,
          20,
          33,
          28,
          22,
          21,
          21,
          21,
          21,
          21,
          23,
          25,
          30,
          30,
          24,
          21,
          21,
          21,
          23,
          27,
          27,
          23,
          23,
          23,
          35,
          22,
          27,
          21,
          21,
          21,
          29,
          26,
          20,
          27,
          25,
          26,
          26,
          26,
          23,
          25,
          32,
          32,
          23,
          20,
          27,
          26,
          32,
          25,
          20,
          23,
          25,
          39,
          39,
          35,
          35,
          26,
          26,
          24,
          35,
          35,
          35,
          20,
          20,
          20,
          23,
          23,
          26,
          30,
          30,
          33,
          28,
          32,
          32,
          40,
          28,
          43,
          36,
          36,
          41,
          41,
          25,
          25,
          25,
          25,
          25,
          26,
          22,
          26,
          23,
          49,
          25,
          42,
          28,
          28,
          26,
          26,
          28,
          23,
          23,
          29,
          28,
          31,
          30,
          23,
          23,
          44,
          30,
          30,
          34,
          34,
          20,
          20,
          20,
          32,
          22,
          23,
          26,
          26,
          32,
          32,
          24,
          27,
          34,
          34,
          34,
          34,
          21,
          21,
          21,
          23,
          23,
          25,
          27,
          27,
          20,
          22,
          22,
          23,
          25,
          29,
          29,
          29,
          29,
          24,
          24,
          25,
          33,
          24,
          24,
          35,
          23,
          23,
          22,
          24,
          23,
          23,
          23,
          23,
          22,
          22,
          23,
          33,
          33,
          33,
          33,
          24,
          21,
          21,
          21,
          24,
          31,
          25,
          26,
          23,
          37,
          31,
          25,
          25,
          25,
          25,
          23,
          21,
          31,
          23,
          23,
          38,
          28,
          28,
          23,
          28,
          28,
          29,
          29,
          37,
          37,
          23,
          23,
          24,
          42,
          42,
          26,
          28,
          25,
          31,
          22,
          41,
          41,
          41,
          23,
          23,
          23,
          28,
          23,
          25,
          21,
          27,
          27,
          28,
          23,
          28,
          28,
          24,
          24,
          24,
          24,
          24,
          22,
          22,
          22,
          22,
          28,
          29,
          25,
          28,
          25,
          36,
          33,
          21,
          26,
          26,
          25,
          30,
          30,
          30,
          30,
          30,
          30,
          24,
          34,
          33,
          32,
          25,
          22,
          28,
          24,
          23,
          32,
          32,
          34,
          32,
          32,
          32,
          23,
          23,
          25,
          23,
          23,
          23,
          29,
          29,
          26,
          31,
          31,
          44,
          44,
          31,
          31,
          31,
          31,
          31,
          25,
          32,
          32,
          32,
          22,
          21,
          21,
          32,
          37,
          37,
          32,
          23,
          25,
          25,
          25,
          27,
          27,
          20,
          39,
          39,
          39,
          39,
          31,
          31,
          30,
          36,
          36,
          23,
          25,
          25,
          23,
          26,
          26,
          20,
          30,
          25,
          39,
          39,
          39,
          23,
          23,
          26,
          26,
          24,
          22,
          22,
          29,
          21,
          27,
          22,
          34,
          21,
          28,
          24,
          24,
          23,
          24,
          27,
          25,
          25,
          25,
          25,
          24,
          22,
          28,
          27,
          27,
          27,
          27,
          36,
          36,
          23,
          23,
          24,
          34,
          35,
          29,
          29,
          20,
          29,
          29,
          29,
          29,
          23,
          23,
          26,
          19,
          24,
          32,
          32,
          32,
          32,
          19,
          19,
          19,
          27,
          25,
          22,
          20,
          20,
          23,
          23,
          23,
          32,
          41,
          41,
          41,
          43,
          43,
          21,
          24,
          24,
          22,
          20,
          20,
          20,
          20,
          21,
          26,
          22,
          22,
          23,
          26,
          25,
          26,
          34,
          34,
          24,
          31,
          26,
          26,
          26,
          22,
          22,
          40,
          24,
          35,
          22,
          22,
          24,
          22,
          30,
          23,
          23,
          32,
          24,
          26,
          26,
          27,
          36,
          35,
          28,
          22,
          26,
          24,
          24,
          21,
          27,
          29,
          35,
          23,
          25,
          27,
          27,
          27,
          26,
          26,
          26,
          22,
          25,
          25,
          24,
          24,
          23,
          23,
          23,
          30,
          37,
          37,
          37,
          37,
          28,
          22,
          39,
          35,
          24,
          24,
          23,
          25,
          32,
          20,
          20,
          24,
          24,
          33,
          55,
          55,
          24,
          25,
          33,
          33,
          33,
          33,
          22,
          24,
          26,
          26,
          22,
          23,
          24,
          25,
          26,
          26,
          25,
          23,
          26,
          22,
          26,
          26,
          26,
          43,
          24,
          24,
          24,
          23,
          28,
          20,
          20,
          34,
          34,
          26,
          26,
          26,
          27,
          38,
          24,
          23,
          23,
          23,
          23,
          28,
          28,
          23,
          22,
          39,
          39,
          39,
          25,
          40,
          40,
          30,
          34,
          34,
          39,
          39,
          42,
          22,
          37,
          37,
          37,
          22,
          39,
          27,
          32,
          32,
          29,
          21,
          21,
          21,
          21,
          21,
          21,
          21,
          21,
          28,
          24,
          23,
          23,
          26,
          23,
          23,
          31,
          31,
          38,
          29,
          24,
          31,
          31,
          33,
          24,
          24,
          24,
          22,
          30,
          26,
          26,
          29,
          29,
          33,
          23,
          24,
          23,
          22,
          21,
          30,
          22,
          26,
          26,
          23,
          24,
          24,
          24,
          25,
          25,
          21,
          41,
          23,
          23,
          23,
          24,
          24,
          32,
          26,
          21,
          31,
          31,
          31,
          28,
          22,
          20,
          24,
          22,
          22,
          30,
          23,
          23,
          25,
          30,
          26,
          24,
          24,
          22,
          29,
          22,
          24,
          30,
          31,
          27,
          22,
          24,
          27,
          27,
          27,
          27,
          27,
          21,
          28,
          28,
          33,
          24,
          24,
          27,
          27,
          27,
          25,
          22,
          22,
          25,
          24,
          32,
          32,
          32,
          26,
          24,
          29,
          25,
          23,
          39,
          25,
          24,
          24,
          24,
          24,
          24,
          24,
          25,
          25,
          28,
          23,
          23,
          23,
          27,
          27,
          28,
          20,
          19,
          34,
          34,
          34,
          25,
          25,
          25,
          25,
          21,
          34,
          31,
          31,
          24,
          20,
          31,
          29,
          41,
          36,
          35,
          29,
          23,
          22,
          29,
          25,
          25,
          26,
          29,
          32,
          32,
          27,
          27,
          44,
          44,
          26,
          31,
          20,
          20,
          19,
          30,
          30,
          29,
          26,
          23,
          21,
          21,
          36,
          36,
          29,
          29,
          26,
          30,
          43,
          23,
          26,
          26,
          30,
          30,
          20,
          35,
          22,
          40,
          23,
          23,
          24,
          29,
          24,
          24,
          26,
          40,
          40,
          22,
          23,
          35,
          24,
          35,
          35,
          30,
          23,
          25,
          42,
          42,
          22,
          22,
          27,
          22,
          25,
          35,
          24,
          27,
          27,
          27,
          22,
          22,
          22,
          31,
          24,
          33,
          25,
          27,
          41,
          21,
          21,
          25,
          25,
          37,
          34,
          34,
          22,
          22,
          22,
          47,
          23,
          23,
          24,
          23,
          24,
          24,
          24,
          25,
          24,
          21,
          29,
          38,
          23,
          22,
          25,
          28,
          28,
          23,
          23,
          27,
          26,
          26,
          23,
          24,
          24,
          35,
          30,
          30,
          25,
          25,
          25,
          25,
          25,
          44,
          20,
          20,
          23,
          23,
          26,
          20,
          32,
          24,
          22,
          29,
          29,
          26,
          24,
          23,
          29,
          22,
          22,
          29,
          24,
          24,
          46,
          46,
          46,
          46,
          24,
          24,
          24,
          28,
          28,
          27,
          24,
          28,
          25,
          24,
          23,
          21,
          21,
          23,
          23,
          23,
          27,
          27,
          27,
          21,
          23,
          24,
          27,
          29,
          29,
          29,
          25,
          25,
          25,
          27,
          27,
          24,
          24,
          27,
          21,
          24,
          24,
          23,
          42,
          26,
          34,
          23,
          31,
          31,
          25,
          31,
          26,
          26,
          27,
          25,
          25,
          26,
          26,
          34,
          23,
          26,
          28,
          22,
          22,
          22,
          35,
          24,
          23,
          23,
          31,
          31,
          32,
          32,
          32,
          23,
          25,
          25,
          30,
          26,
          27,
          23,
          24,
          23,
          26,
          24,
          28,
          24,
          23,
          23,
          23,
          22,
          22,
          21,
          27,
          36,
          22,
          29,
          29,
          20,
          20,
          42,
          42,
          42,
          25,
          25,
          26,
          26,
          27,
          22,
          22,
          24,
          28,
          30,
          30,
          22,
          29,
          24,
          23,
          23,
          21,
          30,
          30,
          30,
          24,
          22,
          28,
          21,
          21,
          28,
          25,
          36,
          36,
          26,
          26,
          27,
          34,
          25,
          25,
          23,
          28,
          31,
          30,
          26,
          26,
          26,
          23,
          23,
          30,
          29,
          31,
          25,
          28,
          22,
          24,
          26,
          25,
          22,
          27,
          27,
          26,
          35,
          35,
          30,
          21,
          23,
          22,
          34,
          23,
          23,
          22,
          22,
          22,
          22,
          26,
          21,
          27,
          22,
          25,
          25,
          29,
          29,
          40,
          42,
          31,
          31,
          31,
          37,
          24,
          22,
          25,
          33,
          22,
          23,
          28,
          20,
          20,
          24,
          22,
          24,
          24,
          30,
          31,
          24,
          24,
          25,
          23,
          27,
          37,
          25,
          25,
          25,
          25,
          29,
          22,
          22,
          36,
          22,
          21,
          25,
          25,
          27,
          24,
          29,
          24,
          31,
          25,
          24,
          22,
          22,
          21,
          24,
          26,
          26,
          27,
          23,
          26,
          22,
          24,
          24,
          34,
          22,
          23,
          35,
          39,
          20,
          20,
          24,
          26,
          23,
          25,
          25,
          29,
          23,
          26,
          33,
          40,
          38,
          31,
          23,
          23,
          35,
          38,
          27,
          29,
          23,
          26,
          23,
          24,
          22,
          28,
          28,
          27,
          24,
          24,
          29,
          25,
          25,
          23,
          29,
          29,
          29,
          23,
          23,
          20,
          28,
          37,
          37,
          23,
          29,
          29,
          26,
          35,
          35,
          37,
          37,
          34,
          34,
          27,
          40,
          23,
          22,
          26,
          27,
          26,
          24,
          19,
          25,
          23,
          23,
          33,
          25,
          21,
          27,
          35,
          35,
          28,
          22,
          22,
          22,
          32,
          32,
          32,
          32,
          27,
          38,
          38,
          38,
          32,
          21,
          29,
          29,
          27,
          21,
          22,
          28,
          23,
          29,
          29,
          28,
          28,
          31,
          32,
          22,
          26,
          26,
          26,
          27,
          27,
          24,
          41,
          41,
          25,
          22,
          23,
          23,
          23,
          23,
          29,
          25,
          25,
          36,
          27,
          27,
          27,
          37,
          37,
          24,
          22,
          33,
          26,
          26,
          19,
          33,
          24,
          24,
          20,
          23,
          22,
          34,
          34,
          23,
          30,
          24,
          24,
          22,
          26,
          20,
          20,
          23,
          24,
          22,
          22,
          28,
          28,
          22,
          25,
          29,
          38,
          38,
          24,
          24,
          26,
          21,
          22,
          40,
          40,
          23,
          24,
          20,
          26,
          30,
          24,
          37,
          26,
          26,
          32,
          29,
          25,
          26,
          23,
          26,
          26,
          23,
          23,
          31,
          24,
          24,
          34,
          34,
          24,
          24,
          25,
          25,
          25,
          25,
          22,
          23,
          22,
          26,
          34,
          26,
          26,
          25,
          25,
          23,
          19,
          22,
          35,
          23,
          32,
          22,
          22,
          25,
          23,
          22,
          22,
          29,
          29,
          22,
          23,
          23,
          29,
          29,
          26,
          23,
          24,
          21,
          22,
          22,
          45,
          45,
          27,
          24,
          23,
          24,
          24,
          24,
          24,
          32,
          32,
          25,
          21,
          27,
          25,
          26,
          25,
          21,
          21,
          24,
          24,
          29,
          29,
          24,
          21,
          21,
          23,
          27,
          27,
          42,
          42,
          24,
          23,
          27,
          25,
          27,
          27,
          37,
          24,
          25,
          26,
          28,
          26,
          23,
          25,
          25,
          36,
          23,
          32,
          32,
          25,
          20,
          36,
          33,
          43,
          43,
          30,
          30,
          33,
          33,
          22,
          48,
          24,
          24,
          23,
          34,
          28,
          22,
          31,
          31,
          49,
          49,
          22,
          23,
          26,
          26,
          20,
          20,
          21,
          22,
          22,
          24,
          26,
          24,
          27,
          24,
          24,
          24,
          26,
          23,
          28,
          21,
          23,
          24,
          27,
          25,
          24,
          23,
          23,
          26,
          22,
          32,
          32,
          30,
          30,
          25,
          22,
          33,
          32,
          35,
          25,
          25,
          19,
          27,
          21,
          24,
          24,
          28,
          28,
          24,
          24,
          22,
          23,
          28,
          28,
          26,
          22,
          24,
          26,
          25,
          25,
          24,
          23,
          23,
          26,
          20,
          25,
          19,
          29,
          29,
          26,
          27,
          27,
          23,
          23,
          20,
          20,
          25,
          25,
          28,
          22,
          26,
          34,
          34,
          32,
          35,
          24,
          28,
          28,
          28,
          20,
          28,
          28,
          30,
          47,
          23,
          21,
          43,
          21,
          23,
          25,
          25,
          27,
          26,
          26,
          21,
          21,
          24,
          24,
          26,
          28,
          28,
          28,
          29,
          33,
          23,
          23,
          23,
          23,
          30,
          27,
          27,
          27,
          31,
          19,
          24,
          23,
          23,
          23,
          23,
          20,
          24,
          24,
          24,
          24,
          29,
          30,
          30,
          30,
          19,
          23,
          22,
          23,
          25,
          25,
          29,
          42,
          42,
          32,
          32,
          25,
          23,
          24,
          22,
          22,
          22,
          29,
          24,
          24,
          30,
          30,
          30,
          30,
          25,
          25,
          34,
          29,
          38,
          21,
          25,
          25,
          28,
          28,
          25,
          37,
          37,
          32,
          27,
          27,
          27,
          25,
          27,
          26,
          35,
          30,
          25,
          21,
          21,
          31,
          29,
          25,
          24,
          24,
          34,
          34,
          26,
          24,
          24,
          24,
          41,
          24,
          24,
          24,
          20,
          20,
          24,
          32,
          22,
          48,
          48,
          20,
          28,
          20,
          25,
          32,
          26,
          26,
          28,
          22,
          21,
          21,
          21,
          35,
          24,
          26,
          26,
          19,
          31,
          23,
          22,
          30,
          30,
          25,
          29,
          25,
          38,
          24,
          26,
          26,
          28,
          23,
          23,
          23,
          23,
          22,
          23,
          23,
          20,
          20,
          20,
          20,
          20,
          26,
          20,
          26,
          26,
          22,
          23,
          30,
          30,
          30,
          24,
          24,
          26,
          26,
          32,
          32,
          41,
          26,
          27,
          34,
          26,
          26,
          38,
          38,
          38,
          30,
          30,
          29,
          29,
          23,
          22,
          43,
          22,
          30,
          28,
          28,
          32,
          30,
          24,
          23,
          23,
          20,
          27,
          27,
          23,
          29,
          25,
          20,
          23,
          31,
          26,
          23,
          24,
          24,
          30,
          35,
          24,
          32,
          24,
          21,
          21,
          25,
          25,
          34,
          23,
          29,
          39,
          19,
          19,
          27,
          23,
          28,
          35,
          27,
          45,
          24,
          24,
          26,
          26,
          28,
          25,
          29,
          22,
          28,
          28,
          22,
          21,
          20,
          36,
          36,
          36,
          38,
          23,
          23,
          28,
          28,
          22,
          24,
          22,
          30,
          32,
          32,
          24,
          24,
          23,
          23,
          32,
          33,
          24,
          24,
          24,
          24,
          29,
          29,
          24,
          23,
          28,
          28,
          27,
          20,
          31,
          31,
          24,
          32,
          26,
          26,
          35,
          35,
          22,
          24,
          23,
          23,
          21,
          20,
          34,
          34,
          23,
          24,
          27,
          22,
          22,
          22,
          23,
          30,
          22,
          32,
          32,
          26,
          26,
          24,
          25,
          25,
          26,
          25,
          25,
          25,
          24,
          24,
          25,
          34,
          19,
          30,
          27,
          22,
          32,
          25,
          29,
          24,
          24,
          22,
          33,
          44,
          24,
          35,
          25,
          23,
          37,
          32,
          24,
          26,
          31,
          29,
          29,
          26,
          26,
          22,
          22,
          30,
          28,
          26,
          32,
          22,
          22,
          22,
          42,
          42,
          20,
          20,
          26,
          20,
          20,
          28,
          28,
          28,
          23,
          26,
          36,
          20,
          23,
          23,
          23,
          23,
          23,
          52,
          25,
          31,
          31,
          25,
          23,
          22,
          27,
          42,
          42,
          24,
          41,
          41,
          23,
          32,
          32,
          25,
          31,
          27,
          27,
          25,
          25,
          23,
          23,
          30,
          23,
          28,
          27,
          24,
          26,
          26,
          29,
          23,
          21,
          22,
          22,
          30,
          19,
          22,
          30,
          23,
          23,
          32,
          22,
          26,
          25,
          24,
          22,
          31,
          23,
          22,
          22,
          34,
          34,
          22,
          27,
          27,
          26,
          21,
          21,
          19,
          21,
          24,
          27,
          33,
          33,
          23,
          22,
          23,
          23,
          23,
          23,
          21,
          21,
          21,
          24,
          25,
          36,
          35,
          35,
          25,
          25,
          25,
          25,
          26,
          26,
          26,
          27,
          26,
          22,
          24,
          24,
          24,
          24,
          24,
          24,
          23,
          23,
          24,
          24,
          24,
          26,
          24,
          23,
          24,
          24,
          26,
          25,
          20,
          21,
          24,
          20,
          23,
          23,
          24,
          24,
          24,
          29,
          35,
          28,
          30,
          30,
          22,
          20,
          24,
          24,
          23,
          25,
          22,
          21,
          33,
          29,
          31,
          31,
          31,
          31,
          21,
          22,
          22,
          23,
          26,
          26,
          24,
          33,
          21,
          29,
          25,
          24,
          20,
          34,
          34,
          24,
          23,
          27,
          27,
          27,
          22,
          30,
          24,
          23,
          23,
          24,
          30,
          24,
          26,
          26,
          19,
          31,
          31,
          24,
          20,
          24,
          24,
          24,
          25,
          31,
          48,
          24,
          24,
          33,
          29,
          21,
          27,
          30,
          30,
          28,
          38,
          27,
          21,
          24,
          24,
          19,
          24,
          24,
          24,
          23,
          25,
          31,
          21,
          21,
          21,
          21,
          24,
          26,
          24,
          25,
          29,
          29,
          24,
          21,
          21,
          21,
          24,
          28,
          28,
          33,
          26,
          26,
          26,
          21,
          37,
          35,
          20,
          25,
          25,
          32,
          22,
          23,
          26,
          26,
          24,
          30,
          30,
          30,
          29,
          23,
          23,
          23,
          25,
          27,
          27,
          24,
          32,
          32,
          23,
          20,
          26,
          33,
          33,
          25,
          24,
          27,
          29,
          29,
          27,
          41,
          41,
          23,
          31,
          20,
          36,
          36,
          24,
          24,
          38,
          22,
          25,
          26,
          26,
          26,
          42,
          42,
          42,
          42,
          24,
          22,
          22,
          29,
          24,
          23,
          23,
          23,
          37,
          38,
          38,
          24,
          24,
          23,
          23,
          25,
          22,
          23,
          43,
          41,
          26,
          26,
          26,
          26,
          24,
          29,
          22,
          29,
          26,
          34,
          20,
          24,
          19,
          23,
          23,
          32,
          23,
          24,
          21,
          30,
          25,
          25,
          24,
          23,
          24,
          32,
          23,
          23,
          27,
          25,
          25,
          21,
          19,
          24,
          24,
          24,
          37,
          37,
          25,
          23,
          30,
          26,
          29,
          29,
          29,
          27,
          24,
          24,
          22,
          22,
          22,
          32,
          22,
          28,
          27,
          26,
          26,
          23,
          23,
          26,
          25,
          27,
          27,
          29,
          30,
          37,
          30,
          22,
          20,
          23,
          19,
          28,
          24,
          23,
          29,
          29,
          29,
          29,
          18,
          28,
          35,
          30,
          25,
          24,
          24,
          18,
          28,
          25,
          25,
          25,
          42,
          28,
          29,
          29,
          26,
          26,
          25,
          25,
          25,
          25,
          25,
          22,
          22,
          21,
          21,
          24,
          25,
          22,
          22,
          24,
          34,
          25,
          25,
          25,
          25,
          22,
          20,
          24,
          24,
          24,
          23,
          23,
          25,
          22,
          22,
          26,
          26,
          26,
          26,
          23,
          24,
          27,
          27,
          22,
          21,
          37,
          37,
          37,
          23,
          20,
          23,
          28,
          35,
          24,
          24,
          24,
          22,
          23,
          22,
          23,
          22,
          32,
          23,
          22,
          22,
          24,
          45,
          32,
          32,
          28,
          32,
          27,
          27,
          35,
          29,
          25,
          19,
          29,
          29,
          24,
          29,
          36,
          37,
          22,
          21,
          21,
          21,
          31,
          31,
          31,
          26,
          32,
          29,
          23,
          24,
          23,
          50,
          40,
          40,
          42,
          42,
          24,
          34,
          34,
          34,
          24,
          26,
          30,
          30,
          30,
          27,
          26,
          29,
          29,
          20,
          24,
          26,
          24,
          24,
          27,
          23,
          23,
          23,
          24,
          26,
          25,
          22,
          25,
          24,
          27,
          27,
          27,
          20,
          23,
          23,
          23,
          25,
          25,
          45,
          45,
          38,
          24,
          24,
          28,
          26,
          24,
          24,
          24,
          24,
          23,
          20,
          24,
          26,
          25,
          23,
          24,
          27,
          27,
          22,
          22,
          22,
          29,
          24,
          24,
          41,
          23,
          33,
          28,
          27,
          24,
          24,
          37,
          26,
          26,
          30,
          30,
          30,
          30,
          30,
          30,
          30,
          30,
          24,
          30,
          24,
          24,
          19,
          19,
          29,
          25,
          28,
          24,
          23,
          29,
          29,
          44,
          21,
          21,
          22,
          22,
          22,
          24,
          24,
          21,
          25,
          29,
          24,
          24,
          24,
          25,
          24,
          40,
          32,
          32,
          32,
          23,
          22,
          29,
          33,
          33,
          28,
          21,
          23,
          26,
          23,
          23,
          23,
          39,
          39,
          26,
          26,
          24,
          24,
          27,
          27,
          27,
          31,
          31,
          31,
          23,
          24,
          26,
          33,
          30,
          29,
          30,
          24,
          24,
          23,
          32,
          32,
          18,
          28,
          28,
          28,
          21,
          21,
          26,
          23,
          30,
          23,
          23,
          22,
          31,
          39,
          21,
          21,
          21,
          22,
          23,
          23,
          29,
          29,
          26,
          24,
          37,
          20,
          22,
          19,
          19,
          26,
          24,
          24,
          25,
          33,
          29,
          20,
          28,
          25,
          26,
          26,
          39,
          39,
          32,
          32,
          22,
          27,
          30,
          24,
          27,
          27,
          27,
          22,
          21,
          23,
          24,
          24,
          23,
          32,
          32,
          45,
          25,
          55,
          25,
          31,
          26,
          22,
          25,
          25,
          35,
          35,
          25,
          26,
          26,
          23,
          22,
          23,
          23,
          20,
          23,
          23,
          34,
          34,
          27,
          33,
          21,
          26,
          26,
          23,
          26,
          23,
          25,
          23,
          22,
          23,
          23,
          25,
          42,
          42,
          27,
          21,
          21,
          26,
          22,
          23,
          26,
          38,
          23,
          23,
          24,
          27,
          24,
          33,
          23,
          38,
          21,
          22,
          21,
          25,
          22,
          22,
          18,
          25,
          24,
          28,
          28,
          29,
          24,
          24,
          23,
          23,
          46,
          46,
          24,
          26,
          30,
          22,
          23,
          23,
          23,
          19,
          20,
          24,
          23,
          23,
          22,
          28,
          26,
          34,
          22,
          23,
          23,
          23,
          24,
          22,
          20,
          38,
          23,
          23,
          25,
          23,
          21,
          25,
          25,
          21,
          21,
          34,
          34,
          26,
          28,
          38,
          38,
          30,
          29,
          24,
          25,
          25,
          25,
          25,
          23,
          31,
          26,
          23,
          23,
          24,
          23,
          20,
          23,
          38,
          26,
          26,
          26,
          23,
          24,
          23,
          31,
          19,
          21,
          29,
          28,
          43,
          23,
          34,
          37,
          31,
          31,
          22,
          27,
          31,
          41,
          19,
          29,
          24,
          28,
          23,
          23,
          24,
          24,
          24,
          24,
          30,
          27,
          27,
          31,
          25,
          23,
          20,
          20,
          26,
          26,
          28,
          27,
          27,
          29,
          31,
          31,
          31,
          30,
          31,
          31,
          24,
          41,
          35,
          23,
          25,
          26,
          23,
          42,
          19,
          19,
          22,
          34,
          39,
          39,
          27,
          37,
          25,
          24,
          21,
          21,
          22,
          19,
          20,
          20,
          21,
          21,
          26,
          26,
          32,
          24,
          27,
          23,
          30,
          31,
          24,
          23,
          24,
          35,
          23,
          25,
          34,
          24,
          25,
          24,
          26,
          22,
          22,
          22,
          22,
          37,
          37,
          23,
          23,
          21,
          23,
          23,
          23,
          23,
          28,
          25,
          28,
          38,
          31,
          31,
          30,
          31,
          23,
          28,
          38,
          23,
          26,
          31,
          39,
          39,
          39,
          36,
          23,
          23,
          27,
          27,
          27,
          31,
          25,
          26,
          23,
          23,
          30,
          26,
          32,
          22,
          24,
          24,
          27,
          27,
          20,
          26,
          23,
          24,
          24,
          37,
          36,
          36,
          32,
          32,
          39,
          39,
          25,
          25,
          25,
          25,
          30,
          30,
          30,
          20,
          36,
          29,
          26,
          22,
          21,
          30,
          30,
          22,
          34,
          35,
          35,
          24,
          24,
          29,
          29,
          24,
          29,
          29,
          28,
          28,
          27,
          23,
          27,
          23,
          25,
          22,
          28,
          20,
          23,
          22,
          18,
          27,
          25,
          30,
          23,
          23,
          23,
          22,
          23,
          26,
          29,
          23,
          21,
          23,
          26,
          25,
          24,
          24,
          24,
          30,
          30,
          27,
          27,
          23,
          23,
          23,
          23,
          25,
          25,
          22,
          26,
          21,
          27,
          24,
          51,
          24,
          24,
          24,
          24,
          33,
          39,
          23,
          29,
          29,
          22,
          22,
          23,
          24,
          23,
          23,
          24,
          28,
          24,
          24,
          25,
          27,
          19,
          32,
          24,
          24,
          25,
          41,
          41,
          23,
          23,
          23,
          29,
          24,
          24,
          26,
          35,
          24,
          34,
          23,
          30,
          21,
          23,
          23,
          23,
          22,
          26,
          23,
          23,
          26,
          27,
          35,
          22,
          22,
          25,
          23,
          22,
          30,
          30,
          21,
          23,
          23,
          20,
          20,
          19,
          30,
          30,
          22,
          30,
          21,
          23,
          30,
          23,
          56,
          26,
          26,
          42,
          22,
          22,
          24,
          22,
          30,
          21,
          42,
          23,
          25,
          25,
          23,
          23,
          23,
          27,
          21,
          36,
          23,
          21,
          27,
          23,
          23,
          23,
          24,
          25,
          23,
          38,
          38,
          25,
          25,
          25,
          25,
          23,
          34,
          39,
          39,
          21,
          22,
          27,
          27,
          23,
          22,
          24,
          31,
          31,
          24,
          25,
          30,
          31,
          22,
          23,
          36,
          23,
          24,
          23,
          24,
          24,
          24,
          23,
          28,
          24,
          20,
          26,
          22,
          36,
          37,
          38,
          20,
          22,
          31,
          25,
          30,
          23,
          31,
          31,
          27,
          29,
          28,
          23,
          23,
          28,
          28,
          28,
          20,
          27,
          22,
          33,
          25,
          22,
          24,
          24,
          24,
          20,
          20,
          33,
          31,
          31,
          23,
          22,
          39,
          39,
          23,
          30,
          25,
          25,
          22,
          31,
          18,
          29,
          29,
          29,
          33,
          33,
          29,
          25,
          32,
          27,
          23,
          23,
          30,
          24,
          35,
          22,
          25,
          27,
          27,
          29,
          26,
          22,
          23,
          27,
          27,
          30,
          26,
          23,
          27,
          21,
          21,
          34,
          34,
          35,
          29,
          34,
          37,
          27,
          22,
          26,
          26,
          34,
          43,
          25,
          25,
          26,
          25,
          28,
          25,
          22,
          24,
          26,
          23,
          34,
          34,
          23,
          24,
          35,
          32,
          37,
          33,
          23,
          33,
          26,
          24,
          33,
          33,
          33,
          23,
          21,
          34,
          28,
          28,
          33,
          38,
          38,
          23,
          24,
          23,
          33,
          33,
          24,
          25,
          22,
          26,
          23,
          30,
          27,
          27,
          39,
          22,
          25,
          31,
          31,
          21,
          22,
          22,
          24,
          35,
          35,
          23,
          29,
          20,
          23,
          23,
          36,
          27,
          19,
          22,
          24,
          24,
          23,
          30,
          27,
          22,
          25,
          31,
          25,
          22,
          26,
          32,
          27,
          38,
          38,
          22,
          19,
          23,
          23,
          28,
          31,
          25,
          23,
          31,
          21,
          28,
          28,
          25,
          36,
          36,
          23,
          28,
          26,
          27,
          31,
          30,
          26,
          28,
          28,
          28,
          22,
          21,
          19,
          19,
          36,
          27,
          25,
          24,
          38,
          35,
          35,
          32,
          23,
          34,
          34,
          26,
          26,
          23,
          22,
          33,
          25,
          22,
          27,
          22,
          35,
          24,
          24,
          34,
          24,
          21,
          29,
          26,
          26,
          33,
          32,
          27,
          28,
          28,
          39,
          39,
          29,
          24,
          24,
          31,
          22,
          32,
          32,
          32,
          32,
          25,
          38,
          21,
          19,
          31,
          26,
          29,
          27,
          27,
          25,
          24,
          32,
          32,
          25,
          25,
          24,
          25,
          25,
          29,
          22,
          28,
          25,
          32,
          23,
          36,
          31,
          23,
          21,
          24,
          21,
          40,
          40,
          36,
          23,
          36,
          24,
          25,
          26,
          22,
          22,
          22,
          44,
          31,
          34,
          26,
          32,
          28,
          24,
          24,
          23,
          24,
          23,
          33,
          24,
          31,
          34,
          34,
          23,
          23,
          33,
          33,
          22,
          24,
          25,
          30,
          30,
          33,
          33,
          33,
          22,
          22,
          22,
          21,
          22,
          20,
          22,
          38,
          25,
          22,
          22,
          27,
          21,
          21,
          24,
          21,
          40,
          40,
          40,
          29,
          29,
          29,
          36,
          21,
          21,
          37,
          37,
          22,
          31,
          22,
          32,
          23,
          27,
          27,
          27,
          23,
          39,
          23,
          23,
          45,
          24,
          22,
          22,
          27,
          21,
          32,
          21,
          21,
          25,
          18,
          18,
          23,
          28,
          21,
          43,
          25,
          27,
          23,
          22,
          22,
          32,
          32,
          21,
          26,
          22,
          22,
          22,
          33,
          33,
          25,
          29,
          23,
          27,
          23,
          24,
          27,
          23,
          23,
          27,
          27,
          39,
          24,
          32,
          38,
          38,
          25,
          20,
          25,
          24,
          24,
          35,
          24,
          36,
          22,
          22,
          24,
          23,
          23,
          21,
          26,
          26,
          25,
          35,
          22,
          42,
          22,
          23,
          22,
          21,
          22,
          31,
          24,
          24,
          22,
          33,
          24,
          23,
          23,
          23,
          27,
          27,
          27,
          23,
          19,
          25,
          22,
          21,
          25,
          27,
          23,
          24,
          24,
          19,
          19,
          25,
          20,
          24,
          18,
          18,
          26,
          38,
          25,
          28,
          20,
          23,
          34,
          34,
          26,
          26,
          20,
          25,
          24,
          35,
          31,
          23,
          23,
          43,
          23,
          28,
          21,
          21,
          31,
          22,
          22,
          23,
          22,
          24,
          23,
          22,
          24,
          22,
          22,
          22,
          25,
          23,
          41,
          21,
          24,
          23,
          24,
          26,
          31,
          29,
          29,
          44,
          31,
          21,
          22,
          22,
          22,
          22,
          23,
          23,
          23,
          28,
          28,
          42,
          25,
          20,
          33,
          27,
          37,
          27,
          24,
          25,
          23,
          22,
          36,
          30,
          42,
          42,
          40,
          24,
          23,
          23,
          28,
          30,
          22,
          26,
          23,
          41,
          25,
          21,
          28,
          31,
          20,
          28,
          26,
          22,
          31,
          36,
          35,
          35,
          23,
          22,
          25,
          25,
          23,
          20,
          23,
          32,
          32,
          28,
          23,
          26,
          29,
          37,
          24,
          25,
          23,
          28,
          40,
          20,
          23,
          23,
          23,
          38,
          33,
          25,
          24,
          21,
          19,
          20,
          24,
          24,
          24,
          24,
          25,
          23,
          20,
          20,
          22,
          20,
          20,
          25,
          25,
          23,
          33,
          21,
          20,
          23,
          22,
          36,
          33,
          27,
          24,
          22,
          29,
          32,
          21,
          22,
          33,
          33,
          27,
          24,
          36,
          25,
          27,
          23,
          29,
          22,
          23,
          25,
          20,
          33,
          26,
          40,
          34,
          34,
          24,
          24,
          22,
          36,
          32,
          22,
          31,
          26,
          38,
          22,
          23,
          25,
          30,
          36,
          29,
          31,
          25,
          41,
          23,
          34,
          24,
          25,
          25,
          22,
          23,
          23,
          23,
          23,
          41,
          25,
          34,
          34,
          20,
          25,
          25,
          23,
          43,
          21,
          22,
          22,
          22,
          45,
          23,
          24,
          22,
          22,
          22,
          25,
          27,
          27,
          22,
          22,
          53,
          23,
          21,
          21,
          25,
          22,
          31,
          35,
          25,
          34,
          24,
          24,
          24,
          20,
          29,
          39,
          25,
          25,
          24,
          21,
          31,
          26,
          26,
          24,
          27,
          23,
          24,
          24,
          41,
          41,
          24,
          27,
          23,
          26,
          24,
          24,
          29,
          29,
          23,
          25,
          29,
          20,
          23,
          27,
          27,
          24,
          24,
          30,
          30,
          30,
          25,
          22,
          29,
          21,
          29,
          24,
          23,
          34,
          34,
          34,
          20,
          41,
          22,
          26,
          33,
          33,
          34,
          32,
          23,
          21,
          20,
          23,
          27,
          29,
          26,
          26,
          25,
          25,
          21,
          29,
          29,
          24,
          23,
          25,
          24,
          38,
          22,
          22,
          24,
          41,
          27,
          33,
          31,
          25,
          27,
          25,
          19,
          21,
          24,
          35,
          23,
          26,
          28,
          24,
          40,
          24,
          23,
          23,
          21,
          20,
          21,
          26,
          27,
          26,
          26,
          31,
          37,
          19,
          33,
          23,
          23,
          42,
          22,
          23,
          23,
          26,
          23,
          22,
          26,
          21,
          36,
          26,
          24,
          39,
          24,
          39,
          23,
          21,
          23,
          23,
          24,
          37,
          27,
          23,
          25,
          32,
          29,
          27,
          29,
          30,
          30,
          26,
          32,
          26,
          26,
          35,
          24,
          25,
          40,
          40,
          26,
          23,
          23,
          25,
          25,
          31,
          22,
          24,
          24,
          22,
          24,
          23,
          25,
          23,
          23,
          39,
          26,
          28,
          28,
          25,
          21,
          23,
          37,
          22,
          37,
          22,
          20,
          20,
          27,
          31,
          26,
          20,
          43,
          20,
          25,
          26,
          31,
          20,
          20,
          32,
          22,
          22,
          22,
          22,
          24,
          24,
          24,
          35,
          23,
          25,
          24,
          30,
          23,
          27,
          27,
          22,
          39,
          26,
          24,
          21,
          24,
          24,
          23,
          23,
          26,
          23,
          24,
          35,
          23,
          23,
          23,
          23,
          37,
          23,
          28,
          28,
          27,
          21,
          35,
          32,
          21,
          35,
          35,
          26,
          21,
          22,
          20,
          19,
          24,
          31,
          29,
          25,
          23,
          26,
          24,
          21,
          24,
          34,
          35,
          24,
          21,
          23,
          34,
          26,
          24,
          30,
          25,
          28,
          26,
          23,
          38,
          38,
          24,
          19,
          19,
          20,
          31,
          26,
          24,
          26,
          27,
          28,
          28,
          22,
          22,
          23,
          23,
          41,
          28,
          25,
          22,
          33,
          32,
          26,
          22,
          27,
          21,
          19,
          22,
          25,
          31,
          23,
          29,
          39,
          26,
          34,
          32,
          28,
          25,
          22,
          25,
          22,
          26,
          27,
          27,
          27,
          24,
          31,
          31,
          31,
          21,
          24,
          24,
          21,
          21,
          25,
          23,
          23,
          23,
          27,
          24,
          28,
          31,
          31,
          31,
          31,
          28,
          31,
          27,
          29,
          23,
          24,
          23,
          23,
          23,
          26,
          24,
          31,
          41,
          30,
          22,
          28,
          39,
          25,
          28,
          26,
          26,
          30,
          30,
          25,
          41,
          28,
          23,
          26,
          20,
          20,
          24,
          23,
          22,
          32,
          27,
          27,
          27,
          25,
          39,
          31,
          30,
          22,
          39,
          23,
          25,
          31,
          27,
          22,
          29,
          22,
          27,
          22,
          26,
          21,
          25,
          20,
          20,
          23,
          42,
          23,
          41,
          41,
          21,
          20,
          38,
          38,
          26,
          26,
          26,
          24,
          23,
          29,
          38,
          20,
          30,
          29,
          29,
          25,
          27,
          25,
          24,
          23,
          26,
          30,
          33,
          23,
          28,
          42,
          23,
          26,
          27,
          26,
          34,
          34,
          24,
          37,
          22,
          25,
          27,
          24,
          30,
          23,
          28,
          28,
          26,
          25,
          27,
          19,
          31,
          31,
          23,
          21,
          21,
          29,
          21,
          26,
          40,
          26,
          24,
          23,
          25,
          22,
          22,
          26,
          26,
          27,
          24,
          20,
          36,
          21,
          23,
          36,
          23,
          26,
          33,
          22,
          23,
          26,
          26,
          42,
          32,
          32,
          23,
          27,
          34,
          25,
          25,
          34,
          22,
          26,
          26,
          25,
          29,
          25,
          24,
          26,
          23,
          23,
          24,
          23,
          25,
          25,
          23,
          30,
          30,
          20,
          23,
          32,
          22,
          30,
          21,
          27,
          24,
          29,
          28,
          21,
          21,
          24,
          26,
          25,
          25,
          41,
          41,
          23,
          23,
          24,
          31,
          31,
          26,
          23,
          40,
          24,
          24,
          37,
          26,
          24,
          27,
          27,
          23,
          24,
          21,
          33,
          27,
          25,
          32,
          32,
          25,
          31,
          23,
          30,
          30,
          27,
          20,
          22,
          32,
          26,
          28,
          24,
          44,
          23,
          20,
          27,
          27,
          24,
          28,
          28,
          37,
          22,
          23,
          24,
          37,
          21,
          22,
          22,
          23,
          23,
          23,
          24,
          31,
          24,
          23,
          22,
          34,
          24,
          24,
          22,
          22,
          22,
          31,
          26,
          22,
          22,
          32,
          24,
          27,
          34,
          25,
          19,
          19,
          44,
          23,
          20,
          26,
          21,
          21,
          26,
          30,
          23,
          32,
          32,
          26,
          21,
          21,
          19,
          28,
          25,
          22,
          22,
          21,
          22,
          32,
          27,
          27,
          23,
          29,
          29,
          26,
          30,
          27,
          31,
          21,
          23,
          29,
          33,
          21,
          23,
          23,
          37,
          23,
          22,
          28,
          22,
          33,
          32,
          29,
          29,
          33,
          33,
          24,
          41,
          24,
          26,
          21,
          23,
          23,
          26,
          26,
          29,
          25,
          25,
          34,
          26,
          26,
          20,
          28,
          37,
          24,
          33,
          23,
          23,
          25,
          27,
          21,
          32,
          23,
          39,
          26,
          27,
          27,
          33,
          21,
          36,
          34,
          29,
          22,
          25,
          24,
          26,
          24,
          31,
          31,
          20,
          27,
          23,
          23,
          28,
          28,
          28,
          19,
          25,
          25,
          31,
          24,
          23,
          19,
          28,
          30,
          19,
          27,
          34,
          22,
          18,
          23,
          26,
          26,
          33,
          27,
          23,
          25,
          28,
          32,
          28,
          25,
          26,
          27,
          23,
          22,
          21,
          27,
          20,
          32,
          32,
          22,
          22,
          30,
          30,
          20,
          20,
          24,
          24,
          24,
          24,
          21,
          25,
          21,
          35,
          33,
          30,
          21,
          20,
          20,
          20,
          28,
          22,
          26,
          24,
          23,
          29,
          22,
          24,
          25,
          23,
          23,
          22,
          28,
          22,
          29,
          27,
          29,
          29,
          25,
          29,
          29,
          27,
          28,
          21,
          25,
          19,
          31,
          31,
          44,
          48,
          20,
          22,
          27,
          27,
          33,
          26,
          38,
          25,
          27,
          34,
          20,
          28,
          22,
          27,
          23,
          31,
          29,
          29,
          29,
          23,
          29,
          26,
          23,
          29,
          33,
          19,
          19,
          36,
          28,
          26,
          22,
          44,
          21,
          26,
          24,
          28,
          22,
          29,
          26,
          24,
          22,
          25,
          31,
          38,
          38,
          22,
          22,
          21,
          26,
          23,
          23,
          24,
          24,
          23,
          31,
          34,
          34,
          23,
          23,
          24,
          21,
          32,
          26,
          27,
          42,
          37,
          27,
          39,
          22,
          25,
          21,
          27,
          24,
          25,
          34,
          32,
          25,
          24,
          20,
          20,
          23,
          23,
          37,
          23,
          23,
          21,
          23,
          30,
          21,
          23,
          34,
          24,
          26,
          30,
          23,
          23,
          22,
          26,
          24,
          26,
          26,
          19,
          21,
          27,
          22,
          33,
          23,
          24,
          36,
          27,
          27,
          32,
          36,
          29,
          34,
          29,
          22,
          28,
          26,
          26,
          26,
          26,
          24,
          30,
          39,
          28,
          26,
          22,
          41,
          27,
          22,
          24,
          27,
          28,
          31,
          22,
          26,
          24,
          24,
          22,
          30,
          22,
          22,
          23,
          32,
          22,
          27,
          23,
          26,
          37,
          24,
          32,
          26,
          23,
          29,
          32,
          24,
          20,
          23,
          25,
          24,
          38,
          38,
          32,
          24,
          25,
          25,
          28,
          19,
          24,
          39,
          26,
          27,
          40,
          24,
          24,
          24,
          23,
          21,
          21,
          25,
          39,
          39,
          23,
          40,
          27,
          27,
          22,
          26,
          28,
          23,
          24,
          26,
          30,
          25,
          22,
          37,
          37,
          25,
          28,
          28,
          26,
          29,
          22,
          26,
          24,
          32,
          30,
          30,
          30,
          30,
          33,
          25,
          24,
          29,
          35,
          35,
          23,
          32,
          22,
          23,
          38,
          27,
          25,
          27,
          24,
          24,
          20,
          20,
          31,
          27,
          30,
          20,
          22,
          24,
          23,
          24,
          25,
          25,
          29,
          29,
          28,
          33,
          31,
          26,
          28,
          32,
          24,
          23,
          28,
          23,
          23,
          20,
          24,
          29,
          24,
          30,
          23,
          23,
          27,
          24,
          27,
          21,
          22,
          22,
          22,
          27,
          24,
          25,
          26,
          19,
          31,
          27,
          23,
          21,
          25,
          27,
          33,
          23,
          22,
          39,
          23,
          21,
          25,
          27,
          28,
          30,
          31,
          35,
          23,
          26,
          33,
          27,
          20,
          29,
          23,
          23,
          23,
          23,
          23,
          30,
          24,
          24,
          29,
          27,
          25,
          28,
          27,
          23,
          23,
          22,
          23,
          30,
          23,
          29,
          29,
          23,
          37,
          37,
          23,
          23,
          23,
          34,
          25,
          26,
          22,
          23,
          24,
          29,
          29,
          23,
          24,
          24,
          22,
          22,
          23,
          30,
          25,
          25,
          25,
          21,
          30,
          28,
          24,
          24,
          31,
          31,
          23,
          28,
          20,
          23,
          24,
          24,
          20,
          27,
          27,
          38,
          28,
          39,
          22,
          25,
          25,
          24,
          22,
          21,
          37,
          29,
          22,
          22,
          24,
          27,
          21,
          32,
          24,
          21,
          24,
          25,
          25,
          40,
          24,
          32,
          24,
          23,
          35,
          22,
          24,
          31,
          29,
          27,
          34,
          32,
          29,
          23,
          31,
          30,
          30,
          27,
          23,
          26,
          28,
          35,
          35,
          23,
          24,
          24,
          20,
          20,
          25,
          21,
          25,
          34,
          37,
          22,
          33,
          22,
          33,
          31,
          25,
          29,
          25,
          25,
          27,
          23,
          23,
          23,
          23,
          28,
          34,
          24,
          24,
          24,
          24,
          23,
          23,
          28,
          23,
          23,
          24,
          29,
          22,
          20,
          25,
          22,
          28,
          28,
          40,
          40,
          28,
          35,
          25,
          27,
          37,
          28,
          28,
          29,
          29,
          27,
          26,
          37,
          23,
          25,
          22,
          27,
          32,
          32,
          20,
          26,
          37,
          25,
          35,
          25,
          26,
          25,
          22,
          33,
          34,
          34,
          24,
          23,
          33,
          23,
          26,
          26,
          25,
          19,
          21,
          29,
          27,
          24,
          24,
          28,
          23,
          25,
          22,
          33,
          22,
          25,
          26,
          38,
          26,
          35,
          34,
          23,
          35,
          23,
          26,
          24,
          23,
          22,
          22,
          22,
          31,
          31,
          32,
          21,
          24,
          19,
          28,
          28,
          28,
          28,
          26,
          31,
          28,
          25,
          29,
          22,
          24,
          29,
          23,
          28,
          30,
          27,
          21,
          20,
          28,
          23,
          27,
          21,
          22,
          32,
          24,
          24,
          25,
          35,
          30,
          24,
          24,
          24,
          20,
          29,
          27,
          19,
          24,
          22,
          36,
          32,
          22,
          31,
          32,
          32,
          26,
          32,
          25,
          23,
          23,
          50,
          31,
          25,
          22,
          28,
          34,
          22,
          26,
          31,
          23,
          28,
          24,
          24,
          22,
          22,
          26,
          23,
          24,
          24,
          31,
          25,
          26,
          27,
          28,
          25,
          30,
          34,
          44,
          36,
          18,
          28,
          39,
          34,
          26,
          26,
          30,
          32,
          23,
          20,
          32,
          36,
          26,
          24,
          26,
          26,
          23,
          30,
          33,
          26,
          21,
          23,
          32,
          23,
          28,
          23,
          23,
          23,
          20,
          21,
          24,
          29,
          26,
          26,
          23,
          22,
          25,
          39,
          41,
          34,
          23,
          21,
          24,
          20,
          34,
          24,
          23,
          23,
          23,
          26,
          27,
          19,
          21,
          33,
          27,
          37,
          38,
          38,
          35,
          22,
          25,
          31,
          26,
          23,
          24,
          43,
          34,
          22,
          19,
          23,
          25,
          31,
          26,
          32,
          32,
          24,
          26,
          33,
          28,
          28,
          28,
          28,
          27,
          24,
          43,
          39,
          21,
          29,
          23,
          27,
          27,
          22,
          24,
          43,
          27,
          39,
          22,
          23,
          29,
          21,
          21,
          22,
          22,
          48,
          40,
          23,
          31,
          24,
          23,
          28,
          28,
          36,
          23,
          26,
          21,
          23,
          36,
          25,
          25,
          25,
          34,
          27,
          31,
          21,
          24,
          38,
          24,
          25,
          22,
          19,
          21,
          21,
          26,
          25,
          24,
          25,
          26,
          21,
          25,
          31,
          26,
          23,
          20,
          26,
          30,
          26,
          30,
          31,
          24,
          18,
          23,
          25,
          22,
          26,
          23,
          25,
          22,
          23,
          22,
          31,
          30,
          25,
          31,
          25,
          25,
          23,
          24,
          25,
          23,
          23,
          20,
          26,
          24,
          21,
          31,
          20,
          40,
          29,
          33,
          31,
          20,
          25,
          28,
          28,
          20,
          23,
          21,
          21,
          23,
          32,
          20,
          35,
          35,
          20,
          29,
          31,
          29,
          25,
          25,
          35,
          27,
          41,
          24,
          22,
          24,
          27,
          20,
          31,
          29,
          31,
          25,
          27,
          26,
          21,
          23,
          25,
          29,
          24,
          36,
          26,
          22,
          21,
          29,
          30,
          30,
          27,
          30,
          37,
          23,
          36,
          24,
          27,
          19,
          29,
          26,
          38,
          30,
          33,
          23,
          22,
          28,
          30,
          30,
          28,
          23,
          27,
          22,
          27,
          20,
          20,
          29,
          25,
          26,
          30,
          22,
          25,
          25,
          38,
          20,
          27,
          32,
          25,
          30,
          25,
          37,
          22,
          22,
          23,
          24,
          24,
          30,
          23,
          25,
          21,
          23,
          26,
          26,
          20,
          24,
          24,
          26,
          23,
          27,
          23,
          24,
          25,
          21,
          26,
          31,
          24,
          28,
          29,
          35,
          26,
          26,
          27,
          25,
          22,
          30,
          25,
          25,
          29,
          29,
          22,
          27,
          20,
          28,
          28,
          28,
          28,
          25,
          24,
          24,
          24,
          23,
          24,
          22,
          24,
          26,
          25,
          24,
          25,
          23,
          23,
          34,
          26,
          24,
          27,
          27,
          20,
          20,
          25,
          25,
          20,
          24,
          24,
          24,
          24,
          24,
          30,
          23,
          23,
          23,
          21,
          30,
          34,
          29,
          21,
          43,
          31,
          26,
          34,
          39,
          23,
          24,
          38,
          38,
          23,
          23,
          25,
          23,
          23,
          23,
          28,
          25,
          25,
          21,
          24,
          26,
          30,
          30,
          24,
          22,
          25,
          24,
          35,
          25,
          25,
          26,
          23,
          24,
          29,
          40,
          27,
          24,
          24,
          26,
          32,
          29,
          27,
          24,
          38,
          23,
          21,
          25,
          34,
          22,
          26,
          22,
          20,
          25,
          26,
          33,
          36,
          27,
          24,
          36,
          29,
          29,
          29,
          24,
          21,
          26,
          21,
          27,
          23,
          26,
          29,
          24,
          35,
          25,
          28,
          34,
          36,
          34,
          26,
          21,
          28,
          28,
          23,
          23,
          24,
          23,
          25,
          23,
          19,
          26,
          22,
          22,
          23,
          29,
          22,
          19,
          27,
          25,
          31,
          35,
          19,
          23,
          29,
          34,
          21,
          23,
          27,
          23,
          24,
          32,
          25,
          23,
          38,
          23,
          26,
          27,
          21,
          28,
          21,
          42,
          24,
          22,
          26,
          24,
          23,
          40,
          27,
          24,
          22,
          22,
          20,
          23,
          28,
          23,
          31,
          19,
          22,
          24,
          23,
          25,
          25,
          27,
          26,
          26,
          24,
          32,
          28,
          24,
          28,
          32,
          23,
          25,
          22,
          23,
          24,
          25,
          27,
          24,
          22,
          28,
          25,
          25,
          25,
          26,
          25,
          26,
          25,
          27,
          27,
          22,
          25,
          23,
          30,
          25,
          24,
          36,
          24,
          24,
          26,
          27,
          24,
          24,
          29,
          22,
          20,
          26,
          21,
          28,
          24,
          24,
          34,
          25,
          32,
          26,
          39,
          23,
          35,
          27,
          31,
          33,
          19,
          46,
          21,
          23,
          22,
          28,
          28,
          24,
          23,
          25,
          25,
          26,
          23,
          23,
          33,
          23,
          24,
          21,
          22,
          24,
          19,
          29,
          33,
          30,
          32,
          44,
          39,
          38,
          23,
          28,
          27,
          33,
          32,
          26,
          23,
          26,
          24,
          21,
          24,
          36,
          37,
          27,
          27,
          28,
          21,
          21,
          22,
          34,
          21,
          49,
          42,
          31,
          21,
          33,
          34,
          34,
          23,
          21,
          26,
          27,
          23,
          22,
          22,
          22,
          25,
          22,
          43,
          22,
          24,
          26,
          23,
          22,
          26,
          28,
          25,
          33,
          29,
          21,
          23,
          23,
          23,
          21,
          22,
          24,
          25,
          57,
          26,
          22,
          21,
          27,
          21,
          30,
          25,
          23,
          22,
          23,
          43,
          35,
          24,
          30,
          42,
          23,
          24,
          28,
          26,
          24,
          23,
          27,
          32,
          36,
          38,
          25,
          24,
          29,
          50,
          23,
          21,
          22,
          21,
          22,
          25,
          27,
          24,
          37
         ]
        }
       ],
       "layout": {
        "template": {
         "data": {
          "bar": [
           {
            "error_x": {
             "color": "#2a3f5f"
            },
            "error_y": {
             "color": "#2a3f5f"
            },
            "marker": {
             "line": {
              "color": "#E5ECF6",
              "width": 0.5
             },
             "pattern": {
              "fillmode": "overlay",
              "size": 10,
              "solidity": 0.2
             }
            },
            "type": "bar"
           }
          ],
          "barpolar": [
           {
            "marker": {
             "line": {
              "color": "#E5ECF6",
              "width": 0.5
             },
             "pattern": {
              "fillmode": "overlay",
              "size": 10,
              "solidity": 0.2
             }
            },
            "type": "barpolar"
           }
          ],
          "carpet": [
           {
            "aaxis": {
             "endlinecolor": "#2a3f5f",
             "gridcolor": "white",
             "linecolor": "white",
             "minorgridcolor": "white",
             "startlinecolor": "#2a3f5f"
            },
            "baxis": {
             "endlinecolor": "#2a3f5f",
             "gridcolor": "white",
             "linecolor": "white",
             "minorgridcolor": "white",
             "startlinecolor": "#2a3f5f"
            },
            "type": "carpet"
           }
          ],
          "choropleth": [
           {
            "colorbar": {
             "outlinewidth": 0,
             "ticks": ""
            },
            "type": "choropleth"
           }
          ],
          "contour": [
           {
            "colorbar": {
             "outlinewidth": 0,
             "ticks": ""
            },
            "colorscale": [
             [
              0,
              "#0d0887"
             ],
             [
              0.1111111111111111,
              "#46039f"
             ],
             [
              0.2222222222222222,
              "#7201a8"
             ],
             [
              0.3333333333333333,
              "#9c179e"
             ],
             [
              0.4444444444444444,
              "#bd3786"
             ],
             [
              0.5555555555555556,
              "#d8576b"
             ],
             [
              0.6666666666666666,
              "#ed7953"
             ],
             [
              0.7777777777777778,
              "#fb9f3a"
             ],
             [
              0.8888888888888888,
              "#fdca26"
             ],
             [
              1,
              "#f0f921"
             ]
            ],
            "type": "contour"
           }
          ],
          "contourcarpet": [
           {
            "colorbar": {
             "outlinewidth": 0,
             "ticks": ""
            },
            "type": "contourcarpet"
           }
          ],
          "heatmap": [
           {
            "colorbar": {
             "outlinewidth": 0,
             "ticks": ""
            },
            "colorscale": [
             [
              0,
              "#0d0887"
             ],
             [
              0.1111111111111111,
              "#46039f"
             ],
             [
              0.2222222222222222,
              "#7201a8"
             ],
             [
              0.3333333333333333,
              "#9c179e"
             ],
             [
              0.4444444444444444,
              "#bd3786"
             ],
             [
              0.5555555555555556,
              "#d8576b"
             ],
             [
              0.6666666666666666,
              "#ed7953"
             ],
             [
              0.7777777777777778,
              "#fb9f3a"
             ],
             [
              0.8888888888888888,
              "#fdca26"
             ],
             [
              1,
              "#f0f921"
             ]
            ],
            "type": "heatmap"
           }
          ],
          "heatmapgl": [
           {
            "colorbar": {
             "outlinewidth": 0,
             "ticks": ""
            },
            "colorscale": [
             [
              0,
              "#0d0887"
             ],
             [
              0.1111111111111111,
              "#46039f"
             ],
             [
              0.2222222222222222,
              "#7201a8"
             ],
             [
              0.3333333333333333,
              "#9c179e"
             ],
             [
              0.4444444444444444,
              "#bd3786"
             ],
             [
              0.5555555555555556,
              "#d8576b"
             ],
             [
              0.6666666666666666,
              "#ed7953"
             ],
             [
              0.7777777777777778,
              "#fb9f3a"
             ],
             [
              0.8888888888888888,
              "#fdca26"
             ],
             [
              1,
              "#f0f921"
             ]
            ],
            "type": "heatmapgl"
           }
          ],
          "histogram": [
           {
            "marker": {
             "pattern": {
              "fillmode": "overlay",
              "size": 10,
              "solidity": 0.2
             }
            },
            "type": "histogram"
           }
          ],
          "histogram2d": [
           {
            "colorbar": {
             "outlinewidth": 0,
             "ticks": ""
            },
            "colorscale": [
             [
              0,
              "#0d0887"
             ],
             [
              0.1111111111111111,
              "#46039f"
             ],
             [
              0.2222222222222222,
              "#7201a8"
             ],
             [
              0.3333333333333333,
              "#9c179e"
             ],
             [
              0.4444444444444444,
              "#bd3786"
             ],
             [
              0.5555555555555556,
              "#d8576b"
             ],
             [
              0.6666666666666666,
              "#ed7953"
             ],
             [
              0.7777777777777778,
              "#fb9f3a"
             ],
             [
              0.8888888888888888,
              "#fdca26"
             ],
             [
              1,
              "#f0f921"
             ]
            ],
            "type": "histogram2d"
           }
          ],
          "histogram2dcontour": [
           {
            "colorbar": {
             "outlinewidth": 0,
             "ticks": ""
            },
            "colorscale": [
             [
              0,
              "#0d0887"
             ],
             [
              0.1111111111111111,
              "#46039f"
             ],
             [
              0.2222222222222222,
              "#7201a8"
             ],
             [
              0.3333333333333333,
              "#9c179e"
             ],
             [
              0.4444444444444444,
              "#bd3786"
             ],
             [
              0.5555555555555556,
              "#d8576b"
             ],
             [
              0.6666666666666666,
              "#ed7953"
             ],
             [
              0.7777777777777778,
              "#fb9f3a"
             ],
             [
              0.8888888888888888,
              "#fdca26"
             ],
             [
              1,
              "#f0f921"
             ]
            ],
            "type": "histogram2dcontour"
           }
          ],
          "mesh3d": [
           {
            "colorbar": {
             "outlinewidth": 0,
             "ticks": ""
            },
            "type": "mesh3d"
           }
          ],
          "parcoords": [
           {
            "line": {
             "colorbar": {
              "outlinewidth": 0,
              "ticks": ""
             }
            },
            "type": "parcoords"
           }
          ],
          "pie": [
           {
            "automargin": true,
            "type": "pie"
           }
          ],
          "scatter": [
           {
            "fillpattern": {
             "fillmode": "overlay",
             "size": 10,
             "solidity": 0.2
            },
            "type": "scatter"
           }
          ],
          "scatter3d": [
           {
            "line": {
             "colorbar": {
              "outlinewidth": 0,
              "ticks": ""
             }
            },
            "marker": {
             "colorbar": {
              "outlinewidth": 0,
              "ticks": ""
             }
            },
            "type": "scatter3d"
           }
          ],
          "scattercarpet": [
           {
            "marker": {
             "colorbar": {
              "outlinewidth": 0,
              "ticks": ""
             }
            },
            "type": "scattercarpet"
           }
          ],
          "scattergeo": [
           {
            "marker": {
             "colorbar": {
              "outlinewidth": 0,
              "ticks": ""
             }
            },
            "type": "scattergeo"
           }
          ],
          "scattergl": [
           {
            "marker": {
             "colorbar": {
              "outlinewidth": 0,
              "ticks": ""
             }
            },
            "type": "scattergl"
           }
          ],
          "scattermapbox": [
           {
            "marker": {
             "colorbar": {
              "outlinewidth": 0,
              "ticks": ""
             }
            },
            "type": "scattermapbox"
           }
          ],
          "scatterpolar": [
           {
            "marker": {
             "colorbar": {
              "outlinewidth": 0,
              "ticks": ""
             }
            },
            "type": "scatterpolar"
           }
          ],
          "scatterpolargl": [
           {
            "marker": {
             "colorbar": {
              "outlinewidth": 0,
              "ticks": ""
             }
            },
            "type": "scatterpolargl"
           }
          ],
          "scatterternary": [
           {
            "marker": {
             "colorbar": {
              "outlinewidth": 0,
              "ticks": ""
             }
            },
            "type": "scatterternary"
           }
          ],
          "surface": [
           {
            "colorbar": {
             "outlinewidth": 0,
             "ticks": ""
            },
            "colorscale": [
             [
              0,
              "#0d0887"
             ],
             [
              0.1111111111111111,
              "#46039f"
             ],
             [
              0.2222222222222222,
              "#7201a8"
             ],
             [
              0.3333333333333333,
              "#9c179e"
             ],
             [
              0.4444444444444444,
              "#bd3786"
             ],
             [
              0.5555555555555556,
              "#d8576b"
             ],
             [
              0.6666666666666666,
              "#ed7953"
             ],
             [
              0.7777777777777778,
              "#fb9f3a"
             ],
             [
              0.8888888888888888,
              "#fdca26"
             ],
             [
              1,
              "#f0f921"
             ]
            ],
            "type": "surface"
           }
          ],
          "table": [
           {
            "cells": {
             "fill": {
              "color": "#EBF0F8"
             },
             "line": {
              "color": "white"
             }
            },
            "header": {
             "fill": {
              "color": "#C8D4E3"
             },
             "line": {
              "color": "white"
             }
            },
            "type": "table"
           }
          ]
         },
         "layout": {
          "annotationdefaults": {
           "arrowcolor": "#2a3f5f",
           "arrowhead": 0,
           "arrowwidth": 1
          },
          "autotypenumbers": "strict",
          "coloraxis": {
           "colorbar": {
            "outlinewidth": 0,
            "ticks": ""
           }
          },
          "colorscale": {
           "diverging": [
            [
             0,
             "#8e0152"
            ],
            [
             0.1,
             "#c51b7d"
            ],
            [
             0.2,
             "#de77ae"
            ],
            [
             0.3,
             "#f1b6da"
            ],
            [
             0.4,
             "#fde0ef"
            ],
            [
             0.5,
             "#f7f7f7"
            ],
            [
             0.6,
             "#e6f5d0"
            ],
            [
             0.7,
             "#b8e186"
            ],
            [
             0.8,
             "#7fbc41"
            ],
            [
             0.9,
             "#4d9221"
            ],
            [
             1,
             "#276419"
            ]
           ],
           "sequential": [
            [
             0,
             "#0d0887"
            ],
            [
             0.1111111111111111,
             "#46039f"
            ],
            [
             0.2222222222222222,
             "#7201a8"
            ],
            [
             0.3333333333333333,
             "#9c179e"
            ],
            [
             0.4444444444444444,
             "#bd3786"
            ],
            [
             0.5555555555555556,
             "#d8576b"
            ],
            [
             0.6666666666666666,
             "#ed7953"
            ],
            [
             0.7777777777777778,
             "#fb9f3a"
            ],
            [
             0.8888888888888888,
             "#fdca26"
            ],
            [
             1,
             "#f0f921"
            ]
           ],
           "sequentialminus": [
            [
             0,
             "#0d0887"
            ],
            [
             0.1111111111111111,
             "#46039f"
            ],
            [
             0.2222222222222222,
             "#7201a8"
            ],
            [
             0.3333333333333333,
             "#9c179e"
            ],
            [
             0.4444444444444444,
             "#bd3786"
            ],
            [
             0.5555555555555556,
             "#d8576b"
            ],
            [
             0.6666666666666666,
             "#ed7953"
            ],
            [
             0.7777777777777778,
             "#fb9f3a"
            ],
            [
             0.8888888888888888,
             "#fdca26"
            ],
            [
             1,
             "#f0f921"
            ]
           ]
          },
          "colorway": [
           "#636efa",
           "#EF553B",
           "#00cc96",
           "#ab63fa",
           "#FFA15A",
           "#19d3f3",
           "#FF6692",
           "#B6E880",
           "#FF97FF",
           "#FECB52"
          ],
          "font": {
           "color": "#2a3f5f"
          },
          "geo": {
           "bgcolor": "white",
           "lakecolor": "white",
           "landcolor": "#E5ECF6",
           "showlakes": true,
           "showland": true,
           "subunitcolor": "white"
          },
          "hoverlabel": {
           "align": "left"
          },
          "hovermode": "closest",
          "mapbox": {
           "style": "light"
          },
          "paper_bgcolor": "white",
          "plot_bgcolor": "#E5ECF6",
          "polar": {
           "angularaxis": {
            "gridcolor": "white",
            "linecolor": "white",
            "ticks": ""
           },
           "bgcolor": "#E5ECF6",
           "radialaxis": {
            "gridcolor": "white",
            "linecolor": "white",
            "ticks": ""
           }
          },
          "scene": {
           "xaxis": {
            "backgroundcolor": "#E5ECF6",
            "gridcolor": "white",
            "gridwidth": 2,
            "linecolor": "white",
            "showbackground": true,
            "ticks": "",
            "zerolinecolor": "white"
           },
           "yaxis": {
            "backgroundcolor": "#E5ECF6",
            "gridcolor": "white",
            "gridwidth": 2,
            "linecolor": "white",
            "showbackground": true,
            "ticks": "",
            "zerolinecolor": "white"
           },
           "zaxis": {
            "backgroundcolor": "#E5ECF6",
            "gridcolor": "white",
            "gridwidth": 2,
            "linecolor": "white",
            "showbackground": true,
            "ticks": "",
            "zerolinecolor": "white"
           }
          },
          "shapedefaults": {
           "line": {
            "color": "#2a3f5f"
           }
          },
          "ternary": {
           "aaxis": {
            "gridcolor": "white",
            "linecolor": "white",
            "ticks": ""
           },
           "baxis": {
            "gridcolor": "white",
            "linecolor": "white",
            "ticks": ""
           },
           "bgcolor": "#E5ECF6",
           "caxis": {
            "gridcolor": "white",
            "linecolor": "white",
            "ticks": ""
           }
          },
          "title": {
           "x": 0.05
          },
          "xaxis": {
           "automargin": true,
           "gridcolor": "white",
           "linecolor": "white",
           "ticks": "",
           "title": {
            "standoff": 15
           },
           "zerolinecolor": "white",
           "zerolinewidth": 2
          },
          "yaxis": {
           "automargin": true,
           "gridcolor": "white",
           "linecolor": "white",
           "ticks": "",
           "title": {
            "standoff": 15
           },
           "zerolinecolor": "white",
           "zerolinewidth": 2
          }
         }
        },
        "title": {
         "text": "Age Distribution After Filling Missing Values",
         "x": 0.5
        },
        "xaxis": {
         "title": {
          "text": "Age"
         }
        },
        "yaxis": {
         "title": {
          "text": "Frequency"
         }
        }
       }
      }
     },
     "metadata": {},
     "output_type": "display_data"
    }
   ],
   "source": [
    "go.Figure(\n",
    "    data=[\n",
    "        go.Histogram(\n",
    "            x=df['Age'],  # Age column after filling\n",
    "            nbinsx=20     # Number of bins\n",
    "        )\n",
    "    ]\n",
    ").update_layout(\n",
    "    title='Age Distribution After Filling Missing Values',\n",
    "    xaxis_title='Age',\n",
    "    yaxis_title='Frequency',\n",
    "    title_x=0.5\n",
    ").show()\n"
   ]
  },
  {
   "cell_type": "code",
   "execution_count": 39,
   "metadata": {},
   "outputs": [
    {
     "name": "stdout",
     "output_type": "stream",
     "text": [
      "0\n"
     ]
    }
   ],
   "source": [
    "# Check if there are still missing Age values\n",
    "print(df['Age'].isnull().sum())"
   ]
  },
  {
   "cell_type": "code",
   "execution_count": 40,
   "metadata": {},
   "outputs": [],
   "source": [
    "# Drop the temporary Median_Age column\n",
    "df.drop(columns=['Median_Age'], inplace=True)"
   ]
  },
  {
   "cell_type": "markdown",
   "metadata": {},
   "source": [
    "### Fill Home Region and Home City"
   ]
  },
  {
   "cell_type": "code",
   "execution_count": 41,
   "metadata": {},
   "outputs": [
    {
     "data": {
      "text/plain": [
       "'منطقة الرياض'"
      ]
     },
     "execution_count": 41,
     "metadata": {},
     "output_type": "execute_result"
    }
   ],
   "source": [
    "df['Home Region'].mode()[0]"
   ]
  },
  {
   "cell_type": "code",
   "execution_count": 42,
   "metadata": {},
   "outputs": [
    {
     "data": {
      "text/plain": [
       "'الرياض'"
      ]
     },
     "execution_count": 42,
     "metadata": {},
     "output_type": "execute_result"
    }
   ],
   "source": [
    "df['Home City'].mode()[0]"
   ]
  },
  {
   "cell_type": "code",
   "execution_count": 43,
   "metadata": {},
   "outputs": [],
   "source": [
    "df['Home Region'] = df['Home Region'].fillna(df['Home Region'].mode()[0])\n",
    "df['Home City'] = df['Home City'].fillna(df['Home City'].mode()[0])"
   ]
  },
  {
   "cell_type": "code",
   "execution_count": 44,
   "metadata": {},
   "outputs": [
    {
     "data": {
      "application/vnd.plotly.v1+json": {
       "config": {
        "plotlyServerURL": "https://plot.ly"
       },
       "data": [
        {
         "type": "bar",
         "x": [
          "منطقة الرياض",
          "منطقة مكة المكرمة",
          "المنطقة الشرقية",
          "منطقة المدينة المنورة",
          "منطقة عسير",
          "منطقة القصيم",
          "منطقة جازان",
          "منطقة تبوك",
          "منطقة الباحة",
          "منطقة حائل",
          "منطقة نجران",
          "منطقة الحدود الشمالية",
          "منطقة الجوف"
         ],
         "y": [
          4743,
          597,
          447,
          177,
          171,
          103,
          59,
          50,
          46,
          36,
          29,
          21,
          21
         ]
        }
       ],
       "layout": {
        "template": {
         "data": {
          "bar": [
           {
            "error_x": {
             "color": "#2a3f5f"
            },
            "error_y": {
             "color": "#2a3f5f"
            },
            "marker": {
             "line": {
              "color": "#E5ECF6",
              "width": 0.5
             },
             "pattern": {
              "fillmode": "overlay",
              "size": 10,
              "solidity": 0.2
             }
            },
            "type": "bar"
           }
          ],
          "barpolar": [
           {
            "marker": {
             "line": {
              "color": "#E5ECF6",
              "width": 0.5
             },
             "pattern": {
              "fillmode": "overlay",
              "size": 10,
              "solidity": 0.2
             }
            },
            "type": "barpolar"
           }
          ],
          "carpet": [
           {
            "aaxis": {
             "endlinecolor": "#2a3f5f",
             "gridcolor": "white",
             "linecolor": "white",
             "minorgridcolor": "white",
             "startlinecolor": "#2a3f5f"
            },
            "baxis": {
             "endlinecolor": "#2a3f5f",
             "gridcolor": "white",
             "linecolor": "white",
             "minorgridcolor": "white",
             "startlinecolor": "#2a3f5f"
            },
            "type": "carpet"
           }
          ],
          "choropleth": [
           {
            "colorbar": {
             "outlinewidth": 0,
             "ticks": ""
            },
            "type": "choropleth"
           }
          ],
          "contour": [
           {
            "colorbar": {
             "outlinewidth": 0,
             "ticks": ""
            },
            "colorscale": [
             [
              0,
              "#0d0887"
             ],
             [
              0.1111111111111111,
              "#46039f"
             ],
             [
              0.2222222222222222,
              "#7201a8"
             ],
             [
              0.3333333333333333,
              "#9c179e"
             ],
             [
              0.4444444444444444,
              "#bd3786"
             ],
             [
              0.5555555555555556,
              "#d8576b"
             ],
             [
              0.6666666666666666,
              "#ed7953"
             ],
             [
              0.7777777777777778,
              "#fb9f3a"
             ],
             [
              0.8888888888888888,
              "#fdca26"
             ],
             [
              1,
              "#f0f921"
             ]
            ],
            "type": "contour"
           }
          ],
          "contourcarpet": [
           {
            "colorbar": {
             "outlinewidth": 0,
             "ticks": ""
            },
            "type": "contourcarpet"
           }
          ],
          "heatmap": [
           {
            "colorbar": {
             "outlinewidth": 0,
             "ticks": ""
            },
            "colorscale": [
             [
              0,
              "#0d0887"
             ],
             [
              0.1111111111111111,
              "#46039f"
             ],
             [
              0.2222222222222222,
              "#7201a8"
             ],
             [
              0.3333333333333333,
              "#9c179e"
             ],
             [
              0.4444444444444444,
              "#bd3786"
             ],
             [
              0.5555555555555556,
              "#d8576b"
             ],
             [
              0.6666666666666666,
              "#ed7953"
             ],
             [
              0.7777777777777778,
              "#fb9f3a"
             ],
             [
              0.8888888888888888,
              "#fdca26"
             ],
             [
              1,
              "#f0f921"
             ]
            ],
            "type": "heatmap"
           }
          ],
          "heatmapgl": [
           {
            "colorbar": {
             "outlinewidth": 0,
             "ticks": ""
            },
            "colorscale": [
             [
              0,
              "#0d0887"
             ],
             [
              0.1111111111111111,
              "#46039f"
             ],
             [
              0.2222222222222222,
              "#7201a8"
             ],
             [
              0.3333333333333333,
              "#9c179e"
             ],
             [
              0.4444444444444444,
              "#bd3786"
             ],
             [
              0.5555555555555556,
              "#d8576b"
             ],
             [
              0.6666666666666666,
              "#ed7953"
             ],
             [
              0.7777777777777778,
              "#fb9f3a"
             ],
             [
              0.8888888888888888,
              "#fdca26"
             ],
             [
              1,
              "#f0f921"
             ]
            ],
            "type": "heatmapgl"
           }
          ],
          "histogram": [
           {
            "marker": {
             "pattern": {
              "fillmode": "overlay",
              "size": 10,
              "solidity": 0.2
             }
            },
            "type": "histogram"
           }
          ],
          "histogram2d": [
           {
            "colorbar": {
             "outlinewidth": 0,
             "ticks": ""
            },
            "colorscale": [
             [
              0,
              "#0d0887"
             ],
             [
              0.1111111111111111,
              "#46039f"
             ],
             [
              0.2222222222222222,
              "#7201a8"
             ],
             [
              0.3333333333333333,
              "#9c179e"
             ],
             [
              0.4444444444444444,
              "#bd3786"
             ],
             [
              0.5555555555555556,
              "#d8576b"
             ],
             [
              0.6666666666666666,
              "#ed7953"
             ],
             [
              0.7777777777777778,
              "#fb9f3a"
             ],
             [
              0.8888888888888888,
              "#fdca26"
             ],
             [
              1,
              "#f0f921"
             ]
            ],
            "type": "histogram2d"
           }
          ],
          "histogram2dcontour": [
           {
            "colorbar": {
             "outlinewidth": 0,
             "ticks": ""
            },
            "colorscale": [
             [
              0,
              "#0d0887"
             ],
             [
              0.1111111111111111,
              "#46039f"
             ],
             [
              0.2222222222222222,
              "#7201a8"
             ],
             [
              0.3333333333333333,
              "#9c179e"
             ],
             [
              0.4444444444444444,
              "#bd3786"
             ],
             [
              0.5555555555555556,
              "#d8576b"
             ],
             [
              0.6666666666666666,
              "#ed7953"
             ],
             [
              0.7777777777777778,
              "#fb9f3a"
             ],
             [
              0.8888888888888888,
              "#fdca26"
             ],
             [
              1,
              "#f0f921"
             ]
            ],
            "type": "histogram2dcontour"
           }
          ],
          "mesh3d": [
           {
            "colorbar": {
             "outlinewidth": 0,
             "ticks": ""
            },
            "type": "mesh3d"
           }
          ],
          "parcoords": [
           {
            "line": {
             "colorbar": {
              "outlinewidth": 0,
              "ticks": ""
             }
            },
            "type": "parcoords"
           }
          ],
          "pie": [
           {
            "automargin": true,
            "type": "pie"
           }
          ],
          "scatter": [
           {
            "fillpattern": {
             "fillmode": "overlay",
             "size": 10,
             "solidity": 0.2
            },
            "type": "scatter"
           }
          ],
          "scatter3d": [
           {
            "line": {
             "colorbar": {
              "outlinewidth": 0,
              "ticks": ""
             }
            },
            "marker": {
             "colorbar": {
              "outlinewidth": 0,
              "ticks": ""
             }
            },
            "type": "scatter3d"
           }
          ],
          "scattercarpet": [
           {
            "marker": {
             "colorbar": {
              "outlinewidth": 0,
              "ticks": ""
             }
            },
            "type": "scattercarpet"
           }
          ],
          "scattergeo": [
           {
            "marker": {
             "colorbar": {
              "outlinewidth": 0,
              "ticks": ""
             }
            },
            "type": "scattergeo"
           }
          ],
          "scattergl": [
           {
            "marker": {
             "colorbar": {
              "outlinewidth": 0,
              "ticks": ""
             }
            },
            "type": "scattergl"
           }
          ],
          "scattermapbox": [
           {
            "marker": {
             "colorbar": {
              "outlinewidth": 0,
              "ticks": ""
             }
            },
            "type": "scattermapbox"
           }
          ],
          "scatterpolar": [
           {
            "marker": {
             "colorbar": {
              "outlinewidth": 0,
              "ticks": ""
             }
            },
            "type": "scatterpolar"
           }
          ],
          "scatterpolargl": [
           {
            "marker": {
             "colorbar": {
              "outlinewidth": 0,
              "ticks": ""
             }
            },
            "type": "scatterpolargl"
           }
          ],
          "scatterternary": [
           {
            "marker": {
             "colorbar": {
              "outlinewidth": 0,
              "ticks": ""
             }
            },
            "type": "scatterternary"
           }
          ],
          "surface": [
           {
            "colorbar": {
             "outlinewidth": 0,
             "ticks": ""
            },
            "colorscale": [
             [
              0,
              "#0d0887"
             ],
             [
              0.1111111111111111,
              "#46039f"
             ],
             [
              0.2222222222222222,
              "#7201a8"
             ],
             [
              0.3333333333333333,
              "#9c179e"
             ],
             [
              0.4444444444444444,
              "#bd3786"
             ],
             [
              0.5555555555555556,
              "#d8576b"
             ],
             [
              0.6666666666666666,
              "#ed7953"
             ],
             [
              0.7777777777777778,
              "#fb9f3a"
             ],
             [
              0.8888888888888888,
              "#fdca26"
             ],
             [
              1,
              "#f0f921"
             ]
            ],
            "type": "surface"
           }
          ],
          "table": [
           {
            "cells": {
             "fill": {
              "color": "#EBF0F8"
             },
             "line": {
              "color": "white"
             }
            },
            "header": {
             "fill": {
              "color": "#C8D4E3"
             },
             "line": {
              "color": "white"
             }
            },
            "type": "table"
           }
          ]
         },
         "layout": {
          "annotationdefaults": {
           "arrowcolor": "#2a3f5f",
           "arrowhead": 0,
           "arrowwidth": 1
          },
          "autotypenumbers": "strict",
          "coloraxis": {
           "colorbar": {
            "outlinewidth": 0,
            "ticks": ""
           }
          },
          "colorscale": {
           "diverging": [
            [
             0,
             "#8e0152"
            ],
            [
             0.1,
             "#c51b7d"
            ],
            [
             0.2,
             "#de77ae"
            ],
            [
             0.3,
             "#f1b6da"
            ],
            [
             0.4,
             "#fde0ef"
            ],
            [
             0.5,
             "#f7f7f7"
            ],
            [
             0.6,
             "#e6f5d0"
            ],
            [
             0.7,
             "#b8e186"
            ],
            [
             0.8,
             "#7fbc41"
            ],
            [
             0.9,
             "#4d9221"
            ],
            [
             1,
             "#276419"
            ]
           ],
           "sequential": [
            [
             0,
             "#0d0887"
            ],
            [
             0.1111111111111111,
             "#46039f"
            ],
            [
             0.2222222222222222,
             "#7201a8"
            ],
            [
             0.3333333333333333,
             "#9c179e"
            ],
            [
             0.4444444444444444,
             "#bd3786"
            ],
            [
             0.5555555555555556,
             "#d8576b"
            ],
            [
             0.6666666666666666,
             "#ed7953"
            ],
            [
             0.7777777777777778,
             "#fb9f3a"
            ],
            [
             0.8888888888888888,
             "#fdca26"
            ],
            [
             1,
             "#f0f921"
            ]
           ],
           "sequentialminus": [
            [
             0,
             "#0d0887"
            ],
            [
             0.1111111111111111,
             "#46039f"
            ],
            [
             0.2222222222222222,
             "#7201a8"
            ],
            [
             0.3333333333333333,
             "#9c179e"
            ],
            [
             0.4444444444444444,
             "#bd3786"
            ],
            [
             0.5555555555555556,
             "#d8576b"
            ],
            [
             0.6666666666666666,
             "#ed7953"
            ],
            [
             0.7777777777777778,
             "#fb9f3a"
            ],
            [
             0.8888888888888888,
             "#fdca26"
            ],
            [
             1,
             "#f0f921"
            ]
           ]
          },
          "colorway": [
           "#636efa",
           "#EF553B",
           "#00cc96",
           "#ab63fa",
           "#FFA15A",
           "#19d3f3",
           "#FF6692",
           "#B6E880",
           "#FF97FF",
           "#FECB52"
          ],
          "font": {
           "color": "#2a3f5f"
          },
          "geo": {
           "bgcolor": "white",
           "lakecolor": "white",
           "landcolor": "#E5ECF6",
           "showlakes": true,
           "showland": true,
           "subunitcolor": "white"
          },
          "hoverlabel": {
           "align": "left"
          },
          "hovermode": "closest",
          "mapbox": {
           "style": "light"
          },
          "paper_bgcolor": "white",
          "plot_bgcolor": "#E5ECF6",
          "polar": {
           "angularaxis": {
            "gridcolor": "white",
            "linecolor": "white",
            "ticks": ""
           },
           "bgcolor": "#E5ECF6",
           "radialaxis": {
            "gridcolor": "white",
            "linecolor": "white",
            "ticks": ""
           }
          },
          "scene": {
           "xaxis": {
            "backgroundcolor": "#E5ECF6",
            "gridcolor": "white",
            "gridwidth": 2,
            "linecolor": "white",
            "showbackground": true,
            "ticks": "",
            "zerolinecolor": "white"
           },
           "yaxis": {
            "backgroundcolor": "#E5ECF6",
            "gridcolor": "white",
            "gridwidth": 2,
            "linecolor": "white",
            "showbackground": true,
            "ticks": "",
            "zerolinecolor": "white"
           },
           "zaxis": {
            "backgroundcolor": "#E5ECF6",
            "gridcolor": "white",
            "gridwidth": 2,
            "linecolor": "white",
            "showbackground": true,
            "ticks": "",
            "zerolinecolor": "white"
           }
          },
          "shapedefaults": {
           "line": {
            "color": "#2a3f5f"
           }
          },
          "ternary": {
           "aaxis": {
            "gridcolor": "white",
            "linecolor": "white",
            "ticks": ""
           },
           "baxis": {
            "gridcolor": "white",
            "linecolor": "white",
            "ticks": ""
           },
           "bgcolor": "#E5ECF6",
           "caxis": {
            "gridcolor": "white",
            "linecolor": "white",
            "ticks": ""
           }
          },
          "title": {
           "x": 0.05
          },
          "xaxis": {
           "automargin": true,
           "gridcolor": "white",
           "linecolor": "white",
           "ticks": "",
           "title": {
            "standoff": 15
           },
           "zerolinecolor": "white",
           "zerolinewidth": 2
          },
          "yaxis": {
           "automargin": true,
           "gridcolor": "white",
           "linecolor": "white",
           "ticks": "",
           "title": {
            "standoff": 15
           },
           "zerolinecolor": "white",
           "zerolinewidth": 2
          }
         }
        },
        "title": {
         "text": "Home Region Distribution",
         "x": 0.5
        },
        "xaxis": {
         "title": {
          "text": "Home Region"
         }
        },
        "yaxis": {
         "title": {
          "text": "Count"
         }
        }
       }
      }
     },
     "metadata": {},
     "output_type": "display_data"
    },
    {
     "data": {
      "application/vnd.plotly.v1+json": {
       "config": {
        "plotlyServerURL": "https://plot.ly"
       },
       "data": [
        {
         "type": "bar",
         "x": [
          "الرياض",
          "جدة",
          "المدينة المنورة",
          "الدمام",
          "أبها",
          "الجبيل",
          "الطائف",
          "بريدة",
          "العاصمة المقدسة",
          "مكة المكرمة",
          "الخبر",
          "تبوك",
          "حفر الباطن",
          "الأحساء",
          "الباحة",
          "خميس مشيط",
          "الهفوف",
          "حائل",
          "ينبع",
          "القطيف",
          "نجران",
          "جيزان",
          "جازان",
          "الظهران",
          "سكاكا",
          "عنيزة",
          "الدرعية",
          "القنفذة",
          "عرعر",
          "المجمعة",
          "الخرج",
          "الخفجي",
          "الدلم",
          "بيشة",
          "أبو عريش",
          "رفحاء",
          "الرس",
          "البكيرية",
          "المذنب",
          "محايل",
          "الدوادمي",
          "رابغ",
          "صبيا",
          "رأس تنورة",
          "أحد المسارحة",
          "المزاحمية",
          "البدائع",
          "سيهات",
          "شقراء",
          "صامطة",
          "صفوى",
          "بلجرشي",
          "شرورة",
          "وادي الفرع",
          "الزلفي",
          "بدر",
          "الجموم",
          "ضمد",
          "تربة",
          "الغاط",
          "رجال ألمع",
          "القرى",
          "بقيق",
          "العلا",
          "أحد رفيدة",
          "سراة عبيدة",
          "دومة الجندل",
          "مهد الذهب",
          "الليث",
          "بني حسن",
          "ظهران الجنوب",
          "طريف",
          "طبرجل",
          "تيماء",
          "القريات",
          "حوطة بني تميم",
          "بحرة",
          "الدرب",
          "ثادق",
          "رياض الخبراء",
          "ضبا",
          "ابها",
          "الحريملاء",
          "عنك",
          "تثليث",
          "بارق",
          "محايل عسير",
          "بيش",
          "المجاردة",
          "العرضيات",
          "الحناكية",
          "أملج"
         ],
         "y": [
          4680,
          361,
          131,
          119,
          109,
          83,
          77,
          66,
          66,
          65,
          59,
          47,
          45,
          41,
          40,
          39,
          38,
          36,
          35,
          27,
          26,
          19,
          18,
          17,
          17,
          17,
          15,
          14,
          11,
          10,
          10,
          8,
          7,
          6,
          5,
          5,
          5,
          5,
          5,
          5,
          5,
          5,
          4,
          4,
          4,
          4,
          4,
          4,
          4,
          4,
          3,
          3,
          3,
          3,
          3,
          3,
          3,
          3,
          3,
          2,
          2,
          2,
          2,
          2,
          2,
          2,
          2,
          2,
          1,
          1,
          1,
          1,
          1,
          1,
          1,
          1,
          1,
          1,
          1,
          1,
          1,
          1,
          1,
          1,
          1,
          1,
          1,
          1,
          1,
          1,
          1,
          1
         ]
        }
       ],
       "layout": {
        "template": {
         "data": {
          "bar": [
           {
            "error_x": {
             "color": "#2a3f5f"
            },
            "error_y": {
             "color": "#2a3f5f"
            },
            "marker": {
             "line": {
              "color": "#E5ECF6",
              "width": 0.5
             },
             "pattern": {
              "fillmode": "overlay",
              "size": 10,
              "solidity": 0.2
             }
            },
            "type": "bar"
           }
          ],
          "barpolar": [
           {
            "marker": {
             "line": {
              "color": "#E5ECF6",
              "width": 0.5
             },
             "pattern": {
              "fillmode": "overlay",
              "size": 10,
              "solidity": 0.2
             }
            },
            "type": "barpolar"
           }
          ],
          "carpet": [
           {
            "aaxis": {
             "endlinecolor": "#2a3f5f",
             "gridcolor": "white",
             "linecolor": "white",
             "minorgridcolor": "white",
             "startlinecolor": "#2a3f5f"
            },
            "baxis": {
             "endlinecolor": "#2a3f5f",
             "gridcolor": "white",
             "linecolor": "white",
             "minorgridcolor": "white",
             "startlinecolor": "#2a3f5f"
            },
            "type": "carpet"
           }
          ],
          "choropleth": [
           {
            "colorbar": {
             "outlinewidth": 0,
             "ticks": ""
            },
            "type": "choropleth"
           }
          ],
          "contour": [
           {
            "colorbar": {
             "outlinewidth": 0,
             "ticks": ""
            },
            "colorscale": [
             [
              0,
              "#0d0887"
             ],
             [
              0.1111111111111111,
              "#46039f"
             ],
             [
              0.2222222222222222,
              "#7201a8"
             ],
             [
              0.3333333333333333,
              "#9c179e"
             ],
             [
              0.4444444444444444,
              "#bd3786"
             ],
             [
              0.5555555555555556,
              "#d8576b"
             ],
             [
              0.6666666666666666,
              "#ed7953"
             ],
             [
              0.7777777777777778,
              "#fb9f3a"
             ],
             [
              0.8888888888888888,
              "#fdca26"
             ],
             [
              1,
              "#f0f921"
             ]
            ],
            "type": "contour"
           }
          ],
          "contourcarpet": [
           {
            "colorbar": {
             "outlinewidth": 0,
             "ticks": ""
            },
            "type": "contourcarpet"
           }
          ],
          "heatmap": [
           {
            "colorbar": {
             "outlinewidth": 0,
             "ticks": ""
            },
            "colorscale": [
             [
              0,
              "#0d0887"
             ],
             [
              0.1111111111111111,
              "#46039f"
             ],
             [
              0.2222222222222222,
              "#7201a8"
             ],
             [
              0.3333333333333333,
              "#9c179e"
             ],
             [
              0.4444444444444444,
              "#bd3786"
             ],
             [
              0.5555555555555556,
              "#d8576b"
             ],
             [
              0.6666666666666666,
              "#ed7953"
             ],
             [
              0.7777777777777778,
              "#fb9f3a"
             ],
             [
              0.8888888888888888,
              "#fdca26"
             ],
             [
              1,
              "#f0f921"
             ]
            ],
            "type": "heatmap"
           }
          ],
          "heatmapgl": [
           {
            "colorbar": {
             "outlinewidth": 0,
             "ticks": ""
            },
            "colorscale": [
             [
              0,
              "#0d0887"
             ],
             [
              0.1111111111111111,
              "#46039f"
             ],
             [
              0.2222222222222222,
              "#7201a8"
             ],
             [
              0.3333333333333333,
              "#9c179e"
             ],
             [
              0.4444444444444444,
              "#bd3786"
             ],
             [
              0.5555555555555556,
              "#d8576b"
             ],
             [
              0.6666666666666666,
              "#ed7953"
             ],
             [
              0.7777777777777778,
              "#fb9f3a"
             ],
             [
              0.8888888888888888,
              "#fdca26"
             ],
             [
              1,
              "#f0f921"
             ]
            ],
            "type": "heatmapgl"
           }
          ],
          "histogram": [
           {
            "marker": {
             "pattern": {
              "fillmode": "overlay",
              "size": 10,
              "solidity": 0.2
             }
            },
            "type": "histogram"
           }
          ],
          "histogram2d": [
           {
            "colorbar": {
             "outlinewidth": 0,
             "ticks": ""
            },
            "colorscale": [
             [
              0,
              "#0d0887"
             ],
             [
              0.1111111111111111,
              "#46039f"
             ],
             [
              0.2222222222222222,
              "#7201a8"
             ],
             [
              0.3333333333333333,
              "#9c179e"
             ],
             [
              0.4444444444444444,
              "#bd3786"
             ],
             [
              0.5555555555555556,
              "#d8576b"
             ],
             [
              0.6666666666666666,
              "#ed7953"
             ],
             [
              0.7777777777777778,
              "#fb9f3a"
             ],
             [
              0.8888888888888888,
              "#fdca26"
             ],
             [
              1,
              "#f0f921"
             ]
            ],
            "type": "histogram2d"
           }
          ],
          "histogram2dcontour": [
           {
            "colorbar": {
             "outlinewidth": 0,
             "ticks": ""
            },
            "colorscale": [
             [
              0,
              "#0d0887"
             ],
             [
              0.1111111111111111,
              "#46039f"
             ],
             [
              0.2222222222222222,
              "#7201a8"
             ],
             [
              0.3333333333333333,
              "#9c179e"
             ],
             [
              0.4444444444444444,
              "#bd3786"
             ],
             [
              0.5555555555555556,
              "#d8576b"
             ],
             [
              0.6666666666666666,
              "#ed7953"
             ],
             [
              0.7777777777777778,
              "#fb9f3a"
             ],
             [
              0.8888888888888888,
              "#fdca26"
             ],
             [
              1,
              "#f0f921"
             ]
            ],
            "type": "histogram2dcontour"
           }
          ],
          "mesh3d": [
           {
            "colorbar": {
             "outlinewidth": 0,
             "ticks": ""
            },
            "type": "mesh3d"
           }
          ],
          "parcoords": [
           {
            "line": {
             "colorbar": {
              "outlinewidth": 0,
              "ticks": ""
             }
            },
            "type": "parcoords"
           }
          ],
          "pie": [
           {
            "automargin": true,
            "type": "pie"
           }
          ],
          "scatter": [
           {
            "fillpattern": {
             "fillmode": "overlay",
             "size": 10,
             "solidity": 0.2
            },
            "type": "scatter"
           }
          ],
          "scatter3d": [
           {
            "line": {
             "colorbar": {
              "outlinewidth": 0,
              "ticks": ""
             }
            },
            "marker": {
             "colorbar": {
              "outlinewidth": 0,
              "ticks": ""
             }
            },
            "type": "scatter3d"
           }
          ],
          "scattercarpet": [
           {
            "marker": {
             "colorbar": {
              "outlinewidth": 0,
              "ticks": ""
             }
            },
            "type": "scattercarpet"
           }
          ],
          "scattergeo": [
           {
            "marker": {
             "colorbar": {
              "outlinewidth": 0,
              "ticks": ""
             }
            },
            "type": "scattergeo"
           }
          ],
          "scattergl": [
           {
            "marker": {
             "colorbar": {
              "outlinewidth": 0,
              "ticks": ""
             }
            },
            "type": "scattergl"
           }
          ],
          "scattermapbox": [
           {
            "marker": {
             "colorbar": {
              "outlinewidth": 0,
              "ticks": ""
             }
            },
            "type": "scattermapbox"
           }
          ],
          "scatterpolar": [
           {
            "marker": {
             "colorbar": {
              "outlinewidth": 0,
              "ticks": ""
             }
            },
            "type": "scatterpolar"
           }
          ],
          "scatterpolargl": [
           {
            "marker": {
             "colorbar": {
              "outlinewidth": 0,
              "ticks": ""
             }
            },
            "type": "scatterpolargl"
           }
          ],
          "scatterternary": [
           {
            "marker": {
             "colorbar": {
              "outlinewidth": 0,
              "ticks": ""
             }
            },
            "type": "scatterternary"
           }
          ],
          "surface": [
           {
            "colorbar": {
             "outlinewidth": 0,
             "ticks": ""
            },
            "colorscale": [
             [
              0,
              "#0d0887"
             ],
             [
              0.1111111111111111,
              "#46039f"
             ],
             [
              0.2222222222222222,
              "#7201a8"
             ],
             [
              0.3333333333333333,
              "#9c179e"
             ],
             [
              0.4444444444444444,
              "#bd3786"
             ],
             [
              0.5555555555555556,
              "#d8576b"
             ],
             [
              0.6666666666666666,
              "#ed7953"
             ],
             [
              0.7777777777777778,
              "#fb9f3a"
             ],
             [
              0.8888888888888888,
              "#fdca26"
             ],
             [
              1,
              "#f0f921"
             ]
            ],
            "type": "surface"
           }
          ],
          "table": [
           {
            "cells": {
             "fill": {
              "color": "#EBF0F8"
             },
             "line": {
              "color": "white"
             }
            },
            "header": {
             "fill": {
              "color": "#C8D4E3"
             },
             "line": {
              "color": "white"
             }
            },
            "type": "table"
           }
          ]
         },
         "layout": {
          "annotationdefaults": {
           "arrowcolor": "#2a3f5f",
           "arrowhead": 0,
           "arrowwidth": 1
          },
          "autotypenumbers": "strict",
          "coloraxis": {
           "colorbar": {
            "outlinewidth": 0,
            "ticks": ""
           }
          },
          "colorscale": {
           "diverging": [
            [
             0,
             "#8e0152"
            ],
            [
             0.1,
             "#c51b7d"
            ],
            [
             0.2,
             "#de77ae"
            ],
            [
             0.3,
             "#f1b6da"
            ],
            [
             0.4,
             "#fde0ef"
            ],
            [
             0.5,
             "#f7f7f7"
            ],
            [
             0.6,
             "#e6f5d0"
            ],
            [
             0.7,
             "#b8e186"
            ],
            [
             0.8,
             "#7fbc41"
            ],
            [
             0.9,
             "#4d9221"
            ],
            [
             1,
             "#276419"
            ]
           ],
           "sequential": [
            [
             0,
             "#0d0887"
            ],
            [
             0.1111111111111111,
             "#46039f"
            ],
            [
             0.2222222222222222,
             "#7201a8"
            ],
            [
             0.3333333333333333,
             "#9c179e"
            ],
            [
             0.4444444444444444,
             "#bd3786"
            ],
            [
             0.5555555555555556,
             "#d8576b"
            ],
            [
             0.6666666666666666,
             "#ed7953"
            ],
            [
             0.7777777777777778,
             "#fb9f3a"
            ],
            [
             0.8888888888888888,
             "#fdca26"
            ],
            [
             1,
             "#f0f921"
            ]
           ],
           "sequentialminus": [
            [
             0,
             "#0d0887"
            ],
            [
             0.1111111111111111,
             "#46039f"
            ],
            [
             0.2222222222222222,
             "#7201a8"
            ],
            [
             0.3333333333333333,
             "#9c179e"
            ],
            [
             0.4444444444444444,
             "#bd3786"
            ],
            [
             0.5555555555555556,
             "#d8576b"
            ],
            [
             0.6666666666666666,
             "#ed7953"
            ],
            [
             0.7777777777777778,
             "#fb9f3a"
            ],
            [
             0.8888888888888888,
             "#fdca26"
            ],
            [
             1,
             "#f0f921"
            ]
           ]
          },
          "colorway": [
           "#636efa",
           "#EF553B",
           "#00cc96",
           "#ab63fa",
           "#FFA15A",
           "#19d3f3",
           "#FF6692",
           "#B6E880",
           "#FF97FF",
           "#FECB52"
          ],
          "font": {
           "color": "#2a3f5f"
          },
          "geo": {
           "bgcolor": "white",
           "lakecolor": "white",
           "landcolor": "#E5ECF6",
           "showlakes": true,
           "showland": true,
           "subunitcolor": "white"
          },
          "hoverlabel": {
           "align": "left"
          },
          "hovermode": "closest",
          "mapbox": {
           "style": "light"
          },
          "paper_bgcolor": "white",
          "plot_bgcolor": "#E5ECF6",
          "polar": {
           "angularaxis": {
            "gridcolor": "white",
            "linecolor": "white",
            "ticks": ""
           },
           "bgcolor": "#E5ECF6",
           "radialaxis": {
            "gridcolor": "white",
            "linecolor": "white",
            "ticks": ""
           }
          },
          "scene": {
           "xaxis": {
            "backgroundcolor": "#E5ECF6",
            "gridcolor": "white",
            "gridwidth": 2,
            "linecolor": "white",
            "showbackground": true,
            "ticks": "",
            "zerolinecolor": "white"
           },
           "yaxis": {
            "backgroundcolor": "#E5ECF6",
            "gridcolor": "white",
            "gridwidth": 2,
            "linecolor": "white",
            "showbackground": true,
            "ticks": "",
            "zerolinecolor": "white"
           },
           "zaxis": {
            "backgroundcolor": "#E5ECF6",
            "gridcolor": "white",
            "gridwidth": 2,
            "linecolor": "white",
            "showbackground": true,
            "ticks": "",
            "zerolinecolor": "white"
           }
          },
          "shapedefaults": {
           "line": {
            "color": "#2a3f5f"
           }
          },
          "ternary": {
           "aaxis": {
            "gridcolor": "white",
            "linecolor": "white",
            "ticks": ""
           },
           "baxis": {
            "gridcolor": "white",
            "linecolor": "white",
            "ticks": ""
           },
           "bgcolor": "#E5ECF6",
           "caxis": {
            "gridcolor": "white",
            "linecolor": "white",
            "ticks": ""
           }
          },
          "title": {
           "x": 0.05
          },
          "xaxis": {
           "automargin": true,
           "gridcolor": "white",
           "linecolor": "white",
           "ticks": "",
           "title": {
            "standoff": 15
           },
           "zerolinecolor": "white",
           "zerolinewidth": 2
          },
          "yaxis": {
           "automargin": true,
           "gridcolor": "white",
           "linecolor": "white",
           "ticks": "",
           "title": {
            "standoff": 15
           },
           "zerolinecolor": "white",
           "zerolinewidth": 2
          }
         }
        },
        "title": {
         "text": "Home City Distribution",
         "x": 0.5
        },
        "xaxis": {
         "title": {
          "text": "Home City"
         }
        },
        "yaxis": {
         "title": {
          "text": "Count"
         }
        }
       }
      }
     },
     "metadata": {},
     "output_type": "display_data"
    }
   ],
   "source": [
    "go.Figure(\n",
    "    data=[\n",
    "        go.Bar(\n",
    "            x=df['Home Region'].value_counts().index,\n",
    "            y=df['Home Region'].value_counts().values\n",
    "        )\n",
    "    ]\n",
    ").update_layout(\n",
    "    title='Home Region Distribution',\n",
    "    xaxis_title='Home Region',\n",
    "    yaxis_title='Count',\n",
    "    title_x=0.5\n",
    ").show()\n",
    "\n",
    "# Plot Home City distribution\n",
    "go.Figure(\n",
    "    data=[\n",
    "        go.Bar(\n",
    "            x=df['Home City'].value_counts().index,\n",
    "            y=df['Home City'].value_counts().values\n",
    "        )\n",
    "    ]\n",
    ").update_layout(\n",
    "    title='Home City Distribution',\n",
    "    xaxis_title='Home City',\n",
    "    yaxis_title='Count',\n",
    "    title_x=0.5\n",
    ").show()\n"
   ]
  },
  {
   "cell_type": "markdown",
   "metadata": {},
   "source": [
    "### Fill Program Sub Category Code"
   ]
  },
  {
   "cell_type": "code",
   "execution_count": 45,
   "metadata": {},
   "outputs": [
    {
     "data": {
      "text/plain": [
       "array(['PCRF', 'APMR', 'GRST', 'TOSL', 'CAUF', 'ABIR', 'INFA', 'SERU',\n",
       "       'DTFH', 'QWLM'], dtype=object)"
      ]
     },
     "execution_count": 45,
     "metadata": {},
     "output_type": "execute_result"
    }
   ],
   "source": [
    "df['Program Main Category Code'].unique()"
   ]
  },
  {
   "cell_type": "code",
   "execution_count": 46,
   "metadata": {},
   "outputs": [],
   "source": [
    "def calculate_mode(series):\n",
    "    return series.mode()[0] if not series.mode().empty else None"
   ]
  },
  {
   "cell_type": "markdown",
   "metadata": {},
   "source": [
    "1. **Why Use Mode?**\n",
    "   - The **mode** represents the most frequent value, making it suitable for categorical columns like `Program Sub Category Code`.\n",
    "\n",
    "2. **Group-Based Filling:**\n",
    "   - Calculate the mode of `Program Sub Category Code` for each `Program Main Category Code`.\n",
    "   - Replace missing values in `Program Sub Category Code` with the mode from the corresponding `Program Main Category Code`."
   ]
  },
  {
   "cell_type": "code",
   "execution_count": 47,
   "metadata": {},
   "outputs": [
    {
     "data": {
      "text/html": [
       "<div>\n",
       "<style scoped>\n",
       "    .dataframe tbody tr th:only-of-type {\n",
       "        vertical-align: middle;\n",
       "    }\n",
       "\n",
       "    .dataframe tbody tr th {\n",
       "        vertical-align: top;\n",
       "    }\n",
       "\n",
       "    .dataframe thead th {\n",
       "        text-align: right;\n",
       "    }\n",
       "</style>\n",
       "<table border=\"1\" class=\"dataframe\">\n",
       "  <thead>\n",
       "    <tr style=\"text-align: right;\">\n",
       "      <th></th>\n",
       "      <th>Program Main Category Code</th>\n",
       "      <th>Program Sub Category Code</th>\n",
       "    </tr>\n",
       "  </thead>\n",
       "  <tbody>\n",
       "    <tr>\n",
       "      <th>0</th>\n",
       "      <td>ABIR</td>\n",
       "      <td>INFA</td>\n",
       "    </tr>\n",
       "    <tr>\n",
       "      <th>1</th>\n",
       "      <td>APMR</td>\n",
       "      <td>SRTA</td>\n",
       "    </tr>\n",
       "    <tr>\n",
       "      <th>2</th>\n",
       "      <td>CAUF</td>\n",
       "      <td>SWPS</td>\n",
       "    </tr>\n",
       "    <tr>\n",
       "      <th>3</th>\n",
       "      <td>DTFH</td>\n",
       "      <td>None</td>\n",
       "    </tr>\n",
       "    <tr>\n",
       "      <th>4</th>\n",
       "      <td>GRST</td>\n",
       "      <td>INFA</td>\n",
       "    </tr>\n",
       "    <tr>\n",
       "      <th>5</th>\n",
       "      <td>INFA</td>\n",
       "      <td>INFA</td>\n",
       "    </tr>\n",
       "    <tr>\n",
       "      <th>6</th>\n",
       "      <td>PCRF</td>\n",
       "      <td>PCRF</td>\n",
       "    </tr>\n",
       "    <tr>\n",
       "      <th>7</th>\n",
       "      <td>QWLM</td>\n",
       "      <td>None</td>\n",
       "    </tr>\n",
       "    <tr>\n",
       "      <th>8</th>\n",
       "      <td>SERU</td>\n",
       "      <td>ERST</td>\n",
       "    </tr>\n",
       "    <tr>\n",
       "      <th>9</th>\n",
       "      <td>TOSL</td>\n",
       "      <td>TOSL</td>\n",
       "    </tr>\n",
       "  </tbody>\n",
       "</table>\n",
       "</div>"
      ],
      "text/plain": [
       "  Program Main Category Code Program Sub Category Code\n",
       "0                       ABIR                      INFA\n",
       "1                       APMR                      SRTA\n",
       "2                       CAUF                      SWPS\n",
       "3                       DTFH                      None\n",
       "4                       GRST                      INFA\n",
       "5                       INFA                      INFA\n",
       "6                       PCRF                      PCRF\n",
       "7                       QWLM                      None\n",
       "8                       SERU                      ERST\n",
       "9                       TOSL                      TOSL"
      ]
     },
     "execution_count": 47,
     "metadata": {},
     "output_type": "execute_result"
    }
   ],
   "source": [
    "# Calculate the mode of Program Sub Category Code for each Program Main Category Code\n",
    "mode_sub_category = df.groupby('Program Main Category Code')['Program Sub Category Code'].apply(calculate_mode).reset_index()\n",
    "mode_sub_category"
   ]
  },
  {
   "cell_type": "code",
   "execution_count": 48,
   "metadata": {},
   "outputs": [],
   "source": [
    "mode_sub_category.rename(columns={'Program Sub Category Code': 'Mode_Sub_Category_Code'}, inplace=True)"
   ]
  },
  {
   "cell_type": "code",
   "execution_count": 49,
   "metadata": {},
   "outputs": [
    {
     "data": {
      "application/vnd.plotly.v1+json": {
       "config": {
        "plotlyServerURL": "https://plot.ly"
       },
       "data": [
        {
         "type": "bar",
         "x": [
          "ABIR",
          "APMR",
          "CAUF",
          "DTFH",
          "GRST",
          "INFA",
          "PCRF",
          "QWLM",
          "SERU",
          "TOSL"
         ],
         "y": [
          "INFA",
          "SRTA",
          "SWPS",
          "None",
          "INFA",
          "INFA",
          "PCRF",
          "None",
          "ERST",
          "TOSL"
         ]
        }
       ],
       "layout": {
        "template": {
         "data": {
          "bar": [
           {
            "error_x": {
             "color": "#2a3f5f"
            },
            "error_y": {
             "color": "#2a3f5f"
            },
            "marker": {
             "line": {
              "color": "#E5ECF6",
              "width": 0.5
             },
             "pattern": {
              "fillmode": "overlay",
              "size": 10,
              "solidity": 0.2
             }
            },
            "type": "bar"
           }
          ],
          "barpolar": [
           {
            "marker": {
             "line": {
              "color": "#E5ECF6",
              "width": 0.5
             },
             "pattern": {
              "fillmode": "overlay",
              "size": 10,
              "solidity": 0.2
             }
            },
            "type": "barpolar"
           }
          ],
          "carpet": [
           {
            "aaxis": {
             "endlinecolor": "#2a3f5f",
             "gridcolor": "white",
             "linecolor": "white",
             "minorgridcolor": "white",
             "startlinecolor": "#2a3f5f"
            },
            "baxis": {
             "endlinecolor": "#2a3f5f",
             "gridcolor": "white",
             "linecolor": "white",
             "minorgridcolor": "white",
             "startlinecolor": "#2a3f5f"
            },
            "type": "carpet"
           }
          ],
          "choropleth": [
           {
            "colorbar": {
             "outlinewidth": 0,
             "ticks": ""
            },
            "type": "choropleth"
           }
          ],
          "contour": [
           {
            "colorbar": {
             "outlinewidth": 0,
             "ticks": ""
            },
            "colorscale": [
             [
              0,
              "#0d0887"
             ],
             [
              0.1111111111111111,
              "#46039f"
             ],
             [
              0.2222222222222222,
              "#7201a8"
             ],
             [
              0.3333333333333333,
              "#9c179e"
             ],
             [
              0.4444444444444444,
              "#bd3786"
             ],
             [
              0.5555555555555556,
              "#d8576b"
             ],
             [
              0.6666666666666666,
              "#ed7953"
             ],
             [
              0.7777777777777778,
              "#fb9f3a"
             ],
             [
              0.8888888888888888,
              "#fdca26"
             ],
             [
              1,
              "#f0f921"
             ]
            ],
            "type": "contour"
           }
          ],
          "contourcarpet": [
           {
            "colorbar": {
             "outlinewidth": 0,
             "ticks": ""
            },
            "type": "contourcarpet"
           }
          ],
          "heatmap": [
           {
            "colorbar": {
             "outlinewidth": 0,
             "ticks": ""
            },
            "colorscale": [
             [
              0,
              "#0d0887"
             ],
             [
              0.1111111111111111,
              "#46039f"
             ],
             [
              0.2222222222222222,
              "#7201a8"
             ],
             [
              0.3333333333333333,
              "#9c179e"
             ],
             [
              0.4444444444444444,
              "#bd3786"
             ],
             [
              0.5555555555555556,
              "#d8576b"
             ],
             [
              0.6666666666666666,
              "#ed7953"
             ],
             [
              0.7777777777777778,
              "#fb9f3a"
             ],
             [
              0.8888888888888888,
              "#fdca26"
             ],
             [
              1,
              "#f0f921"
             ]
            ],
            "type": "heatmap"
           }
          ],
          "heatmapgl": [
           {
            "colorbar": {
             "outlinewidth": 0,
             "ticks": ""
            },
            "colorscale": [
             [
              0,
              "#0d0887"
             ],
             [
              0.1111111111111111,
              "#46039f"
             ],
             [
              0.2222222222222222,
              "#7201a8"
             ],
             [
              0.3333333333333333,
              "#9c179e"
             ],
             [
              0.4444444444444444,
              "#bd3786"
             ],
             [
              0.5555555555555556,
              "#d8576b"
             ],
             [
              0.6666666666666666,
              "#ed7953"
             ],
             [
              0.7777777777777778,
              "#fb9f3a"
             ],
             [
              0.8888888888888888,
              "#fdca26"
             ],
             [
              1,
              "#f0f921"
             ]
            ],
            "type": "heatmapgl"
           }
          ],
          "histogram": [
           {
            "marker": {
             "pattern": {
              "fillmode": "overlay",
              "size": 10,
              "solidity": 0.2
             }
            },
            "type": "histogram"
           }
          ],
          "histogram2d": [
           {
            "colorbar": {
             "outlinewidth": 0,
             "ticks": ""
            },
            "colorscale": [
             [
              0,
              "#0d0887"
             ],
             [
              0.1111111111111111,
              "#46039f"
             ],
             [
              0.2222222222222222,
              "#7201a8"
             ],
             [
              0.3333333333333333,
              "#9c179e"
             ],
             [
              0.4444444444444444,
              "#bd3786"
             ],
             [
              0.5555555555555556,
              "#d8576b"
             ],
             [
              0.6666666666666666,
              "#ed7953"
             ],
             [
              0.7777777777777778,
              "#fb9f3a"
             ],
             [
              0.8888888888888888,
              "#fdca26"
             ],
             [
              1,
              "#f0f921"
             ]
            ],
            "type": "histogram2d"
           }
          ],
          "histogram2dcontour": [
           {
            "colorbar": {
             "outlinewidth": 0,
             "ticks": ""
            },
            "colorscale": [
             [
              0,
              "#0d0887"
             ],
             [
              0.1111111111111111,
              "#46039f"
             ],
             [
              0.2222222222222222,
              "#7201a8"
             ],
             [
              0.3333333333333333,
              "#9c179e"
             ],
             [
              0.4444444444444444,
              "#bd3786"
             ],
             [
              0.5555555555555556,
              "#d8576b"
             ],
             [
              0.6666666666666666,
              "#ed7953"
             ],
             [
              0.7777777777777778,
              "#fb9f3a"
             ],
             [
              0.8888888888888888,
              "#fdca26"
             ],
             [
              1,
              "#f0f921"
             ]
            ],
            "type": "histogram2dcontour"
           }
          ],
          "mesh3d": [
           {
            "colorbar": {
             "outlinewidth": 0,
             "ticks": ""
            },
            "type": "mesh3d"
           }
          ],
          "parcoords": [
           {
            "line": {
             "colorbar": {
              "outlinewidth": 0,
              "ticks": ""
             }
            },
            "type": "parcoords"
           }
          ],
          "pie": [
           {
            "automargin": true,
            "type": "pie"
           }
          ],
          "scatter": [
           {
            "fillpattern": {
             "fillmode": "overlay",
             "size": 10,
             "solidity": 0.2
            },
            "type": "scatter"
           }
          ],
          "scatter3d": [
           {
            "line": {
             "colorbar": {
              "outlinewidth": 0,
              "ticks": ""
             }
            },
            "marker": {
             "colorbar": {
              "outlinewidth": 0,
              "ticks": ""
             }
            },
            "type": "scatter3d"
           }
          ],
          "scattercarpet": [
           {
            "marker": {
             "colorbar": {
              "outlinewidth": 0,
              "ticks": ""
             }
            },
            "type": "scattercarpet"
           }
          ],
          "scattergeo": [
           {
            "marker": {
             "colorbar": {
              "outlinewidth": 0,
              "ticks": ""
             }
            },
            "type": "scattergeo"
           }
          ],
          "scattergl": [
           {
            "marker": {
             "colorbar": {
              "outlinewidth": 0,
              "ticks": ""
             }
            },
            "type": "scattergl"
           }
          ],
          "scattermapbox": [
           {
            "marker": {
             "colorbar": {
              "outlinewidth": 0,
              "ticks": ""
             }
            },
            "type": "scattermapbox"
           }
          ],
          "scatterpolar": [
           {
            "marker": {
             "colorbar": {
              "outlinewidth": 0,
              "ticks": ""
             }
            },
            "type": "scatterpolar"
           }
          ],
          "scatterpolargl": [
           {
            "marker": {
             "colorbar": {
              "outlinewidth": 0,
              "ticks": ""
             }
            },
            "type": "scatterpolargl"
           }
          ],
          "scatterternary": [
           {
            "marker": {
             "colorbar": {
              "outlinewidth": 0,
              "ticks": ""
             }
            },
            "type": "scatterternary"
           }
          ],
          "surface": [
           {
            "colorbar": {
             "outlinewidth": 0,
             "ticks": ""
            },
            "colorscale": [
             [
              0,
              "#0d0887"
             ],
             [
              0.1111111111111111,
              "#46039f"
             ],
             [
              0.2222222222222222,
              "#7201a8"
             ],
             [
              0.3333333333333333,
              "#9c179e"
             ],
             [
              0.4444444444444444,
              "#bd3786"
             ],
             [
              0.5555555555555556,
              "#d8576b"
             ],
             [
              0.6666666666666666,
              "#ed7953"
             ],
             [
              0.7777777777777778,
              "#fb9f3a"
             ],
             [
              0.8888888888888888,
              "#fdca26"
             ],
             [
              1,
              "#f0f921"
             ]
            ],
            "type": "surface"
           }
          ],
          "table": [
           {
            "cells": {
             "fill": {
              "color": "#EBF0F8"
             },
             "line": {
              "color": "white"
             }
            },
            "header": {
             "fill": {
              "color": "#C8D4E3"
             },
             "line": {
              "color": "white"
             }
            },
            "type": "table"
           }
          ]
         },
         "layout": {
          "annotationdefaults": {
           "arrowcolor": "#2a3f5f",
           "arrowhead": 0,
           "arrowwidth": 1
          },
          "autotypenumbers": "strict",
          "coloraxis": {
           "colorbar": {
            "outlinewidth": 0,
            "ticks": ""
           }
          },
          "colorscale": {
           "diverging": [
            [
             0,
             "#8e0152"
            ],
            [
             0.1,
             "#c51b7d"
            ],
            [
             0.2,
             "#de77ae"
            ],
            [
             0.3,
             "#f1b6da"
            ],
            [
             0.4,
             "#fde0ef"
            ],
            [
             0.5,
             "#f7f7f7"
            ],
            [
             0.6,
             "#e6f5d0"
            ],
            [
             0.7,
             "#b8e186"
            ],
            [
             0.8,
             "#7fbc41"
            ],
            [
             0.9,
             "#4d9221"
            ],
            [
             1,
             "#276419"
            ]
           ],
           "sequential": [
            [
             0,
             "#0d0887"
            ],
            [
             0.1111111111111111,
             "#46039f"
            ],
            [
             0.2222222222222222,
             "#7201a8"
            ],
            [
             0.3333333333333333,
             "#9c179e"
            ],
            [
             0.4444444444444444,
             "#bd3786"
            ],
            [
             0.5555555555555556,
             "#d8576b"
            ],
            [
             0.6666666666666666,
             "#ed7953"
            ],
            [
             0.7777777777777778,
             "#fb9f3a"
            ],
            [
             0.8888888888888888,
             "#fdca26"
            ],
            [
             1,
             "#f0f921"
            ]
           ],
           "sequentialminus": [
            [
             0,
             "#0d0887"
            ],
            [
             0.1111111111111111,
             "#46039f"
            ],
            [
             0.2222222222222222,
             "#7201a8"
            ],
            [
             0.3333333333333333,
             "#9c179e"
            ],
            [
             0.4444444444444444,
             "#bd3786"
            ],
            [
             0.5555555555555556,
             "#d8576b"
            ],
            [
             0.6666666666666666,
             "#ed7953"
            ],
            [
             0.7777777777777778,
             "#fb9f3a"
            ],
            [
             0.8888888888888888,
             "#fdca26"
            ],
            [
             1,
             "#f0f921"
            ]
           ]
          },
          "colorway": [
           "#636efa",
           "#EF553B",
           "#00cc96",
           "#ab63fa",
           "#FFA15A",
           "#19d3f3",
           "#FF6692",
           "#B6E880",
           "#FF97FF",
           "#FECB52"
          ],
          "font": {
           "color": "#2a3f5f"
          },
          "geo": {
           "bgcolor": "white",
           "lakecolor": "white",
           "landcolor": "#E5ECF6",
           "showlakes": true,
           "showland": true,
           "subunitcolor": "white"
          },
          "hoverlabel": {
           "align": "left"
          },
          "hovermode": "closest",
          "mapbox": {
           "style": "light"
          },
          "paper_bgcolor": "white",
          "plot_bgcolor": "#E5ECF6",
          "polar": {
           "angularaxis": {
            "gridcolor": "white",
            "linecolor": "white",
            "ticks": ""
           },
           "bgcolor": "#E5ECF6",
           "radialaxis": {
            "gridcolor": "white",
            "linecolor": "white",
            "ticks": ""
           }
          },
          "scene": {
           "xaxis": {
            "backgroundcolor": "#E5ECF6",
            "gridcolor": "white",
            "gridwidth": 2,
            "linecolor": "white",
            "showbackground": true,
            "ticks": "",
            "zerolinecolor": "white"
           },
           "yaxis": {
            "backgroundcolor": "#E5ECF6",
            "gridcolor": "white",
            "gridwidth": 2,
            "linecolor": "white",
            "showbackground": true,
            "ticks": "",
            "zerolinecolor": "white"
           },
           "zaxis": {
            "backgroundcolor": "#E5ECF6",
            "gridcolor": "white",
            "gridwidth": 2,
            "linecolor": "white",
            "showbackground": true,
            "ticks": "",
            "zerolinecolor": "white"
           }
          },
          "shapedefaults": {
           "line": {
            "color": "#2a3f5f"
           }
          },
          "ternary": {
           "aaxis": {
            "gridcolor": "white",
            "linecolor": "white",
            "ticks": ""
           },
           "baxis": {
            "gridcolor": "white",
            "linecolor": "white",
            "ticks": ""
           },
           "bgcolor": "#E5ECF6",
           "caxis": {
            "gridcolor": "white",
            "linecolor": "white",
            "ticks": ""
           }
          },
          "title": {
           "x": 0.05
          },
          "xaxis": {
           "automargin": true,
           "gridcolor": "white",
           "linecolor": "white",
           "ticks": "",
           "title": {
            "standoff": 15
           },
           "zerolinecolor": "white",
           "zerolinewidth": 2
          },
          "yaxis": {
           "automargin": true,
           "gridcolor": "white",
           "linecolor": "white",
           "ticks": "",
           "title": {
            "standoff": 15
           },
           "zerolinecolor": "white",
           "zerolinewidth": 2
          }
         }
        },
        "title": {
         "text": "Mode of Program Sub Category Code by Program Main Category Code",
         "x": 0.5
        },
        "xaxis": {
         "title": {
          "text": "Program Main Category Code"
         }
        },
        "yaxis": {
         "title": {
          "text": "Mode of Sub Category Code"
         }
        }
       }
      }
     },
     "metadata": {},
     "output_type": "display_data"
    }
   ],
   "source": [
    "go.Figure(\n",
    "    data=[\n",
    "        go.Bar(\n",
    "            x=mode_sub_category['Program Main Category Code'],\n",
    "            y=mode_sub_category['Mode_Sub_Category_Code'].astype(str)\n",
    "        )\n",
    "    ]\n",
    ").update_layout(\n",
    "    title='Mode of Program Sub Category Code by Program Main Category Code',\n",
    "    xaxis_title='Program Main Category Code',\n",
    "    yaxis_title='Mode of Sub Category Code',\n",
    "    title_x=0.5\n",
    ").show()\n"
   ]
  },
  {
   "cell_type": "code",
   "execution_count": 50,
   "metadata": {},
   "outputs": [],
   "source": [
    "# Merge the mode data back into the original DataFrame\n",
    "df = df.merge(mode_sub_category, on='Program Main Category Code', how='left')"
   ]
  },
  {
   "cell_type": "code",
   "execution_count": 51,
   "metadata": {},
   "outputs": [],
   "source": [
    "# Fill missing Program Sub Category Code values with the mode\n",
    "df['Program Sub Category Code'] = df['Program Sub Category Code'].fillna(df['Mode_Sub_Category_Code'])"
   ]
  },
  {
   "cell_type": "code",
   "execution_count": 52,
   "metadata": {},
   "outputs": [],
   "source": [
    "# Drop the temporary Mode_Sub_Category_Code column\n",
    "df.drop(columns=['Mode_Sub_Category_Code'], inplace=True)"
   ]
  },
  {
   "cell_type": "code",
   "execution_count": 53,
   "metadata": {},
   "outputs": [
    {
     "data": {
      "text/plain": [
       "64"
      ]
     },
     "execution_count": 53,
     "metadata": {},
     "output_type": "execute_result"
    }
   ],
   "source": [
    "df['Program Sub Category Code'].isnull().sum()"
   ]
  },
  {
   "cell_type": "code",
   "execution_count": 54,
   "metadata": {},
   "outputs": [],
   "source": [
    "# Fill missing values in Program Sub Category Code with values from Program Main Category Code\n",
    "df['Program Sub Category Code'] = df['Program Sub Category Code'].fillna(df['Program Main Category Code'])"
   ]
  },
  {
   "cell_type": "code",
   "execution_count": 55,
   "metadata": {},
   "outputs": [
    {
     "data": {
      "text/plain": [
       "0"
      ]
     },
     "execution_count": 55,
     "metadata": {},
     "output_type": "execute_result"
    }
   ],
   "source": [
    "df['Program Sub Category Code'].isnull().sum()"
   ]
  },
  {
   "cell_type": "code",
   "execution_count": 56,
   "metadata": {},
   "outputs": [
    {
     "data": {
      "application/vnd.plotly.v1+json": {
       "config": {
        "plotlyServerURL": "https://plot.ly"
       },
       "data": [
        {
         "type": "bar",
         "x": [
          "SWPS",
          "PCRF",
          "SRTA",
          "INFA",
          "TOSL",
          "CRDP",
          "ERST",
          "KLTM",
          "QTDY",
          "ASCW",
          "DTFH",
          "QWLM",
          "ABIR"
         ],
         "y": [
          2070,
          1657,
          999,
          587,
          487,
          243,
          172,
          117,
          49,
          36,
          33,
          31,
          19
         ]
        }
       ],
       "layout": {
        "template": {
         "data": {
          "bar": [
           {
            "error_x": {
             "color": "#2a3f5f"
            },
            "error_y": {
             "color": "#2a3f5f"
            },
            "marker": {
             "line": {
              "color": "#E5ECF6",
              "width": 0.5
             },
             "pattern": {
              "fillmode": "overlay",
              "size": 10,
              "solidity": 0.2
             }
            },
            "type": "bar"
           }
          ],
          "barpolar": [
           {
            "marker": {
             "line": {
              "color": "#E5ECF6",
              "width": 0.5
             },
             "pattern": {
              "fillmode": "overlay",
              "size": 10,
              "solidity": 0.2
             }
            },
            "type": "barpolar"
           }
          ],
          "carpet": [
           {
            "aaxis": {
             "endlinecolor": "#2a3f5f",
             "gridcolor": "white",
             "linecolor": "white",
             "minorgridcolor": "white",
             "startlinecolor": "#2a3f5f"
            },
            "baxis": {
             "endlinecolor": "#2a3f5f",
             "gridcolor": "white",
             "linecolor": "white",
             "minorgridcolor": "white",
             "startlinecolor": "#2a3f5f"
            },
            "type": "carpet"
           }
          ],
          "choropleth": [
           {
            "colorbar": {
             "outlinewidth": 0,
             "ticks": ""
            },
            "type": "choropleth"
           }
          ],
          "contour": [
           {
            "colorbar": {
             "outlinewidth": 0,
             "ticks": ""
            },
            "colorscale": [
             [
              0,
              "#0d0887"
             ],
             [
              0.1111111111111111,
              "#46039f"
             ],
             [
              0.2222222222222222,
              "#7201a8"
             ],
             [
              0.3333333333333333,
              "#9c179e"
             ],
             [
              0.4444444444444444,
              "#bd3786"
             ],
             [
              0.5555555555555556,
              "#d8576b"
             ],
             [
              0.6666666666666666,
              "#ed7953"
             ],
             [
              0.7777777777777778,
              "#fb9f3a"
             ],
             [
              0.8888888888888888,
              "#fdca26"
             ],
             [
              1,
              "#f0f921"
             ]
            ],
            "type": "contour"
           }
          ],
          "contourcarpet": [
           {
            "colorbar": {
             "outlinewidth": 0,
             "ticks": ""
            },
            "type": "contourcarpet"
           }
          ],
          "heatmap": [
           {
            "colorbar": {
             "outlinewidth": 0,
             "ticks": ""
            },
            "colorscale": [
             [
              0,
              "#0d0887"
             ],
             [
              0.1111111111111111,
              "#46039f"
             ],
             [
              0.2222222222222222,
              "#7201a8"
             ],
             [
              0.3333333333333333,
              "#9c179e"
             ],
             [
              0.4444444444444444,
              "#bd3786"
             ],
             [
              0.5555555555555556,
              "#d8576b"
             ],
             [
              0.6666666666666666,
              "#ed7953"
             ],
             [
              0.7777777777777778,
              "#fb9f3a"
             ],
             [
              0.8888888888888888,
              "#fdca26"
             ],
             [
              1,
              "#f0f921"
             ]
            ],
            "type": "heatmap"
           }
          ],
          "heatmapgl": [
           {
            "colorbar": {
             "outlinewidth": 0,
             "ticks": ""
            },
            "colorscale": [
             [
              0,
              "#0d0887"
             ],
             [
              0.1111111111111111,
              "#46039f"
             ],
             [
              0.2222222222222222,
              "#7201a8"
             ],
             [
              0.3333333333333333,
              "#9c179e"
             ],
             [
              0.4444444444444444,
              "#bd3786"
             ],
             [
              0.5555555555555556,
              "#d8576b"
             ],
             [
              0.6666666666666666,
              "#ed7953"
             ],
             [
              0.7777777777777778,
              "#fb9f3a"
             ],
             [
              0.8888888888888888,
              "#fdca26"
             ],
             [
              1,
              "#f0f921"
             ]
            ],
            "type": "heatmapgl"
           }
          ],
          "histogram": [
           {
            "marker": {
             "pattern": {
              "fillmode": "overlay",
              "size": 10,
              "solidity": 0.2
             }
            },
            "type": "histogram"
           }
          ],
          "histogram2d": [
           {
            "colorbar": {
             "outlinewidth": 0,
             "ticks": ""
            },
            "colorscale": [
             [
              0,
              "#0d0887"
             ],
             [
              0.1111111111111111,
              "#46039f"
             ],
             [
              0.2222222222222222,
              "#7201a8"
             ],
             [
              0.3333333333333333,
              "#9c179e"
             ],
             [
              0.4444444444444444,
              "#bd3786"
             ],
             [
              0.5555555555555556,
              "#d8576b"
             ],
             [
              0.6666666666666666,
              "#ed7953"
             ],
             [
              0.7777777777777778,
              "#fb9f3a"
             ],
             [
              0.8888888888888888,
              "#fdca26"
             ],
             [
              1,
              "#f0f921"
             ]
            ],
            "type": "histogram2d"
           }
          ],
          "histogram2dcontour": [
           {
            "colorbar": {
             "outlinewidth": 0,
             "ticks": ""
            },
            "colorscale": [
             [
              0,
              "#0d0887"
             ],
             [
              0.1111111111111111,
              "#46039f"
             ],
             [
              0.2222222222222222,
              "#7201a8"
             ],
             [
              0.3333333333333333,
              "#9c179e"
             ],
             [
              0.4444444444444444,
              "#bd3786"
             ],
             [
              0.5555555555555556,
              "#d8576b"
             ],
             [
              0.6666666666666666,
              "#ed7953"
             ],
             [
              0.7777777777777778,
              "#fb9f3a"
             ],
             [
              0.8888888888888888,
              "#fdca26"
             ],
             [
              1,
              "#f0f921"
             ]
            ],
            "type": "histogram2dcontour"
           }
          ],
          "mesh3d": [
           {
            "colorbar": {
             "outlinewidth": 0,
             "ticks": ""
            },
            "type": "mesh3d"
           }
          ],
          "parcoords": [
           {
            "line": {
             "colorbar": {
              "outlinewidth": 0,
              "ticks": ""
             }
            },
            "type": "parcoords"
           }
          ],
          "pie": [
           {
            "automargin": true,
            "type": "pie"
           }
          ],
          "scatter": [
           {
            "fillpattern": {
             "fillmode": "overlay",
             "size": 10,
             "solidity": 0.2
            },
            "type": "scatter"
           }
          ],
          "scatter3d": [
           {
            "line": {
             "colorbar": {
              "outlinewidth": 0,
              "ticks": ""
             }
            },
            "marker": {
             "colorbar": {
              "outlinewidth": 0,
              "ticks": ""
             }
            },
            "type": "scatter3d"
           }
          ],
          "scattercarpet": [
           {
            "marker": {
             "colorbar": {
              "outlinewidth": 0,
              "ticks": ""
             }
            },
            "type": "scattercarpet"
           }
          ],
          "scattergeo": [
           {
            "marker": {
             "colorbar": {
              "outlinewidth": 0,
              "ticks": ""
             }
            },
            "type": "scattergeo"
           }
          ],
          "scattergl": [
           {
            "marker": {
             "colorbar": {
              "outlinewidth": 0,
              "ticks": ""
             }
            },
            "type": "scattergl"
           }
          ],
          "scattermapbox": [
           {
            "marker": {
             "colorbar": {
              "outlinewidth": 0,
              "ticks": ""
             }
            },
            "type": "scattermapbox"
           }
          ],
          "scatterpolar": [
           {
            "marker": {
             "colorbar": {
              "outlinewidth": 0,
              "ticks": ""
             }
            },
            "type": "scatterpolar"
           }
          ],
          "scatterpolargl": [
           {
            "marker": {
             "colorbar": {
              "outlinewidth": 0,
              "ticks": ""
             }
            },
            "type": "scatterpolargl"
           }
          ],
          "scatterternary": [
           {
            "marker": {
             "colorbar": {
              "outlinewidth": 0,
              "ticks": ""
             }
            },
            "type": "scatterternary"
           }
          ],
          "surface": [
           {
            "colorbar": {
             "outlinewidth": 0,
             "ticks": ""
            },
            "colorscale": [
             [
              0,
              "#0d0887"
             ],
             [
              0.1111111111111111,
              "#46039f"
             ],
             [
              0.2222222222222222,
              "#7201a8"
             ],
             [
              0.3333333333333333,
              "#9c179e"
             ],
             [
              0.4444444444444444,
              "#bd3786"
             ],
             [
              0.5555555555555556,
              "#d8576b"
             ],
             [
              0.6666666666666666,
              "#ed7953"
             ],
             [
              0.7777777777777778,
              "#fb9f3a"
             ],
             [
              0.8888888888888888,
              "#fdca26"
             ],
             [
              1,
              "#f0f921"
             ]
            ],
            "type": "surface"
           }
          ],
          "table": [
           {
            "cells": {
             "fill": {
              "color": "#EBF0F8"
             },
             "line": {
              "color": "white"
             }
            },
            "header": {
             "fill": {
              "color": "#C8D4E3"
             },
             "line": {
              "color": "white"
             }
            },
            "type": "table"
           }
          ]
         },
         "layout": {
          "annotationdefaults": {
           "arrowcolor": "#2a3f5f",
           "arrowhead": 0,
           "arrowwidth": 1
          },
          "autotypenumbers": "strict",
          "coloraxis": {
           "colorbar": {
            "outlinewidth": 0,
            "ticks": ""
           }
          },
          "colorscale": {
           "diverging": [
            [
             0,
             "#8e0152"
            ],
            [
             0.1,
             "#c51b7d"
            ],
            [
             0.2,
             "#de77ae"
            ],
            [
             0.3,
             "#f1b6da"
            ],
            [
             0.4,
             "#fde0ef"
            ],
            [
             0.5,
             "#f7f7f7"
            ],
            [
             0.6,
             "#e6f5d0"
            ],
            [
             0.7,
             "#b8e186"
            ],
            [
             0.8,
             "#7fbc41"
            ],
            [
             0.9,
             "#4d9221"
            ],
            [
             1,
             "#276419"
            ]
           ],
           "sequential": [
            [
             0,
             "#0d0887"
            ],
            [
             0.1111111111111111,
             "#46039f"
            ],
            [
             0.2222222222222222,
             "#7201a8"
            ],
            [
             0.3333333333333333,
             "#9c179e"
            ],
            [
             0.4444444444444444,
             "#bd3786"
            ],
            [
             0.5555555555555556,
             "#d8576b"
            ],
            [
             0.6666666666666666,
             "#ed7953"
            ],
            [
             0.7777777777777778,
             "#fb9f3a"
            ],
            [
             0.8888888888888888,
             "#fdca26"
            ],
            [
             1,
             "#f0f921"
            ]
           ],
           "sequentialminus": [
            [
             0,
             "#0d0887"
            ],
            [
             0.1111111111111111,
             "#46039f"
            ],
            [
             0.2222222222222222,
             "#7201a8"
            ],
            [
             0.3333333333333333,
             "#9c179e"
            ],
            [
             0.4444444444444444,
             "#bd3786"
            ],
            [
             0.5555555555555556,
             "#d8576b"
            ],
            [
             0.6666666666666666,
             "#ed7953"
            ],
            [
             0.7777777777777778,
             "#fb9f3a"
            ],
            [
             0.8888888888888888,
             "#fdca26"
            ],
            [
             1,
             "#f0f921"
            ]
           ]
          },
          "colorway": [
           "#636efa",
           "#EF553B",
           "#00cc96",
           "#ab63fa",
           "#FFA15A",
           "#19d3f3",
           "#FF6692",
           "#B6E880",
           "#FF97FF",
           "#FECB52"
          ],
          "font": {
           "color": "#2a3f5f"
          },
          "geo": {
           "bgcolor": "white",
           "lakecolor": "white",
           "landcolor": "#E5ECF6",
           "showlakes": true,
           "showland": true,
           "subunitcolor": "white"
          },
          "hoverlabel": {
           "align": "left"
          },
          "hovermode": "closest",
          "mapbox": {
           "style": "light"
          },
          "paper_bgcolor": "white",
          "plot_bgcolor": "#E5ECF6",
          "polar": {
           "angularaxis": {
            "gridcolor": "white",
            "linecolor": "white",
            "ticks": ""
           },
           "bgcolor": "#E5ECF6",
           "radialaxis": {
            "gridcolor": "white",
            "linecolor": "white",
            "ticks": ""
           }
          },
          "scene": {
           "xaxis": {
            "backgroundcolor": "#E5ECF6",
            "gridcolor": "white",
            "gridwidth": 2,
            "linecolor": "white",
            "showbackground": true,
            "ticks": "",
            "zerolinecolor": "white"
           },
           "yaxis": {
            "backgroundcolor": "#E5ECF6",
            "gridcolor": "white",
            "gridwidth": 2,
            "linecolor": "white",
            "showbackground": true,
            "ticks": "",
            "zerolinecolor": "white"
           },
           "zaxis": {
            "backgroundcolor": "#E5ECF6",
            "gridcolor": "white",
            "gridwidth": 2,
            "linecolor": "white",
            "showbackground": true,
            "ticks": "",
            "zerolinecolor": "white"
           }
          },
          "shapedefaults": {
           "line": {
            "color": "#2a3f5f"
           }
          },
          "ternary": {
           "aaxis": {
            "gridcolor": "white",
            "linecolor": "white",
            "ticks": ""
           },
           "baxis": {
            "gridcolor": "white",
            "linecolor": "white",
            "ticks": ""
           },
           "bgcolor": "#E5ECF6",
           "caxis": {
            "gridcolor": "white",
            "linecolor": "white",
            "ticks": ""
           }
          },
          "title": {
           "x": 0.05
          },
          "xaxis": {
           "automargin": true,
           "gridcolor": "white",
           "linecolor": "white",
           "ticks": "",
           "title": {
            "standoff": 15
           },
           "zerolinecolor": "white",
           "zerolinewidth": 2
          },
          "yaxis": {
           "automargin": true,
           "gridcolor": "white",
           "linecolor": "white",
           "ticks": "",
           "title": {
            "standoff": 15
           },
           "zerolinecolor": "white",
           "zerolinewidth": 2
          }
         }
        },
        "title": {
         "text": "Distribution of Program Sub Category Code After Filling",
         "x": 0.5
        },
        "xaxis": {
         "title": {
          "text": "Program Sub Category Code"
         }
        },
        "yaxis": {
         "title": {
          "text": "Count"
         }
        }
       }
      }
     },
     "metadata": {},
     "output_type": "display_data"
    }
   ],
   "source": [
    "go.Figure(\n",
    "    data=[\n",
    "        go.Bar(\n",
    "            x=df['Program Sub Category Code'].value_counts().index,\n",
    "            y=df['Program Sub Category Code'].value_counts().values\n",
    "        )\n",
    "    ]\n",
    ").update_layout(\n",
    "    title='Distribution of Program Sub Category Code After Filling',\n",
    "    xaxis_title='Program Sub Category Code',\n",
    "    yaxis_title='Count',\n",
    "    title_x=0.5\n",
    ").show()"
   ]
  },
  {
   "cell_type": "markdown",
   "metadata": {},
   "source": [
    "### Fill Program Skill Level"
   ]
  },
  {
   "cell_type": "code",
   "execution_count": 57,
   "metadata": {},
   "outputs": [
    {
     "data": {
      "text/plain": [
       "array([nan, 'متوسط', 'مبتدئ', 'متقدم'], dtype=object)"
      ]
     },
     "execution_count": 57,
     "metadata": {},
     "output_type": "execute_result"
    }
   ],
   "source": [
    "df['Program Skill Level'].unique()"
   ]
  },
  {
   "cell_type": "code",
   "execution_count": 58,
   "metadata": {},
   "outputs": [
    {
     "data": {
      "text/html": [
       "<div>\n",
       "<style scoped>\n",
       "    .dataframe tbody tr th:only-of-type {\n",
       "        vertical-align: middle;\n",
       "    }\n",
       "\n",
       "    .dataframe tbody tr th {\n",
       "        vertical-align: top;\n",
       "    }\n",
       "\n",
       "    .dataframe thead th {\n",
       "        text-align: right;\n",
       "    }\n",
       "</style>\n",
       "<table border=\"1\" class=\"dataframe\">\n",
       "  <thead>\n",
       "    <tr style=\"text-align: right;\">\n",
       "      <th></th>\n",
       "      <th>Program Main Category Code</th>\n",
       "      <th>Program Skill Level</th>\n",
       "      <th>Count</th>\n",
       "    </tr>\n",
       "  </thead>\n",
       "  <tbody>\n",
       "    <tr>\n",
       "      <th>0</th>\n",
       "      <td>ABIR</td>\n",
       "      <td>مبتدئ</td>\n",
       "      <td>136</td>\n",
       "    </tr>\n",
       "    <tr>\n",
       "      <th>1</th>\n",
       "      <td>ABIR</td>\n",
       "      <td>متقدم</td>\n",
       "      <td>13</td>\n",
       "    </tr>\n",
       "    <tr>\n",
       "      <th>2</th>\n",
       "      <td>ABIR</td>\n",
       "      <td>متوسط</td>\n",
       "      <td>19</td>\n",
       "    </tr>\n",
       "    <tr>\n",
       "      <th>3</th>\n",
       "      <td>APMR</td>\n",
       "      <td>مبتدئ</td>\n",
       "      <td>128</td>\n",
       "    </tr>\n",
       "    <tr>\n",
       "      <th>4</th>\n",
       "      <td>APMR</td>\n",
       "      <td>متقدم</td>\n",
       "      <td>58</td>\n",
       "    </tr>\n",
       "    <tr>\n",
       "      <th>5</th>\n",
       "      <td>APMR</td>\n",
       "      <td>متوسط</td>\n",
       "      <td>764</td>\n",
       "    </tr>\n",
       "    <tr>\n",
       "      <th>6</th>\n",
       "      <td>CAUF</td>\n",
       "      <td>مبتدئ</td>\n",
       "      <td>1022</td>\n",
       "    </tr>\n",
       "    <tr>\n",
       "      <th>7</th>\n",
       "      <td>CAUF</td>\n",
       "      <td>متقدم</td>\n",
       "      <td>184</td>\n",
       "    </tr>\n",
       "    <tr>\n",
       "      <th>8</th>\n",
       "      <td>CAUF</td>\n",
       "      <td>متوسط</td>\n",
       "      <td>447</td>\n",
       "    </tr>\n",
       "    <tr>\n",
       "      <th>9</th>\n",
       "      <td>DTFH</td>\n",
       "      <td>مبتدئ</td>\n",
       "      <td>33</td>\n",
       "    </tr>\n",
       "    <tr>\n",
       "      <th>10</th>\n",
       "      <td>GRST</td>\n",
       "      <td>متوسط</td>\n",
       "      <td>208</td>\n",
       "    </tr>\n",
       "    <tr>\n",
       "      <th>11</th>\n",
       "      <td>INFA</td>\n",
       "      <td>مبتدئ</td>\n",
       "      <td>35</td>\n",
       "    </tr>\n",
       "    <tr>\n",
       "      <th>12</th>\n",
       "      <td>INFA</td>\n",
       "      <td>متوسط</td>\n",
       "      <td>39</td>\n",
       "    </tr>\n",
       "    <tr>\n",
       "      <th>13</th>\n",
       "      <td>PCRF</td>\n",
       "      <td>مبتدئ</td>\n",
       "      <td>610</td>\n",
       "    </tr>\n",
       "    <tr>\n",
       "      <th>14</th>\n",
       "      <td>PCRF</td>\n",
       "      <td>متقدم</td>\n",
       "      <td>312</td>\n",
       "    </tr>\n",
       "    <tr>\n",
       "      <th>15</th>\n",
       "      <td>PCRF</td>\n",
       "      <td>متوسط</td>\n",
       "      <td>357</td>\n",
       "    </tr>\n",
       "    <tr>\n",
       "      <th>16</th>\n",
       "      <td>QWLM</td>\n",
       "      <td>متوسط</td>\n",
       "      <td>31</td>\n",
       "    </tr>\n",
       "    <tr>\n",
       "      <th>17</th>\n",
       "      <td>SERU</td>\n",
       "      <td>مبتدئ</td>\n",
       "      <td>16</td>\n",
       "    </tr>\n",
       "    <tr>\n",
       "      <th>18</th>\n",
       "      <td>SERU</td>\n",
       "      <td>متوسط</td>\n",
       "      <td>37</td>\n",
       "    </tr>\n",
       "    <tr>\n",
       "      <th>19</th>\n",
       "      <td>TOSL</td>\n",
       "      <td>مبتدئ</td>\n",
       "      <td>73</td>\n",
       "    </tr>\n",
       "    <tr>\n",
       "      <th>20</th>\n",
       "      <td>TOSL</td>\n",
       "      <td>متقدم</td>\n",
       "      <td>130</td>\n",
       "    </tr>\n",
       "    <tr>\n",
       "      <th>21</th>\n",
       "      <td>TOSL</td>\n",
       "      <td>متوسط</td>\n",
       "      <td>203</td>\n",
       "    </tr>\n",
       "  </tbody>\n",
       "</table>\n",
       "</div>"
      ],
      "text/plain": [
       "   Program Main Category Code Program Skill Level  Count\n",
       "0                        ABIR               مبتدئ    136\n",
       "1                        ABIR               متقدم     13\n",
       "2                        ABIR               متوسط     19\n",
       "3                        APMR               مبتدئ    128\n",
       "4                        APMR               متقدم     58\n",
       "5                        APMR               متوسط    764\n",
       "6                        CAUF               مبتدئ   1022\n",
       "7                        CAUF               متقدم    184\n",
       "8                        CAUF               متوسط    447\n",
       "9                        DTFH               مبتدئ     33\n",
       "10                       GRST               متوسط    208\n",
       "11                       INFA               مبتدئ     35\n",
       "12                       INFA               متوسط     39\n",
       "13                       PCRF               مبتدئ    610\n",
       "14                       PCRF               متقدم    312\n",
       "15                       PCRF               متوسط    357\n",
       "16                       QWLM               متوسط     31\n",
       "17                       SERU               مبتدئ     16\n",
       "18                       SERU               متوسط     37\n",
       "19                       TOSL               مبتدئ     73\n",
       "20                       TOSL               متقدم    130\n",
       "21                       TOSL               متوسط    203"
      ]
     },
     "execution_count": 58,
     "metadata": {},
     "output_type": "execute_result"
    }
   ],
   "source": [
    "grouped_data = df.groupby(['Program Main Category Code', 'Program Skill Level']).size().reset_index(name='Count')\n",
    "grouped_data"
   ]
  },
  {
   "cell_type": "code",
   "execution_count": 59,
   "metadata": {},
   "outputs": [
    {
     "data": {
      "application/vnd.plotly.v1+json": {
       "config": {
        "plotlyServerURL": "https://plot.ly"
       },
       "data": [
        {
         "name": "ABIR",
         "type": "bar",
         "x": [
          "مبتدئ",
          "متقدم",
          "متوسط"
         ],
         "y": [
          136,
          13,
          19
         ]
        },
        {
         "name": "APMR",
         "type": "bar",
         "x": [
          "مبتدئ",
          "متقدم",
          "متوسط"
         ],
         "y": [
          128,
          58,
          764
         ]
        },
        {
         "name": "CAUF",
         "type": "bar",
         "x": [
          "مبتدئ",
          "متقدم",
          "متوسط"
         ],
         "y": [
          1022,
          184,
          447
         ]
        },
        {
         "name": "DTFH",
         "type": "bar",
         "x": [
          "مبتدئ"
         ],
         "y": [
          33
         ]
        },
        {
         "name": "GRST",
         "type": "bar",
         "x": [
          "متوسط"
         ],
         "y": [
          208
         ]
        },
        {
         "name": "INFA",
         "type": "bar",
         "x": [
          "مبتدئ",
          "متوسط"
         ],
         "y": [
          35,
          39
         ]
        },
        {
         "name": "PCRF",
         "type": "bar",
         "x": [
          "مبتدئ",
          "متقدم",
          "متوسط"
         ],
         "y": [
          610,
          312,
          357
         ]
        },
        {
         "name": "QWLM",
         "type": "bar",
         "x": [
          "متوسط"
         ],
         "y": [
          31
         ]
        },
        {
         "name": "SERU",
         "type": "bar",
         "x": [
          "مبتدئ",
          "متوسط"
         ],
         "y": [
          16,
          37
         ]
        },
        {
         "name": "TOSL",
         "type": "bar",
         "x": [
          "مبتدئ",
          "متقدم",
          "متوسط"
         ],
         "y": [
          73,
          130,
          203
         ]
        }
       ],
       "layout": {
        "barmode": "group",
        "template": {
         "data": {
          "bar": [
           {
            "error_x": {
             "color": "#2a3f5f"
            },
            "error_y": {
             "color": "#2a3f5f"
            },
            "marker": {
             "line": {
              "color": "#E5ECF6",
              "width": 0.5
             },
             "pattern": {
              "fillmode": "overlay",
              "size": 10,
              "solidity": 0.2
             }
            },
            "type": "bar"
           }
          ],
          "barpolar": [
           {
            "marker": {
             "line": {
              "color": "#E5ECF6",
              "width": 0.5
             },
             "pattern": {
              "fillmode": "overlay",
              "size": 10,
              "solidity": 0.2
             }
            },
            "type": "barpolar"
           }
          ],
          "carpet": [
           {
            "aaxis": {
             "endlinecolor": "#2a3f5f",
             "gridcolor": "white",
             "linecolor": "white",
             "minorgridcolor": "white",
             "startlinecolor": "#2a3f5f"
            },
            "baxis": {
             "endlinecolor": "#2a3f5f",
             "gridcolor": "white",
             "linecolor": "white",
             "minorgridcolor": "white",
             "startlinecolor": "#2a3f5f"
            },
            "type": "carpet"
           }
          ],
          "choropleth": [
           {
            "colorbar": {
             "outlinewidth": 0,
             "ticks": ""
            },
            "type": "choropleth"
           }
          ],
          "contour": [
           {
            "colorbar": {
             "outlinewidth": 0,
             "ticks": ""
            },
            "colorscale": [
             [
              0,
              "#0d0887"
             ],
             [
              0.1111111111111111,
              "#46039f"
             ],
             [
              0.2222222222222222,
              "#7201a8"
             ],
             [
              0.3333333333333333,
              "#9c179e"
             ],
             [
              0.4444444444444444,
              "#bd3786"
             ],
             [
              0.5555555555555556,
              "#d8576b"
             ],
             [
              0.6666666666666666,
              "#ed7953"
             ],
             [
              0.7777777777777778,
              "#fb9f3a"
             ],
             [
              0.8888888888888888,
              "#fdca26"
             ],
             [
              1,
              "#f0f921"
             ]
            ],
            "type": "contour"
           }
          ],
          "contourcarpet": [
           {
            "colorbar": {
             "outlinewidth": 0,
             "ticks": ""
            },
            "type": "contourcarpet"
           }
          ],
          "heatmap": [
           {
            "colorbar": {
             "outlinewidth": 0,
             "ticks": ""
            },
            "colorscale": [
             [
              0,
              "#0d0887"
             ],
             [
              0.1111111111111111,
              "#46039f"
             ],
             [
              0.2222222222222222,
              "#7201a8"
             ],
             [
              0.3333333333333333,
              "#9c179e"
             ],
             [
              0.4444444444444444,
              "#bd3786"
             ],
             [
              0.5555555555555556,
              "#d8576b"
             ],
             [
              0.6666666666666666,
              "#ed7953"
             ],
             [
              0.7777777777777778,
              "#fb9f3a"
             ],
             [
              0.8888888888888888,
              "#fdca26"
             ],
             [
              1,
              "#f0f921"
             ]
            ],
            "type": "heatmap"
           }
          ],
          "heatmapgl": [
           {
            "colorbar": {
             "outlinewidth": 0,
             "ticks": ""
            },
            "colorscale": [
             [
              0,
              "#0d0887"
             ],
             [
              0.1111111111111111,
              "#46039f"
             ],
             [
              0.2222222222222222,
              "#7201a8"
             ],
             [
              0.3333333333333333,
              "#9c179e"
             ],
             [
              0.4444444444444444,
              "#bd3786"
             ],
             [
              0.5555555555555556,
              "#d8576b"
             ],
             [
              0.6666666666666666,
              "#ed7953"
             ],
             [
              0.7777777777777778,
              "#fb9f3a"
             ],
             [
              0.8888888888888888,
              "#fdca26"
             ],
             [
              1,
              "#f0f921"
             ]
            ],
            "type": "heatmapgl"
           }
          ],
          "histogram": [
           {
            "marker": {
             "pattern": {
              "fillmode": "overlay",
              "size": 10,
              "solidity": 0.2
             }
            },
            "type": "histogram"
           }
          ],
          "histogram2d": [
           {
            "colorbar": {
             "outlinewidth": 0,
             "ticks": ""
            },
            "colorscale": [
             [
              0,
              "#0d0887"
             ],
             [
              0.1111111111111111,
              "#46039f"
             ],
             [
              0.2222222222222222,
              "#7201a8"
             ],
             [
              0.3333333333333333,
              "#9c179e"
             ],
             [
              0.4444444444444444,
              "#bd3786"
             ],
             [
              0.5555555555555556,
              "#d8576b"
             ],
             [
              0.6666666666666666,
              "#ed7953"
             ],
             [
              0.7777777777777778,
              "#fb9f3a"
             ],
             [
              0.8888888888888888,
              "#fdca26"
             ],
             [
              1,
              "#f0f921"
             ]
            ],
            "type": "histogram2d"
           }
          ],
          "histogram2dcontour": [
           {
            "colorbar": {
             "outlinewidth": 0,
             "ticks": ""
            },
            "colorscale": [
             [
              0,
              "#0d0887"
             ],
             [
              0.1111111111111111,
              "#46039f"
             ],
             [
              0.2222222222222222,
              "#7201a8"
             ],
             [
              0.3333333333333333,
              "#9c179e"
             ],
             [
              0.4444444444444444,
              "#bd3786"
             ],
             [
              0.5555555555555556,
              "#d8576b"
             ],
             [
              0.6666666666666666,
              "#ed7953"
             ],
             [
              0.7777777777777778,
              "#fb9f3a"
             ],
             [
              0.8888888888888888,
              "#fdca26"
             ],
             [
              1,
              "#f0f921"
             ]
            ],
            "type": "histogram2dcontour"
           }
          ],
          "mesh3d": [
           {
            "colorbar": {
             "outlinewidth": 0,
             "ticks": ""
            },
            "type": "mesh3d"
           }
          ],
          "parcoords": [
           {
            "line": {
             "colorbar": {
              "outlinewidth": 0,
              "ticks": ""
             }
            },
            "type": "parcoords"
           }
          ],
          "pie": [
           {
            "automargin": true,
            "type": "pie"
           }
          ],
          "scatter": [
           {
            "fillpattern": {
             "fillmode": "overlay",
             "size": 10,
             "solidity": 0.2
            },
            "type": "scatter"
           }
          ],
          "scatter3d": [
           {
            "line": {
             "colorbar": {
              "outlinewidth": 0,
              "ticks": ""
             }
            },
            "marker": {
             "colorbar": {
              "outlinewidth": 0,
              "ticks": ""
             }
            },
            "type": "scatter3d"
           }
          ],
          "scattercarpet": [
           {
            "marker": {
             "colorbar": {
              "outlinewidth": 0,
              "ticks": ""
             }
            },
            "type": "scattercarpet"
           }
          ],
          "scattergeo": [
           {
            "marker": {
             "colorbar": {
              "outlinewidth": 0,
              "ticks": ""
             }
            },
            "type": "scattergeo"
           }
          ],
          "scattergl": [
           {
            "marker": {
             "colorbar": {
              "outlinewidth": 0,
              "ticks": ""
             }
            },
            "type": "scattergl"
           }
          ],
          "scattermapbox": [
           {
            "marker": {
             "colorbar": {
              "outlinewidth": 0,
              "ticks": ""
             }
            },
            "type": "scattermapbox"
           }
          ],
          "scatterpolar": [
           {
            "marker": {
             "colorbar": {
              "outlinewidth": 0,
              "ticks": ""
             }
            },
            "type": "scatterpolar"
           }
          ],
          "scatterpolargl": [
           {
            "marker": {
             "colorbar": {
              "outlinewidth": 0,
              "ticks": ""
             }
            },
            "type": "scatterpolargl"
           }
          ],
          "scatterternary": [
           {
            "marker": {
             "colorbar": {
              "outlinewidth": 0,
              "ticks": ""
             }
            },
            "type": "scatterternary"
           }
          ],
          "surface": [
           {
            "colorbar": {
             "outlinewidth": 0,
             "ticks": ""
            },
            "colorscale": [
             [
              0,
              "#0d0887"
             ],
             [
              0.1111111111111111,
              "#46039f"
             ],
             [
              0.2222222222222222,
              "#7201a8"
             ],
             [
              0.3333333333333333,
              "#9c179e"
             ],
             [
              0.4444444444444444,
              "#bd3786"
             ],
             [
              0.5555555555555556,
              "#d8576b"
             ],
             [
              0.6666666666666666,
              "#ed7953"
             ],
             [
              0.7777777777777778,
              "#fb9f3a"
             ],
             [
              0.8888888888888888,
              "#fdca26"
             ],
             [
              1,
              "#f0f921"
             ]
            ],
            "type": "surface"
           }
          ],
          "table": [
           {
            "cells": {
             "fill": {
              "color": "#EBF0F8"
             },
             "line": {
              "color": "white"
             }
            },
            "header": {
             "fill": {
              "color": "#C8D4E3"
             },
             "line": {
              "color": "white"
             }
            },
            "type": "table"
           }
          ]
         },
         "layout": {
          "annotationdefaults": {
           "arrowcolor": "#2a3f5f",
           "arrowhead": 0,
           "arrowwidth": 1
          },
          "autotypenumbers": "strict",
          "coloraxis": {
           "colorbar": {
            "outlinewidth": 0,
            "ticks": ""
           }
          },
          "colorscale": {
           "diverging": [
            [
             0,
             "#8e0152"
            ],
            [
             0.1,
             "#c51b7d"
            ],
            [
             0.2,
             "#de77ae"
            ],
            [
             0.3,
             "#f1b6da"
            ],
            [
             0.4,
             "#fde0ef"
            ],
            [
             0.5,
             "#f7f7f7"
            ],
            [
             0.6,
             "#e6f5d0"
            ],
            [
             0.7,
             "#b8e186"
            ],
            [
             0.8,
             "#7fbc41"
            ],
            [
             0.9,
             "#4d9221"
            ],
            [
             1,
             "#276419"
            ]
           ],
           "sequential": [
            [
             0,
             "#0d0887"
            ],
            [
             0.1111111111111111,
             "#46039f"
            ],
            [
             0.2222222222222222,
             "#7201a8"
            ],
            [
             0.3333333333333333,
             "#9c179e"
            ],
            [
             0.4444444444444444,
             "#bd3786"
            ],
            [
             0.5555555555555556,
             "#d8576b"
            ],
            [
             0.6666666666666666,
             "#ed7953"
            ],
            [
             0.7777777777777778,
             "#fb9f3a"
            ],
            [
             0.8888888888888888,
             "#fdca26"
            ],
            [
             1,
             "#f0f921"
            ]
           ],
           "sequentialminus": [
            [
             0,
             "#0d0887"
            ],
            [
             0.1111111111111111,
             "#46039f"
            ],
            [
             0.2222222222222222,
             "#7201a8"
            ],
            [
             0.3333333333333333,
             "#9c179e"
            ],
            [
             0.4444444444444444,
             "#bd3786"
            ],
            [
             0.5555555555555556,
             "#d8576b"
            ],
            [
             0.6666666666666666,
             "#ed7953"
            ],
            [
             0.7777777777777778,
             "#fb9f3a"
            ],
            [
             0.8888888888888888,
             "#fdca26"
            ],
            [
             1,
             "#f0f921"
            ]
           ]
          },
          "colorway": [
           "#636efa",
           "#EF553B",
           "#00cc96",
           "#ab63fa",
           "#FFA15A",
           "#19d3f3",
           "#FF6692",
           "#B6E880",
           "#FF97FF",
           "#FECB52"
          ],
          "font": {
           "color": "#2a3f5f"
          },
          "geo": {
           "bgcolor": "white",
           "lakecolor": "white",
           "landcolor": "#E5ECF6",
           "showlakes": true,
           "showland": true,
           "subunitcolor": "white"
          },
          "hoverlabel": {
           "align": "left"
          },
          "hovermode": "closest",
          "mapbox": {
           "style": "light"
          },
          "paper_bgcolor": "white",
          "plot_bgcolor": "#E5ECF6",
          "polar": {
           "angularaxis": {
            "gridcolor": "white",
            "linecolor": "white",
            "ticks": ""
           },
           "bgcolor": "#E5ECF6",
           "radialaxis": {
            "gridcolor": "white",
            "linecolor": "white",
            "ticks": ""
           }
          },
          "scene": {
           "xaxis": {
            "backgroundcolor": "#E5ECF6",
            "gridcolor": "white",
            "gridwidth": 2,
            "linecolor": "white",
            "showbackground": true,
            "ticks": "",
            "zerolinecolor": "white"
           },
           "yaxis": {
            "backgroundcolor": "#E5ECF6",
            "gridcolor": "white",
            "gridwidth": 2,
            "linecolor": "white",
            "showbackground": true,
            "ticks": "",
            "zerolinecolor": "white"
           },
           "zaxis": {
            "backgroundcolor": "#E5ECF6",
            "gridcolor": "white",
            "gridwidth": 2,
            "linecolor": "white",
            "showbackground": true,
            "ticks": "",
            "zerolinecolor": "white"
           }
          },
          "shapedefaults": {
           "line": {
            "color": "#2a3f5f"
           }
          },
          "ternary": {
           "aaxis": {
            "gridcolor": "white",
            "linecolor": "white",
            "ticks": ""
           },
           "baxis": {
            "gridcolor": "white",
            "linecolor": "white",
            "ticks": ""
           },
           "bgcolor": "#E5ECF6",
           "caxis": {
            "gridcolor": "white",
            "linecolor": "white",
            "ticks": ""
           }
          },
          "title": {
           "x": 0.05
          },
          "xaxis": {
           "automargin": true,
           "gridcolor": "white",
           "linecolor": "white",
           "ticks": "",
           "title": {
            "standoff": 15
           },
           "zerolinecolor": "white",
           "zerolinewidth": 2
          },
          "yaxis": {
           "automargin": true,
           "gridcolor": "white",
           "linecolor": "white",
           "ticks": "",
           "title": {
            "standoff": 15
           },
           "zerolinecolor": "white",
           "zerolinewidth": 2
          }
         }
        },
        "title": {
         "text": "Program Skill Level Counts by Program Main Category Code",
         "x": 0.5
        },
        "xaxis": {
         "title": {
          "text": "Program Skill Level"
         }
        },
        "yaxis": {
         "title": {
          "text": "Count"
         }
        }
       }
      }
     },
     "metadata": {},
     "output_type": "display_data"
    }
   ],
   "source": [
    "fig = go.Figure()\n",
    "\n",
    "for category in grouped_data['Program Main Category Code'].unique():\n",
    "    category_data = grouped_data[grouped_data['Program Main Category Code'] == category]\n",
    "    fig.add_trace(\n",
    "        go.Bar(\n",
    "            x=category_data['Program Skill Level'],\n",
    "            y=category_data['Count'],\n",
    "            name=category  # Legend for the Program Main Category Code\n",
    "        )\n",
    "    )\n",
    "\n",
    "# Updating layout for better visualization\n",
    "fig.update_layout(\n",
    "    title='Program Skill Level Counts by Program Main Category Code',\n",
    "    xaxis_title='Program Skill Level',\n",
    "    yaxis_title='Count',\n",
    "    barmode='group',  # Group bars by category\n",
    "    title_x=0.5  # Center the title\n",
    ")\n",
    "\n",
    "# Display the chart\n",
    "fig.show()"
   ]
  },
  {
   "cell_type": "code",
   "execution_count": 60,
   "metadata": {},
   "outputs": [
    {
     "name": "stdout",
     "output_type": "stream",
     "text": [
      "Group Modes: {'PCRF': 'مبتدئ', 'APMR': 'متوسط', 'GRST': 'متوسط', 'TOSL': 'متوسط', 'CAUF': 'مبتدئ', 'ABIR': 'مبتدئ', 'INFA': 'متوسط', 'SERU': 'متوسط', 'DTFH': 'مبتدئ', 'QWLM': 'متوسط'}\n"
     ]
    }
   ],
   "source": [
    "group_modes = {}\n",
    "\n",
    "for category in df['Program Main Category Code'].unique():\n",
    "    category_data = df[df['Program Main Category Code'] == category]['Program Skill Level']\n",
    "    mode_value = category_data.mode().iloc[0] if not category_data.mode().empty else None\n",
    "    group_modes[category] = mode_value\n",
    "\n",
    "print(\"Group Modes:\", group_modes)\n"
   ]
  },
  {
   "cell_type": "code",
   "execution_count": 61,
   "metadata": {},
   "outputs": [
    {
     "data": {
      "text/plain": [
       "0"
      ]
     },
     "execution_count": 61,
     "metadata": {},
     "output_type": "execute_result"
    }
   ],
   "source": [
    "for index, row in df.iterrows():\n",
    "    if pd.isnull(row['Program Skill Level']):\n",
    "        category = row['Program Main Category Code']\n",
    "        if category in group_modes and group_modes[category] is not None:\n",
    "            df.at[index, 'Program Skill Level'] = group_modes[category]\n",
    "\n",
    "df['Program Skill Level'].isnull().sum()\n"
   ]
  },
  {
   "cell_type": "code",
   "execution_count": 62,
   "metadata": {},
   "outputs": [
    {
     "data": {
      "application/vnd.plotly.v1+json": {
       "config": {
        "plotlyServerURL": "https://plot.ly"
       },
       "data": [
        {
         "type": "bar",
         "x": [
          "مبتدئ",
          "متوسط",
          "متقدم"
         ],
         "y": [
          3168,
          2635,
          697
         ]
        }
       ],
       "layout": {
        "template": {
         "data": {
          "bar": [
           {
            "error_x": {
             "color": "#2a3f5f"
            },
            "error_y": {
             "color": "#2a3f5f"
            },
            "marker": {
             "line": {
              "color": "#E5ECF6",
              "width": 0.5
             },
             "pattern": {
              "fillmode": "overlay",
              "size": 10,
              "solidity": 0.2
             }
            },
            "type": "bar"
           }
          ],
          "barpolar": [
           {
            "marker": {
             "line": {
              "color": "#E5ECF6",
              "width": 0.5
             },
             "pattern": {
              "fillmode": "overlay",
              "size": 10,
              "solidity": 0.2
             }
            },
            "type": "barpolar"
           }
          ],
          "carpet": [
           {
            "aaxis": {
             "endlinecolor": "#2a3f5f",
             "gridcolor": "white",
             "linecolor": "white",
             "minorgridcolor": "white",
             "startlinecolor": "#2a3f5f"
            },
            "baxis": {
             "endlinecolor": "#2a3f5f",
             "gridcolor": "white",
             "linecolor": "white",
             "minorgridcolor": "white",
             "startlinecolor": "#2a3f5f"
            },
            "type": "carpet"
           }
          ],
          "choropleth": [
           {
            "colorbar": {
             "outlinewidth": 0,
             "ticks": ""
            },
            "type": "choropleth"
           }
          ],
          "contour": [
           {
            "colorbar": {
             "outlinewidth": 0,
             "ticks": ""
            },
            "colorscale": [
             [
              0,
              "#0d0887"
             ],
             [
              0.1111111111111111,
              "#46039f"
             ],
             [
              0.2222222222222222,
              "#7201a8"
             ],
             [
              0.3333333333333333,
              "#9c179e"
             ],
             [
              0.4444444444444444,
              "#bd3786"
             ],
             [
              0.5555555555555556,
              "#d8576b"
             ],
             [
              0.6666666666666666,
              "#ed7953"
             ],
             [
              0.7777777777777778,
              "#fb9f3a"
             ],
             [
              0.8888888888888888,
              "#fdca26"
             ],
             [
              1,
              "#f0f921"
             ]
            ],
            "type": "contour"
           }
          ],
          "contourcarpet": [
           {
            "colorbar": {
             "outlinewidth": 0,
             "ticks": ""
            },
            "type": "contourcarpet"
           }
          ],
          "heatmap": [
           {
            "colorbar": {
             "outlinewidth": 0,
             "ticks": ""
            },
            "colorscale": [
             [
              0,
              "#0d0887"
             ],
             [
              0.1111111111111111,
              "#46039f"
             ],
             [
              0.2222222222222222,
              "#7201a8"
             ],
             [
              0.3333333333333333,
              "#9c179e"
             ],
             [
              0.4444444444444444,
              "#bd3786"
             ],
             [
              0.5555555555555556,
              "#d8576b"
             ],
             [
              0.6666666666666666,
              "#ed7953"
             ],
             [
              0.7777777777777778,
              "#fb9f3a"
             ],
             [
              0.8888888888888888,
              "#fdca26"
             ],
             [
              1,
              "#f0f921"
             ]
            ],
            "type": "heatmap"
           }
          ],
          "heatmapgl": [
           {
            "colorbar": {
             "outlinewidth": 0,
             "ticks": ""
            },
            "colorscale": [
             [
              0,
              "#0d0887"
             ],
             [
              0.1111111111111111,
              "#46039f"
             ],
             [
              0.2222222222222222,
              "#7201a8"
             ],
             [
              0.3333333333333333,
              "#9c179e"
             ],
             [
              0.4444444444444444,
              "#bd3786"
             ],
             [
              0.5555555555555556,
              "#d8576b"
             ],
             [
              0.6666666666666666,
              "#ed7953"
             ],
             [
              0.7777777777777778,
              "#fb9f3a"
             ],
             [
              0.8888888888888888,
              "#fdca26"
             ],
             [
              1,
              "#f0f921"
             ]
            ],
            "type": "heatmapgl"
           }
          ],
          "histogram": [
           {
            "marker": {
             "pattern": {
              "fillmode": "overlay",
              "size": 10,
              "solidity": 0.2
             }
            },
            "type": "histogram"
           }
          ],
          "histogram2d": [
           {
            "colorbar": {
             "outlinewidth": 0,
             "ticks": ""
            },
            "colorscale": [
             [
              0,
              "#0d0887"
             ],
             [
              0.1111111111111111,
              "#46039f"
             ],
             [
              0.2222222222222222,
              "#7201a8"
             ],
             [
              0.3333333333333333,
              "#9c179e"
             ],
             [
              0.4444444444444444,
              "#bd3786"
             ],
             [
              0.5555555555555556,
              "#d8576b"
             ],
             [
              0.6666666666666666,
              "#ed7953"
             ],
             [
              0.7777777777777778,
              "#fb9f3a"
             ],
             [
              0.8888888888888888,
              "#fdca26"
             ],
             [
              1,
              "#f0f921"
             ]
            ],
            "type": "histogram2d"
           }
          ],
          "histogram2dcontour": [
           {
            "colorbar": {
             "outlinewidth": 0,
             "ticks": ""
            },
            "colorscale": [
             [
              0,
              "#0d0887"
             ],
             [
              0.1111111111111111,
              "#46039f"
             ],
             [
              0.2222222222222222,
              "#7201a8"
             ],
             [
              0.3333333333333333,
              "#9c179e"
             ],
             [
              0.4444444444444444,
              "#bd3786"
             ],
             [
              0.5555555555555556,
              "#d8576b"
             ],
             [
              0.6666666666666666,
              "#ed7953"
             ],
             [
              0.7777777777777778,
              "#fb9f3a"
             ],
             [
              0.8888888888888888,
              "#fdca26"
             ],
             [
              1,
              "#f0f921"
             ]
            ],
            "type": "histogram2dcontour"
           }
          ],
          "mesh3d": [
           {
            "colorbar": {
             "outlinewidth": 0,
             "ticks": ""
            },
            "type": "mesh3d"
           }
          ],
          "parcoords": [
           {
            "line": {
             "colorbar": {
              "outlinewidth": 0,
              "ticks": ""
             }
            },
            "type": "parcoords"
           }
          ],
          "pie": [
           {
            "automargin": true,
            "type": "pie"
           }
          ],
          "scatter": [
           {
            "fillpattern": {
             "fillmode": "overlay",
             "size": 10,
             "solidity": 0.2
            },
            "type": "scatter"
           }
          ],
          "scatter3d": [
           {
            "line": {
             "colorbar": {
              "outlinewidth": 0,
              "ticks": ""
             }
            },
            "marker": {
             "colorbar": {
              "outlinewidth": 0,
              "ticks": ""
             }
            },
            "type": "scatter3d"
           }
          ],
          "scattercarpet": [
           {
            "marker": {
             "colorbar": {
              "outlinewidth": 0,
              "ticks": ""
             }
            },
            "type": "scattercarpet"
           }
          ],
          "scattergeo": [
           {
            "marker": {
             "colorbar": {
              "outlinewidth": 0,
              "ticks": ""
             }
            },
            "type": "scattergeo"
           }
          ],
          "scattergl": [
           {
            "marker": {
             "colorbar": {
              "outlinewidth": 0,
              "ticks": ""
             }
            },
            "type": "scattergl"
           }
          ],
          "scattermapbox": [
           {
            "marker": {
             "colorbar": {
              "outlinewidth": 0,
              "ticks": ""
             }
            },
            "type": "scattermapbox"
           }
          ],
          "scatterpolar": [
           {
            "marker": {
             "colorbar": {
              "outlinewidth": 0,
              "ticks": ""
             }
            },
            "type": "scatterpolar"
           }
          ],
          "scatterpolargl": [
           {
            "marker": {
             "colorbar": {
              "outlinewidth": 0,
              "ticks": ""
             }
            },
            "type": "scatterpolargl"
           }
          ],
          "scatterternary": [
           {
            "marker": {
             "colorbar": {
              "outlinewidth": 0,
              "ticks": ""
             }
            },
            "type": "scatterternary"
           }
          ],
          "surface": [
           {
            "colorbar": {
             "outlinewidth": 0,
             "ticks": ""
            },
            "colorscale": [
             [
              0,
              "#0d0887"
             ],
             [
              0.1111111111111111,
              "#46039f"
             ],
             [
              0.2222222222222222,
              "#7201a8"
             ],
             [
              0.3333333333333333,
              "#9c179e"
             ],
             [
              0.4444444444444444,
              "#bd3786"
             ],
             [
              0.5555555555555556,
              "#d8576b"
             ],
             [
              0.6666666666666666,
              "#ed7953"
             ],
             [
              0.7777777777777778,
              "#fb9f3a"
             ],
             [
              0.8888888888888888,
              "#fdca26"
             ],
             [
              1,
              "#f0f921"
             ]
            ],
            "type": "surface"
           }
          ],
          "table": [
           {
            "cells": {
             "fill": {
              "color": "#EBF0F8"
             },
             "line": {
              "color": "white"
             }
            },
            "header": {
             "fill": {
              "color": "#C8D4E3"
             },
             "line": {
              "color": "white"
             }
            },
            "type": "table"
           }
          ]
         },
         "layout": {
          "annotationdefaults": {
           "arrowcolor": "#2a3f5f",
           "arrowhead": 0,
           "arrowwidth": 1
          },
          "autotypenumbers": "strict",
          "coloraxis": {
           "colorbar": {
            "outlinewidth": 0,
            "ticks": ""
           }
          },
          "colorscale": {
           "diverging": [
            [
             0,
             "#8e0152"
            ],
            [
             0.1,
             "#c51b7d"
            ],
            [
             0.2,
             "#de77ae"
            ],
            [
             0.3,
             "#f1b6da"
            ],
            [
             0.4,
             "#fde0ef"
            ],
            [
             0.5,
             "#f7f7f7"
            ],
            [
             0.6,
             "#e6f5d0"
            ],
            [
             0.7,
             "#b8e186"
            ],
            [
             0.8,
             "#7fbc41"
            ],
            [
             0.9,
             "#4d9221"
            ],
            [
             1,
             "#276419"
            ]
           ],
           "sequential": [
            [
             0,
             "#0d0887"
            ],
            [
             0.1111111111111111,
             "#46039f"
            ],
            [
             0.2222222222222222,
             "#7201a8"
            ],
            [
             0.3333333333333333,
             "#9c179e"
            ],
            [
             0.4444444444444444,
             "#bd3786"
            ],
            [
             0.5555555555555556,
             "#d8576b"
            ],
            [
             0.6666666666666666,
             "#ed7953"
            ],
            [
             0.7777777777777778,
             "#fb9f3a"
            ],
            [
             0.8888888888888888,
             "#fdca26"
            ],
            [
             1,
             "#f0f921"
            ]
           ],
           "sequentialminus": [
            [
             0,
             "#0d0887"
            ],
            [
             0.1111111111111111,
             "#46039f"
            ],
            [
             0.2222222222222222,
             "#7201a8"
            ],
            [
             0.3333333333333333,
             "#9c179e"
            ],
            [
             0.4444444444444444,
             "#bd3786"
            ],
            [
             0.5555555555555556,
             "#d8576b"
            ],
            [
             0.6666666666666666,
             "#ed7953"
            ],
            [
             0.7777777777777778,
             "#fb9f3a"
            ],
            [
             0.8888888888888888,
             "#fdca26"
            ],
            [
             1,
             "#f0f921"
            ]
           ]
          },
          "colorway": [
           "#636efa",
           "#EF553B",
           "#00cc96",
           "#ab63fa",
           "#FFA15A",
           "#19d3f3",
           "#FF6692",
           "#B6E880",
           "#FF97FF",
           "#FECB52"
          ],
          "font": {
           "color": "#2a3f5f"
          },
          "geo": {
           "bgcolor": "white",
           "lakecolor": "white",
           "landcolor": "#E5ECF6",
           "showlakes": true,
           "showland": true,
           "subunitcolor": "white"
          },
          "hoverlabel": {
           "align": "left"
          },
          "hovermode": "closest",
          "mapbox": {
           "style": "light"
          },
          "paper_bgcolor": "white",
          "plot_bgcolor": "#E5ECF6",
          "polar": {
           "angularaxis": {
            "gridcolor": "white",
            "linecolor": "white",
            "ticks": ""
           },
           "bgcolor": "#E5ECF6",
           "radialaxis": {
            "gridcolor": "white",
            "linecolor": "white",
            "ticks": ""
           }
          },
          "scene": {
           "xaxis": {
            "backgroundcolor": "#E5ECF6",
            "gridcolor": "white",
            "gridwidth": 2,
            "linecolor": "white",
            "showbackground": true,
            "ticks": "",
            "zerolinecolor": "white"
           },
           "yaxis": {
            "backgroundcolor": "#E5ECF6",
            "gridcolor": "white",
            "gridwidth": 2,
            "linecolor": "white",
            "showbackground": true,
            "ticks": "",
            "zerolinecolor": "white"
           },
           "zaxis": {
            "backgroundcolor": "#E5ECF6",
            "gridcolor": "white",
            "gridwidth": 2,
            "linecolor": "white",
            "showbackground": true,
            "ticks": "",
            "zerolinecolor": "white"
           }
          },
          "shapedefaults": {
           "line": {
            "color": "#2a3f5f"
           }
          },
          "ternary": {
           "aaxis": {
            "gridcolor": "white",
            "linecolor": "white",
            "ticks": ""
           },
           "baxis": {
            "gridcolor": "white",
            "linecolor": "white",
            "ticks": ""
           },
           "bgcolor": "#E5ECF6",
           "caxis": {
            "gridcolor": "white",
            "linecolor": "white",
            "ticks": ""
           }
          },
          "title": {
           "x": 0.05
          },
          "xaxis": {
           "automargin": true,
           "gridcolor": "white",
           "linecolor": "white",
           "ticks": "",
           "title": {
            "standoff": 15
           },
           "zerolinecolor": "white",
           "zerolinewidth": 2
          },
          "yaxis": {
           "automargin": true,
           "gridcolor": "white",
           "linecolor": "white",
           "ticks": "",
           "title": {
            "standoff": 15
           },
           "zerolinecolor": "white",
           "zerolinewidth": 2
          }
         }
        },
        "title": {
         "text": "Distribution of Program Skill Level After Filling",
         "x": 0.5
        },
        "xaxis": {
         "title": {
          "text": "Program Skill Level"
         }
        },
        "yaxis": {
         "title": {
          "text": "Count"
         }
        }
       }
      }
     },
     "metadata": {},
     "output_type": "display_data"
    }
   ],
   "source": [
    "go.Figure(\n",
    "    data=[\n",
    "        go.Bar(\n",
    "            x=df['Program Skill Level'].value_counts().index,\n",
    "            y=df['Program Skill Level'].value_counts().values\n",
    "        )\n",
    "    ]\n",
    ").update_layout(\n",
    "    title='Distribution of Program Skill Level After Filling',\n",
    "    xaxis_title='Program Skill Level',\n",
    "    yaxis_title='Count',\n",
    "    title_x=0.5\n",
    ").show()"
   ]
  },
  {
   "cell_type": "markdown",
   "metadata": {},
   "source": [
    "### Fill University Degree Score"
   ]
  },
  {
   "cell_type": "code",
   "execution_count": 63,
   "metadata": {},
   "outputs": [
    {
     "data": {
      "text/plain": [
       "count    6424.000000\n",
       "mean        8.242163\n",
       "std        19.153997\n",
       "min         0.000000\n",
       "25%         3.300000\n",
       "50%         4.000000\n",
       "75%         4.510000\n",
       "max       100.000000\n",
       "Name: University Degree Score, dtype: float64"
      ]
     },
     "execution_count": 63,
     "metadata": {},
     "output_type": "execute_result"
    }
   ],
   "source": [
    "df['University Degree Score'].describe()"
   ]
  },
  {
   "cell_type": "code",
   "execution_count": 64,
   "metadata": {},
   "outputs": [
    {
     "data": {
      "text/html": [
       "<div>\n",
       "<style scoped>\n",
       "    .dataframe tbody tr th:only-of-type {\n",
       "        vertical-align: middle;\n",
       "    }\n",
       "\n",
       "    .dataframe tbody tr th {\n",
       "        vertical-align: top;\n",
       "    }\n",
       "\n",
       "    .dataframe thead th {\n",
       "        text-align: right;\n",
       "    }\n",
       "</style>\n",
       "<table border=\"1\" class=\"dataframe\">\n",
       "  <thead>\n",
       "    <tr style=\"text-align: right;\">\n",
       "      <th></th>\n",
       "      <th></th>\n",
       "      <th>count</th>\n",
       "      <th>mean</th>\n",
       "      <th>std</th>\n",
       "      <th>min</th>\n",
       "      <th>25%</th>\n",
       "      <th>50%</th>\n",
       "      <th>75%</th>\n",
       "      <th>max</th>\n",
       "    </tr>\n",
       "    <tr>\n",
       "      <th>Level of Education</th>\n",
       "      <th>University Degree Score System</th>\n",
       "      <th></th>\n",
       "      <th></th>\n",
       "      <th></th>\n",
       "      <th></th>\n",
       "      <th></th>\n",
       "      <th></th>\n",
       "      <th></th>\n",
       "      <th></th>\n",
       "    </tr>\n",
       "  </thead>\n",
       "  <tbody>\n",
       "    <tr>\n",
       "      <th rowspan=\"3\" valign=\"top\">البكالوريوس</th>\n",
       "      <th>4</th>\n",
       "      <td>1187.0</td>\n",
       "      <td>3.074706</td>\n",
       "      <td>0.622516</td>\n",
       "      <td>1.00</td>\n",
       "      <td>2.710</td>\n",
       "      <td>3.000</td>\n",
       "      <td>3.6000</td>\n",
       "      <td>4.0</td>\n",
       "    </tr>\n",
       "    <tr>\n",
       "      <th>5</th>\n",
       "      <td>4090.0</td>\n",
       "      <td>4.015712</td>\n",
       "      <td>0.800238</td>\n",
       "      <td>1.60</td>\n",
       "      <td>3.630</td>\n",
       "      <td>4.000</td>\n",
       "      <td>4.5100</td>\n",
       "      <td>33.0</td>\n",
       "    </tr>\n",
       "    <tr>\n",
       "      <th>100</th>\n",
       "      <td>74.0</td>\n",
       "      <td>78.222838</td>\n",
       "      <td>19.969464</td>\n",
       "      <td>3.21</td>\n",
       "      <td>74.000</td>\n",
       "      <td>82.285</td>\n",
       "      <td>88.7500</td>\n",
       "      <td>100.0</td>\n",
       "    </tr>\n",
       "    <tr>\n",
       "      <th rowspan=\"3\" valign=\"top\">الدبلوم</th>\n",
       "      <th>4</th>\n",
       "      <td>14.0</td>\n",
       "      <td>2.722143</td>\n",
       "      <td>0.651781</td>\n",
       "      <td>2.00</td>\n",
       "      <td>2.000</td>\n",
       "      <td>2.980</td>\n",
       "      <td>3.0800</td>\n",
       "      <td>4.0</td>\n",
       "    </tr>\n",
       "    <tr>\n",
       "      <th>5</th>\n",
       "      <td>278.0</td>\n",
       "      <td>4.096799</td>\n",
       "      <td>0.674145</td>\n",
       "      <td>2.00</td>\n",
       "      <td>3.810</td>\n",
       "      <td>4.120</td>\n",
       "      <td>4.6300</td>\n",
       "      <td>5.0</td>\n",
       "    </tr>\n",
       "    <tr>\n",
       "      <th>100</th>\n",
       "      <td>14.0</td>\n",
       "      <td>84.357143</td>\n",
       "      <td>11.626278</td>\n",
       "      <td>66.00</td>\n",
       "      <td>75.250</td>\n",
       "      <td>84.000</td>\n",
       "      <td>95.2500</td>\n",
       "      <td>98.0</td>\n",
       "    </tr>\n",
       "    <tr>\n",
       "      <th rowspan=\"3\" valign=\"top\">الدكتوراه</th>\n",
       "      <th>4</th>\n",
       "      <td>6.0</td>\n",
       "      <td>3.915000</td>\n",
       "      <td>0.164165</td>\n",
       "      <td>3.59</td>\n",
       "      <td>3.925</td>\n",
       "      <td>4.000</td>\n",
       "      <td>4.0000</td>\n",
       "      <td>4.0</td>\n",
       "    </tr>\n",
       "    <tr>\n",
       "      <th>5</th>\n",
       "      <td>22.0</td>\n",
       "      <td>2.851364</td>\n",
       "      <td>2.430830</td>\n",
       "      <td>0.00</td>\n",
       "      <td>0.000</td>\n",
       "      <td>4.645</td>\n",
       "      <td>4.8475</td>\n",
       "      <td>5.0</td>\n",
       "    </tr>\n",
       "    <tr>\n",
       "      <th>100</th>\n",
       "      <td>2.0</td>\n",
       "      <td>100.000000</td>\n",
       "      <td>0.000000</td>\n",
       "      <td>100.00</td>\n",
       "      <td>100.000</td>\n",
       "      <td>100.000</td>\n",
       "      <td>100.0000</td>\n",
       "      <td>100.0</td>\n",
       "    </tr>\n",
       "    <tr>\n",
       "      <th rowspan=\"3\" valign=\"top\">الماجستير</th>\n",
       "      <th>4</th>\n",
       "      <td>205.0</td>\n",
       "      <td>3.574463</td>\n",
       "      <td>0.406838</td>\n",
       "      <td>2.00</td>\n",
       "      <td>3.300</td>\n",
       "      <td>3.700</td>\n",
       "      <td>3.9000</td>\n",
       "      <td>4.0</td>\n",
       "    </tr>\n",
       "    <tr>\n",
       "      <th>5</th>\n",
       "      <td>239.0</td>\n",
       "      <td>4.547824</td>\n",
       "      <td>0.419229</td>\n",
       "      <td>2.00</td>\n",
       "      <td>4.300</td>\n",
       "      <td>4.640</td>\n",
       "      <td>4.8800</td>\n",
       "      <td>5.0</td>\n",
       "    </tr>\n",
       "    <tr>\n",
       "      <th>100</th>\n",
       "      <td>32.0</td>\n",
       "      <td>77.171875</td>\n",
       "      <td>9.694203</td>\n",
       "      <td>60.00</td>\n",
       "      <td>69.750</td>\n",
       "      <td>80.000</td>\n",
       "      <td>84.2500</td>\n",
       "      <td>92.0</td>\n",
       "    </tr>\n",
       "    <tr>\n",
       "      <th rowspan=\"3\" valign=\"top\">ثانوي</th>\n",
       "      <th>4</th>\n",
       "      <td>3.0</td>\n",
       "      <td>3.360000</td>\n",
       "      <td>0.576888</td>\n",
       "      <td>2.88</td>\n",
       "      <td>3.040</td>\n",
       "      <td>3.200</td>\n",
       "      <td>3.6000</td>\n",
       "      <td>4.0</td>\n",
       "    </tr>\n",
       "    <tr>\n",
       "      <th>5</th>\n",
       "      <td>41.0</td>\n",
       "      <td>3.556585</td>\n",
       "      <td>15.367341</td>\n",
       "      <td>0.00</td>\n",
       "      <td>0.000</td>\n",
       "      <td>0.000</td>\n",
       "      <td>4.0800</td>\n",
       "      <td>98.8</td>\n",
       "    </tr>\n",
       "    <tr>\n",
       "      <th>100</th>\n",
       "      <td>217.0</td>\n",
       "      <td>92.146959</td>\n",
       "      <td>15.263282</td>\n",
       "      <td>0.00</td>\n",
       "      <td>91.000</td>\n",
       "      <td>95.730</td>\n",
       "      <td>98.7000</td>\n",
       "      <td>100.0</td>\n",
       "    </tr>\n",
       "  </tbody>\n",
       "</table>\n",
       "</div>"
      ],
      "text/plain": [
       "                                                    count        mean  \\\n",
       "Level of Education University Degree Score System                       \n",
       "البكالوريوس        4                               1187.0    3.074706   \n",
       "                   5                               4090.0    4.015712   \n",
       "                   100                               74.0   78.222838   \n",
       "الدبلوم            4                                 14.0    2.722143   \n",
       "                   5                                278.0    4.096799   \n",
       "                   100                               14.0   84.357143   \n",
       "الدكتوراه          4                                  6.0    3.915000   \n",
       "                   5                                 22.0    2.851364   \n",
       "                   100                                2.0  100.000000   \n",
       "الماجستير          4                                205.0    3.574463   \n",
       "                   5                                239.0    4.547824   \n",
       "                   100                               32.0   77.171875   \n",
       "ثانوي              4                                  3.0    3.360000   \n",
       "                   5                                 41.0    3.556585   \n",
       "                   100                              217.0   92.146959   \n",
       "\n",
       "                                                         std     min      25%  \\\n",
       "Level of Education University Degree Score System                               \n",
       "البكالوريوس        4                                0.622516    1.00    2.710   \n",
       "                   5                                0.800238    1.60    3.630   \n",
       "                   100                             19.969464    3.21   74.000   \n",
       "الدبلوم            4                                0.651781    2.00    2.000   \n",
       "                   5                                0.674145    2.00    3.810   \n",
       "                   100                             11.626278   66.00   75.250   \n",
       "الدكتوراه          4                                0.164165    3.59    3.925   \n",
       "                   5                                2.430830    0.00    0.000   \n",
       "                   100                              0.000000  100.00  100.000   \n",
       "الماجستير          4                                0.406838    2.00    3.300   \n",
       "                   5                                0.419229    2.00    4.300   \n",
       "                   100                              9.694203   60.00   69.750   \n",
       "ثانوي              4                                0.576888    2.88    3.040   \n",
       "                   5                               15.367341    0.00    0.000   \n",
       "                   100                             15.263282    0.00   91.000   \n",
       "\n",
       "                                                       50%       75%    max  \n",
       "Level of Education University Degree Score System                            \n",
       "البكالوريوس        4                                 3.000    3.6000    4.0  \n",
       "                   5                                 4.000    4.5100   33.0  \n",
       "                   100                              82.285   88.7500  100.0  \n",
       "الدبلوم            4                                 2.980    3.0800    4.0  \n",
       "                   5                                 4.120    4.6300    5.0  \n",
       "                   100                              84.000   95.2500   98.0  \n",
       "الدكتوراه          4                                 4.000    4.0000    4.0  \n",
       "                   5                                 4.645    4.8475    5.0  \n",
       "                   100                             100.000  100.0000  100.0  \n",
       "الماجستير          4                                 3.700    3.9000    4.0  \n",
       "                   5                                 4.640    4.8800    5.0  \n",
       "                   100                              80.000   84.2500   92.0  \n",
       "ثانوي              4                                 3.200    3.6000    4.0  \n",
       "                   5                                 0.000    4.0800   98.8  \n",
       "                   100                              95.730   98.7000  100.0  "
      ]
     },
     "execution_count": 64,
     "metadata": {},
     "output_type": "execute_result"
    }
   ],
   "source": [
    "grouped_description = df.groupby(['Level of Education', 'University Degree Score System'])['University Degree Score'].describe()\n",
    "grouped_description"
   ]
  },
  {
   "cell_type": "code",
   "execution_count": 65,
   "metadata": {},
   "outputs": [
    {
     "data": {
      "application/vnd.plotly.v1+json": {
       "config": {
        "plotlyServerURL": "https://plot.ly"
       },
       "data": [
        {
         "name": "System 4",
         "type": "bar",
         "x": [
          "البكالوريوس",
          "الدبلوم",
          "الدكتوراه",
          "الماجستير",
          "ثانوي"
         ],
         "y": [
          3.0747059814658804,
          2.722142857142857,
          3.9150000000000005,
          3.574463414634146,
          3.36
         ]
        },
        {
         "name": "System 5",
         "type": "bar",
         "x": [
          "البكالوريوس",
          "الدبلوم",
          "الدكتوراه",
          "الماجستير",
          "ثانوي"
         ],
         "y": [
          4.015712224938875,
          4.096798561151079,
          2.851363636363637,
          4.547824267782428,
          3.5565853658536586
         ]
        },
        {
         "name": "System 100",
         "type": "bar",
         "x": [
          "البكالوريوس",
          "الدبلوم",
          "الدكتوراه",
          "الماجستير",
          "ثانوي"
         ],
         "y": [
          78.22283783783784,
          84.35714285714286,
          100,
          77.171875,
          92.14695852534562
         ]
        }
       ],
       "layout": {
        "barmode": "group",
        "template": {
         "data": {
          "bar": [
           {
            "error_x": {
             "color": "#2a3f5f"
            },
            "error_y": {
             "color": "#2a3f5f"
            },
            "marker": {
             "line": {
              "color": "#E5ECF6",
              "width": 0.5
             },
             "pattern": {
              "fillmode": "overlay",
              "size": 10,
              "solidity": 0.2
             }
            },
            "type": "bar"
           }
          ],
          "barpolar": [
           {
            "marker": {
             "line": {
              "color": "#E5ECF6",
              "width": 0.5
             },
             "pattern": {
              "fillmode": "overlay",
              "size": 10,
              "solidity": 0.2
             }
            },
            "type": "barpolar"
           }
          ],
          "carpet": [
           {
            "aaxis": {
             "endlinecolor": "#2a3f5f",
             "gridcolor": "white",
             "linecolor": "white",
             "minorgridcolor": "white",
             "startlinecolor": "#2a3f5f"
            },
            "baxis": {
             "endlinecolor": "#2a3f5f",
             "gridcolor": "white",
             "linecolor": "white",
             "minorgridcolor": "white",
             "startlinecolor": "#2a3f5f"
            },
            "type": "carpet"
           }
          ],
          "choropleth": [
           {
            "colorbar": {
             "outlinewidth": 0,
             "ticks": ""
            },
            "type": "choropleth"
           }
          ],
          "contour": [
           {
            "colorbar": {
             "outlinewidth": 0,
             "ticks": ""
            },
            "colorscale": [
             [
              0,
              "#0d0887"
             ],
             [
              0.1111111111111111,
              "#46039f"
             ],
             [
              0.2222222222222222,
              "#7201a8"
             ],
             [
              0.3333333333333333,
              "#9c179e"
             ],
             [
              0.4444444444444444,
              "#bd3786"
             ],
             [
              0.5555555555555556,
              "#d8576b"
             ],
             [
              0.6666666666666666,
              "#ed7953"
             ],
             [
              0.7777777777777778,
              "#fb9f3a"
             ],
             [
              0.8888888888888888,
              "#fdca26"
             ],
             [
              1,
              "#f0f921"
             ]
            ],
            "type": "contour"
           }
          ],
          "contourcarpet": [
           {
            "colorbar": {
             "outlinewidth": 0,
             "ticks": ""
            },
            "type": "contourcarpet"
           }
          ],
          "heatmap": [
           {
            "colorbar": {
             "outlinewidth": 0,
             "ticks": ""
            },
            "colorscale": [
             [
              0,
              "#0d0887"
             ],
             [
              0.1111111111111111,
              "#46039f"
             ],
             [
              0.2222222222222222,
              "#7201a8"
             ],
             [
              0.3333333333333333,
              "#9c179e"
             ],
             [
              0.4444444444444444,
              "#bd3786"
             ],
             [
              0.5555555555555556,
              "#d8576b"
             ],
             [
              0.6666666666666666,
              "#ed7953"
             ],
             [
              0.7777777777777778,
              "#fb9f3a"
             ],
             [
              0.8888888888888888,
              "#fdca26"
             ],
             [
              1,
              "#f0f921"
             ]
            ],
            "type": "heatmap"
           }
          ],
          "heatmapgl": [
           {
            "colorbar": {
             "outlinewidth": 0,
             "ticks": ""
            },
            "colorscale": [
             [
              0,
              "#0d0887"
             ],
             [
              0.1111111111111111,
              "#46039f"
             ],
             [
              0.2222222222222222,
              "#7201a8"
             ],
             [
              0.3333333333333333,
              "#9c179e"
             ],
             [
              0.4444444444444444,
              "#bd3786"
             ],
             [
              0.5555555555555556,
              "#d8576b"
             ],
             [
              0.6666666666666666,
              "#ed7953"
             ],
             [
              0.7777777777777778,
              "#fb9f3a"
             ],
             [
              0.8888888888888888,
              "#fdca26"
             ],
             [
              1,
              "#f0f921"
             ]
            ],
            "type": "heatmapgl"
           }
          ],
          "histogram": [
           {
            "marker": {
             "pattern": {
              "fillmode": "overlay",
              "size": 10,
              "solidity": 0.2
             }
            },
            "type": "histogram"
           }
          ],
          "histogram2d": [
           {
            "colorbar": {
             "outlinewidth": 0,
             "ticks": ""
            },
            "colorscale": [
             [
              0,
              "#0d0887"
             ],
             [
              0.1111111111111111,
              "#46039f"
             ],
             [
              0.2222222222222222,
              "#7201a8"
             ],
             [
              0.3333333333333333,
              "#9c179e"
             ],
             [
              0.4444444444444444,
              "#bd3786"
             ],
             [
              0.5555555555555556,
              "#d8576b"
             ],
             [
              0.6666666666666666,
              "#ed7953"
             ],
             [
              0.7777777777777778,
              "#fb9f3a"
             ],
             [
              0.8888888888888888,
              "#fdca26"
             ],
             [
              1,
              "#f0f921"
             ]
            ],
            "type": "histogram2d"
           }
          ],
          "histogram2dcontour": [
           {
            "colorbar": {
             "outlinewidth": 0,
             "ticks": ""
            },
            "colorscale": [
             [
              0,
              "#0d0887"
             ],
             [
              0.1111111111111111,
              "#46039f"
             ],
             [
              0.2222222222222222,
              "#7201a8"
             ],
             [
              0.3333333333333333,
              "#9c179e"
             ],
             [
              0.4444444444444444,
              "#bd3786"
             ],
             [
              0.5555555555555556,
              "#d8576b"
             ],
             [
              0.6666666666666666,
              "#ed7953"
             ],
             [
              0.7777777777777778,
              "#fb9f3a"
             ],
             [
              0.8888888888888888,
              "#fdca26"
             ],
             [
              1,
              "#f0f921"
             ]
            ],
            "type": "histogram2dcontour"
           }
          ],
          "mesh3d": [
           {
            "colorbar": {
             "outlinewidth": 0,
             "ticks": ""
            },
            "type": "mesh3d"
           }
          ],
          "parcoords": [
           {
            "line": {
             "colorbar": {
              "outlinewidth": 0,
              "ticks": ""
             }
            },
            "type": "parcoords"
           }
          ],
          "pie": [
           {
            "automargin": true,
            "type": "pie"
           }
          ],
          "scatter": [
           {
            "fillpattern": {
             "fillmode": "overlay",
             "size": 10,
             "solidity": 0.2
            },
            "type": "scatter"
           }
          ],
          "scatter3d": [
           {
            "line": {
             "colorbar": {
              "outlinewidth": 0,
              "ticks": ""
             }
            },
            "marker": {
             "colorbar": {
              "outlinewidth": 0,
              "ticks": ""
             }
            },
            "type": "scatter3d"
           }
          ],
          "scattercarpet": [
           {
            "marker": {
             "colorbar": {
              "outlinewidth": 0,
              "ticks": ""
             }
            },
            "type": "scattercarpet"
           }
          ],
          "scattergeo": [
           {
            "marker": {
             "colorbar": {
              "outlinewidth": 0,
              "ticks": ""
             }
            },
            "type": "scattergeo"
           }
          ],
          "scattergl": [
           {
            "marker": {
             "colorbar": {
              "outlinewidth": 0,
              "ticks": ""
             }
            },
            "type": "scattergl"
           }
          ],
          "scattermapbox": [
           {
            "marker": {
             "colorbar": {
              "outlinewidth": 0,
              "ticks": ""
             }
            },
            "type": "scattermapbox"
           }
          ],
          "scatterpolar": [
           {
            "marker": {
             "colorbar": {
              "outlinewidth": 0,
              "ticks": ""
             }
            },
            "type": "scatterpolar"
           }
          ],
          "scatterpolargl": [
           {
            "marker": {
             "colorbar": {
              "outlinewidth": 0,
              "ticks": ""
             }
            },
            "type": "scatterpolargl"
           }
          ],
          "scatterternary": [
           {
            "marker": {
             "colorbar": {
              "outlinewidth": 0,
              "ticks": ""
             }
            },
            "type": "scatterternary"
           }
          ],
          "surface": [
           {
            "colorbar": {
             "outlinewidth": 0,
             "ticks": ""
            },
            "colorscale": [
             [
              0,
              "#0d0887"
             ],
             [
              0.1111111111111111,
              "#46039f"
             ],
             [
              0.2222222222222222,
              "#7201a8"
             ],
             [
              0.3333333333333333,
              "#9c179e"
             ],
             [
              0.4444444444444444,
              "#bd3786"
             ],
             [
              0.5555555555555556,
              "#d8576b"
             ],
             [
              0.6666666666666666,
              "#ed7953"
             ],
             [
              0.7777777777777778,
              "#fb9f3a"
             ],
             [
              0.8888888888888888,
              "#fdca26"
             ],
             [
              1,
              "#f0f921"
             ]
            ],
            "type": "surface"
           }
          ],
          "table": [
           {
            "cells": {
             "fill": {
              "color": "#EBF0F8"
             },
             "line": {
              "color": "white"
             }
            },
            "header": {
             "fill": {
              "color": "#C8D4E3"
             },
             "line": {
              "color": "white"
             }
            },
            "type": "table"
           }
          ]
         },
         "layout": {
          "annotationdefaults": {
           "arrowcolor": "#2a3f5f",
           "arrowhead": 0,
           "arrowwidth": 1
          },
          "autotypenumbers": "strict",
          "coloraxis": {
           "colorbar": {
            "outlinewidth": 0,
            "ticks": ""
           }
          },
          "colorscale": {
           "diverging": [
            [
             0,
             "#8e0152"
            ],
            [
             0.1,
             "#c51b7d"
            ],
            [
             0.2,
             "#de77ae"
            ],
            [
             0.3,
             "#f1b6da"
            ],
            [
             0.4,
             "#fde0ef"
            ],
            [
             0.5,
             "#f7f7f7"
            ],
            [
             0.6,
             "#e6f5d0"
            ],
            [
             0.7,
             "#b8e186"
            ],
            [
             0.8,
             "#7fbc41"
            ],
            [
             0.9,
             "#4d9221"
            ],
            [
             1,
             "#276419"
            ]
           ],
           "sequential": [
            [
             0,
             "#0d0887"
            ],
            [
             0.1111111111111111,
             "#46039f"
            ],
            [
             0.2222222222222222,
             "#7201a8"
            ],
            [
             0.3333333333333333,
             "#9c179e"
            ],
            [
             0.4444444444444444,
             "#bd3786"
            ],
            [
             0.5555555555555556,
             "#d8576b"
            ],
            [
             0.6666666666666666,
             "#ed7953"
            ],
            [
             0.7777777777777778,
             "#fb9f3a"
            ],
            [
             0.8888888888888888,
             "#fdca26"
            ],
            [
             1,
             "#f0f921"
            ]
           ],
           "sequentialminus": [
            [
             0,
             "#0d0887"
            ],
            [
             0.1111111111111111,
             "#46039f"
            ],
            [
             0.2222222222222222,
             "#7201a8"
            ],
            [
             0.3333333333333333,
             "#9c179e"
            ],
            [
             0.4444444444444444,
             "#bd3786"
            ],
            [
             0.5555555555555556,
             "#d8576b"
            ],
            [
             0.6666666666666666,
             "#ed7953"
            ],
            [
             0.7777777777777778,
             "#fb9f3a"
            ],
            [
             0.8888888888888888,
             "#fdca26"
            ],
            [
             1,
             "#f0f921"
            ]
           ]
          },
          "colorway": [
           "#636efa",
           "#EF553B",
           "#00cc96",
           "#ab63fa",
           "#FFA15A",
           "#19d3f3",
           "#FF6692",
           "#B6E880",
           "#FF97FF",
           "#FECB52"
          ],
          "font": {
           "color": "#2a3f5f"
          },
          "geo": {
           "bgcolor": "white",
           "lakecolor": "white",
           "landcolor": "#E5ECF6",
           "showlakes": true,
           "showland": true,
           "subunitcolor": "white"
          },
          "hoverlabel": {
           "align": "left"
          },
          "hovermode": "closest",
          "mapbox": {
           "style": "light"
          },
          "paper_bgcolor": "white",
          "plot_bgcolor": "#E5ECF6",
          "polar": {
           "angularaxis": {
            "gridcolor": "white",
            "linecolor": "white",
            "ticks": ""
           },
           "bgcolor": "#E5ECF6",
           "radialaxis": {
            "gridcolor": "white",
            "linecolor": "white",
            "ticks": ""
           }
          },
          "scene": {
           "xaxis": {
            "backgroundcolor": "#E5ECF6",
            "gridcolor": "white",
            "gridwidth": 2,
            "linecolor": "white",
            "showbackground": true,
            "ticks": "",
            "zerolinecolor": "white"
           },
           "yaxis": {
            "backgroundcolor": "#E5ECF6",
            "gridcolor": "white",
            "gridwidth": 2,
            "linecolor": "white",
            "showbackground": true,
            "ticks": "",
            "zerolinecolor": "white"
           },
           "zaxis": {
            "backgroundcolor": "#E5ECF6",
            "gridcolor": "white",
            "gridwidth": 2,
            "linecolor": "white",
            "showbackground": true,
            "ticks": "",
            "zerolinecolor": "white"
           }
          },
          "shapedefaults": {
           "line": {
            "color": "#2a3f5f"
           }
          },
          "ternary": {
           "aaxis": {
            "gridcolor": "white",
            "linecolor": "white",
            "ticks": ""
           },
           "baxis": {
            "gridcolor": "white",
            "linecolor": "white",
            "ticks": ""
           },
           "bgcolor": "#E5ECF6",
           "caxis": {
            "gridcolor": "white",
            "linecolor": "white",
            "ticks": ""
           }
          },
          "title": {
           "x": 0.05
          },
          "xaxis": {
           "automargin": true,
           "gridcolor": "white",
           "linecolor": "white",
           "ticks": "",
           "title": {
            "standoff": 15
           },
           "zerolinecolor": "white",
           "zerolinewidth": 2
          },
          "yaxis": {
           "automargin": true,
           "gridcolor": "white",
           "linecolor": "white",
           "ticks": "",
           "title": {
            "standoff": 15
           },
           "zerolinecolor": "white",
           "zerolinewidth": 2
          }
         }
        },
        "title": {
         "text": "Mean University Degree Score by Level of Education and Score System",
         "x": 0.5
        },
        "xaxis": {
         "title": {
          "text": "Level of Education"
         }
        },
        "yaxis": {
         "title": {
          "text": "Mean Score"
         }
        }
       }
      }
     },
     "metadata": {},
     "output_type": "display_data"
    }
   ],
   "source": [
    "# Ensure 'grouped_description' is defined and contains the required data\n",
    "mean_scores = grouped_description['mean'].reset_index()\n",
    "\n",
    "# Initialize the figure\n",
    "fig = go.Figure()\n",
    "\n",
    "# Add bars for each unique University Degree Score System\n",
    "for system in mean_scores['University Degree Score System'].unique():\n",
    "    filtered_data = mean_scores[mean_scores['University Degree Score System'] == system]\n",
    "    fig.add_trace(\n",
    "        go.Bar(\n",
    "            x=filtered_data['Level of Education'],\n",
    "            y=filtered_data['mean'],\n",
    "            name=f'System {system}'  # Add legend for each score system\n",
    "        )\n",
    "    )\n",
    "\n",
    "# Update the layout for better visualization\n",
    "fig.update_layout(\n",
    "    title='Mean University Degree Score by Level of Education and Score System',\n",
    "    xaxis_title='Level of Education',\n",
    "    yaxis_title='Mean Score',\n",
    "    barmode='group',  # Group bars by score system\n",
    "    title_x=0.5  # Center the title\n",
    ")\n",
    "\n",
    "# Display the figure\n",
    "fig.show()\n",
    "\n"
   ]
  },
  {
   "cell_type": "code",
   "execution_count": 66,
   "metadata": {},
   "outputs": [],
   "source": [
    "score_system_mapping = {\n",
    "    'ثانوي': 100,\n",
    "    'البكالوريوس': 5,\n",
    "    'الدبلوم': 5,\n",
    "    'الدكتوراه': 5,\n",
    "    'الماجستير': 5\n",
    "}"
   ]
  },
  {
   "cell_type": "code",
   "execution_count": 67,
   "metadata": {},
   "outputs": [],
   "source": [
    "def fill_score_system(row):\n",
    "    if pd.isnull(row['University Degree Score System']):  # If the system is missing\n",
    "        education = row['Level of Education']\n",
    "        if education in score_system_mapping:\n",
    "            return score_system_mapping[education]  # Assign based on Level of Education\n",
    "    return row['University Degree Score System']  # Keep the original value if not missing"
   ]
  },
  {
   "cell_type": "code",
   "execution_count": 68,
   "metadata": {},
   "outputs": [],
   "source": [
    "df['University Degree Score System'] = df.apply(fill_score_system, axis=1)\n"
   ]
  },
  {
   "cell_type": "code",
   "execution_count": 69,
   "metadata": {},
   "outputs": [
    {
     "data": {
      "text/plain": [
       "0"
      ]
     },
     "execution_count": 69,
     "metadata": {},
     "output_type": "execute_result"
    }
   ],
   "source": [
    "df['University Degree Score System'].isnull().sum()"
   ]
  },
  {
   "cell_type": "code",
   "execution_count": 70,
   "metadata": {},
   "outputs": [],
   "source": [
    "education_mean_values = {\n",
    "    'البكالوريوس': 4.015712,\n",
    "    'الدبلوم': 4.096799,\n",
    "    'الدكتوراه': 2.851364,\n",
    "    'الماجستير': 4.547824,\n",
    "    'ثانوي': 92.146959\n",
    "}"
   ]
  },
  {
   "cell_type": "code",
   "execution_count": 71,
   "metadata": {},
   "outputs": [],
   "source": [
    "def fill_university_degree_score(row):\n",
    "    if pd.isnull(row['University Degree Score']):\n",
    "        education = row['Level of Education']\n",
    "        if education in education_mean_values:\n",
    "            return education_mean_values[education]\n",
    "    return row['University Degree Score']  "
   ]
  },
  {
   "cell_type": "code",
   "execution_count": 72,
   "metadata": {},
   "outputs": [],
   "source": [
    "df['University Degree Score'] = df.apply(fill_university_degree_score, axis=1)"
   ]
  },
  {
   "cell_type": "code",
   "execution_count": 73,
   "metadata": {},
   "outputs": [
    {
     "data": {
      "text/plain": [
       "0"
      ]
     },
     "execution_count": 73,
     "metadata": {},
     "output_type": "execute_result"
    }
   ],
   "source": [
    "df['University Degree Score'].isnull().sum()"
   ]
  },
  {
   "cell_type": "code",
   "execution_count": 74,
   "metadata": {},
   "outputs": [],
   "source": [
    "def convert_score(score, score_system):\n",
    "    if score_system == 4:\n",
    "        return score * (5 / 4)\n",
    "    elif score_system == 100:\n",
    "        return score / 20\n",
    "    else:\n",
    "        return score\n",
    "df['GPA'] = df.apply(lambda row: convert_score(row['University Degree Score'], row['University Degree Score System']), axis=1)"
   ]
  },
  {
   "cell_type": "code",
   "execution_count": 75,
   "metadata": {},
   "outputs": [
    {
     "data": {
      "text/html": [
       "<div>\n",
       "<style scoped>\n",
       "    .dataframe tbody tr th:only-of-type {\n",
       "        vertical-align: middle;\n",
       "    }\n",
       "\n",
       "    .dataframe tbody tr th {\n",
       "        vertical-align: top;\n",
       "    }\n",
       "\n",
       "    .dataframe thead th {\n",
       "        text-align: right;\n",
       "    }\n",
       "</style>\n",
       "<table border=\"1\" class=\"dataframe\">\n",
       "  <thead>\n",
       "    <tr style=\"text-align: right;\">\n",
       "      <th></th>\n",
       "      <th>count</th>\n",
       "      <th>mean</th>\n",
       "      <th>std</th>\n",
       "      <th>min</th>\n",
       "      <th>25%</th>\n",
       "      <th>50%</th>\n",
       "      <th>75%</th>\n",
       "      <th>max</th>\n",
       "    </tr>\n",
       "    <tr>\n",
       "      <th>Level of Education</th>\n",
       "      <th></th>\n",
       "      <th></th>\n",
       "      <th></th>\n",
       "      <th></th>\n",
       "      <th></th>\n",
       "      <th></th>\n",
       "      <th></th>\n",
       "      <th></th>\n",
       "    </tr>\n",
       "  </thead>\n",
       "  <tbody>\n",
       "    <tr>\n",
       "      <th>البكالوريوس</th>\n",
       "      <td>5413.0</td>\n",
       "      <td>3.976493</td>\n",
       "      <td>0.796932</td>\n",
       "      <td>0.1605</td>\n",
       "      <td>3.570</td>\n",
       "      <td>4.0000</td>\n",
       "      <td>4.5000</td>\n",
       "      <td>33.0</td>\n",
       "    </tr>\n",
       "    <tr>\n",
       "      <th>الدبلوم</th>\n",
       "      <td>309.0</td>\n",
       "      <td>4.070835</td>\n",
       "      <td>0.687677</td>\n",
       "      <td>2.0000</td>\n",
       "      <td>3.750</td>\n",
       "      <td>4.0800</td>\n",
       "      <td>4.6300</td>\n",
       "      <td>5.0</td>\n",
       "    </tr>\n",
       "    <tr>\n",
       "      <th>الدكتوراه</th>\n",
       "      <td>30.0</td>\n",
       "      <td>3.403083</td>\n",
       "      <td>2.269951</td>\n",
       "      <td>0.0000</td>\n",
       "      <td>0.000</td>\n",
       "      <td>4.8400</td>\n",
       "      <td>4.9575</td>\n",
       "      <td>5.0</td>\n",
       "    </tr>\n",
       "    <tr>\n",
       "      <th>الماجستير</th>\n",
       "      <td>481.0</td>\n",
       "      <td>4.467984</td>\n",
       "      <td>0.490132</td>\n",
       "      <td>2.0000</td>\n",
       "      <td>4.075</td>\n",
       "      <td>4.6125</td>\n",
       "      <td>4.8750</td>\n",
       "      <td>5.0</td>\n",
       "    </tr>\n",
       "    <tr>\n",
       "      <th>ثانوي</th>\n",
       "      <td>267.0</td>\n",
       "      <td>4.441418</td>\n",
       "      <td>6.011100</td>\n",
       "      <td>0.0000</td>\n",
       "      <td>4.400</td>\n",
       "      <td>4.7000</td>\n",
       "      <td>4.9000</td>\n",
       "      <td>98.8</td>\n",
       "    </tr>\n",
       "  </tbody>\n",
       "</table>\n",
       "</div>"
      ],
      "text/plain": [
       "                     count      mean       std     min    25%     50%     75%  \\\n",
       "Level of Education                                                              \n",
       "البكالوريوس         5413.0  3.976493  0.796932  0.1605  3.570  4.0000  4.5000   \n",
       "الدبلوم              309.0  4.070835  0.687677  2.0000  3.750  4.0800  4.6300   \n",
       "الدكتوراه             30.0  3.403083  2.269951  0.0000  0.000  4.8400  4.9575   \n",
       "الماجستير            481.0  4.467984  0.490132  2.0000  4.075  4.6125  4.8750   \n",
       "ثانوي                267.0  4.441418  6.011100  0.0000  4.400  4.7000  4.9000   \n",
       "\n",
       "                     max  \n",
       "Level of Education        \n",
       "البكالوريوس         33.0  \n",
       "الدبلوم              5.0  \n",
       "الدكتوراه            5.0  \n",
       "الماجستير            5.0  \n",
       "ثانوي               98.8  "
      ]
     },
     "execution_count": 75,
     "metadata": {},
     "output_type": "execute_result"
    }
   ],
   "source": [
    "df.groupby('Level of Education')['GPA'].describe()"
   ]
  },
  {
   "cell_type": "code",
   "execution_count": 76,
   "metadata": {},
   "outputs": [
    {
     "data": {
      "application/vnd.plotly.v1+json": {
       "config": {
        "plotlyServerURL": "https://plot.ly"
       },
       "data": [
        {
         "boxpoints": "all",
         "name": "GPA",
         "type": "box",
         "y": [
          3.05,
          5,
          3.5,
          3.5,
          3.55,
          4,
          4.07,
          4,
          4.55,
          3,
          2,
          4,
          4,
          4.7875,
          3.75,
          3.64,
          3.64,
          4,
          4.6,
          4.6,
          3.81,
          3.81,
          3.81,
          3.81,
          3.5625,
          2.48,
          2.48,
          4.31,
          3,
          3,
          3,
          3.9,
          4.07,
          3.97,
          4.56,
          4.1,
          2.5,
          2.5,
          3,
          3,
          3.28,
          3.49,
          4,
          4.7,
          3,
          4,
          4,
          2.65,
          5,
          4.45,
          4,
          4,
          3.36,
          4.84,
          4.84,
          5,
          4.55,
          3.9,
          4.22,
          2.5,
          4.12,
          4.4,
          4.4,
          5,
          3.5999999999999996,
          4.92,
          4.11,
          4.65,
          5,
          5,
          4.8,
          4.8,
          3,
          3,
          4.5,
          4.5,
          4.5,
          4.5,
          4,
          4,
          3,
          4.24,
          4.24,
          4.42,
          4.42,
          3.42,
          4.1,
          4.02,
          4.125,
          3.75,
          2.91,
          3.75,
          3.75,
          4,
          4,
          3.75,
          4.79,
          3.82,
          3.6,
          0,
          0,
          4,
          4.2,
          4,
          4,
          4,
          4,
          4,
          4,
          4.6,
          4.75,
          4.75,
          2.5,
          2.5,
          4.33,
          4.5,
          4.5,
          4.5,
          4.5,
          2.925,
          3.5,
          4.76,
          3,
          3,
          3.8,
          2.5,
          4.9350000000000005,
          4.9350000000000005,
          4.24,
          4.73,
          4.09,
          3.77,
          3.77,
          3.77,
          3.89,
          3.89,
          4.9,
          4.9,
          2.47,
          2.47,
          3,
          3,
          4.4,
          4.9,
          4.9,
          3.21,
          3.21,
          4,
          3,
          3,
          4,
          4.49,
          4.49,
          4.31,
          2.375,
          4.625,
          4.625,
          5,
          4.54,
          4.54,
          4.54,
          2.72,
          2.72,
          3.3,
          3.3,
          3.27,
          3.27,
          4.22,
          4.75,
          4.75,
          2.84,
          2.84,
          3.5,
          4.4125,
          4.625,
          4.625,
          4.66,
          3.45,
          4.31,
          4.31,
          4.55,
          4.78,
          3,
          3.3,
          3,
          2.31,
          4.78,
          4.78,
          3.59,
          4.95,
          4.6,
          4.64,
          5,
          4,
          4.93,
          4.93,
          4.544,
          4.79,
          4.79,
          4.51,
          2.96,
          2.96,
          3.13,
          4.99,
          4.99,
          4,
          4,
          4.9,
          4.9,
          4.33,
          4.015712,
          4.015712,
          4.91,
          4.91,
          4.94875,
          4.77,
          3,
          5,
          4.825,
          4.5,
          4.5,
          2.6374999999999997,
          2.6374999999999997,
          5,
          4.62,
          4.62,
          4.67,
          4,
          4,
          2.76,
          2.76,
          4.25,
          1.25,
          1.25,
          5,
          2.18,
          2.18,
          2.18,
          4.67,
          4.67,
          4,
          4,
          4,
          4.9905,
          4.9905,
          3.65,
          4.21,
          4.21,
          4.21,
          3.74,
          4.42,
          4.96,
          5,
          4.09,
          4.915,
          3.5,
          4.975,
          4.975,
          4.975,
          4.975,
          5,
          5,
          2.4,
          4.57,
          2.77,
          3.27,
          3.27,
          4.5,
          4.5,
          4.5,
          4.5,
          4.6000000000000005,
          5,
          5,
          5,
          5,
          3.33,
          4.55,
          3.375,
          4.69,
          3.75,
          3.5125,
          3.5125,
          3,
          3.23,
          4.31,
          3.76,
          4,
          4,
          4.8,
          4.8,
          4.5,
          3.4,
          4.45,
          3.64,
          3.64,
          3.35,
          5,
          4.31,
          4.31,
          4,
          2,
          2,
          4,
          4.125,
          4.125,
          0,
          0,
          3.2,
          5,
          5,
          5,
          4.4,
          4.79,
          4.8,
          4.7,
          4.015712,
          4.58,
          4.58,
          4.75,
          4,
          5,
          4.8,
          4.85,
          4,
          4,
          3,
          3.5,
          3.5,
          3.75,
          4.67,
          4.67,
          4.19,
          4.08,
          4.08,
          2.6624999999999996,
          3.75,
          3.5,
          5,
          5,
          4.9,
          4.9,
          4.4875,
          4.78,
          4.25,
          4.25,
          4.25,
          4.25,
          4.91,
          4,
          4.6875,
          3.5,
          3.5,
          4.2625,
          4.74,
          4,
          4,
          4.24,
          4.61,
          4,
          4,
          4.51,
          3.74,
          4,
          4,
          4,
          4.92,
          4.61,
          3.53,
          4,
          3.75,
          3.85,
          3.85,
          3.8,
          4,
          3.82,
          3.82,
          4.9,
          4.9,
          4.9,
          4.04,
          4.04,
          4.96,
          4.0125,
          4.9825,
          4.9825,
          3.9250000000000003,
          4.2125,
          4.2125,
          4.63,
          4.63,
          4.63,
          4,
          4,
          1.875,
          3,
          4.9125000000000005,
          4.85,
          4.85,
          4.74,
          4.625,
          3.5,
          4,
          3.57,
          4.75,
          3.4375,
          3.21,
          3.7,
          5,
          3,
          3,
          4.16,
          4,
          4,
          4.69,
          4,
          3.82,
          3.51,
          3.51,
          4.69,
          3,
          4.02,
          4.75,
          4.75,
          3.875,
          4.55,
          4.55,
          4.55,
          3,
          4.71,
          4.71,
          3.75,
          4,
          4.362500000000001,
          3.45,
          4,
          4,
          4.84,
          4.84,
          3.91,
          3.91,
          3.91,
          4.2,
          2.91,
          3,
          3,
          3.2,
          4.6,
          4.6,
          4.6,
          3.75,
          4.3,
          3.8,
          3.6,
          4.71,
          4.98,
          3.75,
          3.75,
          3,
          3.77,
          3.77,
          3.77,
          3.77,
          4.53,
          4.39,
          4.45,
          3.5,
          3.5,
          3.5,
          4.015712,
          4.3,
          4.3,
          3.95,
          4.72,
          4.5,
          4.42,
          4.4,
          4.4,
          4.4,
          4.47,
          2.5,
          4.925,
          4.925,
          4.23,
          4.23,
          3.99,
          4.57,
          3.75,
          4.164,
          4.164,
          4.55,
          4.55,
          4.15,
          4.04,
          3,
          3.67,
          3.67,
          3.97,
          4.3,
          4.3,
          5,
          4,
          4,
          4.43,
          4.43,
          3.29,
          4,
          4,
          4.9719999999999995,
          4.8,
          4.8,
          3.75,
          4.15,
          3.44,
          3.44,
          0,
          0,
          0,
          4.25,
          4.16,
          4.16,
          4.67,
          3.1,
          4.31,
          4.31,
          4.5,
          4.5,
          4.5,
          4,
          3.83,
          4.61,
          4.5,
          4.5,
          4.5,
          4.5,
          4.85,
          4,
          4,
          4,
          4,
          3.9875,
          4.78,
          4.3,
          4.3,
          4.3,
          4.7,
          3.9000000000000004,
          4.27,
          4.27,
          4.75,
          4,
          3.75,
          3.75,
          3.75,
          4.4,
          4.4,
          4.4,
          3,
          3,
          3,
          3.75,
          3.5999999999999996,
          3.5999999999999996,
          3.9,
          3.09,
          3.09,
          3.09,
          3.09,
          3.09,
          3.09,
          5,
          5,
          3.93,
          4.445,
          4.445,
          4,
          4.58,
          4,
          4,
          4,
          4.43,
          4,
          4,
          3.46,
          4,
          4,
          4,
          4,
          4,
          4.07,
          4.07,
          3.7,
          4.62,
          4.1,
          3.9124999999999996,
          4.6,
          4,
          2,
          3.19,
          4.96,
          4.96,
          4.96,
          4.96,
          4.96,
          3,
          4.46,
          4.46,
          2.43,
          3.3,
          4.2,
          4.2,
          4.19,
          3,
          4,
          4,
          4,
          4,
          4,
          4,
          4,
          4,
          4,
          4.63,
          4.63,
          4.51,
          4.51,
          4.15,
          4.15,
          3.75,
          5,
          4.875,
          4.875,
          4,
          4,
          4,
          4.5,
          3,
          3,
          3.85,
          4,
          4.06,
          4,
          3.5,
          3.5,
          3.41,
          3.4000000000000004,
          3.4000000000000004,
          3.4000000000000004,
          4,
          4.9,
          3.98,
          3.98,
          3.98,
          3.98,
          4.25,
          4.91,
          4,
          4.89,
          4.89,
          4.89,
          3.55,
          3.55,
          4.35,
          4.35,
          4.35,
          4.725,
          3.77,
          3.25,
          4,
          4,
          4.54,
          4.2,
          3.25,
          4.94,
          4.94,
          2.5,
          3.75,
          3.71,
          4,
          4.18,
          4.13,
          4.13,
          4.13,
          4.8,
          5,
          4.65,
          4.5,
          4.5,
          3.8,
          3.8,
          3.8,
          3.85,
          3.85,
          2.9625000000000004,
          2.9625000000000004,
          4.9575000000000005,
          4.9575000000000005,
          4.14,
          4.14,
          3.875,
          4.78,
          4.78,
          4.5,
          4.5,
          4.5,
          4.5,
          4.5,
          3.95,
          3.95,
          4.56,
          5,
          2.3,
          5,
          5,
          3,
          3.7,
          3.2874999999999996,
          3.4250000000000003,
          3.4250000000000003,
          3.4250000000000003,
          4.83,
          3,
          4.45,
          4.45,
          5,
          4,
          4,
          4.09,
          4,
          4,
          2,
          3.9,
          3.9,
          4.89,
          4.89,
          3.08,
          4,
          4,
          4.55,
          4.4,
          4.46,
          3.5,
          3.5,
          3,
          3.95,
          3.95,
          2.7875,
          4.44,
          4.94,
          4,
          4.66,
          4.66,
          4.9,
          3.5875000000000004,
          3.96,
          4.987500000000001,
          5,
          5,
          5,
          5,
          5,
          4.76,
          4,
          4.72,
          4.72,
          4,
          4.9865,
          4.9865,
          4.9865,
          4.75,
          3.59,
          3.59,
          4.78,
          4.78,
          4.87,
          4,
          4.7875,
          3,
          4,
          4.4,
          4.4,
          2.69,
          4.97,
          4,
          4,
          3,
          4.325,
          4.57,
          4.57,
          4.65,
          4.95,
          3,
          3,
          4,
          4.66,
          3.74,
          5,
          3.75,
          2.5,
          3.7,
          4,
          4,
          4.35,
          4.35,
          3.75,
          3.75,
          4.33,
          4.33,
          4.89,
          4.41,
          4.41,
          4.41,
          4,
          4,
          4,
          3.12,
          3.12,
          4.25,
          3.75,
          3.75,
          3,
          4.4624999999999995,
          2.9625000000000004,
          2.9625000000000004,
          4,
          5,
          4.5,
          4,
          4,
          4.22375,
          4.22375,
          3.75,
          3.75,
          3.75,
          3.75,
          3.75,
          4.16,
          4.33,
          4,
          4.44,
          3,
          4.19,
          5,
          3,
          3,
          3.9,
          3.9,
          5,
          4.55,
          4.55,
          4.2875000000000005,
          3,
          3.9,
          5,
          4.26,
          4.26,
          3,
          3.86,
          3.86,
          4.75,
          4.75,
          5,
          5,
          5,
          3.3625,
          4.55,
          4.83,
          4.27,
          4.27,
          4.61,
          4.61,
          3.95,
          4.81,
          3.125,
          3.125,
          3.125,
          3.125,
          5,
          5,
          5,
          3.8,
          4.57,
          4.32,
          3.05,
          3.05,
          5,
          5,
          5,
          3.9,
          4.15,
          4.725,
          4.725,
          4.725,
          4.725,
          3.59,
          3.59,
          3,
          4.45,
          4,
          4,
          4,
          4.43,
          4.43,
          4,
          4.48,
          4.6,
          4.6,
          4.6,
          4.6,
          3.5,
          4.5375,
          3,
          3,
          3,
          3,
          3,
          3.625,
          4.33,
          4.33,
          4,
          4,
          3.75,
          3.8874999999999997,
          3,
          4,
          4.6,
          2.5,
          3.92,
          3.92,
          3.92,
          3.92,
          3.35,
          4,
          3,
          4.33,
          4.04,
          3.6625,
          3,
          3,
          4.61,
          4.8,
          4.8,
          2.4,
          2.4,
          4.7749999999999995,
          4.7749999999999995,
          4,
          4.88,
          2.5,
          5,
          5,
          3.56,
          3,
          4.25,
          4.2,
          4.97,
          2.8125,
          2.8125,
          2.8125,
          4.13,
          4.13,
          4.13,
          3.22,
          4.83,
          3.7,
          4.11,
          3.42,
          3.42,
          3,
          4.76,
          4,
          4,
          4.55,
          4.55,
          4.55,
          4.55,
          4.55,
          3.5,
          3.5,
          4.39,
          4.39,
          3.56,
          3.8,
          4.5,
          3.78,
          4.26,
          4.49,
          4.8,
          4.98,
          3,
          3,
          3.8375,
          4.125,
          4.125,
          4.125,
          4.125,
          4.125,
          4.54,
          4.87,
          4.375,
          3.75,
          4,
          3.75,
          4.83,
          2,
          3.6,
          4.72,
          2.875,
          2.875,
          4,
          4,
          4,
          4,
          4.94,
          4.5875,
          2.2,
          4.25,
          4.25,
          4.25,
          2.98,
          2.98,
          4.65,
          3.7,
          3.7,
          2.49,
          2.49,
          3.67,
          4.5,
          4.5,
          4.5,
          4.5,
          4.38,
          4.85,
          4.85,
          4.85,
          3.5,
          3.95,
          3.95,
          4.4,
          3.32,
          3.32,
          2.3,
          3.26,
          3.14,
          3.14,
          3.14,
          4.1375,
          4.1375,
          5,
          5,
          5,
          5,
          5,
          3,
          3,
          4.75,
          4.5,
          4.5,
          5,
          4.1,
          4.1,
          4.9,
          4.015712,
          4.015712,
          4.67,
          3.18,
          5,
          4.9,
          4.9,
          4.9,
          4.07,
          4.2,
          3,
          4.34,
          5,
          4,
          4,
          3.71,
          4.99,
          3.35,
          4.95,
          3.86,
          4.6445,
          4,
          4.65,
          4.65,
          4.55,
          3,
          4.9125000000000005,
          4.33,
          3,
          3,
          3,
          4,
          4.85,
          3.85,
          3,
          3,
          4,
          4,
          2.43,
          2.43,
          4.5625,
          4.5625,
          4,
          2.43375,
          3.6,
          3.75,
          3.75,
          4.92,
          2.77,
          2.77,
          2.77,
          2.77,
          3.375,
          3.375,
          3.75,
          4.85,
          4,
          3.75,
          3.75,
          3.75,
          3.75,
          4.825,
          4.825,
          4.825,
          4.3,
          3.4,
          4.6125,
          3.875,
          3.875,
          4,
          4,
          4,
          2.45,
          4.6,
          4.6,
          4.6,
          3,
          3,
          4.88,
          4.8625,
          4.8625,
          3.82,
          4.015712,
          4.015712,
          4.015712,
          4.015712,
          4.5,
          4.54,
          4,
          4,
          3.3,
          4.43,
          3,
          5,
          4,
          4,
          4,
          3.97,
          4.23,
          3,
          3,
          4.3,
          4.3,
          4.22,
          3.3875,
          4,
          4.37,
          4.37,
          3.08,
          4.4,
          4.44,
          4.54,
          3.75,
          3.75,
          3.99,
          3.45,
          3.45,
          3.76,
          4.362500000000001,
          5,
          4.71,
          4.85,
          2.5,
          4.32,
          4.32,
          0,
          3,
          4.59,
          3.27,
          3.81,
          4,
          3.63,
          4,
          4,
          3.97,
          3.97,
          3.97,
          4,
          3.51,
          3.6,
          2.81,
          3.8,
          4.8,
          4.07,
          2.5,
          2.8125,
          2.7875,
          2.7875,
          2.7875,
          2.7875,
          3.625,
          4.27,
          3.6375,
          3.75,
          4.015712,
          4.015712,
          5,
          4.2,
          5,
          4.51,
          4.51,
          4.49,
          4.49,
          4.7,
          3,
          3,
          4.33,
          4.58,
          4.5,
          4.5,
          4.5,
          4.5,
          4.6,
          3.5,
          3,
          3,
          4.82,
          4.5,
          3.9,
          4,
          3.55,
          4,
          4.83,
          3.63,
          5,
          4.76,
          3.0875000000000004,
          4.18,
          4.18,
          4.96,
          5,
          5,
          5,
          3.7624999999999997,
          5,
          3.6,
          3.6,
          3.49,
          3.49,
          3.42,
          3.42,
          3.42,
          4.5,
          4,
          4.57,
          4.28,
          4.28,
          4.325,
          4.325,
          2.13,
          2.13,
          4.71,
          5,
          4.35,
          4.35,
          4.35,
          4.76,
          4.5,
          4.5,
          4.11,
          4.175,
          4.175,
          4.375,
          4.375,
          3.75,
          2.36,
          4.725,
          4.725,
          4.725,
          4.5,
          2.8499999999999996,
          4,
          3.52,
          3.52,
          5,
          0,
          0,
          0,
          0,
          0,
          4.95,
          4.95,
          4.95,
          3.75,
          4.3,
          3.2,
          3,
          4.7749999999999995,
          3.7624999999999997,
          3.7624999999999997,
          3,
          3,
          4,
          2.98,
          4.49,
          1.875,
          1.875,
          3.75,
          3.2624999999999997,
          4.4,
          4.4,
          3,
          4,
          4.375,
          4.375,
          2.7,
          2.7,
          4.75,
          3,
          4.75,
          4.11,
          4.5,
          4,
          4.63,
          4.65,
          4.5,
          4.5,
          3.87,
          3,
          4.015712,
          4.015712,
          4.76,
          4.76,
          4.52,
          4,
          4.63,
          4.63,
          4.63,
          4,
          4.01,
          3,
          3.75,
          4.5,
          4.27,
          4.27,
          4.27,
          2.38,
          3.75,
          4,
          4.57,
          4,
          4,
          5,
          3.75,
          5,
          4.21,
          3.23,
          2.9,
          3.86,
          3.86,
          2.5,
          3.96,
          3.3125,
          3.85,
          3.75,
          4.6259999999999994,
          4.75,
          4.3,
          3.8,
          4.25,
          3.25,
          3.25,
          3.25,
          2.9,
          3,
          4.53,
          4.53,
          4,
          3.84,
          3.84,
          2,
          2,
          2,
          3.8625,
          3.7,
          3.7,
          2.8499999999999996,
          3.78,
          4,
          4,
          4,
          3.29,
          4.37,
          2.4875,
          3.6625,
          3,
          2.98,
          4,
          4.51,
          4.51,
          4.51,
          4.51,
          4.51,
          4.51,
          2.75,
          2.75,
          2.5,
          3.89,
          4,
          4,
          3,
          3,
          4.61,
          3.13,
          4.85,
          4.08,
          3,
          3,
          3.63,
          3.63,
          3.63,
          3.63,
          4.77,
          2,
          3.5,
          3.54,
          4,
          4.5015,
          4.5375,
          3.4,
          4.2,
          4.76,
          3.75,
          4.47,
          4,
          3.75,
          5,
          4.6875,
          4.6875,
          4.26,
          2.5,
          3.33,
          3.33,
          3.64,
          3.64,
          3.75,
          3.75,
          4,
          4.87,
          4.68,
          4.68,
          4.5,
          4.125,
          4.125,
          3.91,
          4.36,
          4.5625,
          4.5,
          4.5,
          4.35,
          4.35,
          3.5,
          3.5,
          2.54,
          2.9499999999999997,
          3.37,
          4.15,
          4.13,
          4.13,
          3.43,
          3.43,
          4.2905,
          4.45,
          4.76,
          5,
          3.97,
          3.97,
          5,
          2.5,
          4.26,
          3.77,
          4.1375,
          5,
          5,
          3.4,
          4.21,
          4.5,
          4.77,
          2.66,
          2.66,
          5,
          4.78,
          4,
          3.16,
          3.16,
          4.6000000000000005,
          4.6000000000000005,
          4.68,
          4,
          4.8625,
          4.8375,
          4.275,
          3.57,
          3.57,
          3.57,
          5,
          5,
          5,
          3.75,
          4.52,
          5,
          4.47,
          3.75,
          4.125,
          4.4,
          4.4,
          4.21,
          4.21,
          2.6,
          4.38,
          4.38,
          5,
          5,
          5,
          4.2625,
          4.3,
          4.6,
          3,
          4.47,
          4.82,
          4.82,
          4.82,
          4,
          4.23,
          4.907,
          4.1,
          4.875,
          4.31,
          4.55,
          4.64,
          2.96,
          2.96,
          5,
          5,
          5,
          3.33,
          3.33,
          4.875,
          4.125,
          4.125,
          3.75,
          2.72,
          2.72,
          3.8,
          5,
          5,
          3.75,
          3.75,
          4.575,
          4,
          5,
          3.93,
          3.93,
          4.07,
          4.75,
          3.35,
          3.225,
          4.76,
          4.9,
          4.9,
          4.64,
          4,
          4.06,
          4.34,
          5,
          5,
          5,
          3.7,
          3.7,
          3,
          3,
          3,
          3,
          4.01,
          4.77,
          4.77,
          4.0125,
          4.0125,
          3.5,
          3.6,
          4,
          4.2,
          4.05,
          4,
          4.91,
          4.91,
          3,
          3,
          3,
          3.22,
          3.22,
          3.22,
          4.4,
          3.875,
          4.43,
          4.375,
          5,
          5,
          4.25,
          3.34,
          3.34,
          3.34,
          3.83,
          3.83,
          4.22,
          4.22,
          4.5,
          3.125,
          3.69,
          4.5,
          4.43,
          3.75,
          2.67,
          4.6,
          4.75,
          3,
          4.32,
          4,
          3.44,
          4.015712,
          4.015712,
          4.27,
          3,
          3,
          4,
          4.22,
          2.5,
          3.9,
          3.875,
          4.67,
          4.58,
          4.58,
          4.58,
          2.75,
          3,
          4.27,
          4.45,
          5,
          5,
          4,
          4,
          4,
          4,
          4.6,
          4.6,
          3.53,
          3,
          3.19,
          4.0875,
          4.6,
          4,
          3.4,
          3.78,
          2.6875,
          4.25,
          4.32,
          4.32,
          4.32,
          4,
          4,
          0,
          5,
          4.975,
          4.9,
          3.87,
          3.87,
          4.63,
          4.63,
          4.85,
          4.85,
          4.85,
          3.92,
          3.92,
          4.015712,
          4.015712,
          3.74,
          5,
          5,
          4.96,
          3.78,
          4,
          4,
          4.94,
          3,
          4.1,
          4.29,
          4.44,
          4.51,
          2.5,
          4.55,
          4.3125,
          3.71,
          3.75,
          3.29,
          5,
          5,
          3.75,
          4,
          4.66,
          4.66,
          4,
          4,
          2.5,
          3.93,
          4.34,
          4.34,
          2.5,
          4.41,
          3.43,
          4.425,
          3.5,
          4.43,
          4.43,
          4,
          4,
          3.76,
          2.8,
          3.77,
          3.9,
          3.49,
          4.9,
          4.84,
          3.29,
          4.17,
          4.9,
          2.59,
          3.36,
          3.5875000000000004,
          3.28,
          3.28,
          2.7625,
          4.3,
          4.8,
          4.69,
          4.39,
          4.67,
          4.67,
          4.6,
          3.75,
          3.75,
          3.75,
          3.54,
          4.8625,
          4,
          4.85,
          4,
          4,
          4.96,
          4.96,
          2,
          3.125,
          4.62,
          4.62,
          4.62,
          4.75,
          3,
          4.6625,
          4,
          3.55,
          4.5,
          4.6,
          3.95,
          4.31,
          4.31,
          3.8,
          4.12,
          3.06,
          3.06,
          4.47,
          4.41,
          3,
          4.43,
          3.76,
          4.65,
          4,
          3.75,
          4.67,
          4.67,
          4.67,
          4.67,
          4.65,
          4.63,
          4.63,
          3.75,
          4.78,
          4.75,
          4.85,
          4.85,
          4,
          4,
          4.6,
          4.32,
          2.3499999999999996,
          4.6000000000000005,
          4.99,
          3.75,
          3.75,
          4.64,
          3.96,
          3.44,
          2.99,
          5,
          3.75,
          4,
          3,
          4.6,
          4,
          3.1,
          4,
          3.5,
          4.28,
          3.61,
          3.75,
          3.75,
          5,
          4.015712,
          3.84,
          4.68,
          4.68,
          2.5,
          4.9,
          4.55,
          4.81,
          3.58,
          4,
          5,
          4.5,
          4.5,
          3.0625,
          3,
          3.45,
          4.73,
          3.83,
          3.4375,
          4.77,
          3.75,
          3.76,
          3.75,
          3.75,
          4.54,
          3.75,
          3.75,
          4,
          4.66,
          4.66,
          3.92,
          4.18,
          4.18,
          4.2125,
          4.3,
          4.3,
          4.6,
          4.66,
          4.91,
          4.91,
          4.62,
          3,
          3,
          4.5,
          4.62,
          4.62,
          3.75,
          3.75,
          3.62,
          3.62,
          3.625,
          5,
          4.52,
          4.3375,
          3.97,
          3,
          4.015712,
          4.4624999999999995,
          4.35,
          3,
          4.9,
          3.9,
          3.15,
          3.95,
          4.607347949999999,
          2.875,
          4.08,
          4.08,
          3.9,
          4.7749999999999995,
          4.7749999999999995,
          4.7749999999999995,
          4.6875,
          4.6875,
          4.6875,
          4.6875,
          3,
          4.875,
          4.875,
          4.875,
          5,
          4.76,
          4.7625,
          4.7625,
          4.85,
          4.92,
          4.8375,
          3.7,
          2.5,
          3,
          3,
          4.32,
          4.32,
          2.75,
          4,
          4.34,
          2.5,
          2.5,
          4,
          4.61,
          4.61,
          2.5,
          3.0625,
          3.0625,
          4.35,
          4.86,
          3.97,
          4.34,
          4.34,
          4.34,
          4.88,
          2.5,
          2.5,
          4.5,
          3.85,
          3.85,
          3.85,
          5,
          5,
          3.8874999999999997,
          4.9,
          3.98,
          3.93,
          3.93,
          4.875,
          3.596,
          3.55,
          3.55,
          4.9365000000000006,
          4.7,
          4.4,
          4,
          4,
          4.52,
          4,
          4.37,
          4.37,
          4.75,
          4.63,
          4.34,
          4.34,
          4.69,
          4.89,
          4.65,
          4.65,
          3.72,
          3.95,
          4.86,
          5,
          3.67,
          4,
          4,
          5,
          5,
          4.09,
          4.607347949999999,
          4.75,
          4.75,
          4.75,
          4.375,
          2,
          0,
          3,
          4.38,
          3.75,
          4.98,
          4.2375,
          4.2375,
          4.08,
          4.5,
          3.55,
          3.8,
          4,
          3.75,
          3.75,
          3.41,
          3.41,
          0,
          3.79,
          3.79,
          3.75,
          3.75,
          3.23,
          3.23,
          4.6,
          4.6,
          2,
          4.01,
          4.22,
          4,
          4.7,
          4,
          4,
          4.375,
          4.375,
          4.525,
          4.23,
          4,
          4.29,
          4.7,
          3.56,
          3.89,
          4.375,
          4.75,
          4.75,
          3.53,
          3.47,
          3.92,
          3.92,
          3.23,
          3.23,
          4.89,
          4.26,
          4.26,
          4,
          4,
          3.588,
          4.78,
          4.2,
          4.62,
          4,
          4,
          3.7,
          3.7,
          4,
          4.17,
          4.73,
          5,
          4.005,
          3.8,
          3.8,
          2,
          2,
          4.18,
          4.06,
          3.33,
          4.4,
          2.5,
          3.58,
          4.21,
          4.21,
          4.53,
          4.53,
          5,
          5,
          3.82,
          4.31,
          4.31,
          4.5,
          4.53,
          4.53,
          4.7,
          4.7,
          2.75,
          4.51,
          4.6125,
          4.78,
          3.32,
          3.32,
          4.21,
          3.64,
          3.96,
          2.5,
          4.1,
          3.75,
          4.73,
          4.19,
          4.19,
          2.91,
          4.07,
          3.75,
          3.75,
          4,
          4.75,
          4.75,
          3,
          3.85,
          3.85,
          4,
          4,
          4.15,
          4.15,
          4.35,
          3.2,
          4.26,
          4.26,
          4.03,
          3,
          4.0625,
          4.8,
          4.47,
          4.47,
          3.3,
          3.3,
          4.55,
          4,
          3.4625,
          3.4625,
          4,
          4,
          5,
          4.5,
          4.5,
          4.21,
          4.13,
          2.5,
          2.7,
          4.22,
          4.22,
          4.22,
          3.75,
          4.71,
          3.57,
          4.02,
          4.65,
          3.66,
          4.43,
          4.5,
          4,
          4.56,
          4.11,
          4,
          4.7625,
          4.8875,
          4.8875,
          5,
          5,
          3.75,
          4.7,
          3,
          3,
          2.5,
          4.29,
          4.29,
          3.75,
          5,
          5,
          3.9625,
          3.36,
          4.7,
          4.7,
          3.1,
          3.1,
          4.58,
          4.86,
          5,
          5,
          4.65,
          4.8,
          4.87,
          3.25,
          3.94,
          3.6,
          4,
          4.43,
          4.43,
          4.125,
          4.22,
          3.4125,
          5,
          2.64,
          2.64,
          4,
          3.73,
          3.73,
          3.75,
          3.75,
          4.82,
          4.82,
          4.73,
          4.73,
          4.83,
          4.76,
          4.015712,
          4.82,
          4.82,
          3.21,
          3.4375,
          3.75,
          4.87,
          4.87,
          4.87,
          4,
          4.38,
          4.38,
          3.12,
          4.85,
          4.41,
          4.67,
          3,
          4.38,
          4,
          4.21,
          4.21,
          3.75,
          4.1625,
          4.1625,
          4.85,
          4.85,
          3.75,
          2.5,
          3.4000000000000004,
          4,
          4,
          4,
          4,
          3.75,
          4.25,
          4.25,
          4.25,
          4.25,
          2.82,
          4.1,
          4.1,
          4.1,
          4.95,
          3.5,
          4,
          3.83,
          3.83,
          3.83,
          4.5875,
          4.5,
          4.61,
          4.61,
          4.61,
          4.46,
          4.81,
          4,
          4,
          4,
          4.9,
          4.275,
          4.16,
          4.05,
          3,
          3,
          4,
          3.83,
          3.83,
          4,
          4,
          3.125,
          2.5,
          4.225,
          3.7,
          3.7,
          4.42,
          3,
          3.2,
          3.2,
          4.8875,
          4.8875,
          4.8875,
          4.8875,
          4.6,
          4,
          3,
          3,
          2.5,
          0,
          4.42,
          4.42,
          4.67,
          3,
          4.34,
          2.44,
          2.44,
          3.1125000000000003,
          3.75,
          3.75,
          3.75,
          3.91,
          3.75,
          3.65,
          3,
          3.71,
          4.66,
          5,
          5,
          0,
          4.91,
          4.65,
          4,
          4,
          4.77,
          4.77,
          4.01,
          4.11,
          3.94,
          4.975,
          4.875,
          3.77,
          4.4375,
          4.4375,
          4.38,
          4.38,
          4.2875000000000005,
          3,
          4.87,
          4.38,
          4.38,
          4.46,
          3.35,
          3.375,
          3.82,
          5,
          3.1,
          3.1,
          4.54,
          4.07,
          4.4425,
          4.4,
          4.4,
          4.046,
          4.5,
          4.015712,
          4.015712,
          4.7865,
          4.85,
          4.36,
          4.5,
          4.5,
          4.5,
          4,
          3.33,
          4,
          4,
          4.09,
          3.21,
          3.21,
          4.4,
          5,
          5,
          5,
          5,
          4,
          4.725,
          4.725,
          0,
          0,
          0,
          0,
          0,
          2.96,
          2.5,
          4.2375,
          2.73,
          3.8,
          4.525,
          3.75,
          3.75,
          3.75,
          4.125,
          4.125,
          2.5,
          2.5,
          5,
          5,
          2.61,
          3.75,
          2,
          4.8875,
          4.015712,
          4.015712,
          5,
          5,
          5,
          4.57,
          4.57,
          3.63,
          3.63,
          4.94,
          4.3,
          3.5,
          4,
          3.35,
          2.01,
          2.01,
          3,
          4,
          3.5,
          3.64,
          3.64,
          4.73,
          2.52,
          2.52,
          3.6,
          4.375,
          4,
          3.5,
          4.76,
          2.56,
          3.56,
          5,
          4.89,
          4.35,
          4.5,
          2.43,
          4.05,
          3,
          3.075,
          4,
          4,
          3.6875,
          3.6875,
          5,
          4.75,
          3.875,
          3.2,
          4.9399999999999995,
          4.9399999999999995,
          3.26,
          3.6,
          4.42,
          3.875,
          5,
          4,
          3.79,
          3.79,
          3.08,
          3.08,
          5,
          4.48,
          5,
          4.5,
          2.55,
          2.55,
          4.55,
          4.9,
          4,
          4.425,
          4.425,
          4.425,
          2.34,
          4.25,
          3,
          4.39,
          4.39,
          4.42,
          3.67,
          3.75,
          4.78,
          3.75,
          3.75,
          3.58,
          3.58,
          4,
          4,
          4.71,
          5,
          4.84,
          4.84,
          4.39,
          4.39,
          3.1875,
          3.1875,
          4.65,
          4.63,
          2.47,
          2.47,
          3.99,
          3.8,
          4.4875,
          4.4875,
          3.96,
          2.6750000000000003,
          3,
          3,
          4.2875000000000005,
          4.2875000000000005,
          4.61,
          4.8,
          4,
          4,
          4.7,
          4,
          4.0875,
          4.0875,
          4.28,
          4.825,
          2.5,
          4,
          4.05,
          4.05,
          4.89,
          4,
          4.99,
          5,
          5,
          4.25,
          3.3,
          4,
          4.48,
          4.48,
          4.4,
          4.29,
          4.29,
          4.29,
          4,
          4,
          3.2,
          3.75,
          5,
          4.1875,
          4.14,
          4.5,
          4.375,
          4.48,
          4.75,
          3.95,
          3.95,
          4.48,
          4.875,
          4,
          4.53,
          3.52,
          3.45,
          4.65,
          3.29,
          3.91,
          4.25,
          4.26,
          3.96,
          3,
          3,
          4,
          4,
          3.84,
          3.84,
          4.85,
          2.36,
          4.36,
          5,
          5,
          5,
          4.86,
          3.75,
          3.75,
          5,
          5,
          3.6,
          3,
          3,
          3.75,
          3.75,
          3.75,
          3,
          4.2,
          4.5,
          4.58,
          4.32,
          4.32,
          4.32,
          4.32,
          4.32,
          3.65,
          4.38,
          4.48,
          4.48,
          4,
          4.75,
          4.66,
          4.79,
          3.625,
          3.625,
          3,
          4.9,
          4.9,
          4.74,
          3,
          3,
          4,
          4.375,
          3.55,
          3.55,
          4.11,
          4,
          4.52,
          4.52,
          4.55,
          4.98,
          3.67,
          4.2,
          3.59,
          5,
          5,
          3.44,
          4.64,
          2.97,
          4,
          4.89,
          3.12,
          3,
          4.8,
          4.71,
          4.57,
          4.57,
          3.35,
          4.18,
          4.61,
          4.35,
          2.81,
          4.22,
          4,
          4.85,
          4.75,
          4.75,
          4.375,
          4.375,
          4.23,
          4.74,
          2.88,
          3.65,
          3.8,
          3.8,
          4.5,
          3,
          3,
          4.6,
          3,
          3,
          4.16,
          3,
          4,
          4,
          4,
          4.9,
          4.3,
          4.3,
          4.3,
          3.42,
          5,
          3.9375,
          4.15,
          4.15,
          4.725,
          4.725,
          4.725,
          4.725,
          4,
          4,
          4,
          3.5,
          4,
          4,
          4,
          4,
          4,
          4,
          4,
          4,
          4.3,
          4.3,
          4,
          3.53,
          3.75,
          4.1,
          4.015712,
          4.66,
          3.75,
          4.915,
          4,
          4,
          3.75,
          4.99,
          4,
          4.92,
          3.84,
          3.84,
          4,
          3.975,
          3.975,
          4.89,
          3,
          3,
          3,
          3,
          4.87,
          4.75,
          4.77,
          4.77,
          4.9,
          4,
          4.25,
          4,
          3,
          3.04,
          3,
          3,
          3,
          3,
          3.125,
          4.28,
          4.28,
          4.3,
          4.03,
          4.03,
          3.75,
          4.4,
          4,
          2.52,
          4.36,
          4.86,
          5,
          3.75,
          3.75,
          4.36,
          3,
          4.23,
          4.23,
          4.23,
          3.75,
          4.59,
          4.59,
          4.89,
          4.89,
          4.987500000000001,
          4.75,
          4.46,
          3.89,
          3.89,
          4.995,
          5,
          5,
          3,
          4,
          4.23,
          4.23,
          4.82,
          4.06,
          4.9,
          4.8,
          3.5,
          3.5,
          4.6125,
          2.4,
          4.88,
          4.02,
          4.79,
          4.79,
          4.46,
          4,
          4.6,
          0,
          4,
          4,
          4.85,
          4.53,
          4.53,
          3.1374999999999997,
          5,
          4,
          3.75,
          4.7,
          4.7,
          4.51,
          4,
          4.64,
          4.92,
          4.71,
          4,
          3.1,
          3.1,
          4.25,
          4.4885,
          4.4885,
          4.4885,
          4.6,
          3.44,
          3.44,
          4.625,
          4.98,
          4.98,
          3.03,
          4.51,
          5,
          4.45,
          3.75,
          4.7,
          4.7,
          3.7,
          4.55,
          5,
          4.97,
          4.97,
          2.9375,
          3,
          3,
          3,
          4.61,
          4.77,
          4.77,
          4.4,
          4.56,
          4.1,
          4,
          4.22,
          3.46,
          3.46,
          4.3,
          4,
          3.97,
          4.1,
          4.1,
          4.13,
          3.52,
          4.3,
          4,
          4,
          4.1725,
          4,
          4,
          4,
          4,
          4.3,
          4.35,
          4.35,
          3.75,
          4.7,
          3,
          3.85,
          4,
          4.42,
          4.42,
          3.6,
          3.75,
          3.75,
          3.75,
          3.75,
          4.65,
          4,
          4,
          3.14,
          4,
          5,
          5,
          5,
          3,
          4.52,
          4.52,
          3.97,
          4.0875,
          4.38,
          2.9,
          4.65,
          3,
          4.21,
          3.425,
          3,
          3,
          4.56,
          4.56,
          4.56,
          4,
          4.88,
          4.51,
          2.5,
          2.8,
          4.6,
          4,
          3.78,
          4.4,
          4.18,
          4,
          3.9375,
          4.17,
          4.7749999999999995,
          4.38,
          4.4,
          4.55,
          4.7125,
          4.015712,
          4.22,
          4.52,
          3.48,
          4.5,
          4.5,
          2.275,
          3,
          3,
          3.44,
          4.75,
          4,
          4.45,
          4.45,
          2.9499999999999997,
          2.9499999999999997,
          3.5,
          4.4125,
          2,
          3.975,
          4,
          4,
          4,
          3.5875000000000004,
          5,
          5,
          5,
          4.5375,
          4.5375,
          4.1375,
          3.75,
          3.37,
          4,
          4.62,
          4.62,
          3.8,
          4.55,
          3.92,
          4.06,
          4.48,
          4.48,
          4.01,
          2,
          4.6,
          3.525,
          4.2,
          5,
          4.46,
          4.65,
          3.75,
          3.89,
          4.987500000000001,
          2.7,
          2.7,
          3.625,
          3.625,
          4.41,
          3.29,
          3.47,
          2.4,
          4.050000000000001,
          3.85,
          3,
          4.9865,
          4.6625,
          4.8,
          4.8,
          4.8,
          4.5,
          3,
          3.23,
          3.23,
          4.6,
          4.6,
          4.97,
          4,
          4,
          4,
          4,
          3.32,
          3.32,
          4.875,
          4.6975,
          3.27,
          3.17,
          4.8,
          4.8,
          3.69,
          3.06,
          3.5,
          0.2065,
          3.75,
          3.75,
          4,
          3,
          4.08,
          4.08,
          4.08,
          4.85,
          4.85,
          4,
          4.4325,
          4.4325,
          3.75,
          3.75,
          4.4,
          3.92,
          3.75,
          4,
          4.06,
          4.75,
          3,
          4.97,
          3.33,
          3.33,
          3.33,
          4.33,
          4.8,
          4.825,
          3.25,
          4,
          4.015712,
          4.04,
          4.04,
          3.25,
          4.6375,
          4.84,
          4,
          4.64,
          4.15,
          3.83,
          4.6,
          4.6,
          3.68,
          3.74,
          5,
          5,
          3,
          3.5,
          4.74,
          4.74,
          3.8,
          3.875,
          3.59,
          4.95,
          3.07,
          3.07,
          3.75,
          3.44,
          2.93,
          5,
          5,
          4.9,
          3.3625,
          3.3625,
          3.68,
          3.68,
          3.68,
          3.75,
          3.9250000000000003,
          4,
          4.38,
          3.8,
          4.56,
          3.3,
          4.4,
          4.4,
          4,
          4,
          2.83,
          3,
          3,
          3,
          3,
          3.15,
          2.72,
          2.72,
          2.72,
          3,
          3.68,
          3.79,
          3.8874999999999997,
          4,
          3,
          2.97,
          3.5125,
          5,
          4.89,
          3,
          3,
          4.14,
          3,
          4.25,
          4.25,
          4.9,
          2.5,
          3,
          5,
          5,
          5,
          4.4125,
          4.725,
          4.725,
          4.725,
          4,
          4,
          2.5,
          2.5,
          2.81,
          4.79,
          4.79,
          3,
          3,
          4.64,
          4.64,
          3.54,
          3.54,
          5,
          4.5975,
          3.8,
          4.16,
          4.19,
          4.49,
          4.1125,
          4,
          4,
          4.66,
          4.66,
          4.66,
          3.75,
          3.2,
          3.2,
          4.112,
          4.8375,
          3.5,
          3.78,
          4,
          3.56,
          3.56,
          2.79,
          3.75,
          3.75,
          2.875,
          2.875,
          4.88,
          4.88,
          4.88,
          3.75,
          3.75,
          3.75,
          3.05,
          3,
          4.79,
          4.79,
          4.15,
          4.15,
          4.5,
          4.59,
          4,
          4.5875,
          4,
          4.23,
          4.23,
          3.81,
          5,
          5,
          4.18,
          4.18,
          4.18,
          5,
          4.71,
          2.5,
          3.75,
          3.77,
          4.4875,
          4.77,
          4.77,
          3.95,
          3,
          4.45,
          3,
          3,
          3,
          4.875,
          4.6375,
          3.2874999999999996,
          4.1165,
          4.1165,
          3,
          4.85,
          3.5,
          2.59,
          4.125,
          4.125,
          4.125,
          4.389,
          4.389,
          4.015712,
          4.015712,
          4.72,
          4.72,
          2.55,
          2.5,
          2.5,
          4.5,
          4.5,
          4.5,
          5,
          3.61,
          4.42,
          3.875,
          3.84,
          4.19,
          3.75,
          4,
          4,
          3.57,
          4.75,
          4.75,
          4.75,
          5,
          5,
          5,
          4.75,
          4.95,
          4.015712,
          3.7375000000000003,
          3.04,
          4.78,
          4.78,
          4.98,
          3.88,
          4,
          4.92,
          4.92,
          4.83,
          4,
          4,
          4,
          3.56,
          3.56,
          4.07,
          2.87,
          4.2,
          4.8,
          5,
          5,
          5,
          3.93,
          4.3,
          4.3,
          3.45,
          4.3125,
          3,
          4.91,
          3.44,
          3.5,
          4.015712,
          4.015712,
          4.85,
          4.85,
          2.23,
          2.23,
          4,
          4.3125,
          4.05,
          3.95,
          4.625,
          4.625,
          4.625,
          4.97,
          4.6,
          4,
          3,
          3,
          4.28,
          3,
          3,
          1.6,
          4.74,
          3.9250000000000003,
          4.6,
          3.8,
          4.75,
          3.75,
          4.91,
          4.91,
          4,
          4,
          3.75,
          4,
          4,
          4.73,
          4.33,
          5,
          3.94,
          4.8375,
          5,
          4.13,
          3,
          3.75,
          4,
          3.75,
          3.75,
          4.3,
          4.3,
          3.75,
          3.33,
          5,
          2.98,
          4.41,
          4.44,
          5,
          5,
          4.28,
          4.75,
          4.75,
          3.625,
          3.76,
          3.76,
          4.15,
          5,
          2.5,
          3,
          5,
          4.77,
          4.77,
          4.69,
          3.98,
          4,
          4,
          3.62,
          5,
          4,
          4.987500000000001,
          3.76,
          4.51,
          4,
          4.44,
          5,
          4.38,
          3.67,
          4.25,
          4.25,
          4.71,
          3.2024999999999997,
          3.2024999999999997,
          4,
          4,
          3.7,
          3.7,
          3.71,
          4,
          3.125,
          4.997,
          4.51,
          4.51,
          4.51,
          4.21,
          2.5374999999999996,
          4.28,
          4.11,
          4.11,
          4.79,
          4.76,
          4.98,
          4.8,
          3.75,
          4.75,
          4.75,
          4.96,
          4.35,
          4,
          4.92,
          4,
          3.67,
          3.67,
          3.5,
          4.65,
          4.36,
          4.4125,
          4.4125,
          4.7,
          4.7,
          5,
          5,
          3.75,
          4.0875,
          4.2,
          4.2,
          3,
          4.4624999999999995,
          4,
          4.88,
          4.88,
          4.88,
          4.88,
          3,
          4.12,
          3.28,
          4.096799,
          4.096799,
          4.26,
          4,
          5,
          5,
          4.52,
          3.29,
          3.29,
          3.29,
          5,
          3.43,
          4.21,
          2.5,
          3,
          4.95,
          5,
          3,
          4,
          4.64,
          3.27,
          4.75,
          4.63,
          4.63,
          3.9,
          3.0875000000000004,
          4,
          4.89,
          4.88,
          4.39,
          3.5375,
          4.72,
          4,
          3.93,
          3.75,
          3.75,
          3.75,
          3.75,
          3.76,
          3,
          3,
          4,
          3.875,
          4.42,
          4.36,
          4.36,
          4,
          4,
          4.83,
          4.22,
          4.22,
          2.625,
          4.57,
          4.57,
          4.57,
          4.5875,
          4.45,
          4.45,
          3.4,
          4.6,
          3.4,
          4.18,
          3.89,
          4.0625,
          4.28,
          4.8,
          4.55,
          4.55,
          4.6,
          4.65,
          4.54,
          4.54,
          3.75,
          3.99,
          4,
          4.61,
          4.5625,
          5,
          4.6875,
          3.75,
          4,
          4,
          4,
          4,
          4.015712,
          4.015712,
          3.75,
          4.37,
          4.69,
          4,
          4.26,
          3.72,
          4.78,
          4.29,
          4.94,
          4.78,
          4,
          3.99,
          4.5,
          4.26,
          4.63,
          4,
          4,
          4.59,
          4.59,
          4.59,
          4.59,
          3,
          3,
          4.62,
          4.62,
          4.84,
          4.25,
          4.25,
          4.61,
          3.5,
          2.14,
          3.75,
          2,
          4.875,
          4,
          4,
          3.97,
          4.75,
          4.93,
          3,
          3.98,
          3,
          4.42,
          3.75,
          4.5,
          4.5,
          4.5,
          3.89,
          4.6,
          4.6,
          2,
          2,
          2,
          3.91,
          3.75,
          3.125,
          3.5625,
          3.5625,
          2.52,
          4.59,
          3.88,
          4,
          4,
          4,
          3.28,
          3.28,
          4,
          4.42,
          3.125,
          4.31,
          4.9,
          4,
          3,
          3,
          4.6125,
          4.6125,
          4.75,
          4.75,
          3.96,
          3.96,
          3.96,
          3.96,
          3.75,
          3.75,
          3.75,
          4.74,
          2.9,
          3.72,
          4.63,
          4.66,
          5,
          4.2875000000000005,
          4.2875000000000005,
          4,
          4.96,
          4.575,
          4.575,
          4.76,
          4.76,
          4.4,
          4.4,
          3.56,
          4.47,
          4.47,
          4.825,
          4.825,
          4.16,
          4.91,
          3,
          4.375,
          4,
          3.5,
          4,
          3,
          4.43,
          2,
          2.5,
          3.67,
          4.15,
          2.81,
          4.94,
          4.94,
          3.75,
          4.59,
          4.37,
          3.9000000000000004,
          4.27,
          3.775,
          4.5,
          4,
          2.6,
          4.67,
          4,
          4,
          4,
          3.9,
          3.9,
          4.2,
          4.2,
          4.35,
          4.35,
          4,
          4.61,
          5,
          3.75,
          3.86,
          3.94,
          4.2875000000000005,
          4.5125,
          3.99,
          3.0875000000000004,
          4.875,
          4.16,
          4,
          4,
          3,
          4.55,
          4.06,
          3.6,
          3.6,
          4.32,
          4.32,
          4.98,
          4,
          4,
          4,
          4.015712,
          3.08,
          4,
          4,
          2.9749999999999996,
          4.85,
          4.96,
          2.5,
          4.51,
          4.51,
          3.28,
          3.95,
          3.95,
          4,
          4.77,
          4.77,
          3.57,
          3.49,
          3.49,
          3.6375,
          3.9875,
          4.51,
          3.3,
          4.4125,
          2.8,
          4.08,
          4.46,
          4.2,
          4.66,
          3.6,
          2.61,
          4.06,
          3.83,
          4.39,
          5,
          2.875,
          4.52,
          3.6,
          4.04,
          4.83,
          4,
          3.38,
          3.38,
          3.5,
          4,
          4.58,
          4.7025,
          4.7025,
          4,
          3.2624999999999997,
          3.2624999999999997,
          2,
          3.74,
          4.55,
          4.86,
          4.35,
          3.81,
          4.75,
          4,
          4,
          2.5,
          4.77,
          4.77,
          4.34,
          3.75,
          2,
          4,
          3.45,
          4.04,
          4,
          4,
          5,
          4.37,
          4.14,
          4.35,
          4.18,
          4.4,
          3.4,
          4.8575,
          4.59,
          3.85,
          3.85,
          5,
          4.39,
          4,
          2.5,
          3.79,
          3.79,
          5,
          5,
          5,
          5,
          4.89,
          3.5,
          4.7749999999999995,
          4.7749999999999995,
          4,
          4.76,
          3.56,
          3.56,
          4.8,
          4.61,
          4.015712,
          4.56,
          4.56,
          3,
          4.52,
          2.5,
          4,
          4.9,
          4.8,
          4.98,
          4.65,
          4,
          4.62,
          3.75,
          3.75,
          3.75,
          4,
          4.2125,
          2.9375,
          4,
          3.21,
          4.63,
          3.5,
          5,
          2.5,
          4.65,
          4.96,
          4.35,
          2.49,
          3.75,
          4,
          3.5125,
          3.5125,
          3,
          4.4875,
          2.8,
          4.6125,
          4,
          3.875,
          3.875,
          3.875,
          4.58,
          2.375,
          3.77,
          4.362500000000001,
          4.1,
          4.83,
          3.89,
          3.89,
          3.89,
          4.965,
          4.87,
          4,
          5,
          5,
          4.0875,
          4.33,
          3.84,
          3.84,
          4.95,
          3.14,
          3.5,
          3.5,
          4.825,
          3.1875,
          4,
          3.4499999999999997,
          3.4499999999999997,
          3.4499999999999997,
          5,
          5,
          4.05,
          4.9,
          3.9625,
          4.125,
          4.32,
          4.675000000000001,
          4.97,
          4.43,
          2.83,
          4.9,
          3.52,
          3.0375,
          3.13,
          3.5,
          3,
          4,
          3.79,
          2.725,
          2.725,
          2.84,
          3.1374999999999997,
          4.2,
          3.7,
          4.79,
          4.79,
          4.69,
          4.69,
          4.3375,
          4.45,
          2,
          4,
          4.7,
          4.88,
          4.01,
          4.01,
          4.1125,
          4.91,
          5,
          5,
          4.08,
          3.875,
          4.59,
          4.67,
          4.7885,
          4.52,
          3.75,
          3.85,
          3.85,
          3.85,
          4.67,
          4.25,
          3.47,
          4.6125,
          4.5,
          3.75,
          4.63,
          4.6875,
          4.5,
          4.015712,
          3,
          3,
          3,
          4.49,
          3,
          3.75,
          3,
          3,
          4.43,
          4.5,
          4.5,
          4,
          4,
          4.83,
          4.75,
          4.75,
          4.09,
          4.2,
          3,
          4.015712,
          3,
          4.46,
          3.5,
          3.5,
          4,
          4,
          4.54,
          4.175,
          4.175,
          4.9295,
          2.875,
          3.7,
          4.71,
          4.875,
          4.875,
          4.05,
          3,
          4.95,
          4.92,
          5,
          4.547824,
          4.44,
          4.4,
          4.85,
          4.18,
          4.18,
          3.52,
          2.5,
          3.4625,
          4.54,
          3.8,
          4.625,
          3.38,
          4,
          3,
          4.6,
          4.82,
          4,
          4,
          4.89,
          4.73,
          5,
          5,
          2.58,
          4.03,
          4.99,
          4,
          5,
          4.75,
          3.6,
          3.6,
          3.2125,
          4,
          4,
          4.46,
          2.8,
          4,
          3.05,
          4,
          3.96,
          4.015712,
          3.39,
          3.39,
          3.39,
          4.08,
          3.75,
          4.95,
          4.95,
          4.45,
          3.06,
          3.12,
          4.025,
          3,
          3.9875,
          3.9875,
          4.56,
          4.8875,
          4.125,
          4.125,
          3.62,
          3.62,
          4.8,
          3.88,
          4.375,
          2.8000000000000003,
          4.82,
          3.74,
          4.63,
          3.75,
          4,
          4,
          5,
          4.65,
          4.925,
          5,
          3.59,
          3.59,
          3.26,
          3,
          4,
          4.1125,
          3.75,
          2.85,
          2.85,
          3.11,
          5,
          5,
          3.4000000000000004,
          4.38,
          3.3,
          3.3,
          3.3,
          3.3,
          3.11,
          4.5875,
          4.83,
          4.8,
          4.89,
          4.6,
          3,
          3.5,
          3.5,
          4.6,
          3,
          3.75,
          3.75,
          3.8,
          3.8,
          4,
          3.3875,
          3.3875,
          4.26,
          4.4,
          4.41,
          3.07,
          4.55,
          4.92,
          4.425,
          3,
          4.67,
          2.9749999999999996,
          4,
          4.95,
          3.525,
          3.525,
          2.5,
          3.9,
          4.29,
          4.55,
          2.875,
          3.9,
          4.23,
          4.23,
          4.23,
          3.75,
          3.175,
          3.39,
          4.875,
          4.5,
          1.8937499999999998,
          4.89,
          4.89,
          5,
          4.59,
          4.06,
          3,
          3.975,
          4,
          3.3625,
          3.3625,
          3.94,
          3.94,
          4.89,
          4.89,
          4.35,
          4.13,
          4.71,
          4,
          4,
          2.5,
          2.5,
          4.75,
          5,
          5,
          5,
          4.65,
          4.975,
          4.34,
          4.32,
          2,
          3.5875000000000004,
          4.01,
          4.01,
          4,
          4,
          4,
          4.31,
          4,
          2.5,
          2.5,
          2.5,
          4,
          4,
          4,
          3.9,
          4.9,
          4.9,
          2.8000000000000003,
          2.8000000000000003,
          4.455,
          3.22,
          3.75,
          3.75,
          4.64,
          3.75,
          3.75,
          4,
          4.46,
          3.75,
          4.62,
          4,
          2.875,
          4.58,
          4.7,
          4.7,
          3,
          4.6000000000000005,
          2.8,
          4.35,
          4.35,
          3.87,
          4,
          4,
          4.050000000000001,
          4.23,
          4.88,
          3,
          4,
          4,
          3.87,
          4.79,
          4,
          5,
          4.2,
          4.99,
          3.66,
          3.89,
          4.65,
          4.73,
          3.9124999999999996,
          3.9124999999999996,
          4.33,
          4.46,
          4.71,
          3.5999999999999996,
          4.97,
          4.5,
          3.5,
          5,
          5,
          3.53,
          4.34,
          3.94,
          3.99,
          4.547824,
          4.11,
          4.11,
          4.2375,
          3.75,
          4.74,
          4.015712,
          4.015712,
          4.625,
          3.6,
          3.7,
          4,
          4,
          4.2,
          3.89,
          3.89,
          4.53,
          3.82,
          3.82,
          4.4,
          3.75,
          4.6,
          0,
          4.82,
          4.78,
          4.6,
          4.85,
          4.85,
          4,
          4.41,
          4.41,
          4.34,
          3.01,
          4,
          4.65,
          4.65,
          4.42,
          4.93,
          4.93,
          4.4,
          3.02,
          4.997,
          3.125,
          4.16,
          4.51,
          2.5,
          4.74,
          4.61,
          3.52,
          4,
          4.96,
          4.96,
          3.23,
          4,
          5,
          4.4,
          4.4,
          5,
          4,
          4.31,
          4.43,
          4.9,
          4.89,
          4.99,
          4.99,
          2.75,
          2.75,
          4,
          3.49,
          4.53,
          4.99,
          3.99,
          4,
          4,
          4.62,
          4.5125,
          4.52,
          4.29,
          4.9955,
          3.9875,
          4.5,
          4.5,
          4.78,
          4.47,
          4.21,
          4,
          4.6,
          3.58,
          3,
          4.75,
          4.67,
          0,
          4.061,
          3.5,
          4.98,
          4,
          4.13,
          4.015712,
          4.6,
          4.49,
          4.6,
          4.6,
          2.75,
          3.04,
          4.3,
          4.48,
          3.75,
          3.75,
          4.76,
          4.12,
          4.12,
          4.98,
          3.125,
          3.125,
          2.8,
          3.76,
          4.35,
          3.5,
          2.5,
          4,
          3.31,
          4.25,
          4,
          4.78,
          3.75,
          4.89,
          3.75,
          2.38,
          2.38,
          4.81,
          4,
          4.5,
          4.72,
          4.85,
          3.51,
          4.93,
          4.325,
          3.9124999999999996,
          0,
          4,
          4.49,
          2.2875,
          4.6125,
          0,
          4.5,
          4,
          4.9,
          3.125,
          3.62,
          4,
          4,
          3.5,
          4,
          4.5875,
          3.77,
          3.44,
          5,
          4.87,
          4.88,
          4.88,
          3.84,
          4.6,
          3.8,
          3.02,
          3.52,
          4,
          3.57,
          4.93,
          2,
          3,
          5,
          4.34,
          4.34,
          4.275,
          3.57,
          3.75,
          4.35,
          4,
          4.625,
          0,
          3,
          4.89,
          3.35,
          3.9375,
          3.9375,
          5,
          3,
          4.9015,
          4.9015,
          4.6000000000000005,
          3.88,
          4,
          3.7874999999999996,
          3.7874999999999996,
          4.01,
          4,
          4.74,
          0.23450000000000001,
          4.37,
          4.58,
          4.7,
          4.4624999999999995,
          3.49,
          4.225,
          4.78,
          3.06,
          4.125,
          4.861,
          4.7,
          3.75,
          3.75,
          4.85,
          4.5,
          4.15,
          4,
          4,
          4.63,
          3,
          4.36,
          4.21,
          4,
          4.684,
          4.51,
          4,
          3.9000000000000004,
          4.6,
          4.6,
          4.89,
          3.5,
          4.69,
          4.25,
          4.25,
          3.95,
          3.5,
          3.025,
          4.825,
          3.65,
          3.99,
          5,
          4.58,
          4.5,
          3.43,
          4.48,
          3.89,
          4.8,
          4,
          4,
          4.6,
          4.9,
          4.9,
          4.92,
          4.75,
          4.75,
          4.75,
          4.75,
          1.4874999999999998,
          4.175,
          3.5,
          3.5,
          4.6125,
          4,
          3,
          4,
          4.73,
          4.63,
          4.88,
          4.88,
          4.72,
          3,
          4.85,
          4.84,
          4.68,
          4.68,
          4.68,
          3.33,
          3.66,
          3.66,
          2.5,
          2.5,
          2.8,
          4.46,
          4.95,
          4.95,
          4.65,
          4.47,
          4.32,
          4.87,
          2.875,
          4.4,
          4,
          4,
          4,
          4.99,
          4.5,
          4.15,
          3,
          3.98,
          4,
          3.75,
          4.5,
          4,
          4,
          4.8625,
          3.38,
          4.1,
          3.375,
          4.25,
          3.99,
          3.99,
          3.94,
          3.37,
          3.98,
          4,
          3.6125000000000003,
          3.6125000000000003,
          3,
          3,
          4.2,
          4,
          3,
          4.86,
          5,
          3.5,
          3.5,
          3.84,
          3.84,
          2.35,
          2.35,
          2.35,
          3.4625,
          4.43,
          4.88,
          4.8,
          4.76,
          4.382499999999999,
          4.73,
          4.57,
          4.57,
          4.57,
          4.15,
          4,
          4.73,
          3.8,
          3.97,
          3.97,
          5,
          3,
          5,
          3.86,
          4,
          4,
          4.48,
          3.36,
          4.45,
          4.45,
          3.29,
          4,
          4.61,
          3.43,
          4,
          4.77,
          4.21,
          3.97,
          3.45,
          2.5,
          4,
          4,
          3.5,
          4,
          3.71,
          4.75,
          3.85,
          4.5,
          3,
          3.12,
          0,
          4.9375,
          4.015712,
          4.7749999999999995,
          3.75,
          4.24,
          3,
          4.87,
          3.375,
          4,
          4.87,
          4,
          4.71,
          4.22,
          3.71,
          4,
          3.75,
          4.4,
          4.56,
          3,
          4,
          4.816,
          3.67,
          3.73,
          3.73,
          3,
          4.16,
          4,
          4.37,
          4.67,
          4.375,
          5,
          3.75,
          4.5,
          4,
          4.57,
          3.98,
          3,
          4.3,
          4.62,
          3.5375,
          4.75,
          3.75,
          4,
          4.86,
          3.57,
          4.5,
          4.07,
          4.096799,
          2.36,
          4.8,
          3.3,
          4,
          3.73,
          3.73,
          4.46,
          3.76,
          2.5,
          2.5,
          4.225,
          4.69,
          2.5,
          4,
          4,
          4.015712,
          0,
          0,
          4.22,
          4.18,
          5,
          4.08,
          3.75,
          3.75,
          4.9,
          5,
          3.2,
          3.95,
          3.7,
          5,
          4,
          4.16,
          3.8125,
          3.12,
          4.61,
          4,
          3.68,
          4,
          4.78,
          2.95,
          4.1,
          4.39,
          4.34,
          3.81,
          4,
          4.6625,
          4.99,
          3.625,
          4.9415,
          3.75,
          4.015712,
          4.02,
          4.579,
          4.579,
          3.17,
          4.18,
          4.18,
          4.25,
          4.25,
          4.27,
          3.29,
          4.3,
          4.2375,
          4.1,
          4.89,
          4.25,
          4.91,
          4.050000000000001,
          4.84,
          4.84,
          3.7,
          4.6,
          4.82,
          4.65,
          3.125,
          3.46,
          3.46,
          3.75,
          4.43,
          4.36,
          4.71,
          3.6,
          2.6125,
          4.04,
          4.04,
          4.04,
          4.04,
          4.9125000000000005,
          4.16,
          3.01,
          3.01,
          4.64,
          4,
          4.375,
          3.2,
          4.3,
          4.87,
          4.87,
          4.46,
          4.38,
          4.2,
          4.9799999999999995,
          4.91,
          3.36,
          2,
          4.69,
          3.75,
          5,
          4,
          3.37,
          5,
          3,
          4.6,
          3.46,
          4.99,
          4.61,
          3,
          3.65,
          3.975,
          4.7,
          3.39,
          4.3,
          4.04,
          5,
          4.93,
          4.89,
          4.89,
          4.56,
          5,
          5,
          4.765,
          3,
          3.64,
          3.9,
          3.98,
          3.65,
          4.38,
          4.38,
          4,
          4,
          4.28,
          4.8,
          3.2,
          3.2,
          2.5,
          3.75,
          4.7625,
          3.75,
          3,
          4.88,
          2.5,
          4,
          4.234,
          4.36,
          4.27,
          3,
          5,
          2,
          3,
          3,
          4.95,
          3.125,
          4.31,
          4,
          4.6625,
          3.79,
          4.32,
          4.76,
          4.65,
          4.1,
          4.1,
          3.8,
          4.99,
          4.99,
          4.99,
          4.5,
          4.015712,
          4.015712,
          4.63,
          4.63,
          4.25,
          4.87,
          4.87,
          4.42,
          4,
          3.93,
          3.33,
          4.69,
          4.69,
          3.22,
          3.81,
          4.9,
          2.32,
          4.387499999999999,
          2.97875,
          5,
          4.2,
          4.56,
          4.56,
          4,
          3.5,
          4.42,
          4.6,
          4.79,
          2.8,
          3.95,
          2.2375,
          4.375,
          5,
          4,
          3.65,
          3.65,
          4,
          4,
          4.25,
          4.6875,
          4.43,
          3.75,
          4.49,
          3.2,
          3.2,
          3.96,
          4.825,
          5,
          3.49,
          5,
          3.9,
          4.76,
          3.57,
          2.5,
          4.44,
          4.2,
          4.3,
          0,
          4.55,
          4.6,
          2.925,
          3.4,
          4,
          2.625,
          4.1625,
          4.27,
          4,
          3,
          3,
          3,
          4.970000000000001,
          3,
          3,
          4.12,
          4.26,
          4.74,
          4.74,
          4.48,
          4.54,
          2.73,
          2.73,
          4.02,
          4.02,
          4.02,
          4.1,
          4.5,
          4.18,
          3.85,
          98.8,
          3,
          4.47,
          4.47,
          4.19,
          4,
          4.3,
          5,
          3.85,
          4.050000000000001,
          1.7625,
          4,
          4.66,
          5,
          4.52,
          4.55,
          4.71,
          3,
          4.86,
          4.95,
          4.95,
          0,
          3.35,
          4.76,
          4.16,
          4,
          4.86,
          2.79,
          4.62,
          3.5,
          3.5,
          3.3,
          3.72,
          3,
          4.949,
          4,
          4,
          3.89,
          4.95,
          4.95,
          4.1,
          4.82,
          2.8125,
          3.75,
          4.44,
          4,
          3.75,
          3.875,
          4.5,
          4.5,
          4.4375,
          4,
          5,
          4.5,
          4.9,
          4.4125,
          4.27,
          4.78,
          3.4250000000000003,
          4,
          4.5,
          4.53,
          4.5,
          3.75,
          4.51,
          3.52,
          3,
          4,
          4,
          4.2,
          4,
          4,
          4.3,
          4.24,
          4.88,
          4.375,
          3,
          3,
          3.99,
          4.14,
          3.56,
          3.75,
          3.45,
          4.375,
          4.375,
          3.65,
          4.75,
          3.75,
          3.75,
          4.01,
          4.4,
          4.4,
          4.66,
          2.5,
          3.4,
          4,
          2.5,
          4.607347949999999,
          3.96,
          4,
          4,
          4.78,
          4.89,
          4.89,
          4.77,
          3.98,
          4.47,
          4.47,
          4.3,
          4.3,
          3,
          4.58,
          5,
          4.69,
          3.21,
          3.4499999999999997,
          4.75,
          4.96,
          4.4,
          4.41,
          4.1,
          4,
          4.12,
          2.97,
          2.97,
          4.57,
          3.6375,
          4.61,
          5,
          3.25,
          3.1225000000000005,
          4.64,
          4.64,
          4.8375,
          3.5625,
          4,
          4.4,
          4.4,
          3,
          4.8,
          5,
          4.29,
          4.015712,
          4.0125,
          4.35,
          4.5,
          4.06,
          3.75,
          4.7125,
          2.5,
          3.95,
          4.61,
          4.61,
          2.6624999999999996,
          4.17,
          3.8874999999999997,
          3.84,
          5,
          4.607347949999999,
          4.6,
          4.68,
          4.5,
          4.225,
          4.93,
          3.76,
          3.31,
          3.75,
          4,
          4.81,
          4,
          4.42,
          4.42,
          4,
          4.99,
          3.98,
          4,
          3.75,
          2.89,
          4,
          3.65,
          4.05,
          3.4,
          4,
          4.22,
          4.9925,
          4.9925,
          4.8,
          4.68,
          3,
          3.24,
          4,
          4,
          4,
          3.67,
          4.8375,
          4.1375,
          4.1375,
          4,
          4,
          4,
          4,
          3.79,
          4.5,
          4,
          4,
          4.979,
          3.75,
          4,
          4.41,
          4.41,
          4.22,
          2.5,
          4.97,
          4,
          3,
          4,
          2.5,
          4.607347949999999,
          3.75,
          4.66,
          3.8,
          3,
          4.9,
          4.9,
          4,
          3.7125000000000004,
          4.69,
          3.85,
          4.99,
          4.7749999999999995,
          3.75,
          4.85,
          4.85,
          4.875,
          4.875,
          4.25,
          5,
          3,
          3,
          4.41,
          4.51,
          2.5,
          4.5,
          4.5,
          4,
          3.44,
          3.78,
          4.7749999999999995,
          2.3000000000000003,
          3.27,
          4.55,
          3.51,
          3.5,
          4.42,
          4,
          4.31,
          4.31,
          4.09,
          4.13,
          4.8,
          4.25,
          4.52,
          3.5,
          4.26,
          5,
          5,
          4.4375,
          4,
          2.1,
          3.75,
          3.25,
          3.75,
          3.225,
          4,
          3.66,
          4.43,
          4.25,
          4.25,
          4.37,
          3.93,
          5,
          4.1125,
          4.11,
          3.9000000000000004,
          3.9000000000000004,
          4.4,
          3,
          3,
          3.5625,
          4.25,
          3.85,
          4,
          2.9875000000000003,
          3.39,
          3.75,
          2.8,
          4.49,
          4.875,
          4.55,
          3.75,
          4,
          4,
          4.125,
          3.64,
          3.74,
          4.08,
          4.85,
          5,
          4.7125,
          3.525,
          4,
          3,
          4.65,
          4.31,
          4.65,
          4.51,
          3.75,
          2.65,
          2.65,
          4.38,
          4.38,
          3.0625,
          4,
          4.75,
          4.75,
          3.625,
          3.96,
          3.96,
          3.96,
          3.7,
          4,
          3.74,
          3.125,
          4,
          4.89,
          4.75,
          4.9,
          4.64,
          4.64,
          3.89,
          5,
          4.015712,
          3,
          4.46,
          4.63,
          4.2,
          5,
          3.78,
          3.89,
          3.89,
          3.8874999999999997,
          4.8375,
          5,
          4,
          4,
          2,
          4.3,
          4.06,
          3.83,
          3.83,
          3.5,
          3,
          4,
          2.5,
          5,
          4.28,
          4.28,
          2.75,
          3.08,
          4.75,
          4,
          4.6,
          4.6,
          4.45,
          3,
          3.66,
          4.4,
          4.93,
          3.49,
          3,
          4.32,
          4.362500000000001,
          2,
          4.85,
          3.75,
          4.65,
          4.65,
          4,
          4.72,
          4.5,
          4.67,
          4.65,
          3.6,
          3.5,
          5,
          4,
          3.64,
          2.625,
          4.68,
          4,
          3.8,
          4.75,
          4,
          3.37,
          2.7,
          4.43,
          3.97,
          4.015712,
          3.68,
          4.39,
          4.57,
          2.5,
          0,
          4.8,
          4.9,
          4.9,
          4.77,
          4.71,
          4.28,
          4.28,
          4.362500000000001,
          4,
          4,
          4.35,
          3.2,
          3.2,
          4.43,
          4.43,
          4,
          4.63,
          3.5625,
          5,
          5,
          4.38,
          3.8,
          4,
          3.5,
          4.1125,
          4.71,
          4,
          4.27,
          4.67,
          4.63,
          4.48,
          3.225,
          2.5,
          3.7,
          3.8,
          3.8,
          5,
          4.4624999999999995,
          4.7875,
          4,
          4,
          4.89,
          3.83,
          5,
          4.41,
          4,
          3.8,
          3.5,
          3.03,
          4.49,
          4.5,
          4.5,
          4.61,
          4,
          4.67,
          4.15,
          4.85,
          4.4845,
          4.49,
          4.8625,
          4.0625,
          3.77,
          4,
          4.9,
          2.5,
          3.75,
          3.76,
          3.24,
          4.95,
          4,
          2.5,
          3.1624999999999996,
          4.88,
          3.85,
          3.62,
          5,
          4,
          3.8,
          3.94,
          4.25,
          5,
          4.7875,
          4.4,
          4,
          0,
          4.5,
          4,
          4.5,
          3,
          4.16,
          4.88,
          4,
          3.28,
          4.37,
          4.37,
          5,
          3,
          4.87,
          4.53,
          3.86,
          4.46,
          4.76,
          3.97,
          4.13,
          4,
          4,
          4.74,
          4,
          3.36,
          4.09,
          2.8,
          3,
          3.75,
          4.94,
          4.2125,
          4.84,
          4.7,
          4,
          4,
          2.7,
          4.07,
          4.97,
          4.2125,
          3.5,
          2,
          3.45,
          3.97,
          4.015712,
          4.55,
          5,
          3.225,
          3.225,
          4,
          4,
          4.9565,
          4.9565,
          4.03,
          2.56,
          2.56,
          4.45,
          3.75,
          4.28,
          4.28,
          4.68,
          3.62,
          3.1624999999999996,
          4,
          4.17,
          3,
          4.63,
          3.75,
          4.91,
          4.6125,
          4,
          3.34,
          1.7874999999999999,
          5,
          2.8125,
          4.85,
          3.65,
          4.387499999999999,
          4.6,
          3.05,
          4.98,
          2.22,
          2.22,
          3.75,
          4.4,
          4.44,
          3,
          4,
          3.875,
          3.875,
          4.9,
          4.9,
          4.41,
          3.67,
          3.7,
          4.95,
          3.93,
          4.8125,
          3.75,
          4.83,
          4,
          4.77,
          4.91,
          4.35,
          3.625,
          5,
          4.45,
          3.75,
          3.93,
          3.06,
          4.55,
          3,
          2.36,
          2.36,
          4.23,
          2.9125,
          3.75,
          3,
          4.1,
          2,
          4.17,
          4.53,
          2.49,
          3.93,
          4.85,
          4,
          5,
          4,
          4.25,
          4,
          4.85,
          4.98,
          3,
          4.01,
          3,
          4.85,
          4.39,
          4,
          4.59,
          3.2125,
          4.82,
          3.52,
          3.625,
          2.325,
          3.78,
          3.11,
          3.75,
          5,
          2.9625000000000004,
          3,
          4.77,
          3.65,
          4.9,
          0,
          4,
          4.9915,
          2.5,
          3,
          3.1,
          3.13,
          4,
          4.84,
          4.79,
          3.67,
          3,
          4.1,
          3.75,
          5,
          4.36,
          4.7125,
          4.6,
          3.68,
          4.3,
          4.3,
          4,
          4.925,
          3.86,
          3.4625,
          3.94,
          4.93,
          4.94,
          4.7,
          4.6,
          4.9,
          4.19,
          2.5,
          4.45,
          3.125,
          2.7375,
          2.5,
          3.25,
          3.25,
          5,
          3.75,
          4,
          3.75,
          4.5,
          4.59,
          4.8,
          3.9250000000000003,
          4.4125,
          3,
          4.125,
          4.36,
          4.98,
          4,
          2.4875,
          5,
          4.89,
          3,
          4.22,
          4.22,
          4.22,
          4.7575,
          4.64,
          3,
          4.38,
          3.25,
          2.74,
          4.88,
          4,
          4.63,
          4.85,
          4.5,
          3.8,
          3.82,
          3.125,
          3.125,
          3.125,
          4,
          3.31,
          4.1675,
          5,
          4,
          3.9124999999999996,
          4,
          4.95,
          4.84,
          2.5,
          3,
          4.5,
          4.5,
          3.2874999999999996,
          4.55,
          4,
          3.46,
          4.2,
          4.76,
          4,
          4.4,
          5,
          2.75,
          3.81,
          4.6375,
          3.8,
          5,
          4.6125,
          4.88,
          5,
          3.75,
          2.5,
          3.5,
          3.4125,
          3.525,
          4.33,
          3.92,
          3.25,
          4.63,
          2,
          4.9,
          4.85,
          4.7,
          4.325,
          2.5,
          3,
          3.9375,
          4.015712,
          4.8375,
          4.46,
          4.46,
          4.77,
          4.57,
          3,
          3.5,
          3,
          4.53,
          3.5,
          4.5,
          3.4375,
          3.63,
          4.85,
          4.37,
          4.31,
          4.31,
          4.36,
          3.5625,
          4,
          4.7,
          4.7,
          4,
          3.8,
          4.54,
          4.54,
          4.54,
          3.4,
          4.96,
          5,
          4.4,
          4.74,
          4.96,
          3.75,
          4.59,
          4.44,
          4,
          3,
          3.88,
          3.96,
          3.96,
          4.96,
          4.96,
          2.5,
          4.22,
          2.5,
          3.75,
          2.77,
          2.91,
          2.91,
          4.53,
          3,
          3.17,
          3.8,
          3.7,
          3.75,
          4.19,
          4.32,
          3.6,
          2.29,
          2.29,
          4.4,
          3.41,
          3.68,
          4.45,
          2.925,
          4,
          4,
          3.68,
          4.5,
          3,
          4,
          4,
          4.015712,
          4.96,
          4.74,
          4.27,
          3.01,
          3,
          2.5,
          3.99,
          0,
          4.24,
          5,
          5,
          4.6000000000000005,
          4.94,
          4.94,
          4.9,
          4.4,
          3,
          4,
          4.31,
          4.07,
          4.9625,
          4,
          3.4125,
          0.2,
          2.95,
          4.125,
          4.39,
          3,
          4.4,
          4.63,
          3,
          4.39,
          3.75,
          4.4,
          4.4,
          3.25,
          4,
          4.987500000000001,
          5,
          3.18,
          3.18,
          4.54,
          4.54,
          4.6625,
          5,
          3.14,
          3.59,
          4,
          4.01,
          4.57,
          4,
          4.07,
          2.07,
          4.5,
          2.75,
          4.23,
          4.9,
          3.84,
          4.5,
          3,
          5,
          4.94,
          4.925,
          4.0625,
          4.0625,
          4.21,
          2.5,
          3.39,
          4.47,
          4.25,
          4.25,
          4.2805,
          3.28,
          2.5,
          4.989,
          4.825,
          4,
          3.18,
          4,
          4.13,
          4.47,
          3.19,
          3.19,
          4.1165,
          3.75,
          3.36,
          4.67,
          4.83,
          4.63,
          3.27,
          4.72,
          4,
          4,
          3.75,
          5,
          3.125,
          4,
          5,
          3.93,
          4.77,
          3.3,
          5,
          5,
          4.28,
          4.13,
          4.63,
          3.43,
          5,
          4.55,
          4.07,
          3.5,
          3.4375,
          4.75,
          2.92,
          4.3,
          4.5,
          4.3125,
          0,
          2.82,
          4.13,
          3.5625,
          3.83,
          3.83,
          3.92,
          3.17,
          4.4125,
          4.25,
          4.61,
          3.5,
          4,
          4.74,
          2.74,
          4.7,
          4.375,
          4.7,
          4.074999999999999,
          4.93,
          4.65,
          3.75,
          4.49,
          4,
          3.13,
          3.3,
          3.3,
          4.95,
          3.5999999999999996,
          3.75,
          4.5875,
          4,
          2.78,
          2.78,
          4.66,
          4.675000000000001,
          4.6,
          4.65,
          0,
          3.9124999999999996,
          3.43,
          5,
          3.94,
          4.75,
          5,
          4,
          4.19,
          3,
          3,
          3.5,
          4.16,
          4,
          4,
          4.45,
          3.55,
          3,
          2.7,
          2.7,
          2.76,
          4,
          5,
          4.23,
          4.3,
          3,
          3.75,
          3,
          3.9,
          5,
          4.5,
          4.41,
          4.8625,
          4,
          3,
          4.547824,
          4.547824,
          3.93,
          5,
          3.5375,
          3.67,
          3.75,
          3.75,
          3.08,
          4,
          4.49,
          3.75,
          4.5,
          4.59,
          4,
          3.95,
          2.5,
          2.5,
          4.7,
          3.42,
          2.5,
          3.84,
          4.5,
          3.74,
          4.24,
          4,
          4,
          3,
          3.85,
          3.85,
          4.5,
          4.45,
          3,
          4.91,
          3.83,
          4,
          5,
          5,
          4.02,
          4.6,
          4.72,
          4.93,
          4,
          4.77,
          3,
          3.125,
          3.69,
          4.24,
          3.5,
          3.96,
          4.9,
          4,
          3,
          4.55,
          4.95,
          4.05,
          0,
          4.869,
          4.869,
          33,
          3.3,
          4.55,
          4.387499999999999,
          4.5,
          4.6,
          3.89,
          4.42,
          2.5,
          4,
          3.75,
          5,
          2.71,
          4.015712,
          2.7,
          4.1125,
          3,
          5,
          4,
          3.89,
          5,
          3.75,
          3.56,
          3.5,
          4.6,
          3.75,
          4.53,
          4.28,
          4.9,
          4.16,
          4.39,
          3.76,
          3.19,
          4,
          3.41,
          4,
          4.78,
          4.78,
          3.75,
          4,
          4,
          4.57,
          3.78,
          4.08,
          2.17,
          3.71,
          4.3125,
          3.75,
          4.965,
          4.8,
          2.725,
          4,
          4,
          4.4125,
          4,
          4,
          2.5,
          4.2,
          4.13,
          2.18,
          2.18,
          4.89,
          3.95,
          5,
          4.26,
          3.75,
          3.75,
          3,
          3.75,
          3,
          4,
          4.4,
          3.93,
          3.32,
          4.579,
          3.93,
          3,
          3.75,
          3.76,
          2.5,
          4.51,
          4,
          4.32,
          3.46,
          2.67,
          4,
          4.75,
          4.07,
          4.67,
          4.71,
          4.96,
          4,
          3.77,
          2.8,
          3.75,
          4.475,
          5,
          4.547824,
          4.47,
          3.85,
          4.75,
          4.6875,
          2.5,
          2.96,
          3,
          3.35,
          4.13,
          5,
          3.38,
          3,
          3.67,
          4,
          4.6,
          3.32,
          3,
          3.9,
          4.64,
          0,
          3.72,
          4.52,
          4,
          2.77,
          4.2,
          4.04,
          4,
          4.7749999999999995,
          4,
          4.7,
          4.7725,
          4,
          3.28,
          5,
          3,
          4.2,
          4,
          4,
          4.015712,
          3.5625,
          3,
          4,
          4.14,
          4.68,
          5,
          4.8625,
          3.56,
          4,
          4.87,
          4.015712,
          4.015712,
          4.35,
          3,
          4,
          4,
          2.5,
          4.47,
          2.9749999999999996,
          3.75,
          3.525,
          4.85,
          2.09,
          3.88,
          4.25,
          3.25,
          5,
          3.55,
          4.67,
          3.75,
          3.4000000000000004,
          3.4000000000000004,
          3.9,
          3.9,
          5,
          4.35,
          5,
          3.375,
          3.375,
          4.28,
          3,
          4,
          5,
          5,
          5,
          4,
          4.78,
          3.75,
          4.41,
          3.6375,
          4.5,
          4,
          3.5999999999999996,
          2.5,
          3,
          4.8,
          4.015712,
          4.74,
          4.32,
          3.96,
          4.88,
          4,
          3.98,
          3.99,
          4.6,
          3.4749999999999996,
          3.4749999999999996,
          4.77,
          5,
          4.23,
          3,
          4.19,
          4.65,
          4,
          4.4,
          4.69,
          4,
          3.9,
          4.5,
          4.32,
          3.5999999999999996,
          4.015712,
          4.25,
          3.28,
          4.18,
          4.12,
          3.95,
          4,
          4.85,
          4.43,
          4.4,
          5,
          4.87,
          4.7125,
          3.55,
          4.9125000000000005,
          3,
          4,
          3.65,
          3,
          2.58,
          2.99,
          4.09,
          4.02,
          3,
          4,
          2.525,
          3.85,
          3.75,
          3.9,
          3.45,
          4,
          3.98,
          4,
          4.41,
          4,
          4.72,
          3.72375,
          4.8,
          4.61,
          2.225,
          3,
          3,
          4.8,
          4.97,
          2.56,
          4,
          4.509,
          4.675000000000001,
          4.84,
          4,
          4.175,
          5,
          3.1125000000000003,
          5,
          4,
          4.24,
          4.65,
          2.875,
          3.42,
          3.42,
          3.4,
          4.8875,
          4.675000000000001,
          4.3,
          4,
          5,
          4.79,
          4.55,
          4,
          3,
          4,
          4.12,
          2.77,
          4.33,
          5,
          4.21,
          3.993,
          3.76,
          2.15,
          4.47,
          4.7125,
          3.89,
          4.53,
          4.96,
          3.3,
          4.81,
          4,
          3,
          3,
          4.35,
          4.75,
          4.13,
          4.45,
          2.75,
          4.747999999999999,
          3.5,
          3.5,
          4.79,
          4.9,
          5,
          2.5,
          4.3,
          4.575,
          3,
          2.9625000000000004,
          4.91,
          3.54,
          4.68,
          4.51,
          2,
          4.5375,
          4,
          5,
          0,
          4.51,
          4.72,
          3,
          4.6625,
          4.25,
          3.7,
          3.79,
          3.63,
          4.45,
          3.73,
          3.9,
          3.78,
          4.4,
          4.5,
          5,
          4.9,
          4.11,
          4.65,
          4.9,
          4,
          4.015712,
          4.6375,
          3.82,
          4.29,
          4.36,
          4.25,
          4.45,
          3.73,
          2.8125,
          3.04,
          4.3725000000000005,
          4.84,
          5,
          4.11,
          4.41,
          4.95,
          4.36,
          2.5,
          3.89,
          3.25,
          4.03,
          4,
          3.1624999999999996,
          2.5,
          3.66,
          4.45,
          4.11,
          3.7,
          4.27,
          4.1,
          4,
          3.25,
          4.3,
          3.59,
          5,
          4.39,
          3.5,
          3.82,
          4.73,
          4.7125,
          4.41,
          4.4,
          4.55,
          2.5,
          4.015712,
          3.4,
          3.79,
          4.85,
          4,
          4.68,
          4.72,
          4.32,
          4.65,
          4.57,
          4.5,
          3,
          4,
          4,
          4.51,
          4.1499999999999995,
          3.46,
          2.56,
          2.8,
          5,
          4.85,
          4.8,
          5,
          4,
          4.4125,
          4.3,
          4.68,
          4.5375,
          4,
          4,
          2.99,
          4.97,
          4.52,
          3.95,
          4.51,
          4.46,
          4,
          4,
          3,
          4.7749999999999995,
          3.91,
          4,
          4,
          4.45,
          3.2624999999999997,
          3.375,
          4.2,
          3.77,
          3,
          3.47,
          4,
          2.75,
          4.79,
          4.45,
          4.51,
          3.75,
          4.99,
          3,
          3.4,
          3.7125000000000004,
          4.875,
          4.875,
          4.18,
          4.5,
          4,
          4.92,
          3.9,
          4.607347949999999,
          4,
          2.45,
          3.75,
          4,
          3.975,
          4,
          3.65,
          3.9,
          3.99,
          3.33,
          2.97,
          4.57,
          4.45,
          4.85,
          4.85,
          3.375,
          4.69,
          2.59,
          4.375,
          3.98,
          0.1605,
          4.7749999999999995,
          3.86,
          3.875,
          4.050000000000001,
          4.5,
          3,
          3.28,
          4,
          3.75,
          3.75,
          4,
          4,
          4,
          4.41,
          3.69,
          3.75,
          3,
          5,
          4.27,
          4,
          4.45,
          2.84,
          4.31,
          4.51,
          4,
          4.6,
          2.46,
          2,
          4.63,
          3.55,
          2.25,
          3.8125,
          3.75,
          5,
          4.6625,
          4.76,
          3.51,
          3.75,
          3.65,
          3.75,
          3.1875,
          3.0875000000000004,
          4.225,
          2.5,
          4.82,
          4.2,
          4.96,
          3.52,
          4.25,
          4.15,
          4.2,
          4.46,
          4.93,
          4.32
         ]
        }
       ],
       "layout": {
        "template": {
         "data": {
          "bar": [
           {
            "error_x": {
             "color": "#2a3f5f"
            },
            "error_y": {
             "color": "#2a3f5f"
            },
            "marker": {
             "line": {
              "color": "#E5ECF6",
              "width": 0.5
             },
             "pattern": {
              "fillmode": "overlay",
              "size": 10,
              "solidity": 0.2
             }
            },
            "type": "bar"
           }
          ],
          "barpolar": [
           {
            "marker": {
             "line": {
              "color": "#E5ECF6",
              "width": 0.5
             },
             "pattern": {
              "fillmode": "overlay",
              "size": 10,
              "solidity": 0.2
             }
            },
            "type": "barpolar"
           }
          ],
          "carpet": [
           {
            "aaxis": {
             "endlinecolor": "#2a3f5f",
             "gridcolor": "white",
             "linecolor": "white",
             "minorgridcolor": "white",
             "startlinecolor": "#2a3f5f"
            },
            "baxis": {
             "endlinecolor": "#2a3f5f",
             "gridcolor": "white",
             "linecolor": "white",
             "minorgridcolor": "white",
             "startlinecolor": "#2a3f5f"
            },
            "type": "carpet"
           }
          ],
          "choropleth": [
           {
            "colorbar": {
             "outlinewidth": 0,
             "ticks": ""
            },
            "type": "choropleth"
           }
          ],
          "contour": [
           {
            "colorbar": {
             "outlinewidth": 0,
             "ticks": ""
            },
            "colorscale": [
             [
              0,
              "#0d0887"
             ],
             [
              0.1111111111111111,
              "#46039f"
             ],
             [
              0.2222222222222222,
              "#7201a8"
             ],
             [
              0.3333333333333333,
              "#9c179e"
             ],
             [
              0.4444444444444444,
              "#bd3786"
             ],
             [
              0.5555555555555556,
              "#d8576b"
             ],
             [
              0.6666666666666666,
              "#ed7953"
             ],
             [
              0.7777777777777778,
              "#fb9f3a"
             ],
             [
              0.8888888888888888,
              "#fdca26"
             ],
             [
              1,
              "#f0f921"
             ]
            ],
            "type": "contour"
           }
          ],
          "contourcarpet": [
           {
            "colorbar": {
             "outlinewidth": 0,
             "ticks": ""
            },
            "type": "contourcarpet"
           }
          ],
          "heatmap": [
           {
            "colorbar": {
             "outlinewidth": 0,
             "ticks": ""
            },
            "colorscale": [
             [
              0,
              "#0d0887"
             ],
             [
              0.1111111111111111,
              "#46039f"
             ],
             [
              0.2222222222222222,
              "#7201a8"
             ],
             [
              0.3333333333333333,
              "#9c179e"
             ],
             [
              0.4444444444444444,
              "#bd3786"
             ],
             [
              0.5555555555555556,
              "#d8576b"
             ],
             [
              0.6666666666666666,
              "#ed7953"
             ],
             [
              0.7777777777777778,
              "#fb9f3a"
             ],
             [
              0.8888888888888888,
              "#fdca26"
             ],
             [
              1,
              "#f0f921"
             ]
            ],
            "type": "heatmap"
           }
          ],
          "heatmapgl": [
           {
            "colorbar": {
             "outlinewidth": 0,
             "ticks": ""
            },
            "colorscale": [
             [
              0,
              "#0d0887"
             ],
             [
              0.1111111111111111,
              "#46039f"
             ],
             [
              0.2222222222222222,
              "#7201a8"
             ],
             [
              0.3333333333333333,
              "#9c179e"
             ],
             [
              0.4444444444444444,
              "#bd3786"
             ],
             [
              0.5555555555555556,
              "#d8576b"
             ],
             [
              0.6666666666666666,
              "#ed7953"
             ],
             [
              0.7777777777777778,
              "#fb9f3a"
             ],
             [
              0.8888888888888888,
              "#fdca26"
             ],
             [
              1,
              "#f0f921"
             ]
            ],
            "type": "heatmapgl"
           }
          ],
          "histogram": [
           {
            "marker": {
             "pattern": {
              "fillmode": "overlay",
              "size": 10,
              "solidity": 0.2
             }
            },
            "type": "histogram"
           }
          ],
          "histogram2d": [
           {
            "colorbar": {
             "outlinewidth": 0,
             "ticks": ""
            },
            "colorscale": [
             [
              0,
              "#0d0887"
             ],
             [
              0.1111111111111111,
              "#46039f"
             ],
             [
              0.2222222222222222,
              "#7201a8"
             ],
             [
              0.3333333333333333,
              "#9c179e"
             ],
             [
              0.4444444444444444,
              "#bd3786"
             ],
             [
              0.5555555555555556,
              "#d8576b"
             ],
             [
              0.6666666666666666,
              "#ed7953"
             ],
             [
              0.7777777777777778,
              "#fb9f3a"
             ],
             [
              0.8888888888888888,
              "#fdca26"
             ],
             [
              1,
              "#f0f921"
             ]
            ],
            "type": "histogram2d"
           }
          ],
          "histogram2dcontour": [
           {
            "colorbar": {
             "outlinewidth": 0,
             "ticks": ""
            },
            "colorscale": [
             [
              0,
              "#0d0887"
             ],
             [
              0.1111111111111111,
              "#46039f"
             ],
             [
              0.2222222222222222,
              "#7201a8"
             ],
             [
              0.3333333333333333,
              "#9c179e"
             ],
             [
              0.4444444444444444,
              "#bd3786"
             ],
             [
              0.5555555555555556,
              "#d8576b"
             ],
             [
              0.6666666666666666,
              "#ed7953"
             ],
             [
              0.7777777777777778,
              "#fb9f3a"
             ],
             [
              0.8888888888888888,
              "#fdca26"
             ],
             [
              1,
              "#f0f921"
             ]
            ],
            "type": "histogram2dcontour"
           }
          ],
          "mesh3d": [
           {
            "colorbar": {
             "outlinewidth": 0,
             "ticks": ""
            },
            "type": "mesh3d"
           }
          ],
          "parcoords": [
           {
            "line": {
             "colorbar": {
              "outlinewidth": 0,
              "ticks": ""
             }
            },
            "type": "parcoords"
           }
          ],
          "pie": [
           {
            "automargin": true,
            "type": "pie"
           }
          ],
          "scatter": [
           {
            "fillpattern": {
             "fillmode": "overlay",
             "size": 10,
             "solidity": 0.2
            },
            "type": "scatter"
           }
          ],
          "scatter3d": [
           {
            "line": {
             "colorbar": {
              "outlinewidth": 0,
              "ticks": ""
             }
            },
            "marker": {
             "colorbar": {
              "outlinewidth": 0,
              "ticks": ""
             }
            },
            "type": "scatter3d"
           }
          ],
          "scattercarpet": [
           {
            "marker": {
             "colorbar": {
              "outlinewidth": 0,
              "ticks": ""
             }
            },
            "type": "scattercarpet"
           }
          ],
          "scattergeo": [
           {
            "marker": {
             "colorbar": {
              "outlinewidth": 0,
              "ticks": ""
             }
            },
            "type": "scattergeo"
           }
          ],
          "scattergl": [
           {
            "marker": {
             "colorbar": {
              "outlinewidth": 0,
              "ticks": ""
             }
            },
            "type": "scattergl"
           }
          ],
          "scattermapbox": [
           {
            "marker": {
             "colorbar": {
              "outlinewidth": 0,
              "ticks": ""
             }
            },
            "type": "scattermapbox"
           }
          ],
          "scatterpolar": [
           {
            "marker": {
             "colorbar": {
              "outlinewidth": 0,
              "ticks": ""
             }
            },
            "type": "scatterpolar"
           }
          ],
          "scatterpolargl": [
           {
            "marker": {
             "colorbar": {
              "outlinewidth": 0,
              "ticks": ""
             }
            },
            "type": "scatterpolargl"
           }
          ],
          "scatterternary": [
           {
            "marker": {
             "colorbar": {
              "outlinewidth": 0,
              "ticks": ""
             }
            },
            "type": "scatterternary"
           }
          ],
          "surface": [
           {
            "colorbar": {
             "outlinewidth": 0,
             "ticks": ""
            },
            "colorscale": [
             [
              0,
              "#0d0887"
             ],
             [
              0.1111111111111111,
              "#46039f"
             ],
             [
              0.2222222222222222,
              "#7201a8"
             ],
             [
              0.3333333333333333,
              "#9c179e"
             ],
             [
              0.4444444444444444,
              "#bd3786"
             ],
             [
              0.5555555555555556,
              "#d8576b"
             ],
             [
              0.6666666666666666,
              "#ed7953"
             ],
             [
              0.7777777777777778,
              "#fb9f3a"
             ],
             [
              0.8888888888888888,
              "#fdca26"
             ],
             [
              1,
              "#f0f921"
             ]
            ],
            "type": "surface"
           }
          ],
          "table": [
           {
            "cells": {
             "fill": {
              "color": "#EBF0F8"
             },
             "line": {
              "color": "white"
             }
            },
            "header": {
             "fill": {
              "color": "#C8D4E3"
             },
             "line": {
              "color": "white"
             }
            },
            "type": "table"
           }
          ]
         },
         "layout": {
          "annotationdefaults": {
           "arrowcolor": "#2a3f5f",
           "arrowhead": 0,
           "arrowwidth": 1
          },
          "autotypenumbers": "strict",
          "coloraxis": {
           "colorbar": {
            "outlinewidth": 0,
            "ticks": ""
           }
          },
          "colorscale": {
           "diverging": [
            [
             0,
             "#8e0152"
            ],
            [
             0.1,
             "#c51b7d"
            ],
            [
             0.2,
             "#de77ae"
            ],
            [
             0.3,
             "#f1b6da"
            ],
            [
             0.4,
             "#fde0ef"
            ],
            [
             0.5,
             "#f7f7f7"
            ],
            [
             0.6,
             "#e6f5d0"
            ],
            [
             0.7,
             "#b8e186"
            ],
            [
             0.8,
             "#7fbc41"
            ],
            [
             0.9,
             "#4d9221"
            ],
            [
             1,
             "#276419"
            ]
           ],
           "sequential": [
            [
             0,
             "#0d0887"
            ],
            [
             0.1111111111111111,
             "#46039f"
            ],
            [
             0.2222222222222222,
             "#7201a8"
            ],
            [
             0.3333333333333333,
             "#9c179e"
            ],
            [
             0.4444444444444444,
             "#bd3786"
            ],
            [
             0.5555555555555556,
             "#d8576b"
            ],
            [
             0.6666666666666666,
             "#ed7953"
            ],
            [
             0.7777777777777778,
             "#fb9f3a"
            ],
            [
             0.8888888888888888,
             "#fdca26"
            ],
            [
             1,
             "#f0f921"
            ]
           ],
           "sequentialminus": [
            [
             0,
             "#0d0887"
            ],
            [
             0.1111111111111111,
             "#46039f"
            ],
            [
             0.2222222222222222,
             "#7201a8"
            ],
            [
             0.3333333333333333,
             "#9c179e"
            ],
            [
             0.4444444444444444,
             "#bd3786"
            ],
            [
             0.5555555555555556,
             "#d8576b"
            ],
            [
             0.6666666666666666,
             "#ed7953"
            ],
            [
             0.7777777777777778,
             "#fb9f3a"
            ],
            [
             0.8888888888888888,
             "#fdca26"
            ],
            [
             1,
             "#f0f921"
            ]
           ]
          },
          "colorway": [
           "#636efa",
           "#EF553B",
           "#00cc96",
           "#ab63fa",
           "#FFA15A",
           "#19d3f3",
           "#FF6692",
           "#B6E880",
           "#FF97FF",
           "#FECB52"
          ],
          "font": {
           "color": "#2a3f5f"
          },
          "geo": {
           "bgcolor": "white",
           "lakecolor": "white",
           "landcolor": "#E5ECF6",
           "showlakes": true,
           "showland": true,
           "subunitcolor": "white"
          },
          "hoverlabel": {
           "align": "left"
          },
          "hovermode": "closest",
          "mapbox": {
           "style": "light"
          },
          "paper_bgcolor": "white",
          "plot_bgcolor": "#E5ECF6",
          "polar": {
           "angularaxis": {
            "gridcolor": "white",
            "linecolor": "white",
            "ticks": ""
           },
           "bgcolor": "#E5ECF6",
           "radialaxis": {
            "gridcolor": "white",
            "linecolor": "white",
            "ticks": ""
           }
          },
          "scene": {
           "xaxis": {
            "backgroundcolor": "#E5ECF6",
            "gridcolor": "white",
            "gridwidth": 2,
            "linecolor": "white",
            "showbackground": true,
            "ticks": "",
            "zerolinecolor": "white"
           },
           "yaxis": {
            "backgroundcolor": "#E5ECF6",
            "gridcolor": "white",
            "gridwidth": 2,
            "linecolor": "white",
            "showbackground": true,
            "ticks": "",
            "zerolinecolor": "white"
           },
           "zaxis": {
            "backgroundcolor": "#E5ECF6",
            "gridcolor": "white",
            "gridwidth": 2,
            "linecolor": "white",
            "showbackground": true,
            "ticks": "",
            "zerolinecolor": "white"
           }
          },
          "shapedefaults": {
           "line": {
            "color": "#2a3f5f"
           }
          },
          "ternary": {
           "aaxis": {
            "gridcolor": "white",
            "linecolor": "white",
            "ticks": ""
           },
           "baxis": {
            "gridcolor": "white",
            "linecolor": "white",
            "ticks": ""
           },
           "bgcolor": "#E5ECF6",
           "caxis": {
            "gridcolor": "white",
            "linecolor": "white",
            "ticks": ""
           }
          },
          "title": {
           "x": 0.05
          },
          "xaxis": {
           "automargin": true,
           "gridcolor": "white",
           "linecolor": "white",
           "ticks": "",
           "title": {
            "standoff": 15
           },
           "zerolinecolor": "white",
           "zerolinewidth": 2
          },
          "yaxis": {
           "automargin": true,
           "gridcolor": "white",
           "linecolor": "white",
           "ticks": "",
           "title": {
            "standoff": 15
           },
           "zerolinecolor": "white",
           "zerolinewidth": 2
          }
         }
        },
        "title": {
         "text": "GPA Box Plot",
         "x": 0.5
        },
        "yaxis": {
         "title": {
          "text": "GPA"
         }
        }
       }
      }
     },
     "metadata": {},
     "output_type": "display_data"
    }
   ],
   "source": [
    "box_plot = go.Figure(\n",
    "    data=[\n",
    "        go.Box(\n",
    "            y=df['GPA'],  # Use the GPA column\n",
    "            name='GPA',\n",
    "            boxpoints='all'  # Show all points\n",
    "        )\n",
    "    ]\n",
    ")\n",
    "box_plot.update_layout(\n",
    "    title='GPA Box Plot',\n",
    "    yaxis_title='GPA',\n",
    "    title_x=0.5\n",
    ")\n",
    "box_plot.show()"
   ]
  },
  {
   "cell_type": "code",
   "execution_count": 77,
   "metadata": {},
   "outputs": [
    {
     "data": {
      "text/html": [
       "<div>\n",
       "<style scoped>\n",
       "    .dataframe tbody tr th:only-of-type {\n",
       "        vertical-align: middle;\n",
       "    }\n",
       "\n",
       "    .dataframe tbody tr th {\n",
       "        vertical-align: top;\n",
       "    }\n",
       "\n",
       "    .dataframe thead th {\n",
       "        text-align: right;\n",
       "    }\n",
       "</style>\n",
       "<table border=\"1\" class=\"dataframe\">\n",
       "  <thead>\n",
       "    <tr style=\"text-align: right;\">\n",
       "      <th></th>\n",
       "      <th>Level of Education</th>\n",
       "      <th>University Degree Score</th>\n",
       "      <th>University Degree Score System</th>\n",
       "      <th>GPA</th>\n",
       "    </tr>\n",
       "  </thead>\n",
       "  <tbody>\n",
       "    <tr>\n",
       "      <th>4865</th>\n",
       "      <td>ثانوي</td>\n",
       "      <td>98.8</td>\n",
       "      <td>5</td>\n",
       "      <td>98.8</td>\n",
       "    </tr>\n",
       "    <tr>\n",
       "      <th>5961</th>\n",
       "      <td>البكالوريوس</td>\n",
       "      <td>33.0</td>\n",
       "      <td>5</td>\n",
       "      <td>33.0</td>\n",
       "    </tr>\n",
       "  </tbody>\n",
       "</table>\n",
       "</div>"
      ],
      "text/plain": [
       "     Level of Education  University Degree Score  \\\n",
       "4865              ثانوي                     98.8   \n",
       "5961        البكالوريوس                     33.0   \n",
       "\n",
       "      University Degree Score System   GPA  \n",
       "4865                               5  98.8  \n",
       "5961                               5  33.0  "
      ]
     },
     "execution_count": 77,
     "metadata": {},
     "output_type": "execute_result"
    }
   ],
   "source": [
    "outliers = df[df['GPA'] > 5]\n",
    "outliers[['Level of Education', 'University Degree Score', 'University Degree Score System', 'GPA']]"
   ]
  },
  {
   "cell_type": "markdown",
   "metadata": {},
   "source": [
    "### Fill Education Speaciality"
   ]
  },
  {
   "cell_type": "code",
   "execution_count": 78,
   "metadata": {},
   "outputs": [
    {
     "name": "stdout",
     "output_type": "stream",
     "text": [
      "Group Modes by Level of Education: {'البكالوريوس': 'علوم الحاسبات', 'الماجستير': 'علوم الحاسبات', 'ثانوي': 'تقنية معلومات', 'الدكتوراه': 'علوم الحاسبات', 'الدبلوم': 'تقنية المعلومات'}\n"
     ]
    }
   ],
   "source": [
    "group_modes = {}\n",
    "\n",
    "for level in df['Level of Education'].unique():\n",
    "    level_data = df[df['Level of Education'] == level]['Education Speaciality']\n",
    "    mode_value = level_data.mode().iloc[0] if not level_data.mode().empty else None\n",
    "    group_modes[level] = mode_value\n",
    "\n",
    "print(\"Group Modes by Level of Education:\", group_modes)\n"
   ]
  },
  {
   "cell_type": "code",
   "execution_count": 79,
   "metadata": {},
   "outputs": [
    {
     "name": "stdout",
     "output_type": "stream",
     "text": [
      "Remaining null values in Education Speaciality: 0\n"
     ]
    }
   ],
   "source": [
    "for index, row in df.iterrows():\n",
    "    if pd.isnull(row['Education Speaciality']):\n",
    "        level = row['Level of Education']\n",
    "        # Assign the group mode if it exists\n",
    "        if level in group_modes and group_modes[level] is not None:\n",
    "            df.at[index, 'Education Speaciality'] = group_modes[level]\n",
    "\n",
    "# Check remaining null values\n",
    "print(\"Remaining null values in Education Speaciality:\", df['Education Speaciality'].isnull().sum())\n"
   ]
  },
  {
   "cell_type": "markdown",
   "metadata": {},
   "source": [
    "### Fill Employment Status"
   ]
  },
  {
   "cell_type": "code",
   "execution_count": 80,
   "metadata": {},
   "outputs": [
    {
     "data": {
      "text/plain": [
       "Employment Status\n",
       "موظف           2777\n",
       "غير موظف       1106\n",
       "طالب            956\n",
       "خريج            948\n",
       "موظف - طالب      88\n",
       "عمل حر           68\n",
       "Name: count, dtype: int64"
      ]
     },
     "execution_count": 80,
     "metadata": {},
     "output_type": "execute_result"
    }
   ],
   "source": [
    "df['Employment Status'].value_counts()"
   ]
  },
  {
   "cell_type": "code",
   "execution_count": 81,
   "metadata": {},
   "outputs": [
    {
     "data": {
      "text/html": [
       "<div>\n",
       "<style scoped>\n",
       "    .dataframe tbody tr th:only-of-type {\n",
       "        vertical-align: middle;\n",
       "    }\n",
       "\n",
       "    .dataframe tbody tr th {\n",
       "        vertical-align: top;\n",
       "    }\n",
       "\n",
       "    .dataframe thead th {\n",
       "        text-align: right;\n",
       "    }\n",
       "</style>\n",
       "<table border=\"1\" class=\"dataframe\">\n",
       "  <thead>\n",
       "    <tr style=\"text-align: right;\">\n",
       "      <th></th>\n",
       "      <th>Level of Education</th>\n",
       "      <th>Employment Status</th>\n",
       "      <th>0</th>\n",
       "    </tr>\n",
       "  </thead>\n",
       "  <tbody>\n",
       "    <tr>\n",
       "      <th>0</th>\n",
       "      <td>البكالوريوس</td>\n",
       "      <td>خريج</td>\n",
       "      <td>830</td>\n",
       "    </tr>\n",
       "    <tr>\n",
       "      <th>1</th>\n",
       "      <td>البكالوريوس</td>\n",
       "      <td>طالب</td>\n",
       "      <td>703</td>\n",
       "    </tr>\n",
       "    <tr>\n",
       "      <th>2</th>\n",
       "      <td>البكالوريوس</td>\n",
       "      <td>عمل حر</td>\n",
       "      <td>54</td>\n",
       "    </tr>\n",
       "    <tr>\n",
       "      <th>3</th>\n",
       "      <td>البكالوريوس</td>\n",
       "      <td>غير موظف</td>\n",
       "      <td>982</td>\n",
       "    </tr>\n",
       "    <tr>\n",
       "      <th>4</th>\n",
       "      <td>البكالوريوس</td>\n",
       "      <td>موظف</td>\n",
       "      <td>2279</td>\n",
       "    </tr>\n",
       "    <tr>\n",
       "      <th>5</th>\n",
       "      <td>البكالوريوس</td>\n",
       "      <td>موظف - طالب</td>\n",
       "      <td>69</td>\n",
       "    </tr>\n",
       "    <tr>\n",
       "      <th>6</th>\n",
       "      <td>الدبلوم</td>\n",
       "      <td>خريج</td>\n",
       "      <td>59</td>\n",
       "    </tr>\n",
       "    <tr>\n",
       "      <th>7</th>\n",
       "      <td>الدبلوم</td>\n",
       "      <td>طالب</td>\n",
       "      <td>53</td>\n",
       "    </tr>\n",
       "    <tr>\n",
       "      <th>8</th>\n",
       "      <td>الدبلوم</td>\n",
       "      <td>عمل حر</td>\n",
       "      <td>4</td>\n",
       "    </tr>\n",
       "    <tr>\n",
       "      <th>9</th>\n",
       "      <td>الدبلوم</td>\n",
       "      <td>غير موظف</td>\n",
       "      <td>52</td>\n",
       "    </tr>\n",
       "    <tr>\n",
       "      <th>10</th>\n",
       "      <td>الدبلوم</td>\n",
       "      <td>موظف</td>\n",
       "      <td>104</td>\n",
       "    </tr>\n",
       "    <tr>\n",
       "      <th>11</th>\n",
       "      <td>الدبلوم</td>\n",
       "      <td>موظف - طالب</td>\n",
       "      <td>11</td>\n",
       "    </tr>\n",
       "    <tr>\n",
       "      <th>12</th>\n",
       "      <td>الدكتوراه</td>\n",
       "      <td>خريج</td>\n",
       "      <td>2</td>\n",
       "    </tr>\n",
       "    <tr>\n",
       "      <th>13</th>\n",
       "      <td>الدكتوراه</td>\n",
       "      <td>طالب</td>\n",
       "      <td>1</td>\n",
       "    </tr>\n",
       "    <tr>\n",
       "      <th>14</th>\n",
       "      <td>الدكتوراه</td>\n",
       "      <td>عمل حر</td>\n",
       "      <td>1</td>\n",
       "    </tr>\n",
       "    <tr>\n",
       "      <th>15</th>\n",
       "      <td>الدكتوراه</td>\n",
       "      <td>غير موظف</td>\n",
       "      <td>1</td>\n",
       "    </tr>\n",
       "    <tr>\n",
       "      <th>16</th>\n",
       "      <td>الدكتوراه</td>\n",
       "      <td>موظف</td>\n",
       "      <td>24</td>\n",
       "    </tr>\n",
       "    <tr>\n",
       "      <th>17</th>\n",
       "      <td>الماجستير</td>\n",
       "      <td>خريج</td>\n",
       "      <td>38</td>\n",
       "    </tr>\n",
       "    <tr>\n",
       "      <th>18</th>\n",
       "      <td>الماجستير</td>\n",
       "      <td>طالب</td>\n",
       "      <td>8</td>\n",
       "    </tr>\n",
       "    <tr>\n",
       "      <th>19</th>\n",
       "      <td>الماجستير</td>\n",
       "      <td>عمل حر</td>\n",
       "      <td>5</td>\n",
       "    </tr>\n",
       "    <tr>\n",
       "      <th>20</th>\n",
       "      <td>الماجستير</td>\n",
       "      <td>غير موظف</td>\n",
       "      <td>54</td>\n",
       "    </tr>\n",
       "    <tr>\n",
       "      <th>21</th>\n",
       "      <td>الماجستير</td>\n",
       "      <td>موظف</td>\n",
       "      <td>348</td>\n",
       "    </tr>\n",
       "    <tr>\n",
       "      <th>22</th>\n",
       "      <td>الماجستير</td>\n",
       "      <td>موظف - طالب</td>\n",
       "      <td>7</td>\n",
       "    </tr>\n",
       "    <tr>\n",
       "      <th>23</th>\n",
       "      <td>ثانوي</td>\n",
       "      <td>خريج</td>\n",
       "      <td>19</td>\n",
       "    </tr>\n",
       "    <tr>\n",
       "      <th>24</th>\n",
       "      <td>ثانوي</td>\n",
       "      <td>طالب</td>\n",
       "      <td>191</td>\n",
       "    </tr>\n",
       "    <tr>\n",
       "      <th>25</th>\n",
       "      <td>ثانوي</td>\n",
       "      <td>عمل حر</td>\n",
       "      <td>4</td>\n",
       "    </tr>\n",
       "    <tr>\n",
       "      <th>26</th>\n",
       "      <td>ثانوي</td>\n",
       "      <td>غير موظف</td>\n",
       "      <td>17</td>\n",
       "    </tr>\n",
       "    <tr>\n",
       "      <th>27</th>\n",
       "      <td>ثانوي</td>\n",
       "      <td>موظف</td>\n",
       "      <td>22</td>\n",
       "    </tr>\n",
       "    <tr>\n",
       "      <th>28</th>\n",
       "      <td>ثانوي</td>\n",
       "      <td>موظف - طالب</td>\n",
       "      <td>1</td>\n",
       "    </tr>\n",
       "  </tbody>\n",
       "</table>\n",
       "</div>"
      ],
      "text/plain": [
       "   Level of Education Employment Status     0\n",
       "0         البكالوريوس              خريج   830\n",
       "1         البكالوريوس              طالب   703\n",
       "2         البكالوريوس            عمل حر    54\n",
       "3         البكالوريوس          غير موظف   982\n",
       "4         البكالوريوس              موظف  2279\n",
       "5         البكالوريوس       موظف - طالب    69\n",
       "6             الدبلوم              خريج    59\n",
       "7             الدبلوم              طالب    53\n",
       "8             الدبلوم            عمل حر     4\n",
       "9             الدبلوم          غير موظف    52\n",
       "10            الدبلوم              موظف   104\n",
       "11            الدبلوم       موظف - طالب    11\n",
       "12          الدكتوراه              خريج     2\n",
       "13          الدكتوراه              طالب     1\n",
       "14          الدكتوراه            عمل حر     1\n",
       "15          الدكتوراه          غير موظف     1\n",
       "16          الدكتوراه              موظف    24\n",
       "17          الماجستير              خريج    38\n",
       "18          الماجستير              طالب     8\n",
       "19          الماجستير            عمل حر     5\n",
       "20          الماجستير          غير موظف    54\n",
       "21          الماجستير              موظف   348\n",
       "22          الماجستير       موظف - طالب     7\n",
       "23              ثانوي              خريج    19\n",
       "24              ثانوي              طالب   191\n",
       "25              ثانوي            عمل حر     4\n",
       "26              ثانوي          غير موظف    17\n",
       "27              ثانوي              موظف    22\n",
       "28              ثانوي       موظف - طالب     1"
      ]
     },
     "execution_count": 81,
     "metadata": {},
     "output_type": "execute_result"
    }
   ],
   "source": [
    "df.groupby(['Level of Education', 'Employment Status']).size().reset_index()"
   ]
  },
  {
   "cell_type": "code",
   "execution_count": 82,
   "metadata": {},
   "outputs": [],
   "source": [
    "df['Employment Status'] = df['Employment Status'].fillna('لم يحدد')"
   ]
  },
  {
   "cell_type": "code",
   "execution_count": 83,
   "metadata": {},
   "outputs": [
    {
     "data": {
      "text/plain": [
       "0"
      ]
     },
     "execution_count": 83,
     "metadata": {},
     "output_type": "execute_result"
    }
   ],
   "source": [
    "df['Employment Status'].isnull().sum()"
   ]
  },
  {
   "cell_type": "markdown",
   "metadata": {},
   "source": [
    "# Save Data"
   ]
  },
  {
   "cell_type": "code",
   "execution_count": 84,
   "metadata": {},
   "outputs": [
    {
     "data": {
      "text/plain": [
       "Index(['Student ID', 'Age', 'Gender', 'Home Region', 'Home City', 'Program ID',\n",
       "       'Program Main Category Code', 'Program Sub Category Code',\n",
       "       'Program Skill Level', 'Program Presentation Method',\n",
       "       'Program Start Date', 'Program End Date', 'Program Days',\n",
       "       'Completed Degree', 'Level of Education', 'Education Speaciality',\n",
       "       'University Degree Score', 'University Degree Score System',\n",
       "       'Employment Status', 'Y', 'PCRF', 'GRST', 'CAUF', 'INFA', 'ABIR',\n",
       "       'SERU', 'TOSL', 'APMR', 'DTFH', 'QWLM', 'N/A', 'Total Regestration',\n",
       "       'GPA'],\n",
       "      dtype='object')"
      ]
     },
     "execution_count": 84,
     "metadata": {},
     "output_type": "execute_result"
    }
   ],
   "source": [
    "df.columns"
   ]
  },
  {
   "cell_type": "code",
   "execution_count": 85,
   "metadata": {},
   "outputs": [],
   "source": [
    "df.drop(columns=['University Degree Score', 'University Degree Score System'] , axis = 1 , inplace=True)"
   ]
  },
  {
   "cell_type": "code",
   "execution_count": 86,
   "metadata": {},
   "outputs": [],
   "source": [
    "desired_order = [\n",
    "    'Student ID', 'Age', 'Gender', 'Home Region', 'Home City', 'Program ID',\n",
    "    'Program Main Category Code', 'Program Sub Category Code',\n",
    "    'Program Skill Level', 'Program Presentation Method',\n",
    "    'Program Start Date', 'Program End Date', 'Program Days',\n",
    "    'Completed Degree', 'Level of Education', 'Education Speaciality',\n",
    "    'Employment Status', 'GPA', 'PCRF', 'GRST', 'CAUF', 'INFA', 'ABIR',\n",
    "    'SERU', 'TOSL', 'APMR', 'DTFH', 'QWLM', 'N/A', 'Total Regestration',\n",
    "    'Y'\n",
    "]\n",
    "\n",
    "df = df[desired_order]"
   ]
  },
  {
   "cell_type": "code",
   "execution_count": 87,
   "metadata": {},
   "outputs": [
    {
     "data": {
      "text/html": [
       "<div>\n",
       "<style scoped>\n",
       "    .dataframe tbody tr th:only-of-type {\n",
       "        vertical-align: middle;\n",
       "    }\n",
       "\n",
       "    .dataframe tbody tr th {\n",
       "        vertical-align: top;\n",
       "    }\n",
       "\n",
       "    .dataframe thead th {\n",
       "        text-align: right;\n",
       "    }\n",
       "</style>\n",
       "<table border=\"1\" class=\"dataframe\">\n",
       "  <thead>\n",
       "    <tr style=\"text-align: right;\">\n",
       "      <th></th>\n",
       "      <th>Student ID</th>\n",
       "      <th>Age</th>\n",
       "      <th>Gender</th>\n",
       "      <th>Home Region</th>\n",
       "      <th>Home City</th>\n",
       "      <th>Program ID</th>\n",
       "      <th>Program Main Category Code</th>\n",
       "      <th>Program Sub Category Code</th>\n",
       "      <th>Program Skill Level</th>\n",
       "      <th>Program Presentation Method</th>\n",
       "      <th>...</th>\n",
       "      <th>INFA</th>\n",
       "      <th>ABIR</th>\n",
       "      <th>SERU</th>\n",
       "      <th>TOSL</th>\n",
       "      <th>APMR</th>\n",
       "      <th>DTFH</th>\n",
       "      <th>QWLM</th>\n",
       "      <th>N/A</th>\n",
       "      <th>Total Regestration</th>\n",
       "      <th>Y</th>\n",
       "    </tr>\n",
       "  </thead>\n",
       "  <tbody>\n",
       "    <tr>\n",
       "      <th>0</th>\n",
       "      <td>4f14c50d-162e-4a15-9cf0-ec129c33bcf0</td>\n",
       "      <td>37</td>\n",
       "      <td>ذكر</td>\n",
       "      <td>منطقة الرياض</td>\n",
       "      <td>الرياض</td>\n",
       "      <td>453686d8-4023-4506-b2df-fac8b059ac26</td>\n",
       "      <td>PCRF</td>\n",
       "      <td>PCRF</td>\n",
       "      <td>مبتدئ</td>\n",
       "      <td>حضوري</td>\n",
       "      <td>...</td>\n",
       "      <td>0</td>\n",
       "      <td>0</td>\n",
       "      <td>0</td>\n",
       "      <td>0</td>\n",
       "      <td>0</td>\n",
       "      <td>0</td>\n",
       "      <td>0</td>\n",
       "      <td>0</td>\n",
       "      <td>4</td>\n",
       "      <td>0</td>\n",
       "    </tr>\n",
       "    <tr>\n",
       "      <th>1</th>\n",
       "      <td>0599d409-876b-41a5-af05-749ef0e77d32</td>\n",
       "      <td>21</td>\n",
       "      <td>ذكر</td>\n",
       "      <td>منطقة عسير</td>\n",
       "      <td>خميس مشيط</td>\n",
       "      <td>cc8e4e42-65d5-4fa1-82f9-6c6c2d508b60</td>\n",
       "      <td>APMR</td>\n",
       "      <td>SWPS</td>\n",
       "      <td>متوسط</td>\n",
       "      <td>حضوري</td>\n",
       "      <td>...</td>\n",
       "      <td>0</td>\n",
       "      <td>0</td>\n",
       "      <td>1</td>\n",
       "      <td>0</td>\n",
       "      <td>4</td>\n",
       "      <td>0</td>\n",
       "      <td>0</td>\n",
       "      <td>1</td>\n",
       "      <td>15</td>\n",
       "      <td>0</td>\n",
       "    </tr>\n",
       "    <tr>\n",
       "      <th>2</th>\n",
       "      <td>38a11c0e-4afc-4261-9c64-e94cc0a272fb</td>\n",
       "      <td>24</td>\n",
       "      <td>ذكر</td>\n",
       "      <td>منطقة الرياض</td>\n",
       "      <td>الرياض</td>\n",
       "      <td>e006900d-05a9-4c2b-a36f-0ffb9fce44cd</td>\n",
       "      <td>APMR</td>\n",
       "      <td>SRTA</td>\n",
       "      <td>متوسط</td>\n",
       "      <td>حضوري</td>\n",
       "      <td>...</td>\n",
       "      <td>1</td>\n",
       "      <td>0</td>\n",
       "      <td>0</td>\n",
       "      <td>0</td>\n",
       "      <td>0</td>\n",
       "      <td>0</td>\n",
       "      <td>0</td>\n",
       "      <td>0</td>\n",
       "      <td>13</td>\n",
       "      <td>0</td>\n",
       "    </tr>\n",
       "    <tr>\n",
       "      <th>3</th>\n",
       "      <td>38a11c0e-4afc-4261-9c64-e94cc0a272fb</td>\n",
       "      <td>24</td>\n",
       "      <td>ذكر</td>\n",
       "      <td>منطقة الرياض</td>\n",
       "      <td>الرياض</td>\n",
       "      <td>3218820e-5fc3-4dcb-8c23-17ac8de5e4b0</td>\n",
       "      <td>GRST</td>\n",
       "      <td>INFA</td>\n",
       "      <td>متوسط</td>\n",
       "      <td>حضوري</td>\n",
       "      <td>...</td>\n",
       "      <td>1</td>\n",
       "      <td>0</td>\n",
       "      <td>0</td>\n",
       "      <td>0</td>\n",
       "      <td>0</td>\n",
       "      <td>0</td>\n",
       "      <td>0</td>\n",
       "      <td>0</td>\n",
       "      <td>13</td>\n",
       "      <td>0</td>\n",
       "    </tr>\n",
       "    <tr>\n",
       "      <th>4</th>\n",
       "      <td>1693e85b-f80e-40ce-846f-395ddcece6d3</td>\n",
       "      <td>23</td>\n",
       "      <td>ذكر</td>\n",
       "      <td>منطقة الرياض</td>\n",
       "      <td>الرياض</td>\n",
       "      <td>2ec15f6b-233b-428a-b9f5-e40bc8d14cf9</td>\n",
       "      <td>TOSL</td>\n",
       "      <td>TOSL</td>\n",
       "      <td>متوسط</td>\n",
       "      <td>حضوري</td>\n",
       "      <td>...</td>\n",
       "      <td>2</td>\n",
       "      <td>0</td>\n",
       "      <td>0</td>\n",
       "      <td>0</td>\n",
       "      <td>0</td>\n",
       "      <td>0</td>\n",
       "      <td>0</td>\n",
       "      <td>0</td>\n",
       "      <td>6</td>\n",
       "      <td>0</td>\n",
       "    </tr>\n",
       "  </tbody>\n",
       "</table>\n",
       "<p>5 rows × 31 columns</p>\n",
       "</div>"
      ],
      "text/plain": [
       "                             Student ID  Age Gender   Home Region  Home City  \\\n",
       "0  4f14c50d-162e-4a15-9cf0-ec129c33bcf0   37    ذكر  منطقة الرياض     الرياض   \n",
       "1  0599d409-876b-41a5-af05-749ef0e77d32   21    ذكر    منطقة عسير  خميس مشيط   \n",
       "2  38a11c0e-4afc-4261-9c64-e94cc0a272fb   24    ذكر  منطقة الرياض     الرياض   \n",
       "3  38a11c0e-4afc-4261-9c64-e94cc0a272fb   24    ذكر  منطقة الرياض     الرياض   \n",
       "4  1693e85b-f80e-40ce-846f-395ddcece6d3   23    ذكر  منطقة الرياض     الرياض   \n",
       "\n",
       "                             Program ID Program Main Category Code  \\\n",
       "0  453686d8-4023-4506-b2df-fac8b059ac26                       PCRF   \n",
       "1  cc8e4e42-65d5-4fa1-82f9-6c6c2d508b60                       APMR   \n",
       "2  e006900d-05a9-4c2b-a36f-0ffb9fce44cd                       APMR   \n",
       "3  3218820e-5fc3-4dcb-8c23-17ac8de5e4b0                       GRST   \n",
       "4  2ec15f6b-233b-428a-b9f5-e40bc8d14cf9                       TOSL   \n",
       "\n",
       "  Program Sub Category Code Program Skill Level Program Presentation Method  \\\n",
       "0                      PCRF               مبتدئ                       حضوري   \n",
       "1                      SWPS               متوسط                       حضوري   \n",
       "2                      SRTA               متوسط                       حضوري   \n",
       "3                      INFA               متوسط                       حضوري   \n",
       "4                      TOSL               متوسط                       حضوري   \n",
       "\n",
       "   ... INFA ABIR  SERU TOSL APMR DTFH QWLM  N/A  Total Regestration  Y  \n",
       "0  ...    0    0     0    0    0    0    0    0                   4  0  \n",
       "1  ...    0    0     1    0    4    0    0    1                  15  0  \n",
       "2  ...    1    0     0    0    0    0    0    0                  13  0  \n",
       "3  ...    1    0     0    0    0    0    0    0                  13  0  \n",
       "4  ...    2    0     0    0    0    0    0    0                   6  0  \n",
       "\n",
       "[5 rows x 31 columns]"
      ]
     },
     "execution_count": 87,
     "metadata": {},
     "output_type": "execute_result"
    }
   ],
   "source": [
    "df.head()"
   ]
  },
  {
   "cell_type": "code",
   "execution_count": 88,
   "metadata": {},
   "outputs": [
    {
     "name": "stdout",
     "output_type": "stream",
     "text": [
      "<class 'pandas.core.frame.DataFrame'>\n",
      "RangeIndex: 6500 entries, 0 to 6499\n",
      "Data columns (total 31 columns):\n",
      " #   Column                       Non-Null Count  Dtype         \n",
      "---  ------                       --------------  -----         \n",
      " 0   Student ID                   6500 non-null   object        \n",
      " 1   Age                          6500 non-null   Int64         \n",
      " 2   Gender                       6500 non-null   object        \n",
      " 3   Home Region                  6500 non-null   object        \n",
      " 4   Home City                    6500 non-null   object        \n",
      " 5   Program ID                   6500 non-null   object        \n",
      " 6   Program Main Category Code   6500 non-null   object        \n",
      " 7   Program Sub Category Code    6500 non-null   object        \n",
      " 8   Program Skill Level          6500 non-null   object        \n",
      " 9   Program Presentation Method  6500 non-null   object        \n",
      " 10  Program Start Date           6500 non-null   datetime64[ns]\n",
      " 11  Program End Date             6500 non-null   datetime64[ns]\n",
      " 12  Program Days                 6500 non-null   int64         \n",
      " 13  Completed Degree             6500 non-null   object        \n",
      " 14  Level of Education           6500 non-null   object        \n",
      " 15  Education Speaciality        6500 non-null   object        \n",
      " 16  Employment Status            6500 non-null   object        \n",
      " 17  GPA                          6500 non-null   float64       \n",
      " 18  PCRF                         6500 non-null   int64         \n",
      " 19  GRST                         6500 non-null   int64         \n",
      " 20  CAUF                         6500 non-null   int64         \n",
      " 21  INFA                         6500 non-null   int64         \n",
      " 22  ABIR                         6500 non-null   int64         \n",
      " 23  SERU                         6500 non-null   int64         \n",
      " 24  TOSL                         6500 non-null   int64         \n",
      " 25  APMR                         6500 non-null   int64         \n",
      " 26  DTFH                         6500 non-null   int64         \n",
      " 27  QWLM                         6500 non-null   int64         \n",
      " 28  N/A                          6500 non-null   int64         \n",
      " 29  Total Regestration           6500 non-null   int64         \n",
      " 30  Y                            6500 non-null   int64         \n",
      "dtypes: Int64(1), datetime64[ns](2), float64(1), int64(14), object(13)\n",
      "memory usage: 1.5+ MB\n"
     ]
    }
   ],
   "source": [
    "df.info()"
   ]
  },
  {
   "cell_type": "code",
   "execution_count": 89,
   "metadata": {},
   "outputs": [],
   "source": [
    "df.to_csv('../Data/clening_data.csv')"
   ]
  }
 ],
 "metadata": {
  "kernelspec": {
   "display_name": "base",
   "language": "python",
   "name": "python3"
  },
  "language_info": {
   "codemirror_mode": {
    "name": "ipython",
    "version": 3
   },
   "file_extension": ".py",
   "mimetype": "text/x-python",
   "name": "python",
   "nbconvert_exporter": "python",
   "pygments_lexer": "ipython3",
   "version": "3.12.4"
  }
 },
 "nbformat": 4,
 "nbformat_minor": 2
}
